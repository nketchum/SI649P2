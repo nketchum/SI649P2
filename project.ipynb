{
 "cells": [
  {
   "cell_type": "code",
   "execution_count": 10,
   "id": "0a11a4fa-b24b-428c-b13a-7333bdbad25a",
   "metadata": {},
   "outputs": [
    {
     "data": {
      "text/plain": [
       "RendererRegistry.enable('jupyterlab')"
      ]
     },
     "execution_count": 10,
     "metadata": {},
     "output_type": "execute_result"
    }
   ],
   "source": [
    "import altair as alt\n",
    "import matplotlib.pyplot as plt\n",
    "import numpy as np\n",
    "import pandas as pd"
   ]
  },
  {
   "cell_type": "code",
   "execution_count": 11,
   "id": "e5cda92a-23c5-41cc-8f55-e18e8c4c410d",
   "metadata": {},
   "outputs": [],
   "source": [
    "# Suppress warnings.\n",
    "import warnings\n",
    "warnings.filterwarnings(\"ignore\")\n",
    "\n",
    "# Suppress js errors.\n",
    "alt.renderers.enable('jupyterlab')"
   ]
  },
  {
   "cell_type": "code",
   "execution_count": 12,
   "id": "82b3ad8c-8315-4852-85e1-48136c943061",
   "metadata": {},
   "outputs": [],
   "source": [
    "DATA_DIR = 'csv/'\n",
    "IMG_DIR = 'img/'"
   ]
  },
  {
   "attachments": {},
   "cell_type": "markdown",
   "id": "fe8359c0-cbca-4e81-9764-a29833387079",
   "metadata": {},
   "source": [
    "### Data: Monsoon"
   ]
  },
  {
   "cell_type": "code",
   "execution_count": 43,
   "id": "95949ae1-3b1e-4be3-ba5a-0bef171f87e8",
   "metadata": {},
   "outputs": [],
   "source": [
    "monsoon = pd.read_csv(DATA_DIR + 'Monsoon_data.csv', parse_dates=['Date'])\n",
    "monsoon.set_index('Date', drop=False, inplace=True)"
   ]
  },
  {
   "cell_type": "code",
   "execution_count": 42,
   "id": "3770ba16-fd16-4fd9-8c4d-ed43ec2bf86f",
   "metadata": {},
   "outputs": [],
   "source": [
    "monsoon['dataset'] = 'monsoon'\n",
    "monsoon['date_str'] = monsoon['Date'].astype(str)\n",
    "monsoon['year'] = monsoon['date_str'].str[:4]\n",
    "monsoon['month'] = pd.to_numeric(monsoon['date_str'].str[5:7])\n",
    "\n",
    "# This could be more elegant.\n",
    "monsoon.loc[monsoon['month'] <= 12, 'quarter'] = 4\n",
    "monsoon.loc[monsoon['month'] <= 9, 'quarter'] = 3\n",
    "monsoon.loc[monsoon['month'] <= 6, 'quarter'] = 2\n",
    "monsoon.loc[monsoon['month'] <= 3, 'quarter'] = 1"
   ]
  },
  {
   "cell_type": "code",
   "execution_count": 41,
   "id": "ea78843a-32f5-404d-a958-8e7977b8ccc6",
   "metadata": {},
   "outputs": [],
   "source": [
    "# monsoon.head(20)"
   ]
  },
  {
   "cell_type": "markdown",
   "id": "89fdd8e8-6a93-4b0a-8240-c32ef332b449",
   "metadata": {},
   "source": [
    "### Data: Olou"
   ]
  },
  {
   "cell_type": "code",
   "execution_count": 7,
   "id": "59802c3e-6fd3-43e0-ab1b-735bb6f017f6",
   "metadata": {},
   "outputs": [],
   "source": [
    "olou = pd.read_csv(DATA_DIR + 'Olou_counts.csv', parse_dates=['Date'])\n",
    "olou.set_index('Date', drop=False, inplace=True)"
   ]
  },
  {
   "cell_type": "code",
   "execution_count": 28,
   "id": "8ba30711-6049-4ef7-bd24-16ea27a8b3d0",
   "metadata": {},
   "outputs": [],
   "source": [
    "olou['dataset'] = 'olou'\n",
    "olou['date_str'] = olou['Date'].astype(str)\n",
    "olou['year'] = olou['date_str'].str[:4]\n",
    "olou['month'] = pd.to_numeric(olou['date_str'].str[5:7])\n",
    "\n",
    "# This could be more elegant.\n",
    "olou.loc[olou['month'] <= 12, 'quarter'] = 4\n",
    "olou.loc[olou['month'] <= 9, 'quarter'] = 3\n",
    "olou.loc[olou['month'] <= 6, 'quarter'] = 2\n",
    "olou.loc[olou['month'] <= 3, 'quarter'] = 1"
   ]
  },
  {
   "cell_type": "code",
   "execution_count": 39,
   "id": "7b6e3d32-6116-4390-ab8a-1429ce163f6a",
   "metadata": {},
   "outputs": [],
   "source": [
    "# olou.head()"
   ]
  },
  {
   "cell_type": "markdown",
   "id": "5f28f42a-d0cc-45ee-bba7-a11295505ed2",
   "metadata": {},
   "source": [
    "### Data: Monsoon + Olou"
   ]
  },
  {
   "cell_type": "code",
   "execution_count": 32,
   "id": "76c64d04-0a20-4602-9a48-91afef8dbd68",
   "metadata": {},
   "outputs": [],
   "source": [
    "dataframes = [monsoon, olou]\n",
    "dataset = pd.concat(dataframes)"
   ]
  },
  {
   "cell_type": "code",
   "execution_count": 33,
   "id": "1eabdad7-ab2f-4471-8105-0d67e7e44638",
   "metadata": {},
   "outputs": [
    {
     "data": {
      "text/html": [
       "<div>\n",
       "<style scoped>\n",
       "    .dataframe tbody tr th:only-of-type {\n",
       "        vertical-align: middle;\n",
       "    }\n",
       "\n",
       "    .dataframe tbody tr th {\n",
       "        vertical-align: top;\n",
       "    }\n",
       "\n",
       "    .dataframe thead th {\n",
       "        text-align: right;\n",
       "    }\n",
       "</style>\n",
       "<table border=\"1\" class=\"dataframe\">\n",
       "  <thead>\n",
       "    <tr style=\"text-align: right;\">\n",
       "      <th></th>\n",
       "      <th>Date</th>\n",
       "      <th>Precip</th>\n",
       "      <th>date_str</th>\n",
       "      <th>year</th>\n",
       "      <th>month</th>\n",
       "      <th>quarter</th>\n",
       "      <th>dataset</th>\n",
       "      <th>Counts</th>\n",
       "    </tr>\n",
       "    <tr>\n",
       "      <th>Date</th>\n",
       "      <th></th>\n",
       "      <th></th>\n",
       "      <th></th>\n",
       "      <th></th>\n",
       "      <th></th>\n",
       "      <th></th>\n",
       "      <th></th>\n",
       "      <th></th>\n",
       "    </tr>\n",
       "  </thead>\n",
       "  <tbody>\n",
       "    <tr>\n",
       "      <th>1964-01-01</th>\n",
       "      <td>1964-01-01</td>\n",
       "      <td>1.4</td>\n",
       "      <td>1964-01-01</td>\n",
       "      <td>1964</td>\n",
       "      <td>1</td>\n",
       "      <td>1.0</td>\n",
       "      <td>monsoon</td>\n",
       "      <td>NaN</td>\n",
       "    </tr>\n",
       "    <tr>\n",
       "      <th>1964-02-01</th>\n",
       "      <td>1964-02-01</td>\n",
       "      <td>5.7</td>\n",
       "      <td>1964-02-01</td>\n",
       "      <td>1964</td>\n",
       "      <td>2</td>\n",
       "      <td>1.0</td>\n",
       "      <td>monsoon</td>\n",
       "      <td>NaN</td>\n",
       "    </tr>\n",
       "    <tr>\n",
       "      <th>1964-03-01</th>\n",
       "      <td>1964-03-01</td>\n",
       "      <td>8.3</td>\n",
       "      <td>1964-03-01</td>\n",
       "      <td>1964</td>\n",
       "      <td>3</td>\n",
       "      <td>1.0</td>\n",
       "      <td>monsoon</td>\n",
       "      <td>NaN</td>\n",
       "    </tr>\n",
       "    <tr>\n",
       "      <th>1964-04-01</th>\n",
       "      <td>1964-04-01</td>\n",
       "      <td>24.8</td>\n",
       "      <td>1964-04-01</td>\n",
       "      <td>1964</td>\n",
       "      <td>4</td>\n",
       "      <td>2.0</td>\n",
       "      <td>monsoon</td>\n",
       "      <td>NaN</td>\n",
       "    </tr>\n",
       "    <tr>\n",
       "      <th>1964-05-01</th>\n",
       "      <td>1964-05-01</td>\n",
       "      <td>43.7</td>\n",
       "      <td>1964-05-01</td>\n",
       "      <td>1964</td>\n",
       "      <td>5</td>\n",
       "      <td>2.0</td>\n",
       "      <td>monsoon</td>\n",
       "      <td>NaN</td>\n",
       "    </tr>\n",
       "  </tbody>\n",
       "</table>\n",
       "</div>"
      ],
      "text/plain": [
       "                 Date  Precip    date_str  year  month  quarter  dataset  \\\n",
       "Date                                                                       \n",
       "1964-01-01 1964-01-01     1.4  1964-01-01  1964      1      1.0  monsoon   \n",
       "1964-02-01 1964-02-01     5.7  1964-02-01  1964      2      1.0  monsoon   \n",
       "1964-03-01 1964-03-01     8.3  1964-03-01  1964      3      1.0  monsoon   \n",
       "1964-04-01 1964-04-01    24.8  1964-04-01  1964      4      2.0  monsoon   \n",
       "1964-05-01 1964-05-01    43.7  1964-05-01  1964      5      2.0  monsoon   \n",
       "\n",
       "            Counts  \n",
       "Date                \n",
       "1964-01-01     NaN  \n",
       "1964-02-01     NaN  \n",
       "1964-03-01     NaN  \n",
       "1964-04-01     NaN  \n",
       "1964-05-01     NaN  "
      ]
     },
     "execution_count": 33,
     "metadata": {},
     "output_type": "execute_result"
    }
   ],
   "source": [
    "dataset.head()"
   ]
  },
  {
   "cell_type": "code",
   "execution_count": 436,
   "id": "f4adf146-73fb-4936-a75e-20d64c7bd41a",
   "metadata": {},
   "outputs": [
    {
     "data": {
      "text/plain": [
       "6843.0"
      ]
     },
     "metadata": {},
     "output_type": "display_data"
    }
   ],
   "source": [
    "display(dataset['Counts'].max())"
   ]
  },
  {
   "cell_type": "markdown",
   "id": "18eabeee-e634-4bb7-9003-79af9cdff266",
   "metadata": {},
   "source": [
    "### Interactive Visualization"
   ]
  },
  {
   "cell_type": "code",
   "execution_count": 491,
   "id": "d918029a-0cd6-46ea-b139-bdeafb6f1e4c",
   "metadata": {},
   "outputs": [],
   "source": [
    "# Selections.\n",
    "select = alt.selection_interval(\n",
    "    bind=\"scales\",\n",
    "    encodings=['x', 'y']\n",
    ")\n",
    "\n",
    "# # Resize height.\n",
    "# bind_range_height = alt.binding_range(min=100, max=1200, name='Height: ')\n",
    "# param_height = alt.param('height', bind=bind_range_height)\n",
    "\n",
    "# Resize width.\n",
    "bind_range_width = alt.binding_range(min=400, max=1200, name='Width: ')\n",
    "param_width = alt.param('width', bind=bind_range_width)\n",
    "\n",
    "olou_domain = [dataset['Counts'].min(), dataset['Counts'].max()]\n",
    "monsoon_domain = [dataset['Precip'].min(), dataset['Precip'].max()]\n",
    "\n",
    "# Monsoon precipitation.\n",
    "line_chart_monsoon = alt.Chart(dataset[np.isnan(dataset['Precip']) == False]).mark_line(\n",
    "    interpolate='basis',\n",
    "    strokeWidth=2.5,\n",
    "    opacity=0.25\n",
    ").encode(\n",
    "    x=alt.X('Date:T', title=\"\"),\n",
    "    y=alt.Y('Precip:Q', scale=alt.Scale(domain=monsoon_domain)),\n",
    "    color=alt.Color(\"dataset\", legend=alt.Legend(symbolType='circle'))\n",
    ").add_params(\n",
    "    # param_width,\n",
    "    select\n",
    ")\n",
    "\n",
    "# Monsoon precipitation rolling average.\n",
    "moving_avg_monsoon = alt.Chart(dataset[np.isnan(dataset['Precip']) == False]).transform_window(\n",
    "    rolling_mean='mean(Precip)',\n",
    "    frame=[-3, 3],\n",
    ").mark_line(\n",
    "    color='green',\n",
    "    strokeWidth=2,\n",
    "    interpolate='basis'\n",
    ").encode(\n",
    "    x=alt.X('Date:T'),\n",
    "    y=alt.Y('rolling_mean:Q', scale=alt.Scale(domain=monsoon_domain))\n",
    ")\n",
    "\n",
    "# Olou cosmic ray counts.\n",
    "line_chart_olou = alt.Chart(dataset[np.isnan(dataset['Counts']) == False]).mark_line(\n",
    "    interpolate='basis',\n",
    "    strokeWidth=2.5,\n",
    "    opacity=0.25\n",
    ").encode(\n",
    "    x=alt.X('Date:T', title=\"\"),\n",
    "    y=alt.Y('Counts:Q', scale=alt.Scale(domain=olou_domain)),\n",
    "    color=alt.Color(\"dataset\", legend=alt.Legend(symbolType='circle'))\n",
    ").add_params(\n",
    "    # param_width,\n",
    "    select\n",
    ")\n",
    "\n",
    "# Olou cosmic ray counts rolling average.\n",
    "moving_avg_olou = alt.Chart(dataset[np.isnan(dataset['Counts']) == False]).transform_window(\n",
    "    rolling_mean='mean(Counts)',\n",
    "    frame=[-15, 15],\n",
    ").mark_line(\n",
    "    color='red',\n",
    "    strokeWidth=2,\n",
    "    interpolate='basis'\n",
    ").encode(\n",
    "    x=alt.X('Date:T'),\n",
    "    y=alt.Y('rolling_mean:Q', scale=alt.Scale(domain=olou_domain))\n",
    ")\n",
    "\n",
    "# Get nearest point y-value from selection.\n",
    "nearest = alt.selection_point(\n",
    "    nearest=True,\n",
    "    on='mouseover',\n",
    "    fields=['Date'],\n",
    "    empty=False\n",
    ")\n",
    "\n",
    "# Monsoon selector.\n",
    "selectors_monsoon = alt.Chart(dataset[dataset['dataset'] == 'monsoon']).mark_point().encode(\n",
    "    x=alt.X('Date:T'),\n",
    "    y=alt.Y('Precip:Q', scale=alt.Scale(domain=monsoon_domain)),\n",
    "    opacity=alt.value(0),\n",
    ").add_params(\n",
    "    nearest\n",
    ")\n",
    "\n",
    "# Olou selector.\n",
    "selectors_olou = alt.Chart(dataset[dataset['dataset'] == 'olou']).mark_point().encode(\n",
    "    x=alt.X('Date:T'),\n",
    "    y=alt.Y('Counts:Q', scale=alt.Scale(domain=olou_domain)),\n",
    "    opacity=alt.value(0),\n",
    ").add_params(\n",
    "    nearest\n",
    ")\n",
    "\n",
    "# Monsoon highlighted points.\n",
    "points_monsoon = alt.Chart(dataset[dataset['dataset'] == 'monsoon']).transform_filter(\n",
    "    nearest\n",
    ").mark_point(\n",
    "    size=90, strokeWidth=1\n",
    ").encode(\n",
    "    x=alt.X('Date:T'),\n",
    "    y=alt.Y('Precip:Q', scale=alt.Scale(domain=monsoon_domain)),\n",
    "    color=alt.Color(\"dataset\", legend=alt.Legend(symbolType='circle'))\n",
    ")\n",
    "\n",
    "# Olou highlighted points.\n",
    "points_olou = alt.Chart(dataset[dataset['dataset'] == 'olou']).transform_filter(\n",
    "    nearest\n",
    ").mark_point(\n",
    "    size=90, strokeWidth=1\n",
    ").encode(\n",
    "    x=alt.X('Date:T'),\n",
    "    y=alt.Y('Counts:Q', scale=alt.Scale(domain=olou_domain)),\n",
    "    color=alt.Color(\"dataset\", legend=alt.Legend(symbolType='circle'))\n",
    ")\n",
    "\n",
    "# Gray draggable bar.\n",
    "rules = alt.Chart(dataset).mark_rule(\n",
    "    color='lightgray',\n",
    "    opacity=0.4\n",
    ").encode(\n",
    "    x=alt.X('Date:T'),\n",
    "    strokeWidth=alt.StrokeWidthValue(4)\n",
    ").transform_filter(\n",
    "    nearest\n",
    ")\n",
    "\n",
    "# Monsoon label text.\n",
    "text_monsoon = alt.Chart(dataset[dataset['dataset'] == 'monsoon']).mark_text(\n",
    "    align='left',\n",
    "    dx=7,\n",
    "    fontSize=14\n",
    ").encode(\n",
    "    x=alt.X('Date:T'),\n",
    "    y=alt.X('Precip:Q', scale=alt.Scale(domain=monsoon_domain)),\n",
    "    text=alt.Text('Precip', format='.2f'),\n",
    "    color=alt.Color(\"dataset\", legend=alt.Legend(symbolType='circle'))\n",
    ").transform_filter(\n",
    "    nearest\n",
    ")\n",
    "\n",
    "# Olou label text.\n",
    "text_olou = alt.Chart(dataset[dataset['dataset'] == 'olou']).mark_text(\n",
    "    align='left',\n",
    "    dx=7,\n",
    "    fontSize=14\n",
    ").encode(\n",
    "    x=alt.X('Date:T'),\n",
    "    y=alt.Y('Counts:Q', scale=alt.Scale(domain=olou_domain)),\n",
    "    text=alt.Text('Counts', format='.2f'),\n",
    "    color=alt.Color(\"dataset\", legend=alt.Legend(symbolType='circle'))\n",
    ").transform_filter(\n",
    "    nearest\n",
    ")"
   ]
  },
  {
   "cell_type": "markdown",
   "id": "e92cb287-1769-4aaf-b1a5-6a1bd10b1e33",
   "metadata": {},
   "source": [
    "### All-In-One"
   ]
  },
  {
   "cell_type": "code",
   "execution_count": 499,
   "id": "c3404a8a-d037-433c-b57f-8871824a8faa",
   "metadata": {},
   "outputs": [],
   "source": [
    "# alt.layer(\n",
    "#     line_chart_monsoon, moving_avg_monsoon, line_chart_olou, moving_avg_olou, points_monsoon, points_olou,\n",
    "#     selectors_monsoon, selectors_olou, rules, text_monsoon, text_olou\n",
    "# ).configure_axis(\n",
    "#     # disable=True,\n",
    "# ).properties(\n",
    "#     width=1000, height=400\n",
    "# ).resolve_scale(x='shared', y='shared')"
   ]
  },
  {
   "cell_type": "markdown",
   "id": "b61aaf00-1225-4d94-9775-a7ae2fab50ab",
   "metadata": {},
   "source": [
    "### Stacked"
   ]
  },
  {
   "cell_type": "code",
   "execution_count": 497,
   "id": "3aae7cc8-2f73-46bf-aed0-afdd64a98b75",
   "metadata": {},
   "outputs": [],
   "source": [
    "# chart_olou = alt.layer(\n",
    "#     line_chart_olou, moving_avg_olou, points_olou, selectors_olou, rules, text_olou\n",
    "# ).properties(\n",
    "#     width=1000, height=100\n",
    "# )\n",
    "\n",
    "# chart_monsoon = alt.layer(\n",
    "#     line_chart_monsoon, moving_avg_monsoon, points_monsoon, selectors_monsoon, rules, text_monsoon\n",
    "# ).properties(\n",
    "#     width=1000, height=100\n",
    "# )\n",
    "\n",
    "# combined_chart = alt.vconcat(chart_olou, chart_monsoon)\n",
    "# combined_chart"
   ]
  },
  {
   "cell_type": "code",
   "execution_count": 500,
   "id": "e16376a1-b3f8-41e8-8b91-3c0f4880d011",
   "metadata": {
    "scrolled": true
   },
   "outputs": [
    {
     "data": {
      "application/vnd.jupyter.widget-view+json": {
       "model_id": "93fd920d9ae74ac09b70b6ab14466c3c",
       "version_major": 2,
       "version_minor": 0
      },
      "text/plain": [
       "Output()"
      ]
     },
     "metadata": {},
     "output_type": "display_data"
    },
    {
     "data": {
      "application/vnd.jupyter.widget-view+json": {
       "model_id": "9bca5053cca747688a3fd56ed3543a26",
       "version_major": 2,
       "version_minor": 0
      },
      "text/plain": [
       "IntSlider(value=1000, description='Width:', max=1600, min=400, step=10)"
      ]
     },
     "metadata": {},
     "output_type": "display_data"
    },
    {
     "data": {
      "application/vnd.jupyter.widget-view+json": {
       "model_id": "7e8b720ce3bd43919357372a5a7ff234",
       "version_major": 2,
       "version_minor": 0
      },
      "text/plain": [
       "IntSlider(value=100, description='Height:', max=1600, min=100, step=10)"
      ]
     },
     "metadata": {},
     "output_type": "display_data"
    }
   ],
   "source": [
    "from IPython.display import display\n",
    "import ipywidgets as widgets\n",
    "\n",
    "# Init outputs.\n",
    "output = widgets.Output()\n",
    "\n",
    "# Update chart sizes.\n",
    "def update_chart_width_height(width, height):\n",
    "    updated_chart_olou = chart_olou.properties(width=width, height=height)\n",
    "    updated_chart_monsoon = chart_monsoon.properties(width=width, height=height)\n",
    "    updated_combined_chart = alt.vconcat(updated_chart_olou, updated_chart_monsoon)\n",
    "    with output:\n",
    "        output.clear_output(wait=True)\n",
    "        display(updated_combined_chart)\n",
    "\n",
    "# Create widgets.\n",
    "width_slider = widgets.IntSlider(value=1000, min=400, max=1600, step=10, description='Width:')\n",
    "height_slider = widgets.IntSlider(value=100, min=100, max=1600, step=10, description='Height:')\n",
    "\n",
    "# Update charts from widgets.\n",
    "def update_chart(width, height):\n",
    "    update_chart_width_height(width, height)\n",
    "\n",
    "# Combine chart and widgets.\n",
    "widgets.interactive(update_chart, width=width_slider, height=height_slider)\n",
    "display(output)\n",
    "display(width_slider, height_slider)"
   ]
  },
  {
   "cell_type": "code",
   "execution_count": null,
   "id": "6fb22e2b-35e5-4183-bb12-5552ceb4683e",
   "metadata": {},
   "outputs": [],
   "source": []
  }
 ],
 "metadata": {
  "kernelspec": {
   "display_name": "Python 3 (ipykernel)",
   "language": "python",
   "name": "python3"
  },
  "language_info": {
   "codemirror_mode": {
    "name": "ipython",
    "version": 3
   },
   "file_extension": ".py",
   "mimetype": "text/x-python",
   "name": "python",
   "nbconvert_exporter": "python",
   "pygments_lexer": "ipython3",
   "version": "3.11.4"
  }
 },
 "nbformat": 4,
 "nbformat_minor": 5
}
