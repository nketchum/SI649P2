{
 "cells": [
  {
   "cell_type": "code",
   "execution_count": 1,
   "id": "0a11a4fa-b24b-428c-b13a-7333bdbad25a",
   "metadata": {},
   "outputs": [],
   "source": [
    "import altair as alt\n",
    "import ipywidgets as widgets\n",
    "import matplotlib.pyplot as plt\n",
    "import numpy as np\n",
    "import pandas as pd\n",
    "from IPython.display import display"
   ]
  },
  {
   "cell_type": "code",
   "execution_count": 2,
   "id": "e5cda92a-23c5-41cc-8f55-e18e8c4c410d",
   "metadata": {},
   "outputs": [
    {
     "data": {
      "text/plain": [
       "RendererRegistry.enable('jupyterlab')"
      ]
     },
     "execution_count": 2,
     "metadata": {},
     "output_type": "execute_result"
    }
   ],
   "source": [
    "# Suppress warnings.\n",
    "import warnings\n",
    "warnings.filterwarnings(\"ignore\")\n",
    "\n",
    "# Suppress js errors.\n",
    "alt.renderers.enable('jupyterlab')"
   ]
  },
  {
   "cell_type": "code",
   "execution_count": 3,
   "id": "82b3ad8c-8315-4852-85e1-48136c943061",
   "metadata": {},
   "outputs": [],
   "source": [
    "DATA_DIR = 'csv/'\n",
    "IMG_DIR = 'img/'"
   ]
  },
  {
   "attachments": {},
   "cell_type": "markdown",
   "id": "fe8359c0-cbca-4e81-9764-a29833387079",
   "metadata": {},
   "source": [
    "### Data: Monsoon"
   ]
  },
  {
   "cell_type": "code",
   "execution_count": 4,
   "id": "95949ae1-3b1e-4be3-ba5a-0bef171f87e8",
   "metadata": {},
   "outputs": [],
   "source": [
    "monsoon = pd.read_csv(DATA_DIR + 'Monsoon_data.csv', parse_dates=['Date'])\n",
    "monsoon.set_index('Date', drop=False, inplace=True)"
   ]
  },
  {
   "cell_type": "code",
   "execution_count": 5,
   "id": "3770ba16-fd16-4fd9-8c4d-ed43ec2bf86f",
   "metadata": {},
   "outputs": [],
   "source": [
    "monsoon['dataset'] = 'monsoon'\n",
    "monsoon['date_str'] = monsoon['Date'].astype(str)\n",
    "monsoon['year'] = monsoon['date_str'].str[:4]\n",
    "monsoon['month'] = pd.to_numeric(monsoon['date_str'].str[5:7])\n",
    "\n",
    "# This could be more elegant.\n",
    "monsoon.loc[monsoon['month'] <= 12, 'quarter'] = 4\n",
    "monsoon.loc[monsoon['month'] <= 9, 'quarter'] = 3\n",
    "monsoon.loc[monsoon['month'] <= 6, 'quarter'] = 2\n",
    "monsoon.loc[monsoon['month'] <= 3, 'quarter'] = 1"
   ]
  },
  {
   "cell_type": "code",
   "execution_count": 6,
   "id": "ea78843a-32f5-404d-a958-8e7977b8ccc6",
   "metadata": {},
   "outputs": [],
   "source": [
    "# monsoon.head(20)"
   ]
  },
  {
   "cell_type": "markdown",
   "id": "89fdd8e8-6a93-4b0a-8240-c32ef332b449",
   "metadata": {},
   "source": [
    "### Data: Olou"
   ]
  },
  {
   "cell_type": "code",
   "execution_count": 7,
   "id": "59802c3e-6fd3-43e0-ab1b-735bb6f017f6",
   "metadata": {},
   "outputs": [],
   "source": [
    "olou = pd.read_csv(DATA_DIR + 'Olou_counts.csv', parse_dates=['Date'])\n",
    "olou.set_index('Date', drop=False, inplace=True)"
   ]
  },
  {
   "cell_type": "code",
   "execution_count": 8,
   "id": "8ba30711-6049-4ef7-bd24-16ea27a8b3d0",
   "metadata": {},
   "outputs": [],
   "source": [
    "olou['dataset'] = 'olou'\n",
    "olou['date_str'] = olou['Date'].astype(str)\n",
    "olou['year'] = olou['date_str'].str[:4]\n",
    "olou['month'] = pd.to_numeric(olou['date_str'].str[5:7])\n",
    "\n",
    "# This could be more elegant.\n",
    "olou.loc[olou['month'] <= 12, 'quarter'] = 4\n",
    "olou.loc[olou['month'] <= 9, 'quarter'] = 3\n",
    "olou.loc[olou['month'] <= 6, 'quarter'] = 2\n",
    "olou.loc[olou['month'] <= 3, 'quarter'] = 1"
   ]
  },
  {
   "cell_type": "code",
   "execution_count": 9,
   "id": "7b6e3d32-6116-4390-ab8a-1429ce163f6a",
   "metadata": {},
   "outputs": [],
   "source": [
    "# olou.head()"
   ]
  },
  {
   "cell_type": "markdown",
   "id": "5f28f42a-d0cc-45ee-bba7-a11295505ed2",
   "metadata": {},
   "source": [
    "### Data: Monsoon + Olou"
   ]
  },
  {
   "cell_type": "code",
   "execution_count": 10,
   "id": "76c64d04-0a20-4602-9a48-91afef8dbd68",
   "metadata": {},
   "outputs": [],
   "source": [
    "dataframes = [monsoon, olou]\n",
    "dataset = pd.concat(dataframes)"
   ]
  },
  {
   "cell_type": "code",
   "execution_count": 11,
   "id": "1eabdad7-ab2f-4471-8105-0d67e7e44638",
   "metadata": {},
   "outputs": [],
   "source": [
    "# dataset.head()"
   ]
  },
  {
   "cell_type": "markdown",
   "id": "fbe19058-1289-414c-a128-dd058e77fccf",
   "metadata": {},
   "source": [
    "#### Define a common date range"
   ]
  },
  {
   "cell_type": "code",
   "execution_count": 12,
   "id": "62655231-5bba-4177-acd4-e446cd9b7f2e",
   "metadata": {},
   "outputs": [],
   "source": [
    "# Larger min date of either set is chart's min date.\n",
    "if monsoon.index.min() < olou.index.min():\n",
    "    min_x_date = olou.index.min()\n",
    "else:\n",
    "    min_x_date = monsoon.index.min()\n",
    "\n",
    "# Smaller max date of either set is chart's max date.\n",
    "if monsoon.index.max() < olou.index.max():\n",
    "    max_x_date = monsoon.index.max()\n",
    "else:\n",
    "    max_x_date = olou.index.max()"
   ]
  },
  {
   "cell_type": "markdown",
   "id": "8e26b5b4-a1db-47f1-ab93-294b435c31f0",
   "metadata": {},
   "source": [
    "#### Exclude dates not in both sets"
   ]
  },
  {
   "cell_type": "code",
   "execution_count": 13,
   "id": "0a28d7ee-90e8-49ef-bfd7-f260247bfb63",
   "metadata": {},
   "outputs": [],
   "source": [
    "dataset = dataset[(dataset['Date'] >= min_x_date) & (dataset['Date'] <= max_x_date)]"
   ]
  },
  {
   "cell_type": "code",
   "execution_count": 14,
   "id": "3e27d352-e84d-43aa-a4b3-7c25ef7a2b21",
   "metadata": {},
   "outputs": [],
   "source": [
    "# dataset.head()"
   ]
  },
  {
   "cell_type": "code",
   "execution_count": 15,
   "id": "f4adf146-73fb-4936-a75e-20d64c7bd41a",
   "metadata": {},
   "outputs": [],
   "source": [
    "# Selections.\n",
    "select = alt.selection_interval(\n",
    "    bind=\"scales\",\n",
    "    encodings=['x', 'y']\n",
    ")\n",
    "\n",
    "# min_x is the LARGER min date of the two sets.\n",
    "if olou.index.min() < monsoon.index.min():\n",
    "    min_x = monsoon.index.min()\n",
    "else:\n",
    "    min_x = olou.index.min()\n",
    "\n",
    "# max_x is the SMALLER max date of the two sets.\n",
    "if olou.index.max() < monsoon.index.max():\n",
    "    max_x = olou.index.max()\n",
    "else:\n",
    "    max_x = monsoon.index.max()\n",
    "\n",
    "x_domain = [min_x, max_x]\n",
    "\n",
    "# Domain ranges.\n",
    "olou_domain = [dataset['Counts'].min(), dataset['Counts'].max()]\n",
    "monsoon_domain = [dataset['Precip'].min(), dataset['Precip'].max()]"
   ]
  },
  {
   "cell_type": "code",
   "execution_count": 16,
   "id": "d918029a-0cd6-46ea-b139-bdeafb6f1e4c",
   "metadata": {},
   "outputs": [],
   "source": [
    "# Monsoon precipitation.\n",
    "line_chart_monsoon = alt.Chart(dataset[np.isnan(dataset['Precip']) == False]).mark_line(\n",
    "    interpolate='basis',\n",
    "    strokeWidth=2.5,\n",
    "    opacity=0.25\n",
    ").encode(\n",
    "    x=alt.X('Date:T', title=\"\", scale=alt.Scale(domain=x_domain)),\n",
    "    y=alt.Y('Precip:Q', scale=alt.Scale(domain=monsoon_domain)),\n",
    "    color=alt.Color(\"dataset\", legend=alt.Legend(symbolType='circle'))\n",
    ").add_params(\n",
    "    # param_width,\n",
    "    select\n",
    ")\n",
    "\n",
    "# Monsoon precipitation rolling average.\n",
    "moving_avg_monsoon = alt.Chart(dataset[np.isnan(dataset['Precip']) == False]).transform_window(\n",
    "    rolling_mean='mean(Precip)',\n",
    "    frame=[-3, 3],\n",
    ").mark_line(\n",
    "    color='green',\n",
    "    strokeWidth=2,\n",
    "    interpolate='basis'\n",
    ").encode(\n",
    "    x=alt.X('Date:T', scale=alt.Scale(domain=x_domain)),\n",
    "    y=alt.Y('rolling_mean:Q', scale=alt.Scale(domain=monsoon_domain))\n",
    ")\n",
    "\n",
    "# Olou cosmic ray counts.\n",
    "line_chart_olou = alt.Chart(dataset[np.isnan(dataset['Counts']) == False]).mark_line(\n",
    "    interpolate='basis',\n",
    "    strokeWidth=2.5,\n",
    "    opacity=0.25\n",
    ").encode(\n",
    "    x=alt.X('Date:T', title=\"\", scale=alt.Scale(domain=x_domain)),\n",
    "    y=alt.Y('Counts:Q', scale=alt.Scale(domain=olou_domain)),\n",
    "    color=alt.Color(\"dataset\", legend=alt.Legend(symbolType='circle'))\n",
    ").add_params(\n",
    "    # param_width,\n",
    "    select\n",
    ")\n",
    "\n",
    "# Olou cosmic ray counts rolling average.\n",
    "moving_avg_olou = alt.Chart(dataset[np.isnan(dataset['Counts']) == False]).transform_window(\n",
    "    rolling_mean='mean(Counts)',\n",
    "    frame=[-15, 15],\n",
    ").mark_line(\n",
    "    color='red',\n",
    "    strokeWidth=2,\n",
    "    interpolate='basis'\n",
    ").encode(\n",
    "    x=alt.X('Date:T', scale=alt.Scale(domain=x_domain)),\n",
    "    y=alt.Y('rolling_mean:Q', scale=alt.Scale(domain=olou_domain))\n",
    ")\n",
    "\n",
    "# Get nearest point y-value from selection.\n",
    "nearest = alt.selection_point(\n",
    "    nearest=True,\n",
    "    on='mouseover',\n",
    "    fields=['Date'],\n",
    "    empty=False\n",
    ")\n",
    "\n",
    "# Monsoon selector.\n",
    "selectors_monsoon = alt.Chart(dataset[dataset['dataset'] == 'monsoon']).mark_point().encode(\n",
    "    x=alt.X('Date:T', scale=alt.Scale(domain=x_domain)),\n",
    "    y=alt.Y('Precip:Q', scale=alt.Scale(domain=monsoon_domain)),\n",
    "    opacity=alt.value(0),\n",
    ").add_params(\n",
    "    nearest\n",
    ")\n",
    "\n",
    "# Olou selector.\n",
    "selectors_olou = alt.Chart(dataset[dataset['dataset'] == 'olou']).mark_point().encode(\n",
    "    x=alt.X('Date:T', scale=alt.Scale(domain=x_domain)),\n",
    "    y=alt.Y('Counts:Q', scale=alt.Scale(domain=olou_domain)),\n",
    "    opacity=alt.value(0),\n",
    ").add_params(\n",
    "    nearest\n",
    ")\n",
    "\n",
    "# Monsoon highlighted points.\n",
    "points_monsoon = alt.Chart(dataset[dataset['dataset'] == 'monsoon']).transform_filter(\n",
    "    nearest\n",
    ").mark_point(\n",
    "    size=90, strokeWidth=1\n",
    ").encode(\n",
    "    x=alt.X('Date:T', scale=alt.Scale(domain=x_domain)),\n",
    "    y=alt.Y('Precip:Q', scale=alt.Scale(domain=monsoon_domain)),\n",
    "    color=alt.Color(\"dataset\", legend=alt.Legend(symbolType='circle'))\n",
    ")\n",
    "\n",
    "# Olou highlighted points.\n",
    "points_olou = alt.Chart(dataset[dataset['dataset'] == 'olou']).transform_filter(\n",
    "    nearest\n",
    ").mark_point(\n",
    "    size=90, strokeWidth=1\n",
    ").encode(\n",
    "    x=alt.X('Date:T', scale=alt.Scale(domain=x_domain)),\n",
    "    y=alt.Y('Counts:Q', scale=alt.Scale(domain=olou_domain)),\n",
    "    color=alt.Color(\"dataset\", legend=alt.Legend(symbolType='circle'))\n",
    ")\n",
    "\n",
    "# Gray draggable bar.\n",
    "rules = alt.Chart(dataset).mark_rule(\n",
    "    color='lightgray',\n",
    "    opacity=0.4\n",
    ").encode(\n",
    "    x=alt.X('Date:T', scale=alt.Scale(domain=x_domain)),\n",
    "    strokeWidth=alt.StrokeWidthValue(4)\n",
    ").transform_filter(\n",
    "    nearest\n",
    ")\n",
    "\n",
    "# Monsoon label text.\n",
    "text_monsoon = alt.Chart(dataset[dataset['dataset'] == 'monsoon']).mark_text(\n",
    "    align='left',\n",
    "    dx=7,\n",
    "    fontSize=14\n",
    ").encode(\n",
    "    x=alt.X('Date:T', scale=alt.Scale(domain=x_domain)),\n",
    "    y=alt.X('Precip:Q', scale=alt.Scale(domain=monsoon_domain)),\n",
    "    text=alt.Text('Precip', format='.2f'),\n",
    "    color=alt.Color(\"dataset\", legend=alt.Legend(symbolType='circle'))\n",
    ").transform_filter(\n",
    "    nearest\n",
    ")\n",
    "\n",
    "# Olou label text.\n",
    "text_olou = alt.Chart(dataset[dataset['dataset'] == 'olou']).mark_text(\n",
    "    align='left',\n",
    "    dx=7,\n",
    "    fontSize=14\n",
    ").encode(\n",
    "    x=alt.X('Date:T', scale=alt.Scale(domain=x_domain)),\n",
    "    y=alt.Y('Counts:Q', scale=alt.Scale(domain=olou_domain)),\n",
    "    text=alt.Text('Counts', format='.2f'),\n",
    "    color=alt.Color(\"dataset\", legend=alt.Legend(symbolType='circle'))\n",
    ").transform_filter(\n",
    "    nearest\n",
    ")"
   ]
  },
  {
   "cell_type": "markdown",
   "id": "18eabeee-e634-4bb7-9003-79af9cdff266",
   "metadata": {},
   "source": [
    "### Interactive Visualization"
   ]
  },
  {
   "cell_type": "markdown",
   "id": "b61aaf00-1225-4d94-9775-a7ae2fab50ab",
   "metadata": {},
   "source": [
    "### Stacking"
   ]
  },
  {
   "cell_type": "code",
   "execution_count": 17,
   "id": "012c850a-a8b7-449a-abe8-ba6041e4dba2",
   "metadata": {},
   "outputs": [],
   "source": [
    "# Olou chart.\n",
    "chart_olou = alt.layer(\n",
    "    line_chart_olou,\n",
    "    moving_avg_olou,\n",
    "    points_olou,\n",
    "    selectors_olou,\n",
    "    rules,\n",
    "    text_olou\n",
    ")\n",
    "\n",
    "# Monsoon chart.\n",
    "chart_monsoon = alt.layer(\n",
    "    line_chart_monsoon,\n",
    "    moving_avg_monsoon,\n",
    "    points_monsoon,\n",
    "    selectors_monsoon,\n",
    "    rules,\n",
    "    text_monsoon\n",
    ")"
   ]
  },
  {
   "cell_type": "markdown",
   "id": "4ed542e4-2ef7-4c1b-a737-e97f954e93f6",
   "metadata": {},
   "source": [
    "### Interactivity"
   ]
  },
  {
   "cell_type": "code",
   "execution_count": 18,
   "id": "d7f190c1-8f2f-4585-8699-252c7ad0aebe",
   "metadata": {},
   "outputs": [
    {
     "data": {
      "application/vnd.jupyter.widget-view+json": {
       "model_id": "71570fe2af0646279a1d58c256f5d29f",
       "version_major": 2,
       "version_minor": 0
      },
      "text/plain": [
       "interactive(children=(IntSlider(value=800, description='Width:', max=1500, min=100), IntSlider(value=155, desc…"
      ]
     },
     "execution_count": 18,
     "metadata": {},
     "output_type": "execute_result"
    }
   ],
   "source": [
    "# Init outputs.\n",
    "output = widgets.Output()\n",
    "\n",
    "# Update chart sizes.\n",
    "def update_chart_width_height(width, height):\n",
    "    updated_chart_olou = chart_olou.properties(width=width, height=height)\n",
    "    updated_chart_monsoon = chart_monsoon.properties(width=width, height=height)\n",
    "    updated_combined_chart = alt.vconcat(updated_chart_olou, updated_chart_monsoon)\n",
    "    with output:\n",
    "        output.clear_output(wait=True)\n",
    "        display(updated_combined_chart)\n",
    "\n",
    "# Create widgets.\n",
    "width_slider = widgets.IntSlider(value=800, min=100, max=1500, step=1, description='Width:')\n",
    "height_slider = widgets.IntSlider(value=155, min=10, max=300, step=1, description='Height:')\n",
    "\n",
    "# Update charts from widgets.\n",
    "def update_chart(width, height):\n",
    "    update_chart_width_height(width, height)\n",
    "\n",
    "# Activate widgets.g\n",
    "widgets.interactive(update_chart, width=width_slider, height=height_slider)"
   ]
  },
  {
   "cell_type": "markdown",
   "id": "1c98b6a3-c2b1-475f-8aae-96d0d9f1ba0e",
   "metadata": {},
   "source": [
    "### Show Chart"
   ]
  },
  {
   "cell_type": "code",
   "execution_count": 19,
   "id": "45b01971-8b19-4468-9531-8a9b097fc5ba",
   "metadata": {},
   "outputs": [
    {
     "data": {
      "application/vnd.jupyter.widget-view+json": {
       "model_id": "dc886378f601490aa49200d61c1b9c6a",
       "version_major": 2,
       "version_minor": 0
      },
      "text/plain": [
       "Output()"
      ]
     },
     "metadata": {},
     "output_type": "display_data"
    },
    {
     "data": {
      "application/vnd.jupyter.widget-view+json": {
       "model_id": "5e1ec948d7b5429ea0652320d268db95",
       "version_major": 2,
       "version_minor": 0
      },
      "text/plain": [
       "IntSlider(value=800, description='Width:', max=1500, min=100)"
      ]
     },
     "metadata": {},
     "output_type": "display_data"
    },
    {
     "data": {
      "application/vnd.jupyter.widget-view+json": {
       "model_id": "cd84042095ae4c71af62099249145ea9",
       "version_major": 2,
       "version_minor": 0
      },
      "text/plain": [
       "IntSlider(value=155, description='Height:', max=300, min=10)"
      ]
     },
     "metadata": {},
     "output_type": "display_data"
    }
   ],
   "source": [
    "# Chart.\n",
    "display(output)\n",
    "\n",
    "# Widgets.\n",
    "display(width_slider, height_slider)"
   ]
  }
 ],
 "metadata": {
  "kernelspec": {
   "display_name": "Python 3 (ipykernel)",
   "language": "python",
   "name": "python3"
  },
  "language_info": {
   "codemirror_mode": {
    "name": "ipython",
    "version": 3
   },
   "file_extension": ".py",
   "mimetype": "text/x-python",
   "name": "python",
   "nbconvert_exporter": "python",
   "pygments_lexer": "ipython3",
   "version": "3.11.4"
  }
 },
 "nbformat": 4,
 "nbformat_minor": 5
}
