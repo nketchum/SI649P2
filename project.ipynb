{
 "cells": [
  {
   "cell_type": "code",
   "execution_count": 1,
   "id": "0a11a4fa-b24b-428c-b13a-7333bdbad25a",
   "metadata": {},
   "outputs": [],
   "source": [
    "import altair as alt\n",
    "import ipywidgets as widgets\n",
    "import matplotlib.pyplot as plt\n",
    "import numpy as np\n",
    "import pandas as pd\n",
    "from IPython.display import display"
   ]
  },
  {
   "cell_type": "code",
   "execution_count": 2,
   "id": "e5cda92a-23c5-41cc-8f55-e18e8c4c410d",
   "metadata": {},
   "outputs": [
    {
     "data": {
      "text/plain": [
       "RendererRegistry.enable('jupyterlab')"
      ]
     },
     "execution_count": 2,
     "metadata": {},
     "output_type": "execute_result"
    }
   ],
   "source": [
    "# Suppress warnings.\n",
    "import warnings\n",
    "warnings.filterwarnings(\"ignore\")\n",
    "\n",
    "# Suppress js errors.\n",
    "alt.renderers.enable('jupyterlab')"
   ]
  },
  {
   "cell_type": "code",
   "execution_count": 3,
   "id": "82b3ad8c-8315-4852-85e1-48136c943061",
   "metadata": {},
   "outputs": [],
   "source": [
    "DATA_DIR = 'csv/'\n",
    "IMG_DIR = 'img/'"
   ]
  },
  {
   "attachments": {},
   "cell_type": "markdown",
   "id": "fe8359c0-cbca-4e81-9764-a29833387079",
   "metadata": {},
   "source": [
    "### Data: Monsoon"
   ]
  },
  {
   "cell_type": "code",
   "execution_count": 4,
   "id": "95949ae1-3b1e-4be3-ba5a-0bef171f87e8",
   "metadata": {},
   "outputs": [],
   "source": [
    "monsoon = pd.read_csv(DATA_DIR + 'Monsoon_data.csv', parse_dates=['Date'])\n",
    "monsoon.set_index('Date', drop=False, inplace=True)"
   ]
  },
  {
   "cell_type": "code",
   "execution_count": 5,
   "id": "3770ba16-fd16-4fd9-8c4d-ed43ec2bf86f",
   "metadata": {},
   "outputs": [],
   "source": [
    "monsoon['dataset'] = 'monsoon'\n",
    "monsoon['date_str'] = monsoon['Date'].astype(str)\n",
    "monsoon['year'] = monsoon['date_str'].str[:4]\n",
    "monsoon['month'] = pd.to_numeric(monsoon['date_str'].str[5:7])\n",
    "\n",
    "# This could be more elegant.\n",
    "monsoon.loc[monsoon['month'] <= 12, 'quarter'] = 4\n",
    "monsoon.loc[monsoon['month'] <= 9, 'quarter'] = 3\n",
    "monsoon.loc[monsoon['month'] <= 6, 'quarter'] = 2\n",
    "monsoon.loc[monsoon['month'] <= 3, 'quarter'] = 1"
   ]
  },
  {
   "cell_type": "code",
   "execution_count": 6,
   "id": "ea78843a-32f5-404d-a958-8e7977b8ccc6",
   "metadata": {},
   "outputs": [],
   "source": [
    "# monsoon.head(20)"
   ]
  },
  {
   "cell_type": "markdown",
   "id": "89fdd8e8-6a93-4b0a-8240-c32ef332b449",
   "metadata": {},
   "source": [
    "### Data: Olou"
   ]
  },
  {
   "cell_type": "code",
   "execution_count": 7,
   "id": "59802c3e-6fd3-43e0-ab1b-735bb6f017f6",
   "metadata": {},
   "outputs": [],
   "source": [
    "olou = pd.read_csv(DATA_DIR + 'Olou_counts.csv', parse_dates=['Date'])\n",
    "olou.set_index('Date', drop=False, inplace=True)"
   ]
  },
  {
   "cell_type": "code",
   "execution_count": 8,
   "id": "8ba30711-6049-4ef7-bd24-16ea27a8b3d0",
   "metadata": {},
   "outputs": [],
   "source": [
    "olou['dataset'] = 'olou'\n",
    "olou['date_str'] = olou['Date'].astype(str)\n",
    "olou['year'] = olou['date_str'].str[:4]\n",
    "olou['month'] = pd.to_numeric(olou['date_str'].str[5:7])\n",
    "\n",
    "# This could be more elegant.\n",
    "olou.loc[olou['month'] <= 12, 'quarter'] = 4\n",
    "olou.loc[olou['month'] <= 9, 'quarter'] = 3\n",
    "olou.loc[olou['month'] <= 6, 'quarter'] = 2\n",
    "olou.loc[olou['month'] <= 3, 'quarter'] = 1"
   ]
  },
  {
   "cell_type": "code",
   "execution_count": 9,
   "id": "7b6e3d32-6116-4390-ab8a-1429ce163f6a",
   "metadata": {},
   "outputs": [],
   "source": [
    "# olou.head()"
   ]
  },
  {
   "cell_type": "markdown",
   "id": "5f28f42a-d0cc-45ee-bba7-a11295505ed2",
   "metadata": {},
   "source": [
    "### Data: Monsoon + Olou"
   ]
  },
  {
   "cell_type": "code",
   "execution_count": 10,
   "id": "76c64d04-0a20-4602-9a48-91afef8dbd68",
   "metadata": {},
   "outputs": [],
   "source": [
    "dataframes = [monsoon, olou]\n",
    "dataset = pd.concat(dataframes)"
   ]
  },
  {
   "cell_type": "code",
   "execution_count": 11,
   "id": "1eabdad7-ab2f-4471-8105-0d67e7e44638",
   "metadata": {},
   "outputs": [],
   "source": [
    "# dataset.head()"
   ]
  },
  {
   "cell_type": "markdown",
   "id": "fbe19058-1289-414c-a128-dd058e77fccf",
   "metadata": {},
   "source": [
    "#### Define a common date range"
   ]
  },
  {
   "cell_type": "code",
   "execution_count": 12,
   "id": "62655231-5bba-4177-acd4-e446cd9b7f2e",
   "metadata": {},
   "outputs": [],
   "source": [
    "# Larger min date of either set is chart's min date.\n",
    "if monsoon.index.min() < olou.index.min():\n",
    "    min_x_date = olou.index.min()\n",
    "else:\n",
    "    min_x_date = monsoon.index.min()\n",
    "\n",
    "# Smaller max date of either set is chart's max date.\n",
    "if monsoon.index.max() < olou.index.max():\n",
    "    max_x_date = monsoon.index.max()\n",
    "else:\n",
    "    max_x_date = olou.index.max()"
   ]
  },
  {
   "cell_type": "markdown",
   "id": "8e26b5b4-a1db-47f1-ab93-294b435c31f0",
   "metadata": {},
   "source": [
    "#### Exclude dates not in both sets"
   ]
  },
  {
   "cell_type": "code",
   "execution_count": 13,
   "id": "0a28d7ee-90e8-49ef-bfd7-f260247bfb63",
   "metadata": {},
   "outputs": [],
   "source": [
    "dataset = dataset[(dataset['Date'] >= min_x_date) & (dataset['Date'] <= max_x_date)]"
   ]
  },
  {
   "cell_type": "code",
   "execution_count": 14,
   "id": "3e27d352-e84d-43aa-a4b3-7c25ef7a2b21",
   "metadata": {},
   "outputs": [],
   "source": [
    "# dataset.head()"
   ]
  },
  {
   "cell_type": "code",
   "execution_count": 15,
   "id": "f4adf146-73fb-4936-a75e-20d64c7bd41a",
   "metadata": {},
   "outputs": [],
   "source": [
    "# Selections.\n",
    "select = alt.selection_interval(\n",
    "    bind=\"scales\",\n",
    "    encodings=['x', 'y']\n",
    ")\n",
    "\n",
    "# min_x is the LARGER min date of the two sets.\n",
    "if olou.index.min() < monsoon.index.min():\n",
    "    min_x = monsoon.index.min()\n",
    "else:\n",
    "    min_x = olou.index.min()\n",
    "\n",
    "# max_x is the SMALLER max date of the two sets.\n",
    "if olou.index.max() < monsoon.index.max():\n",
    "    max_x = olou.index.max()\n",
    "else:\n",
    "    max_x = monsoon.index.max()\n",
    "\n",
    "x_domain = [min_x, max_x]\n",
    "\n",
    "# Domain ranges.\n",
    "olou_domain = [dataset['Counts'].min(), dataset['Counts'].max()]\n",
    "monsoon_domain = [dataset['Precip'].min(), dataset['Precip'].max()]"
   ]
  },
  {
   "cell_type": "code",
   "execution_count": 16,
   "id": "d918029a-0cd6-46ea-b139-bdeafb6f1e4c",
   "metadata": {},
   "outputs": [],
   "source": [
    "# Monsoon precipitation.\n",
    "line_chart_monsoon = alt.Chart(dataset[np.isnan(dataset['Precip']) == False]).mark_line(\n",
    "    interpolate='basis',\n",
    "    strokeWidth=2.5,\n",
    "    opacity=0.25\n",
    ").encode(\n",
    "    x=alt.X('Date:T', title=\"\", scale=alt.Scale(domain=x_domain)),\n",
    "    y=alt.Y('Precip:Q', scale=alt.Scale(domain=monsoon_domain)),\n",
    "    color=alt.Color(\"dataset\", legend=alt.Legend(symbolType='circle'))\n",
    ").add_params(\n",
    "    # param_width,\n",
    "    select\n",
    ")\n",
    "\n",
    "# Monsoon precipitation rolling average.\n",
    "moving_avg_monsoon = alt.Chart(dataset[np.isnan(dataset['Precip']) == False]).transform_window(\n",
    "    rolling_mean='mean(Precip)',\n",
    "    frame=[-3, 3],\n",
    ").mark_line(\n",
    "    color='green',\n",
    "    strokeWidth=2,\n",
    "    interpolate='basis'\n",
    ").encode(\n",
    "    x=alt.X('Date:T', scale=alt.Scale(domain=x_domain)),\n",
    "    y=alt.Y('rolling_mean:Q', scale=alt.Scale(domain=monsoon_domain))\n",
    ")\n",
    "\n",
    "# Olou cosmic ray counts.\n",
    "line_chart_olou = alt.Chart(dataset[np.isnan(dataset['Counts']) == False]).mark_line(\n",
    "    interpolate='basis',\n",
    "    strokeWidth=2.5,\n",
    "    opacity=0.25\n",
    ").encode(\n",
    "    x=alt.X('Date:T', title=\"\", scale=alt.Scale(domain=x_domain)),\n",
    "    y=alt.Y('Counts:Q', scale=alt.Scale(domain=olou_domain)),\n",
    "    color=alt.Color(\"dataset\", legend=alt.Legend(symbolType='circle'))\n",
    ").add_params(\n",
    "    # param_width,\n",
    "    select\n",
    ")\n",
    "\n",
    "# Olou cosmic ray counts rolling average.\n",
    "moving_avg_olou = alt.Chart(dataset[np.isnan(dataset['Counts']) == False]).transform_window(\n",
    "    rolling_mean='mean(Counts)',\n",
    "    frame=[-15, 15],\n",
    ").mark_line(\n",
    "    color='red',\n",
    "    strokeWidth=2,\n",
    "    interpolate='basis'\n",
    ").encode(\n",
    "    x=alt.X('Date:T', scale=alt.Scale(domain=x_domain)),\n",
    "    y=alt.Y('rolling_mean:Q', scale=alt.Scale(domain=olou_domain))\n",
    ")\n",
    "\n",
    "# Get nearest point y-value from selection.\n",
    "nearest = alt.selection_point(\n",
    "    nearest=True,\n",
    "    on='mouseover',\n",
    "    fields=['Date'],\n",
    "    empty=False\n",
    ")\n",
    "\n",
    "# Monsoon selector.\n",
    "selectors_monsoon = alt.Chart(dataset[dataset['dataset'] == 'monsoon']).mark_point().encode(\n",
    "    x=alt.X('Date:T', scale=alt.Scale(domain=x_domain)),\n",
    "    y=alt.Y('Precip:Q', scale=alt.Scale(domain=monsoon_domain)),\n",
    "    opacity=alt.value(0),\n",
    ").add_params(\n",
    "    nearest\n",
    ")\n",
    "\n",
    "# Olou selector.\n",
    "selectors_olou = alt.Chart(dataset[dataset['dataset'] == 'olou']).mark_point().encode(\n",
    "    x=alt.X('Date:T', scale=alt.Scale(domain=x_domain)),\n",
    "    y=alt.Y('Counts:Q', scale=alt.Scale(domain=olou_domain)),\n",
    "    opacity=alt.value(0),\n",
    ").add_params(\n",
    "    nearest\n",
    ")\n",
    "\n",
    "# Monsoon highlighted points.\n",
    "points_monsoon = alt.Chart(dataset[dataset['dataset'] == 'monsoon']).transform_filter(\n",
    "    nearest\n",
    ").mark_point(\n",
    "    size=90, strokeWidth=1\n",
    ").encode(\n",
    "    x=alt.X('Date:T', scale=alt.Scale(domain=x_domain)),\n",
    "    y=alt.Y('Precip:Q', scale=alt.Scale(domain=monsoon_domain)),\n",
    "    color=alt.Color(\"dataset\", legend=alt.Legend(symbolType='circle'))\n",
    ")\n",
    "\n",
    "# Olou highlighted points.\n",
    "points_olou = alt.Chart(dataset[dataset['dataset'] == 'olou']).transform_filter(\n",
    "    nearest\n",
    ").mark_point(\n",
    "    size=90, strokeWidth=1\n",
    ").encode(\n",
    "    x=alt.X('Date:T', scale=alt.Scale(domain=x_domain)),\n",
    "    y=alt.Y('Counts:Q', scale=alt.Scale(domain=olou_domain)),\n",
    "    color=alt.Color(\"dataset\", legend=alt.Legend(symbolType='circle'))\n",
    ")\n",
    "\n",
    "# Gray draggable bar.\n",
    "rules = alt.Chart(dataset).mark_rule(\n",
    "    color='lightgray',\n",
    "    opacity=0.4\n",
    ").encode(\n",
    "    x=alt.X('Date:T', scale=alt.Scale(domain=x_domain)),\n",
    "    strokeWidth=alt.StrokeWidthValue(4)\n",
    ").transform_filter(\n",
    "    nearest\n",
    ")\n",
    "\n",
    "# Monsoon label text.\n",
    "text_monsoon = alt.Chart(dataset[dataset['dataset'] == 'monsoon']).mark_text(\n",
    "    align='left',\n",
    "    dx=7,\n",
    "    fontSize=14\n",
    ").encode(\n",
    "    x=alt.X('Date:T', scale=alt.Scale(domain=x_domain)),\n",
    "    y=alt.X('Precip:Q', scale=alt.Scale(domain=monsoon_domain)),\n",
    "    text=alt.Text('Precip', format='.2f'),\n",
    "    color=alt.Color(\"dataset\", legend=alt.Legend(symbolType='circle'))\n",
    ").transform_filter(\n",
    "    nearest\n",
    ")\n",
    "\n",
    "# Olou label text.\n",
    "text_olou = alt.Chart(dataset[dataset['dataset'] == 'olou']).mark_text(\n",
    "    align='left',\n",
    "    dx=7,\n",
    "    fontSize=14\n",
    ").encode(\n",
    "    x=alt.X('Date:T', scale=alt.Scale(domain=x_domain)),\n",
    "    y=alt.Y('Counts:Q', scale=alt.Scale(domain=olou_domain)),\n",
    "    text=alt.Text('Counts', format='.2f'),\n",
    "    color=alt.Color(\"dataset\", legend=alt.Legend(symbolType='circle'))\n",
    ").transform_filter(\n",
    "    nearest\n",
    ")"
   ]
  },
  {
   "cell_type": "markdown",
   "id": "18eabeee-e634-4bb7-9003-79af9cdff266",
   "metadata": {},
   "source": [
    "### Interactive Visualization"
   ]
  },
  {
   "cell_type": "markdown",
   "id": "b61aaf00-1225-4d94-9775-a7ae2fab50ab",
   "metadata": {},
   "source": [
    "### Stacking"
   ]
  },
  {
   "cell_type": "code",
   "execution_count": 17,
   "id": "012c850a-a8b7-449a-abe8-ba6041e4dba2",
   "metadata": {},
   "outputs": [],
   "source": [
    "# Olou chart.\n",
    "chart_olou = alt.layer(\n",
    "    line_chart_olou,\n",
    "    moving_avg_olou,\n",
    "    points_olou,\n",
    "    selectors_olou,\n",
    "    rules,\n",
    "    text_olou\n",
    ")\n",
    "\n",
    "# Monsoon chart.\n",
    "chart_monsoon = alt.layer(\n",
    "    line_chart_monsoon,\n",
    "    moving_avg_monsoon,\n",
    "    points_monsoon,\n",
    "    selectors_monsoon,\n",
    "    rules,\n",
    "    text_monsoon\n",
    ")"
   ]
  },
  {
   "cell_type": "code",
   "execution_count": 21,
   "id": "41cae963-e82a-4c7f-8133-de428fc990e6",
   "metadata": {},
   "outputs": [
    {
     "data": {
      "application/vnd.vegalite.v5+json": {
       "$schema": "https://vega.github.io/schema/vega-lite/v5.16.3.json",
       "config": {
        "view": {
         "continuousHeight": 300,
         "continuousWidth": 300
        }
       },
       "datasets": {
        "data-26d13fd126909e222b82ec89f0051dc3": [
         {
          "Counts": null,
          "Date": "1964-04-01T00:00:00",
          "Precip": 24.8,
          "dataset": "monsoon",
          "date_str": "1964-04-01",
          "month": 4,
          "quarter": 2,
          "year": "1964"
         },
         {
          "Counts": null,
          "Date": "1964-05-01T00:00:00",
          "Precip": 43.7,
          "dataset": "monsoon",
          "date_str": "1964-05-01",
          "month": 5,
          "quarter": 2,
          "year": "1964"
         },
         {
          "Counts": null,
          "Date": "1964-06-01T00:00:00",
          "Precip": 143.7,
          "dataset": "monsoon",
          "date_str": "1964-06-01",
          "month": 6,
          "quarter": 2,
          "year": "1964"
         },
         {
          "Counts": null,
          "Date": "1964-07-01T00:00:00",
          "Precip": 313,
          "dataset": "monsoon",
          "date_str": "1964-07-01",
          "month": 7,
          "quarter": 3,
          "year": "1964"
         },
         {
          "Counts": null,
          "Date": "1964-08-01T00:00:00",
          "Precip": 263.6,
          "dataset": "monsoon",
          "date_str": "1964-08-01",
          "month": 8,
          "quarter": 3,
          "year": "1964"
         },
         {
          "Counts": null,
          "Date": "1964-09-01T00:00:00",
          "Precip": 202.1,
          "dataset": "monsoon",
          "date_str": "1964-09-01",
          "month": 9,
          "quarter": 3,
          "year": "1964"
         },
         {
          "Counts": null,
          "Date": "1964-10-01T00:00:00",
          "Precip": 73.3,
          "dataset": "monsoon",
          "date_str": "1964-10-01",
          "month": 10,
          "quarter": 4,
          "year": "1964"
         },
         {
          "Counts": null,
          "Date": "1964-11-01T00:00:00",
          "Precip": 25.7,
          "dataset": "monsoon",
          "date_str": "1964-11-01",
          "month": 11,
          "quarter": 4,
          "year": "1964"
         },
         {
          "Counts": null,
          "Date": "1964-12-01T00:00:00",
          "Precip": 6.5,
          "dataset": "monsoon",
          "date_str": "1964-12-01",
          "month": 12,
          "quarter": 4,
          "year": "1964"
         },
         {
          "Counts": null,
          "Date": "1965-01-01T00:00:00",
          "Precip": 5.5,
          "dataset": "monsoon",
          "date_str": "1965-01-01",
          "month": 1,
          "quarter": 1,
          "year": "1965"
         },
         {
          "Counts": null,
          "Date": "1965-02-01T00:00:00",
          "Precip": 9.2,
          "dataset": "monsoon",
          "date_str": "1965-02-01",
          "month": 2,
          "quarter": 1,
          "year": "1965"
         },
         {
          "Counts": null,
          "Date": "1965-03-01T00:00:00",
          "Precip": 14.9,
          "dataset": "monsoon",
          "date_str": "1965-03-01",
          "month": 3,
          "quarter": 1,
          "year": "1965"
         },
         {
          "Counts": null,
          "Date": "1965-04-01T00:00:00",
          "Precip": 24.3,
          "dataset": "monsoon",
          "date_str": "1965-04-01",
          "month": 4,
          "quarter": 2,
          "year": "1965"
         },
         {
          "Counts": null,
          "Date": "1965-05-01T00:00:00",
          "Precip": 34.6,
          "dataset": "monsoon",
          "date_str": "1965-05-01",
          "month": 5,
          "quarter": 2,
          "year": "1965"
         },
         {
          "Counts": null,
          "Date": "1965-06-01T00:00:00",
          "Precip": 110.4,
          "dataset": "monsoon",
          "date_str": "1965-06-01",
          "month": 6,
          "quarter": 2,
          "year": "1965"
         },
         {
          "Counts": null,
          "Date": "1965-07-01T00:00:00",
          "Precip": 266.8,
          "dataset": "monsoon",
          "date_str": "1965-07-01",
          "month": 7,
          "quarter": 3,
          "year": "1965"
         },
         {
          "Counts": null,
          "Date": "1965-08-01T00:00:00",
          "Precip": 189.3,
          "dataset": "monsoon",
          "date_str": "1965-08-01",
          "month": 8,
          "quarter": 3,
          "year": "1965"
         },
         {
          "Counts": null,
          "Date": "1965-09-01T00:00:00",
          "Precip": 142.7,
          "dataset": "monsoon",
          "date_str": "1965-09-01",
          "month": 9,
          "quarter": 3,
          "year": "1965"
         },
         {
          "Counts": null,
          "Date": "1965-10-01T00:00:00",
          "Precip": 36.2,
          "dataset": "monsoon",
          "date_str": "1965-10-01",
          "month": 10,
          "quarter": 4,
          "year": "1965"
         },
         {
          "Counts": null,
          "Date": "1965-11-01T00:00:00",
          "Precip": 15.8,
          "dataset": "monsoon",
          "date_str": "1965-11-01",
          "month": 11,
          "quarter": 4,
          "year": "1965"
         },
         {
          "Counts": null,
          "Date": "1965-12-01T00:00:00",
          "Precip": 22.1,
          "dataset": "monsoon",
          "date_str": "1965-12-01",
          "month": 12,
          "quarter": 4,
          "year": "1965"
         },
         {
          "Counts": null,
          "Date": "1966-01-01T00:00:00",
          "Precip": 14.7,
          "dataset": "monsoon",
          "date_str": "1966-01-01",
          "month": 1,
          "quarter": 1,
          "year": "1966"
         },
         {
          "Counts": null,
          "Date": "1966-02-01T00:00:00",
          "Precip": 5.2,
          "dataset": "monsoon",
          "date_str": "1966-02-01",
          "month": 2,
          "quarter": 1,
          "year": "1966"
         },
         {
          "Counts": null,
          "Date": "1966-03-01T00:00:00",
          "Precip": 5.1,
          "dataset": "monsoon",
          "date_str": "1966-03-01",
          "month": 3,
          "quarter": 1,
          "year": "1966"
         },
         {
          "Counts": null,
          "Date": "1966-04-01T00:00:00",
          "Precip": 16.1,
          "dataset": "monsoon",
          "date_str": "1966-04-01",
          "month": 4,
          "quarter": 2,
          "year": "1966"
         },
         {
          "Counts": null,
          "Date": "1966-05-01T00:00:00",
          "Precip": 52,
          "dataset": "monsoon",
          "date_str": "1966-05-01",
          "month": 5,
          "quarter": 2,
          "year": "1966"
         },
         {
          "Counts": null,
          "Date": "1966-06-01T00:00:00",
          "Precip": 165.8,
          "dataset": "monsoon",
          "date_str": "1966-06-01",
          "month": 6,
          "quarter": 2,
          "year": "1966"
         },
         {
          "Counts": null,
          "Date": "1966-07-01T00:00:00",
          "Precip": 237.5,
          "dataset": "monsoon",
          "date_str": "1966-07-01",
          "month": 7,
          "quarter": 3,
          "year": "1966"
         },
         {
          "Counts": null,
          "Date": "1966-08-01T00:00:00",
          "Precip": 198.2,
          "dataset": "monsoon",
          "date_str": "1966-08-01",
          "month": 8,
          "quarter": 3,
          "year": "1966"
         },
         {
          "Counts": null,
          "Date": "1966-09-01T00:00:00",
          "Precip": 138.4,
          "dataset": "monsoon",
          "date_str": "1966-09-01",
          "month": 9,
          "quarter": 3,
          "year": "1966"
         },
         {
          "Counts": null,
          "Date": "1966-10-01T00:00:00",
          "Precip": 58,
          "dataset": "monsoon",
          "date_str": "1966-10-01",
          "month": 10,
          "quarter": 4,
          "year": "1966"
         },
         {
          "Counts": null,
          "Date": "1966-11-01T00:00:00",
          "Precip": 61.1,
          "dataset": "monsoon",
          "date_str": "1966-11-01",
          "month": 11,
          "quarter": 4,
          "year": "1966"
         },
         {
          "Counts": null,
          "Date": "1966-12-01T00:00:00",
          "Precip": 17.8,
          "dataset": "monsoon",
          "date_str": "1966-12-01",
          "month": 12,
          "quarter": 4,
          "year": "1966"
         },
         {
          "Counts": null,
          "Date": "1967-01-01T00:00:00",
          "Precip": 9.2,
          "dataset": "monsoon",
          "date_str": "1967-01-01",
          "month": 1,
          "quarter": 1,
          "year": "1967"
         },
         {
          "Counts": null,
          "Date": "1967-02-01T00:00:00",
          "Precip": 2.7,
          "dataset": "monsoon",
          "date_str": "1967-02-01",
          "month": 2,
          "quarter": 1,
          "year": "1967"
         },
         {
          "Counts": null,
          "Date": "1967-03-01T00:00:00",
          "Precip": 52.7,
          "dataset": "monsoon",
          "date_str": "1967-03-01",
          "month": 3,
          "quarter": 1,
          "year": "1967"
         },
         {
          "Counts": null,
          "Date": "1967-04-01T00:00:00",
          "Precip": 22.5,
          "dataset": "monsoon",
          "date_str": "1967-04-01",
          "month": 4,
          "quarter": 2,
          "year": "1967"
         },
         {
          "Counts": null,
          "Date": "1967-05-01T00:00:00",
          "Precip": 33.3,
          "dataset": "monsoon",
          "date_str": "1967-05-01",
          "month": 5,
          "quarter": 2,
          "year": "1967"
         },
         {
          "Counts": null,
          "Date": "1967-06-01T00:00:00",
          "Precip": 141.4,
          "dataset": "monsoon",
          "date_str": "1967-06-01",
          "month": 6,
          "quarter": 2,
          "year": "1967"
         },
         {
          "Counts": null,
          "Date": "1967-07-01T00:00:00",
          "Precip": 292.4,
          "dataset": "monsoon",
          "date_str": "1967-07-01",
          "month": 7,
          "quarter": 3,
          "year": "1967"
         },
         {
          "Counts": null,
          "Date": "1967-08-01T00:00:00",
          "Precip": 257.3,
          "dataset": "monsoon",
          "date_str": "1967-08-01",
          "month": 8,
          "quarter": 3,
          "year": "1967"
         },
         {
          "Counts": null,
          "Date": "1967-09-01T00:00:00",
          "Precip": 168.8,
          "dataset": "monsoon",
          "date_str": "1967-09-01",
          "month": 9,
          "quarter": 3,
          "year": "1967"
         },
         {
          "Counts": null,
          "Date": "1967-10-01T00:00:00",
          "Precip": 42,
          "dataset": "monsoon",
          "date_str": "1967-10-01",
          "month": 10,
          "quarter": 4,
          "year": "1967"
         },
         {
          "Counts": null,
          "Date": "1967-11-01T00:00:00",
          "Precip": 13.1,
          "dataset": "monsoon",
          "date_str": "1967-11-01",
          "month": 11,
          "quarter": 4,
          "year": "1967"
         },
         {
          "Counts": null,
          "Date": "1967-12-01T00:00:00",
          "Precip": 49.6,
          "dataset": "monsoon",
          "date_str": "1967-12-01",
          "month": 12,
          "quarter": 4,
          "year": "1967"
         },
         {
          "Counts": null,
          "Date": "1968-01-01T00:00:00",
          "Precip": 15,
          "dataset": "monsoon",
          "date_str": "1968-01-01",
          "month": 1,
          "quarter": 1,
          "year": "1968"
         },
         {
          "Counts": null,
          "Date": "1968-02-01T00:00:00",
          "Precip": 12.1,
          "dataset": "monsoon",
          "date_str": "1968-02-01",
          "month": 2,
          "quarter": 1,
          "year": "1968"
         },
         {
          "Counts": null,
          "Date": "1968-03-01T00:00:00",
          "Precip": 20.1,
          "dataset": "monsoon",
          "date_str": "1968-03-01",
          "month": 3,
          "quarter": 1,
          "year": "1968"
         },
         {
          "Counts": null,
          "Date": "1968-04-01T00:00:00",
          "Precip": 26.9,
          "dataset": "monsoon",
          "date_str": "1968-04-01",
          "month": 4,
          "quarter": 2,
          "year": "1968"
         },
         {
          "Counts": null,
          "Date": "1968-05-01T00:00:00",
          "Precip": 31.6,
          "dataset": "monsoon",
          "date_str": "1968-05-01",
          "month": 5,
          "quarter": 2,
          "year": "1968"
         },
         {
          "Counts": null,
          "Date": "1968-06-01T00:00:00",
          "Precip": 136.4,
          "dataset": "monsoon",
          "date_str": "1968-06-01",
          "month": 6,
          "quarter": 2,
          "year": "1968"
         },
         {
          "Counts": null,
          "Date": "1968-07-01T00:00:00",
          "Precip": 288.6,
          "dataset": "monsoon",
          "date_str": "1968-07-01",
          "month": 7,
          "quarter": 3,
          "year": "1968"
         },
         {
          "Counts": null,
          "Date": "1968-08-01T00:00:00",
          "Precip": 194.7,
          "dataset": "monsoon",
          "date_str": "1968-08-01",
          "month": 8,
          "quarter": 3,
          "year": "1968"
         },
         {
          "Counts": null,
          "Date": "1968-09-01T00:00:00",
          "Precip": 134.8,
          "dataset": "monsoon",
          "date_str": "1968-09-01",
          "month": 9,
          "quarter": 3,
          "year": "1968"
         },
         {
          "Counts": null,
          "Date": "1968-10-01T00:00:00",
          "Precip": 70.3,
          "dataset": "monsoon",
          "date_str": "1968-10-01",
          "month": 10,
          "quarter": 4,
          "year": "1968"
         },
         {
          "Counts": null,
          "Date": "1968-11-01T00:00:00",
          "Precip": 23.8,
          "dataset": "monsoon",
          "date_str": "1968-11-01",
          "month": 11,
          "quarter": 4,
          "year": "1968"
         },
         {
          "Counts": null,
          "Date": "1968-12-01T00:00:00",
          "Precip": 7,
          "dataset": "monsoon",
          "date_str": "1968-12-01",
          "month": 12,
          "quarter": 4,
          "year": "1968"
         },
         {
          "Counts": null,
          "Date": "1969-01-01T00:00:00",
          "Precip": 4,
          "dataset": "monsoon",
          "date_str": "1969-01-01",
          "month": 1,
          "quarter": 1,
          "year": "1969"
         },
         {
          "Counts": null,
          "Date": "1969-02-01T00:00:00",
          "Precip": 2.8,
          "dataset": "monsoon",
          "date_str": "1969-02-01",
          "month": 2,
          "quarter": 1,
          "year": "1969"
         },
         {
          "Counts": null,
          "Date": "1969-03-01T00:00:00",
          "Precip": 9.5,
          "dataset": "monsoon",
          "date_str": "1969-03-01",
          "month": 3,
          "quarter": 1,
          "year": "1969"
         },
         {
          "Counts": null,
          "Date": "1969-04-01T00:00:00",
          "Precip": 24.1,
          "dataset": "monsoon",
          "date_str": "1969-04-01",
          "month": 4,
          "quarter": 2,
          "year": "1969"
         },
         {
          "Counts": null,
          "Date": "1969-05-01T00:00:00",
          "Precip": 55.7,
          "dataset": "monsoon",
          "date_str": "1969-05-01",
          "month": 5,
          "quarter": 2,
          "year": "1969"
         },
         {
          "Counts": null,
          "Date": "1969-06-01T00:00:00",
          "Precip": 121,
          "dataset": "monsoon",
          "date_str": "1969-06-01",
          "month": 6,
          "quarter": 2,
          "year": "1969"
         },
         {
          "Counts": null,
          "Date": "1969-07-01T00:00:00",
          "Precip": 300.4,
          "dataset": "monsoon",
          "date_str": "1969-07-01",
          "month": 7,
          "quarter": 3,
          "year": "1969"
         },
         {
          "Counts": null,
          "Date": "1969-08-01T00:00:00",
          "Precip": 238.7,
          "dataset": "monsoon",
          "date_str": "1969-08-01",
          "month": 8,
          "quarter": 3,
          "year": "1969"
         },
         {
          "Counts": null,
          "Date": "1969-09-01T00:00:00",
          "Precip": 170.9,
          "dataset": "monsoon",
          "date_str": "1969-09-01",
          "month": 9,
          "quarter": 3,
          "year": "1969"
         },
         {
          "Counts": null,
          "Date": "1969-10-01T00:00:00",
          "Precip": 59.6,
          "dataset": "monsoon",
          "date_str": "1969-10-01",
          "month": 10,
          "quarter": 4,
          "year": "1969"
         },
         {
          "Counts": null,
          "Date": "1969-11-01T00:00:00",
          "Precip": 43.8,
          "dataset": "monsoon",
          "date_str": "1969-11-01",
          "month": 11,
          "quarter": 4,
          "year": "1969"
         },
         {
          "Counts": null,
          "Date": "1969-12-01T00:00:00",
          "Precip": 13.9,
          "dataset": "monsoon",
          "date_str": "1969-12-01",
          "month": 12,
          "quarter": 4,
          "year": "1969"
         },
         {
          "Counts": null,
          "Date": "1970-01-01T00:00:00",
          "Precip": 16.9,
          "dataset": "monsoon",
          "date_str": "1970-01-01",
          "month": 1,
          "quarter": 1,
          "year": "1970"
         },
         {
          "Counts": null,
          "Date": "1970-02-01T00:00:00",
          "Precip": 20.7,
          "dataset": "monsoon",
          "date_str": "1970-02-01",
          "month": 2,
          "quarter": 1,
          "year": "1970"
         },
         {
          "Counts": null,
          "Date": "1970-03-01T00:00:00",
          "Precip": 18.4,
          "dataset": "monsoon",
          "date_str": "1970-03-01",
          "month": 3,
          "quarter": 1,
          "year": "1970"
         },
         {
          "Counts": null,
          "Date": "1970-04-01T00:00:00",
          "Precip": 24,
          "dataset": "monsoon",
          "date_str": "1970-04-01",
          "month": 4,
          "quarter": 2,
          "year": "1970"
         },
         {
          "Counts": null,
          "Date": "1970-05-01T00:00:00",
          "Precip": 58,
          "dataset": "monsoon",
          "date_str": "1970-05-01",
          "month": 5,
          "quarter": 2,
          "year": "1970"
         },
         {
          "Counts": null,
          "Date": "1970-06-01T00:00:00",
          "Precip": 210.8,
          "dataset": "monsoon",
          "date_str": "1970-06-01",
          "month": 6,
          "quarter": 2,
          "year": "1970"
         },
         {
          "Counts": null,
          "Date": "1970-07-01T00:00:00",
          "Precip": 222.8,
          "dataset": "monsoon",
          "date_str": "1970-07-01",
          "month": 7,
          "quarter": 3,
          "year": "1970"
         },
         {
          "Counts": null,
          "Date": "1970-08-01T00:00:00",
          "Precip": 298.9,
          "dataset": "monsoon",
          "date_str": "1970-08-01",
          "month": 8,
          "quarter": 3,
          "year": "1970"
         },
         {
          "Counts": null,
          "Date": "1970-09-01T00:00:00",
          "Precip": 207.2,
          "dataset": "monsoon",
          "date_str": "1970-09-01",
          "month": 9,
          "quarter": 3,
          "year": "1970"
         },
         {
          "Counts": null,
          "Date": "1970-10-01T00:00:00",
          "Precip": 76.2,
          "dataset": "monsoon",
          "date_str": "1970-10-01",
          "month": 10,
          "quarter": 4,
          "year": "1970"
         },
         {
          "Counts": null,
          "Date": "1970-11-01T00:00:00",
          "Precip": 19.4,
          "dataset": "monsoon",
          "date_str": "1970-11-01",
          "month": 11,
          "quarter": 4,
          "year": "1970"
         },
         {
          "Counts": null,
          "Date": "1970-12-01T00:00:00",
          "Precip": 0.8,
          "dataset": "monsoon",
          "date_str": "1970-12-01",
          "month": 12,
          "quarter": 4,
          "year": "1970"
         },
         {
          "Counts": null,
          "Date": "1971-01-01T00:00:00",
          "Precip": 11.4,
          "dataset": "monsoon",
          "date_str": "1971-01-01",
          "month": 1,
          "quarter": 1,
          "year": "1971"
         },
         {
          "Counts": null,
          "Date": "1971-02-01T00:00:00",
          "Precip": 10.3,
          "dataset": "monsoon",
          "date_str": "1971-02-01",
          "month": 2,
          "quarter": 1,
          "year": "1971"
         },
         {
          "Counts": null,
          "Date": "1971-03-01T00:00:00",
          "Precip": 9.3,
          "dataset": "monsoon",
          "date_str": "1971-03-01",
          "month": 3,
          "quarter": 1,
          "year": "1971"
         },
         {
          "Counts": null,
          "Date": "1971-04-01T00:00:00",
          "Precip": 46,
          "dataset": "monsoon",
          "date_str": "1971-04-01",
          "month": 4,
          "quarter": 2,
          "year": "1971"
         },
         {
          "Counts": null,
          "Date": "1971-05-01T00:00:00",
          "Precip": 70.1,
          "dataset": "monsoon",
          "date_str": "1971-05-01",
          "month": 5,
          "quarter": 2,
          "year": "1971"
         },
         {
          "Counts": null,
          "Date": "1971-06-01T00:00:00",
          "Precip": 219.4,
          "dataset": "monsoon",
          "date_str": "1971-06-01",
          "month": 6,
          "quarter": 2,
          "year": "1971"
         },
         {
          "Counts": null,
          "Date": "1971-07-01T00:00:00",
          "Precip": 249.3,
          "dataset": "monsoon",
          "date_str": "1971-07-01",
          "month": 7,
          "quarter": 3,
          "year": "1971"
         },
         {
          "Counts": null,
          "Date": "1971-08-01T00:00:00",
          "Precip": 258.8,
          "dataset": "monsoon",
          "date_str": "1971-08-01",
          "month": 8,
          "quarter": 3,
          "year": "1971"
         },
         {
          "Counts": null,
          "Date": "1971-09-01T00:00:00",
          "Precip": 159.2,
          "dataset": "monsoon",
          "date_str": "1971-09-01",
          "month": 9,
          "quarter": 3,
          "year": "1971"
         },
         {
          "Counts": null,
          "Date": "1971-10-01T00:00:00",
          "Precip": 105.2,
          "dataset": "monsoon",
          "date_str": "1971-10-01",
          "month": 10,
          "quarter": 4,
          "year": "1971"
         },
         {
          "Counts": null,
          "Date": "1971-11-01T00:00:00",
          "Precip": 13.8,
          "dataset": "monsoon",
          "date_str": "1971-11-01",
          "month": 11,
          "quarter": 4,
          "year": "1971"
         },
         {
          "Counts": null,
          "Date": "1971-12-01T00:00:00",
          "Precip": 10,
          "dataset": "monsoon",
          "date_str": "1971-12-01",
          "month": 12,
          "quarter": 4,
          "year": "1971"
         },
         {
          "Counts": null,
          "Date": "1972-01-01T00:00:00",
          "Precip": 2.5,
          "dataset": "monsoon",
          "date_str": "1972-01-01",
          "month": 1,
          "quarter": 1,
          "year": "1972"
         },
         {
          "Counts": null,
          "Date": "1972-02-01T00:00:00",
          "Precip": 13.1,
          "dataset": "monsoon",
          "date_str": "1972-02-01",
          "month": 2,
          "quarter": 1,
          "year": "1972"
         },
         {
          "Counts": null,
          "Date": "1972-03-01T00:00:00",
          "Precip": 4.8,
          "dataset": "monsoon",
          "date_str": "1972-03-01",
          "month": 3,
          "quarter": 1,
          "year": "1972"
         },
         {
          "Counts": null,
          "Date": "1972-04-01T00:00:00",
          "Precip": 20.5,
          "dataset": "monsoon",
          "date_str": "1972-04-01",
          "month": 4,
          "quarter": 2,
          "year": "1972"
         },
         {
          "Counts": null,
          "Date": "1972-05-01T00:00:00",
          "Precip": 44.8,
          "dataset": "monsoon",
          "date_str": "1972-05-01",
          "month": 5,
          "quarter": 2,
          "year": "1972"
         },
         {
          "Counts": null,
          "Date": "1972-06-01T00:00:00",
          "Precip": 122.6,
          "dataset": "monsoon",
          "date_str": "1972-06-01",
          "month": 6,
          "quarter": 2,
          "year": "1972"
         },
         {
          "Counts": null,
          "Date": "1972-07-01T00:00:00",
          "Precip": 183.8,
          "dataset": "monsoon",
          "date_str": "1972-07-01",
          "month": 7,
          "quarter": 3,
          "year": "1972"
         },
         {
          "Counts": null,
          "Date": "1972-08-01T00:00:00",
          "Precip": 217.2,
          "dataset": "monsoon",
          "date_str": "1972-08-01",
          "month": 8,
          "quarter": 3,
          "year": "1972"
         },
         {
          "Counts": null,
          "Date": "1972-09-01T00:00:00",
          "Precip": 129.2,
          "dataset": "monsoon",
          "date_str": "1972-09-01",
          "month": 9,
          "quarter": 3,
          "year": "1972"
         },
         {
          "Counts": null,
          "Date": "1972-10-01T00:00:00",
          "Precip": 63.3,
          "dataset": "monsoon",
          "date_str": "1972-10-01",
          "month": 10,
          "quarter": 4,
          "year": "1972"
         },
         {
          "Counts": null,
          "Date": "1972-11-01T00:00:00",
          "Precip": 30.8,
          "dataset": "monsoon",
          "date_str": "1972-11-01",
          "month": 11,
          "quarter": 4,
          "year": "1972"
         },
         {
          "Counts": null,
          "Date": "1972-12-01T00:00:00",
          "Precip": 16,
          "dataset": "monsoon",
          "date_str": "1972-12-01",
          "month": 12,
          "quarter": 4,
          "year": "1972"
         },
         {
          "Counts": null,
          "Date": "1973-01-01T00:00:00",
          "Precip": 4.6,
          "dataset": "monsoon",
          "date_str": "1973-01-01",
          "month": 1,
          "quarter": 1,
          "year": "1973"
         },
         {
          "Counts": null,
          "Date": "1973-02-01T00:00:00",
          "Precip": 11.9,
          "dataset": "monsoon",
          "date_str": "1973-02-01",
          "month": 2,
          "quarter": 1,
          "year": "1973"
         },
         {
          "Counts": null,
          "Date": "1973-03-01T00:00:00",
          "Precip": 7.8,
          "dataset": "monsoon",
          "date_str": "1973-03-01",
          "month": 3,
          "quarter": 1,
          "year": "1973"
         },
         {
          "Counts": null,
          "Date": "1973-04-01T00:00:00",
          "Precip": 19.5,
          "dataset": "monsoon",
          "date_str": "1973-04-01",
          "month": 4,
          "quarter": 2,
          "year": "1973"
         },
         {
          "Counts": null,
          "Date": "1973-05-01T00:00:00",
          "Precip": 48.8,
          "dataset": "monsoon",
          "date_str": "1973-05-01",
          "month": 5,
          "quarter": 2,
          "year": "1973"
         },
         {
          "Counts": null,
          "Date": "1973-06-01T00:00:00",
          "Precip": 141.2,
          "dataset": "monsoon",
          "date_str": "1973-06-01",
          "month": 6,
          "quarter": 2,
          "year": "1973"
         },
         {
          "Counts": null,
          "Date": "1973-07-01T00:00:00",
          "Precip": 278.6,
          "dataset": "monsoon",
          "date_str": "1973-07-01",
          "month": 7,
          "quarter": 3,
          "year": "1973"
         },
         {
          "Counts": null,
          "Date": "1973-08-01T00:00:00",
          "Precip": 307.4,
          "dataset": "monsoon",
          "date_str": "1973-08-01",
          "month": 8,
          "quarter": 3,
          "year": "1973"
         },
         {
          "Counts": null,
          "Date": "1973-09-01T00:00:00",
          "Precip": 186,
          "dataset": "monsoon",
          "date_str": "1973-09-01",
          "month": 9,
          "quarter": 3,
          "year": "1973"
         },
         {
          "Counts": null,
          "Date": "1973-10-01T00:00:00",
          "Precip": 125.9,
          "dataset": "monsoon",
          "date_str": "1973-10-01",
          "month": 10,
          "quarter": 4,
          "year": "1973"
         },
         {
          "Counts": null,
          "Date": "1973-11-01T00:00:00",
          "Precip": 19.6,
          "dataset": "monsoon",
          "date_str": "1973-11-01",
          "month": 11,
          "quarter": 4,
          "year": "1973"
         },
         {
          "Counts": null,
          "Date": "1973-12-01T00:00:00",
          "Precip": 17.8,
          "dataset": "monsoon",
          "date_str": "1973-12-01",
          "month": 12,
          "quarter": 4,
          "year": "1973"
         },
         {
          "Counts": null,
          "Date": "1974-01-01T00:00:00",
          "Precip": 1.9,
          "dataset": "monsoon",
          "date_str": "1974-01-01",
          "month": 1,
          "quarter": 1,
          "year": "1974"
         },
         {
          "Counts": null,
          "Date": "1974-02-01T00:00:00",
          "Precip": 3.8,
          "dataset": "monsoon",
          "date_str": "1974-02-01",
          "month": 2,
          "quarter": 1,
          "year": "1974"
         },
         {
          "Counts": null,
          "Date": "1974-03-01T00:00:00",
          "Precip": 13.9,
          "dataset": "monsoon",
          "date_str": "1974-03-01",
          "month": 3,
          "quarter": 1,
          "year": "1974"
         },
         {
          "Counts": null,
          "Date": "1974-04-01T00:00:00",
          "Precip": 22.2,
          "dataset": "monsoon",
          "date_str": "1974-04-01",
          "month": 4,
          "quarter": 2,
          "year": "1974"
         },
         {
          "Counts": null,
          "Date": "1974-05-01T00:00:00",
          "Precip": 60.6,
          "dataset": "monsoon",
          "date_str": "1974-05-01",
          "month": 5,
          "quarter": 2,
          "year": "1974"
         },
         {
          "Counts": null,
          "Date": "1974-06-01T00:00:00",
          "Precip": 105.9,
          "dataset": "monsoon",
          "date_str": "1974-06-01",
          "month": 6,
          "quarter": 2,
          "year": "1974"
         },
         {
          "Counts": null,
          "Date": "1974-07-01T00:00:00",
          "Precip": 273.6,
          "dataset": "monsoon",
          "date_str": "1974-07-01",
          "month": 7,
          "quarter": 3,
          "year": "1974"
         },
         {
          "Counts": null,
          "Date": "1974-08-01T00:00:00",
          "Precip": 228.1,
          "dataset": "monsoon",
          "date_str": "1974-08-01",
          "month": 8,
          "quarter": 3,
          "year": "1974"
         },
         {
          "Counts": null,
          "Date": "1974-09-01T00:00:00",
          "Precip": 140.3,
          "dataset": "monsoon",
          "date_str": "1974-09-01",
          "month": 9,
          "quarter": 3,
          "year": "1974"
         },
         {
          "Counts": null,
          "Date": "1974-10-01T00:00:00",
          "Precip": 106.5,
          "dataset": "monsoon",
          "date_str": "1974-10-01",
          "month": 10,
          "quarter": 4,
          "year": "1974"
         },
         {
          "Counts": null,
          "Date": "1974-11-01T00:00:00",
          "Precip": 11.9,
          "dataset": "monsoon",
          "date_str": "1974-11-01",
          "month": 11,
          "quarter": 4,
          "year": "1974"
         },
         {
          "Counts": null,
          "Date": "1974-12-01T00:00:00",
          "Precip": 4.2,
          "dataset": "monsoon",
          "date_str": "1974-12-01",
          "month": 12,
          "quarter": 4,
          "year": "1974"
         },
         {
          "Counts": null,
          "Date": "1975-01-01T00:00:00",
          "Precip": 6.7,
          "dataset": "monsoon",
          "date_str": "1975-01-01",
          "month": 1,
          "quarter": 1,
          "year": "1975"
         },
         {
          "Counts": null,
          "Date": "1975-02-01T00:00:00",
          "Precip": 9.5,
          "dataset": "monsoon",
          "date_str": "1975-02-01",
          "month": 2,
          "quarter": 1,
          "year": "1975"
         },
         {
          "Counts": null,
          "Date": "1975-03-01T00:00:00",
          "Precip": 13.7,
          "dataset": "monsoon",
          "date_str": "1975-03-01",
          "month": 3,
          "quarter": 1,
          "year": "1975"
         },
         {
          "Counts": null,
          "Date": "1975-04-01T00:00:00",
          "Precip": 16.4,
          "dataset": "monsoon",
          "date_str": "1975-04-01",
          "month": 4,
          "quarter": 2,
          "year": "1975"
         },
         {
          "Counts": null,
          "Date": "1975-05-01T00:00:00",
          "Precip": 40.5,
          "dataset": "monsoon",
          "date_str": "1975-05-01",
          "month": 5,
          "quarter": 2,
          "year": "1975"
         },
         {
          "Counts": null,
          "Date": "1975-06-01T00:00:00",
          "Precip": 180.1,
          "dataset": "monsoon",
          "date_str": "1975-06-01",
          "month": 6,
          "quarter": 2,
          "year": "1975"
         },
         {
          "Counts": null,
          "Date": "1975-07-01T00:00:00",
          "Precip": 290,
          "dataset": "monsoon",
          "date_str": "1975-07-01",
          "month": 7,
          "quarter": 3,
          "year": "1975"
         },
         {
          "Counts": null,
          "Date": "1975-08-01T00:00:00",
          "Precip": 264.6,
          "dataset": "monsoon",
          "date_str": "1975-08-01",
          "month": 8,
          "quarter": 3,
          "year": "1975"
         },
         {
          "Counts": null,
          "Date": "1975-09-01T00:00:00",
          "Precip": 227.8,
          "dataset": "monsoon",
          "date_str": "1975-09-01",
          "month": 9,
          "quarter": 3,
          "year": "1975"
         },
         {
          "Counts": null,
          "Date": "1975-10-01T00:00:00",
          "Precip": 121.7,
          "dataset": "monsoon",
          "date_str": "1975-10-01",
          "month": 10,
          "quarter": 4,
          "year": "1975"
         },
         {
          "Counts": null,
          "Date": "1975-11-01T00:00:00",
          "Precip": 25,
          "dataset": "monsoon",
          "date_str": "1975-11-01",
          "month": 11,
          "quarter": 4,
          "year": "1975"
         },
         {
          "Counts": null,
          "Date": "1975-12-01T00:00:00",
          "Precip": 2.7,
          "dataset": "monsoon",
          "date_str": "1975-12-01",
          "month": 12,
          "quarter": 4,
          "year": "1975"
         },
         {
          "Counts": null,
          "Date": "1976-01-01T00:00:00",
          "Precip": 4.7,
          "dataset": "monsoon",
          "date_str": "1976-01-01",
          "month": 1,
          "quarter": 1,
          "year": "1976"
         },
         {
          "Counts": null,
          "Date": "1976-02-01T00:00:00",
          "Precip": 8.1,
          "dataset": "monsoon",
          "date_str": "1976-02-01",
          "month": 2,
          "quarter": 1,
          "year": "1976"
         },
         {
          "Counts": null,
          "Date": "1976-03-01T00:00:00",
          "Precip": 12.5,
          "dataset": "monsoon",
          "date_str": "1976-03-01",
          "month": 3,
          "quarter": 1,
          "year": "1976"
         },
         {
          "Counts": null,
          "Date": "1976-04-01T00:00:00",
          "Precip": 29.8,
          "dataset": "monsoon",
          "date_str": "1976-04-01",
          "month": 4,
          "quarter": 2,
          "year": "1976"
         },
         {
          "Counts": null,
          "Date": "1976-05-01T00:00:00",
          "Precip": 36.7,
          "dataset": "monsoon",
          "date_str": "1976-05-01",
          "month": 5,
          "quarter": 2,
          "year": "1976"
         },
         {
          "Counts": null,
          "Date": "1976-06-01T00:00:00",
          "Precip": 141.8,
          "dataset": "monsoon",
          "date_str": "1976-06-01",
          "month": 6,
          "quarter": 2,
          "year": "1976"
         },
         {
          "Counts": null,
          "Date": "1976-07-01T00:00:00",
          "Precip": 288.1,
          "dataset": "monsoon",
          "date_str": "1976-07-01",
          "month": 7,
          "quarter": 3,
          "year": "1976"
         },
         {
          "Counts": null,
          "Date": "1976-08-01T00:00:00",
          "Precip": 278.6,
          "dataset": "monsoon",
          "date_str": "1976-08-01",
          "month": 8,
          "quarter": 3,
          "year": "1976"
         },
         {
          "Counts": null,
          "Date": "1976-09-01T00:00:00",
          "Precip": 148.1,
          "dataset": "monsoon",
          "date_str": "1976-09-01",
          "month": 9,
          "quarter": 3,
          "year": "1976"
         },
         {
          "Counts": null,
          "Date": "1976-10-01T00:00:00",
          "Precip": 31.9,
          "dataset": "monsoon",
          "date_str": "1976-10-01",
          "month": 10,
          "quarter": 4,
          "year": "1976"
         },
         {
          "Counts": null,
          "Date": "1976-11-01T00:00:00",
          "Precip": 61.6,
          "dataset": "monsoon",
          "date_str": "1976-11-01",
          "month": 11,
          "quarter": 4,
          "year": "1976"
         },
         {
          "Counts": null,
          "Date": "1976-12-01T00:00:00",
          "Precip": 4,
          "dataset": "monsoon",
          "date_str": "1976-12-01",
          "month": 12,
          "quarter": 4,
          "year": "1976"
         },
         {
          "Counts": null,
          "Date": "1977-01-01T00:00:00",
          "Precip": 7,
          "dataset": "monsoon",
          "date_str": "1977-01-01",
          "month": 1,
          "quarter": 1,
          "year": "1977"
         },
         {
          "Counts": null,
          "Date": "1977-02-01T00:00:00",
          "Precip": 5.7,
          "dataset": "monsoon",
          "date_str": "1977-02-01",
          "month": 2,
          "quarter": 1,
          "year": "1977"
         },
         {
          "Counts": null,
          "Date": "1977-03-01T00:00:00",
          "Precip": 8.4,
          "dataset": "monsoon",
          "date_str": "1977-03-01",
          "month": 3,
          "quarter": 1,
          "year": "1977"
         },
         {
          "Counts": null,
          "Date": "1977-04-01T00:00:00",
          "Precip": 48.9,
          "dataset": "monsoon",
          "date_str": "1977-04-01",
          "month": 4,
          "quarter": 2,
          "year": "1977"
         },
         {
          "Counts": null,
          "Date": "1977-05-01T00:00:00",
          "Precip": 71.9,
          "dataset": "monsoon",
          "date_str": "1977-05-01",
          "month": 5,
          "quarter": 2,
          "year": "1977"
         },
         {
          "Counts": null,
          "Date": "1977-06-01T00:00:00",
          "Precip": 188.3,
          "dataset": "monsoon",
          "date_str": "1977-06-01",
          "month": 6,
          "quarter": 2,
          "year": "1977"
         },
         {
          "Counts": null,
          "Date": "1977-07-01T00:00:00",
          "Precip": 310.6,
          "dataset": "monsoon",
          "date_str": "1977-07-01",
          "month": 7,
          "quarter": 3,
          "year": "1977"
         },
         {
          "Counts": null,
          "Date": "1977-08-01T00:00:00",
          "Precip": 239.4,
          "dataset": "monsoon",
          "date_str": "1977-08-01",
          "month": 8,
          "quarter": 3,
          "year": "1977"
         },
         {
          "Counts": null,
          "Date": "1977-09-01T00:00:00",
          "Precip": 144.7,
          "dataset": "monsoon",
          "date_str": "1977-09-01",
          "month": 9,
          "quarter": 3,
          "year": "1977"
         },
         {
          "Counts": null,
          "Date": "1977-10-01T00:00:00",
          "Precip": 89.3,
          "dataset": "monsoon",
          "date_str": "1977-10-01",
          "month": 10,
          "quarter": 4,
          "year": "1977"
         },
         {
          "Counts": null,
          "Date": "1977-11-01T00:00:00",
          "Precip": 71.4,
          "dataset": "monsoon",
          "date_str": "1977-11-01",
          "month": 11,
          "quarter": 4,
          "year": "1977"
         },
         {
          "Counts": null,
          "Date": "1977-12-01T00:00:00",
          "Precip": 8.5,
          "dataset": "monsoon",
          "date_str": "1977-12-01",
          "month": 12,
          "quarter": 4,
          "year": "1977"
         },
         {
          "Counts": null,
          "Date": "1978-01-01T00:00:00",
          "Precip": 7.3,
          "dataset": "monsoon",
          "date_str": "1978-01-01",
          "month": 1,
          "quarter": 1,
          "year": "1978"
         },
         {
          "Counts": null,
          "Date": "1978-02-01T00:00:00",
          "Precip": 21.6,
          "dataset": "monsoon",
          "date_str": "1978-02-01",
          "month": 2,
          "quarter": 1,
          "year": "1978"
         },
         {
          "Counts": null,
          "Date": "1978-03-01T00:00:00",
          "Precip": 19.5,
          "dataset": "monsoon",
          "date_str": "1978-03-01",
          "month": 3,
          "quarter": 1,
          "year": "1978"
         },
         {
          "Counts": null,
          "Date": "1978-04-01T00:00:00",
          "Precip": 23.3,
          "dataset": "monsoon",
          "date_str": "1978-04-01",
          "month": 4,
          "quarter": 2,
          "year": "1978"
         },
         {
          "Counts": null,
          "Date": "1978-05-01T00:00:00",
          "Precip": 50.3,
          "dataset": "monsoon",
          "date_str": "1978-05-01",
          "month": 5,
          "quarter": 2,
          "year": "1978"
         },
         {
          "Counts": null,
          "Date": "1978-06-01T00:00:00",
          "Precip": 199.6,
          "dataset": "monsoon",
          "date_str": "1978-06-01",
          "month": 6,
          "quarter": 2,
          "year": "1978"
         },
         {
          "Counts": null,
          "Date": "1978-07-01T00:00:00",
          "Precip": 276,
          "dataset": "monsoon",
          "date_str": "1978-07-01",
          "month": 7,
          "quarter": 3,
          "year": "1978"
         },
         {
          "Counts": null,
          "Date": "1978-08-01T00:00:00",
          "Precip": 273.5,
          "dataset": "monsoon",
          "date_str": "1978-08-01",
          "month": 8,
          "quarter": 3,
          "year": "1978"
         },
         {
          "Counts": null,
          "Date": "1978-09-01T00:00:00",
          "Precip": 160.1,
          "dataset": "monsoon",
          "date_str": "1978-09-01",
          "month": 9,
          "quarter": 3,
          "year": "1978"
         },
         {
          "Counts": null,
          "Date": "1978-10-01T00:00:00",
          "Precip": 55.1,
          "dataset": "monsoon",
          "date_str": "1978-10-01",
          "month": 10,
          "quarter": 4,
          "year": "1978"
         },
         {
          "Counts": null,
          "Date": "1978-11-01T00:00:00",
          "Precip": 44.1,
          "dataset": "monsoon",
          "date_str": "1978-11-01",
          "month": 11,
          "quarter": 4,
          "year": "1978"
         },
         {
          "Counts": null,
          "Date": "1978-12-01T00:00:00",
          "Precip": 23,
          "dataset": "monsoon",
          "date_str": "1978-12-01",
          "month": 12,
          "quarter": 4,
          "year": "1978"
         },
         {
          "Counts": null,
          "Date": "1979-01-01T00:00:00",
          "Precip": 14.6,
          "dataset": "monsoon",
          "date_str": "1979-01-01",
          "month": 1,
          "quarter": 1,
          "year": "1979"
         },
         {
          "Counts": null,
          "Date": "1979-02-01T00:00:00",
          "Precip": 27.2,
          "dataset": "monsoon",
          "date_str": "1979-02-01",
          "month": 2,
          "quarter": 1,
          "year": "1979"
         },
         {
          "Counts": null,
          "Date": "1979-03-01T00:00:00",
          "Precip": 9.9,
          "dataset": "monsoon",
          "date_str": "1979-03-01",
          "month": 3,
          "quarter": 1,
          "year": "1979"
         },
         {
          "Counts": null,
          "Date": "1979-04-01T00:00:00",
          "Precip": 15.7,
          "dataset": "monsoon",
          "date_str": "1979-04-01",
          "month": 4,
          "quarter": 2,
          "year": "1979"
         },
         {
          "Counts": null,
          "Date": "1979-05-01T00:00:00",
          "Precip": 40.5,
          "dataset": "monsoon",
          "date_str": "1979-05-01",
          "month": 5,
          "quarter": 2,
          "year": "1979"
         },
         {
          "Counts": null,
          "Date": "1979-06-01T00:00:00",
          "Precip": 143.4,
          "dataset": "monsoon",
          "date_str": "1979-06-01",
          "month": 6,
          "quarter": 2,
          "year": "1979"
         },
         {
          "Counts": null,
          "Date": "1979-07-01T00:00:00",
          "Precip": 225.8,
          "dataset": "monsoon",
          "date_str": "1979-07-01",
          "month": 7,
          "quarter": 3,
          "year": "1979"
         },
         {
          "Counts": null,
          "Date": "1979-08-01T00:00:00",
          "Precip": 199,
          "dataset": "monsoon",
          "date_str": "1979-08-01",
          "month": 8,
          "quarter": 3,
          "year": "1979"
         },
         {
          "Counts": null,
          "Date": "1979-09-01T00:00:00",
          "Precip": 139.5,
          "dataset": "monsoon",
          "date_str": "1979-09-01",
          "month": 9,
          "quarter": 3,
          "year": "1979"
         },
         {
          "Counts": null,
          "Date": "1979-10-01T00:00:00",
          "Precip": 46.1,
          "dataset": "monsoon",
          "date_str": "1979-10-01",
          "month": 10,
          "quarter": 4,
          "year": "1979"
         },
         {
          "Counts": null,
          "Date": "1979-11-01T00:00:00",
          "Precip": 88.3,
          "dataset": "monsoon",
          "date_str": "1979-11-01",
          "month": 11,
          "quarter": 4,
          "year": "1979"
         },
         {
          "Counts": null,
          "Date": "1979-12-01T00:00:00",
          "Precip": 12,
          "dataset": "monsoon",
          "date_str": "1979-12-01",
          "month": 12,
          "quarter": 4,
          "year": "1979"
         },
         {
          "Counts": null,
          "Date": "1980-01-01T00:00:00",
          "Precip": 4.4,
          "dataset": "monsoon",
          "date_str": "1980-01-01",
          "month": 1,
          "quarter": 1,
          "year": "1980"
         },
         {
          "Counts": null,
          "Date": "1980-02-01T00:00:00",
          "Precip": 5.3,
          "dataset": "monsoon",
          "date_str": "1980-02-01",
          "month": 2,
          "quarter": 1,
          "year": "1980"
         },
         {
          "Counts": null,
          "Date": "1980-03-01T00:00:00",
          "Precip": 16.9,
          "dataset": "monsoon",
          "date_str": "1980-03-01",
          "month": 3,
          "quarter": 1,
          "year": "1980"
         },
         {
          "Counts": null,
          "Date": "1980-04-01T00:00:00",
          "Precip": 24.5,
          "dataset": "monsoon",
          "date_str": "1980-04-01",
          "month": 4,
          "quarter": 2,
          "year": "1980"
         },
         {
          "Counts": null,
          "Date": "1980-05-01T00:00:00",
          "Precip": 44,
          "dataset": "monsoon",
          "date_str": "1980-05-01",
          "month": 5,
          "quarter": 2,
          "year": "1980"
         },
         {
          "Counts": null,
          "Date": "1980-06-01T00:00:00",
          "Precip": 215,
          "dataset": "monsoon",
          "date_str": "1980-06-01",
          "month": 6,
          "quarter": 2,
          "year": "1980"
         },
         {
          "Counts": null,
          "Date": "1980-07-01T00:00:00",
          "Precip": 278.2,
          "dataset": "monsoon",
          "date_str": "1980-07-01",
          "month": 7,
          "quarter": 3,
          "year": "1980"
         },
         {
          "Counts": null,
          "Date": "1980-08-01T00:00:00",
          "Precip": 253.4,
          "dataset": "monsoon",
          "date_str": "1980-08-01",
          "month": 8,
          "quarter": 3,
          "year": "1980"
         },
         {
          "Counts": null,
          "Date": "1980-09-01T00:00:00",
          "Precip": 136,
          "dataset": "monsoon",
          "date_str": "1980-09-01",
          "month": 9,
          "quarter": 3,
          "year": "1980"
         },
         {
          "Counts": null,
          "Date": "1980-10-01T00:00:00",
          "Precip": 51.8,
          "dataset": "monsoon",
          "date_str": "1980-10-01",
          "month": 10,
          "quarter": 4,
          "year": "1980"
         },
         {
          "Counts": null,
          "Date": "1980-11-01T00:00:00",
          "Precip": 24.2,
          "dataset": "monsoon",
          "date_str": "1980-11-01",
          "month": 11,
          "quarter": 4,
          "year": "1980"
         },
         {
          "Counts": null,
          "Date": "1980-12-01T00:00:00",
          "Precip": 17.8,
          "dataset": "monsoon",
          "date_str": "1980-12-01",
          "month": 12,
          "quarter": 4,
          "year": "1980"
         },
         {
          "Counts": null,
          "Date": "1981-01-01T00:00:00",
          "Precip": 16.3,
          "dataset": "monsoon",
          "date_str": "1981-01-01",
          "month": 1,
          "quarter": 1,
          "year": "1981"
         },
         {
          "Counts": null,
          "Date": "1981-02-01T00:00:00",
          "Precip": 7.3,
          "dataset": "monsoon",
          "date_str": "1981-02-01",
          "month": 2,
          "quarter": 1,
          "year": "1981"
         },
         {
          "Counts": null,
          "Date": "1981-03-01T00:00:00",
          "Precip": 24.7,
          "dataset": "monsoon",
          "date_str": "1981-03-01",
          "month": 3,
          "quarter": 1,
          "year": "1981"
         },
         {
          "Counts": null,
          "Date": "1981-04-01T00:00:00",
          "Precip": 27.5,
          "dataset": "monsoon",
          "date_str": "1981-04-01",
          "month": 4,
          "quarter": 2,
          "year": "1981"
         },
         {
          "Counts": null,
          "Date": "1981-05-01T00:00:00",
          "Precip": 58.3,
          "dataset": "monsoon",
          "date_str": "1981-05-01",
          "month": 5,
          "quarter": 2,
          "year": "1981"
         },
         {
          "Counts": null,
          "Date": "1981-06-01T00:00:00",
          "Precip": 138.6,
          "dataset": "monsoon",
          "date_str": "1981-06-01",
          "month": 6,
          "quarter": 2,
          "year": "1981"
         },
         {
          "Counts": null,
          "Date": "1981-07-01T00:00:00",
          "Precip": 288.9,
          "dataset": "monsoon",
          "date_str": "1981-07-01",
          "month": 7,
          "quarter": 3,
          "year": "1981"
         },
         {
          "Counts": null,
          "Date": "1981-08-01T00:00:00",
          "Precip": 226.3,
          "dataset": "monsoon",
          "date_str": "1981-08-01",
          "month": 8,
          "quarter": 3,
          "year": "1981"
         },
         {
          "Counts": null,
          "Date": "1981-09-01T00:00:00",
          "Precip": 198.3,
          "dataset": "monsoon",
          "date_str": "1981-09-01",
          "month": 9,
          "quarter": 3,
          "year": "1981"
         },
         {
          "Counts": null,
          "Date": "1981-10-01T00:00:00",
          "Precip": 50.9,
          "dataset": "monsoon",
          "date_str": "1981-10-01",
          "month": 10,
          "quarter": 4,
          "year": "1981"
         },
         {
          "Counts": null,
          "Date": "1981-11-01T00:00:00",
          "Precip": 29.2,
          "dataset": "monsoon",
          "date_str": "1981-11-01",
          "month": 11,
          "quarter": 4,
          "year": "1981"
         },
         {
          "Counts": null,
          "Date": "1981-12-01T00:00:00",
          "Precip": 12.8,
          "dataset": "monsoon",
          "date_str": "1981-12-01",
          "month": 12,
          "quarter": 4,
          "year": "1981"
         },
         {
          "Counts": null,
          "Date": "1982-01-01T00:00:00",
          "Precip": 16.7,
          "dataset": "monsoon",
          "date_str": "1982-01-01",
          "month": 1,
          "quarter": 1,
          "year": "1982"
         },
         {
          "Counts": null,
          "Date": "1982-02-01T00:00:00",
          "Precip": 11,
          "dataset": "monsoon",
          "date_str": "1982-02-01",
          "month": 2,
          "quarter": 1,
          "year": "1982"
         },
         {
          "Counts": null,
          "Date": "1982-03-01T00:00:00",
          "Precip": 24.9,
          "dataset": "monsoon",
          "date_str": "1982-03-01",
          "month": 3,
          "quarter": 1,
          "year": "1982"
         },
         {
          "Counts": null,
          "Date": "1982-04-01T00:00:00",
          "Precip": 36.5,
          "dataset": "monsoon",
          "date_str": "1982-04-01",
          "month": 4,
          "quarter": 2,
          "year": "1982"
         },
         {
          "Counts": null,
          "Date": "1982-05-01T00:00:00",
          "Precip": 50.4,
          "dataset": "monsoon",
          "date_str": "1982-05-01",
          "month": 5,
          "quarter": 2,
          "year": "1982"
         },
         {
          "Counts": null,
          "Date": "1982-06-01T00:00:00",
          "Precip": 129.6,
          "dataset": "monsoon",
          "date_str": "1982-06-01",
          "month": 6,
          "quarter": 2,
          "year": "1982"
         },
         {
          "Counts": null,
          "Date": "1982-07-01T00:00:00",
          "Precip": 216.2,
          "dataset": "monsoon",
          "date_str": "1982-07-01",
          "month": 7,
          "quarter": 3,
          "year": "1982"
         },
         {
          "Counts": null,
          "Date": "1982-08-01T00:00:00",
          "Precip": 268.4,
          "dataset": "monsoon",
          "date_str": "1982-08-01",
          "month": 8,
          "quarter": 3,
          "year": "1982"
         },
         {
          "Counts": null,
          "Date": "1982-09-01T00:00:00",
          "Precip": 120.9,
          "dataset": "monsoon",
          "date_str": "1982-09-01",
          "month": 9,
          "quarter": 3,
          "year": "1982"
         },
         {
          "Counts": null,
          "Date": "1982-10-01T00:00:00",
          "Precip": 48.7,
          "dataset": "monsoon",
          "date_str": "1982-10-01",
          "month": 10,
          "quarter": 4,
          "year": "1982"
         },
         {
          "Counts": null,
          "Date": "1982-11-01T00:00:00",
          "Precip": 50.4,
          "dataset": "monsoon",
          "date_str": "1982-11-01",
          "month": 11,
          "quarter": 4,
          "year": "1982"
         },
         {
          "Counts": null,
          "Date": "1982-12-01T00:00:00",
          "Precip": 5.6,
          "dataset": "monsoon",
          "date_str": "1982-12-01",
          "month": 12,
          "quarter": 4,
          "year": "1982"
         },
         {
          "Counts": null,
          "Date": "1983-01-01T00:00:00",
          "Precip": 7.3,
          "dataset": "monsoon",
          "date_str": "1983-01-01",
          "month": 1,
          "quarter": 1,
          "year": "1983"
         },
         {
          "Counts": null,
          "Date": "1983-02-01T00:00:00",
          "Precip": 10.6,
          "dataset": "monsoon",
          "date_str": "1983-02-01",
          "month": 2,
          "quarter": 1,
          "year": "1983"
         },
         {
          "Counts": null,
          "Date": "1983-03-01T00:00:00",
          "Precip": 12.6,
          "dataset": "monsoon",
          "date_str": "1983-03-01",
          "month": 3,
          "quarter": 1,
          "year": "1983"
         },
         {
          "Counts": null,
          "Date": "1983-04-01T00:00:00",
          "Precip": 35.3,
          "dataset": "monsoon",
          "date_str": "1983-04-01",
          "month": 4,
          "quarter": 2,
          "year": "1983"
         },
         {
          "Counts": null,
          "Date": "1983-05-01T00:00:00",
          "Precip": 54.9,
          "dataset": "monsoon",
          "date_str": "1983-05-01",
          "month": 5,
          "quarter": 2,
          "year": "1983"
         },
         {
          "Counts": null,
          "Date": "1983-06-01T00:00:00",
          "Precip": 137.8,
          "dataset": "monsoon",
          "date_str": "1983-06-01",
          "month": 6,
          "quarter": 2,
          "year": "1983"
         },
         {
          "Counts": null,
          "Date": "1983-07-01T00:00:00",
          "Precip": 273.7,
          "dataset": "monsoon",
          "date_str": "1983-07-01",
          "month": 7,
          "quarter": 3,
          "year": "1983"
         },
         {
          "Counts": null,
          "Date": "1983-08-01T00:00:00",
          "Precip": 293.4,
          "dataset": "monsoon",
          "date_str": "1983-08-01",
          "month": 8,
          "quarter": 3,
          "year": "1983"
         },
         {
          "Counts": null,
          "Date": "1983-09-01T00:00:00",
          "Precip": 250.7,
          "dataset": "monsoon",
          "date_str": "1983-09-01",
          "month": 9,
          "quarter": 3,
          "year": "1983"
         },
         {
          "Counts": null,
          "Date": "1983-10-01T00:00:00",
          "Precip": 89.9,
          "dataset": "monsoon",
          "date_str": "1983-10-01",
          "month": 10,
          "quarter": 4,
          "year": "1983"
         },
         {
          "Counts": null,
          "Date": "1983-11-01T00:00:00",
          "Precip": 12.2,
          "dataset": "monsoon",
          "date_str": "1983-11-01",
          "month": 11,
          "quarter": 4,
          "year": "1983"
         },
         {
          "Counts": null,
          "Date": "1983-12-01T00:00:00",
          "Precip": 26.2,
          "dataset": "monsoon",
          "date_str": "1983-12-01",
          "month": 12,
          "quarter": 4,
          "year": "1983"
         },
         {
          "Counts": null,
          "Date": "1984-01-01T00:00:00",
          "Precip": 16.1,
          "dataset": "monsoon",
          "date_str": "1984-01-01",
          "month": 1,
          "quarter": 1,
          "year": "1984"
         },
         {
          "Counts": null,
          "Date": "1984-02-01T00:00:00",
          "Precip": 26.6,
          "dataset": "monsoon",
          "date_str": "1984-02-01",
          "month": 2,
          "quarter": 1,
          "year": "1984"
         },
         {
          "Counts": null,
          "Date": "1984-03-01T00:00:00",
          "Precip": 12.2,
          "dataset": "monsoon",
          "date_str": "1984-03-01",
          "month": 3,
          "quarter": 1,
          "year": "1984"
         },
         {
          "Counts": null,
          "Date": "1984-04-01T00:00:00",
          "Precip": 27.9,
          "dataset": "monsoon",
          "date_str": "1984-04-01",
          "month": 4,
          "quarter": 2,
          "year": "1984"
         },
         {
          "Counts": null,
          "Date": "1984-05-01T00:00:00",
          "Precip": 39,
          "dataset": "monsoon",
          "date_str": "1984-05-01",
          "month": 5,
          "quarter": 2,
          "year": "1984"
         },
         {
          "Counts": null,
          "Date": "1984-06-01T00:00:00",
          "Precip": 173.8,
          "dataset": "monsoon",
          "date_str": "1984-06-01",
          "month": 6,
          "quarter": 2,
          "year": "1984"
         },
         {
          "Counts": null,
          "Date": "1984-07-01T00:00:00",
          "Precip": 261.2,
          "dataset": "monsoon",
          "date_str": "1984-07-01",
          "month": 7,
          "quarter": 3,
          "year": "1984"
         },
         {
          "Counts": null,
          "Date": "1984-08-01T00:00:00",
          "Precip": 259.1,
          "dataset": "monsoon",
          "date_str": "1984-08-01",
          "month": 8,
          "quarter": 3,
          "year": "1984"
         },
         {
          "Counts": null,
          "Date": "1984-09-01T00:00:00",
          "Precip": 142.4,
          "dataset": "monsoon",
          "date_str": "1984-09-01",
          "month": 9,
          "quarter": 3,
          "year": "1984"
         },
         {
          "Counts": null,
          "Date": "1984-10-01T00:00:00",
          "Precip": 60.1,
          "dataset": "monsoon",
          "date_str": "1984-10-01",
          "month": 10,
          "quarter": 4,
          "year": "1984"
         },
         {
          "Counts": null,
          "Date": "1984-11-01T00:00:00",
          "Precip": 13.2,
          "dataset": "monsoon",
          "date_str": "1984-11-01",
          "month": 11,
          "quarter": 4,
          "year": "1984"
         },
         {
          "Counts": null,
          "Date": "1984-12-01T00:00:00",
          "Precip": 7.8,
          "dataset": "monsoon",
          "date_str": "1984-12-01",
          "month": 12,
          "quarter": 4,
          "year": "1984"
         },
         {
          "Counts": null,
          "Date": "1985-01-01T00:00:00",
          "Precip": 17.1,
          "dataset": "monsoon",
          "date_str": "1985-01-01",
          "month": 1,
          "quarter": 1,
          "year": "1985"
         },
         {
          "Counts": null,
          "Date": "1985-02-01T00:00:00",
          "Precip": 6.9,
          "dataset": "monsoon",
          "date_str": "1985-02-01",
          "month": 2,
          "quarter": 1,
          "year": "1985"
         },
         {
          "Counts": null,
          "Date": "1985-03-01T00:00:00",
          "Precip": 9.6,
          "dataset": "monsoon",
          "date_str": "1985-03-01",
          "month": 3,
          "quarter": 1,
          "year": "1985"
         },
         {
          "Counts": null,
          "Date": "1985-04-01T00:00:00",
          "Precip": 23.6,
          "dataset": "monsoon",
          "date_str": "1985-04-01",
          "month": 4,
          "quarter": 2,
          "year": "1985"
         },
         {
          "Counts": null,
          "Date": "1985-05-01T00:00:00",
          "Precip": 43.9,
          "dataset": "monsoon",
          "date_str": "1985-05-01",
          "month": 5,
          "quarter": 2,
          "year": "1985"
         },
         {
          "Counts": null,
          "Date": "1985-06-01T00:00:00",
          "Precip": 140.4,
          "dataset": "monsoon",
          "date_str": "1985-06-01",
          "month": 6,
          "quarter": 2,
          "year": "1985"
         },
         {
          "Counts": null,
          "Date": "1985-07-01T00:00:00",
          "Precip": 253.4,
          "dataset": "monsoon",
          "date_str": "1985-07-01",
          "month": 7,
          "quarter": 3,
          "year": "1985"
         },
         {
          "Counts": null,
          "Date": "1985-08-01T00:00:00",
          "Precip": 218.5,
          "dataset": "monsoon",
          "date_str": "1985-08-01",
          "month": 8,
          "quarter": 3,
          "year": "1985"
         },
         {
          "Counts": null,
          "Date": "1985-09-01T00:00:00",
          "Precip": 147.4,
          "dataset": "monsoon",
          "date_str": "1985-09-01",
          "month": 9,
          "quarter": 3,
          "year": "1985"
         },
         {
          "Counts": null,
          "Date": "1985-10-01T00:00:00",
          "Precip": 113.8,
          "dataset": "monsoon",
          "date_str": "1985-10-01",
          "month": 10,
          "quarter": 4,
          "year": "1985"
         },
         {
          "Counts": null,
          "Date": "1985-11-01T00:00:00",
          "Precip": 19.3,
          "dataset": "monsoon",
          "date_str": "1985-11-01",
          "month": 11,
          "quarter": 4,
          "year": "1985"
         },
         {
          "Counts": null,
          "Date": "1985-12-01T00:00:00",
          "Precip": 13.1,
          "dataset": "monsoon",
          "date_str": "1985-12-01",
          "month": 12,
          "quarter": 4,
          "year": "1985"
         },
         {
          "Counts": null,
          "Date": "1986-01-01T00:00:00",
          "Precip": 14.7,
          "dataset": "monsoon",
          "date_str": "1986-01-01",
          "month": 1,
          "quarter": 1,
          "year": "1986"
         },
         {
          "Counts": null,
          "Date": "1986-02-01T00:00:00",
          "Precip": 28,
          "dataset": "monsoon",
          "date_str": "1986-02-01",
          "month": 2,
          "quarter": 1,
          "year": "1986"
         },
         {
          "Counts": null,
          "Date": "1986-03-01T00:00:00",
          "Precip": 7.5,
          "dataset": "monsoon",
          "date_str": "1986-03-01",
          "month": 3,
          "quarter": 1,
          "year": "1986"
         },
         {
          "Counts": null,
          "Date": "1986-04-01T00:00:00",
          "Precip": 31,
          "dataset": "monsoon",
          "date_str": "1986-04-01",
          "month": 4,
          "quarter": 2,
          "year": "1986"
         },
         {
          "Counts": null,
          "Date": "1986-05-01T00:00:00",
          "Precip": 43.5,
          "dataset": "monsoon",
          "date_str": "1986-05-01",
          "month": 5,
          "quarter": 2,
          "year": "1986"
         },
         {
          "Counts": null,
          "Date": "1986-06-01T00:00:00",
          "Precip": 177.6,
          "dataset": "monsoon",
          "date_str": "1986-06-01",
          "month": 6,
          "quarter": 2,
          "year": "1986"
         },
         {
          "Counts": null,
          "Date": "1986-07-01T00:00:00",
          "Precip": 238.4,
          "dataset": "monsoon",
          "date_str": "1986-07-01",
          "month": 7,
          "quarter": 3,
          "year": "1986"
         },
         {
          "Counts": null,
          "Date": "1986-08-01T00:00:00",
          "Precip": 213.5,
          "dataset": "monsoon",
          "date_str": "1986-08-01",
          "month": 8,
          "quarter": 3,
          "year": "1986"
         },
         {
          "Counts": null,
          "Date": "1986-09-01T00:00:00",
          "Precip": 113.4,
          "dataset": "monsoon",
          "date_str": "1986-09-01",
          "month": 9,
          "quarter": 3,
          "year": "1986"
         },
         {
          "Counts": null,
          "Date": "1986-10-01T00:00:00",
          "Precip": 70.6,
          "dataset": "monsoon",
          "date_str": "1986-10-01",
          "month": 10,
          "quarter": 4,
          "year": "1986"
         },
         {
          "Counts": null,
          "Date": "1986-11-01T00:00:00",
          "Precip": 38.6,
          "dataset": "monsoon",
          "date_str": "1986-11-01",
          "month": 11,
          "quarter": 4,
          "year": "1986"
         },
         {
          "Counts": null,
          "Date": "1986-12-01T00:00:00",
          "Precip": 16.9,
          "dataset": "monsoon",
          "date_str": "1986-12-01",
          "month": 12,
          "quarter": 4,
          "year": "1986"
         },
         {
          "Counts": null,
          "Date": "1987-01-01T00:00:00",
          "Precip": 11.3,
          "dataset": "monsoon",
          "date_str": "1987-01-01",
          "month": 1,
          "quarter": 1,
          "year": "1987"
         },
         {
          "Counts": null,
          "Date": "1987-02-01T00:00:00",
          "Precip": 9.3,
          "dataset": "monsoon",
          "date_str": "1987-02-01",
          "month": 2,
          "quarter": 1,
          "year": "1987"
         },
         {
          "Counts": null,
          "Date": "1987-03-01T00:00:00",
          "Precip": 16.6,
          "dataset": "monsoon",
          "date_str": "1987-03-01",
          "month": 3,
          "quarter": 1,
          "year": "1987"
         },
         {
          "Counts": null,
          "Date": "1987-04-01T00:00:00",
          "Precip": 21.6,
          "dataset": "monsoon",
          "date_str": "1987-04-01",
          "month": 4,
          "quarter": 2,
          "year": "1987"
         },
         {
          "Counts": null,
          "Date": "1987-05-01T00:00:00",
          "Precip": 44.8,
          "dataset": "monsoon",
          "date_str": "1987-05-01",
          "month": 5,
          "quarter": 2,
          "year": "1987"
         },
         {
          "Counts": null,
          "Date": "1987-06-01T00:00:00",
          "Precip": 115.8,
          "dataset": "monsoon",
          "date_str": "1987-06-01",
          "month": 6,
          "quarter": 2,
          "year": "1987"
         },
         {
          "Counts": null,
          "Date": "1987-07-01T00:00:00",
          "Precip": 206.8,
          "dataset": "monsoon",
          "date_str": "1987-07-01",
          "month": 7,
          "quarter": 3,
          "year": "1987"
         },
         {
          "Counts": null,
          "Date": "1987-08-01T00:00:00",
          "Precip": 237,
          "dataset": "monsoon",
          "date_str": "1987-08-01",
          "month": 8,
          "quarter": 3,
          "year": "1987"
         },
         {
          "Counts": null,
          "Date": "1987-09-01T00:00:00",
          "Precip": 137.4,
          "dataset": "monsoon",
          "date_str": "1987-09-01",
          "month": 9,
          "quarter": 3,
          "year": "1987"
         },
         {
          "Counts": null,
          "Date": "1987-10-01T00:00:00",
          "Precip": 86.6,
          "dataset": "monsoon",
          "date_str": "1987-10-01",
          "month": 10,
          "quarter": 4,
          "year": "1987"
         },
         {
          "Counts": null,
          "Date": "1987-11-01T00:00:00",
          "Precip": 54.1,
          "dataset": "monsoon",
          "date_str": "1987-11-01",
          "month": 11,
          "quarter": 4,
          "year": "1987"
         },
         {
          "Counts": null,
          "Date": "1987-12-01T00:00:00",
          "Precip": 23.4,
          "dataset": "monsoon",
          "date_str": "1987-12-01",
          "month": 12,
          "quarter": 4,
          "year": "1987"
         },
         {
          "Counts": null,
          "Date": "1988-01-01T00:00:00",
          "Precip": 2.5,
          "dataset": "monsoon",
          "date_str": "1988-01-01",
          "month": 1,
          "quarter": 1,
          "year": "1988"
         },
         {
          "Counts": null,
          "Date": "1988-02-01T00:00:00",
          "Precip": 11.1,
          "dataset": "monsoon",
          "date_str": "1988-02-01",
          "month": 2,
          "quarter": 1,
          "year": "1988"
         },
         {
          "Counts": null,
          "Date": "1988-03-01T00:00:00",
          "Precip": 18.8,
          "dataset": "monsoon",
          "date_str": "1988-03-01",
          "month": 3,
          "quarter": 1,
          "year": "1988"
         },
         {
          "Counts": null,
          "Date": "1988-04-01T00:00:00",
          "Precip": 31.9,
          "dataset": "monsoon",
          "date_str": "1988-04-01",
          "month": 4,
          "quarter": 2,
          "year": "1988"
         },
         {
          "Counts": null,
          "Date": "1988-05-01T00:00:00",
          "Precip": 50.2,
          "dataset": "monsoon",
          "date_str": "1988-05-01",
          "month": 5,
          "quarter": 2,
          "year": "1988"
         },
         {
          "Counts": null,
          "Date": "1988-06-01T00:00:00",
          "Precip": 156.4,
          "dataset": "monsoon",
          "date_str": "1988-06-01",
          "month": 6,
          "quarter": 2,
          "year": "1988"
         },
         {
          "Counts": null,
          "Date": "1988-07-01T00:00:00",
          "Precip": 323.2,
          "dataset": "monsoon",
          "date_str": "1988-07-01",
          "month": 7,
          "quarter": 3,
          "year": "1988"
         },
         {
          "Counts": null,
          "Date": "1988-08-01T00:00:00",
          "Precip": 276.2,
          "dataset": "monsoon",
          "date_str": "1988-08-01",
          "month": 8,
          "quarter": 3,
          "year": "1988"
         },
         {
          "Counts": null,
          "Date": "1988-09-01T00:00:00",
          "Precip": 205.6,
          "dataset": "monsoon",
          "date_str": "1988-09-01",
          "month": 9,
          "quarter": 3,
          "year": "1988"
         },
         {
          "Counts": null,
          "Date": "1988-10-01T00:00:00",
          "Precip": 50.1,
          "dataset": "monsoon",
          "date_str": "1988-10-01",
          "month": 10,
          "quarter": 4,
          "year": "1988"
         },
         {
          "Counts": null,
          "Date": "1988-11-01T00:00:00",
          "Precip": 22.5,
          "dataset": "monsoon",
          "date_str": "1988-11-01",
          "month": 11,
          "quarter": 4,
          "year": "1988"
         },
         {
          "Counts": null,
          "Date": "1988-12-01T00:00:00",
          "Precip": 10.2,
          "dataset": "monsoon",
          "date_str": "1988-12-01",
          "month": 12,
          "quarter": 4,
          "year": "1988"
         },
         {
          "Counts": null,
          "Date": "1989-01-01T00:00:00",
          "Precip": 6.1,
          "dataset": "monsoon",
          "date_str": "1989-01-01",
          "month": 1,
          "quarter": 1,
          "year": "1989"
         },
         {
          "Counts": null,
          "Date": "1989-02-01T00:00:00",
          "Precip": 3.8,
          "dataset": "monsoon",
          "date_str": "1989-02-01",
          "month": 2,
          "quarter": 1,
          "year": "1989"
         },
         {
          "Counts": null,
          "Date": "1989-03-01T00:00:00",
          "Precip": 19.1,
          "dataset": "monsoon",
          "date_str": "1989-03-01",
          "month": 3,
          "quarter": 1,
          "year": "1989"
         },
         {
          "Counts": null,
          "Date": "1989-04-01T00:00:00",
          "Precip": 16.6,
          "dataset": "monsoon",
          "date_str": "1989-04-01",
          "month": 4,
          "quarter": 2,
          "year": "1989"
         },
         {
          "Counts": null,
          "Date": "1989-05-01T00:00:00",
          "Precip": 42.6,
          "dataset": "monsoon",
          "date_str": "1989-05-01",
          "month": 5,
          "quarter": 2,
          "year": "1989"
         },
         {
          "Counts": null,
          "Date": "1989-06-01T00:00:00",
          "Precip": 183.5,
          "dataset": "monsoon",
          "date_str": "1989-06-01",
          "month": 6,
          "quarter": 2,
          "year": "1989"
         },
         {
          "Counts": null,
          "Date": "1989-07-01T00:00:00",
          "Precip": 286.2,
          "dataset": "monsoon",
          "date_str": "1989-07-01",
          "month": 7,
          "quarter": 3,
          "year": "1989"
         },
         {
          "Counts": null,
          "Date": "1989-08-01T00:00:00",
          "Precip": 231,
          "dataset": "monsoon",
          "date_str": "1989-08-01",
          "month": 8,
          "quarter": 3,
          "year": "1989"
         },
         {
          "Counts": null,
          "Date": "1989-09-01T00:00:00",
          "Precip": 165.8,
          "dataset": "monsoon",
          "date_str": "1989-09-01",
          "month": 9,
          "quarter": 3,
          "year": "1989"
         },
         {
          "Counts": null,
          "Date": "1989-10-01T00:00:00",
          "Precip": 48.5,
          "dataset": "monsoon",
          "date_str": "1989-10-01",
          "month": 10,
          "quarter": 4,
          "year": "1989"
         },
         {
          "Counts": null,
          "Date": "1989-11-01T00:00:00",
          "Precip": 14.9,
          "dataset": "monsoon",
          "date_str": "1989-11-01",
          "month": 11,
          "quarter": 4,
          "year": "1989"
         },
         {
          "Counts": null,
          "Date": "1989-12-01T00:00:00",
          "Precip": 12.1,
          "dataset": "monsoon",
          "date_str": "1989-12-01",
          "month": 12,
          "quarter": 4,
          "year": "1989"
         },
         {
          "Counts": null,
          "Date": "1990-01-01T00:00:00",
          "Precip": 5.1,
          "dataset": "monsoon",
          "date_str": "1990-01-01",
          "month": 1,
          "quarter": 1,
          "year": "1990"
         },
         {
          "Counts": null,
          "Date": "1990-02-01T00:00:00",
          "Precip": 25.6,
          "dataset": "monsoon",
          "date_str": "1990-02-01",
          "month": 2,
          "quarter": 1,
          "year": "1990"
         },
         {
          "Counts": null,
          "Date": "1990-03-01T00:00:00",
          "Precip": 23.7,
          "dataset": "monsoon",
          "date_str": "1990-03-01",
          "month": 3,
          "quarter": 1,
          "year": "1990"
         },
         {
          "Counts": null,
          "Date": "1990-04-01T00:00:00",
          "Precip": 29.9,
          "dataset": "monsoon",
          "date_str": "1990-04-01",
          "month": 4,
          "quarter": 2,
          "year": "1990"
         },
         {
          "Counts": null,
          "Date": "1990-05-01T00:00:00",
          "Precip": 107.7,
          "dataset": "monsoon",
          "date_str": "1990-05-01",
          "month": 5,
          "quarter": 2,
          "year": "1990"
         },
         {
          "Counts": null,
          "Date": "1990-06-01T00:00:00",
          "Precip": 172.1,
          "dataset": "monsoon",
          "date_str": "1990-06-01",
          "month": 6,
          "quarter": 2,
          "year": "1990"
         },
         {
          "Counts": null,
          "Date": "1990-07-01T00:00:00",
          "Precip": 263,
          "dataset": "monsoon",
          "date_str": "1990-07-01",
          "month": 7,
          "quarter": 3,
          "year": "1990"
         },
         {
          "Counts": null,
          "Date": "1990-08-01T00:00:00",
          "Precip": 283.3,
          "dataset": "monsoon",
          "date_str": "1990-08-01",
          "month": 8,
          "quarter": 3,
          "year": "1990"
         },
         {
          "Counts": null,
          "Date": "1990-09-01T00:00:00",
          "Precip": 190,
          "dataset": "monsoon",
          "date_str": "1990-09-01",
          "month": 9,
          "quarter": 3,
          "year": "1990"
         },
         {
          "Counts": null,
          "Date": "1990-10-01T00:00:00",
          "Precip": 100.7,
          "dataset": "monsoon",
          "date_str": "1990-10-01",
          "month": 10,
          "quarter": 4,
          "year": "1990"
         },
         {
          "Counts": null,
          "Date": "1990-11-01T00:00:00",
          "Precip": 33.4,
          "dataset": "monsoon",
          "date_str": "1990-11-01",
          "month": 11,
          "quarter": 4,
          "year": "1990"
         },
         {
          "Counts": null,
          "Date": "1990-12-01T00:00:00",
          "Precip": 8.8,
          "dataset": "monsoon",
          "date_str": "1990-12-01",
          "month": 12,
          "quarter": 4,
          "year": "1990"
         },
         {
          "Counts": null,
          "Date": "1991-01-01T00:00:00",
          "Precip": 7.9,
          "dataset": "monsoon",
          "date_str": "1991-01-01",
          "month": 1,
          "quarter": 1,
          "year": "1991"
         },
         {
          "Counts": null,
          "Date": "1991-02-01T00:00:00",
          "Precip": 7.6,
          "dataset": "monsoon",
          "date_str": "1991-02-01",
          "month": 2,
          "quarter": 1,
          "year": "1991"
         },
         {
          "Counts": null,
          "Date": "1991-03-01T00:00:00",
          "Precip": 12.3,
          "dataset": "monsoon",
          "date_str": "1991-03-01",
          "month": 3,
          "quarter": 1,
          "year": "1991"
         },
         {
          "Counts": null,
          "Date": "1991-04-01T00:00:00",
          "Precip": 28.2,
          "dataset": "monsoon",
          "date_str": "1991-04-01",
          "month": 4,
          "quarter": 2,
          "year": "1991"
         },
         {
          "Counts": null,
          "Date": "1991-05-01T00:00:00",
          "Precip": 44,
          "dataset": "monsoon",
          "date_str": "1991-05-01",
          "month": 5,
          "quarter": 2,
          "year": "1991"
         },
         {
          "Counts": null,
          "Date": "1991-06-01T00:00:00",
          "Precip": 179.5,
          "dataset": "monsoon",
          "date_str": "1991-06-01",
          "month": 6,
          "quarter": 2,
          "year": "1991"
         },
         {
          "Counts": null,
          "Date": "1991-07-01T00:00:00",
          "Precip": 253.8,
          "dataset": "monsoon",
          "date_str": "1991-07-01",
          "month": 7,
          "quarter": 3,
          "year": "1991"
         },
         {
          "Counts": null,
          "Date": "1991-08-01T00:00:00",
          "Precip": 231.1,
          "dataset": "monsoon",
          "date_str": "1991-08-01",
          "month": 8,
          "quarter": 3,
          "year": "1991"
         },
         {
          "Counts": null,
          "Date": "1991-09-01T00:00:00",
          "Precip": 120.8,
          "dataset": "monsoon",
          "date_str": "1991-09-01",
          "month": 9,
          "quarter": 3,
          "year": "1991"
         },
         {
          "Counts": null,
          "Date": "1991-10-01T00:00:00",
          "Precip": 60.4,
          "dataset": "monsoon",
          "date_str": "1991-10-01",
          "month": 10,
          "quarter": 4,
          "year": "1991"
         },
         {
          "Counts": null,
          "Date": "1991-11-01T00:00:00",
          "Precip": 34.7,
          "dataset": "monsoon",
          "date_str": "1991-11-01",
          "month": 11,
          "quarter": 4,
          "year": "1991"
         },
         {
          "Counts": null,
          "Date": "1991-12-01T00:00:00",
          "Precip": 12.4,
          "dataset": "monsoon",
          "date_str": "1991-12-01",
          "month": 12,
          "quarter": 4,
          "year": "1991"
         },
         {
          "Counts": null,
          "Date": "1992-01-01T00:00:00",
          "Precip": 6.2,
          "dataset": "monsoon",
          "date_str": "1992-01-01",
          "month": 1,
          "quarter": 1,
          "year": "1992"
         },
         {
          "Counts": null,
          "Date": "1992-02-01T00:00:00",
          "Precip": 9.4,
          "dataset": "monsoon",
          "date_str": "1992-02-01",
          "month": 2,
          "quarter": 1,
          "year": "1992"
         },
         {
          "Counts": null,
          "Date": "1992-03-01T00:00:00",
          "Precip": 4.8,
          "dataset": "monsoon",
          "date_str": "1992-03-01",
          "month": 3,
          "quarter": 1,
          "year": "1992"
         },
         {
          "Counts": null,
          "Date": "1992-04-01T00:00:00",
          "Precip": 15,
          "dataset": "monsoon",
          "date_str": "1992-04-01",
          "month": 4,
          "quarter": 2,
          "year": "1992"
         },
         {
          "Counts": null,
          "Date": "1992-05-01T00:00:00",
          "Precip": 44.9,
          "dataset": "monsoon",
          "date_str": "1992-05-01",
          "month": 5,
          "quarter": 2,
          "year": "1992"
         },
         {
          "Counts": null,
          "Date": "1992-06-01T00:00:00",
          "Precip": 125.5,
          "dataset": "monsoon",
          "date_str": "1992-06-01",
          "month": 6,
          "quarter": 2,
          "year": "1992"
         },
         {
          "Counts": null,
          "Date": "1992-07-01T00:00:00",
          "Precip": 232.9,
          "dataset": "monsoon",
          "date_str": "1992-07-01",
          "month": 7,
          "quarter": 3,
          "year": "1992"
         },
         {
          "Counts": null,
          "Date": "1992-08-01T00:00:00",
          "Precip": 269.9,
          "dataset": "monsoon",
          "date_str": "1992-08-01",
          "month": 8,
          "quarter": 3,
          "year": "1992"
         },
         {
          "Counts": null,
          "Date": "1992-09-01T00:00:00",
          "Precip": 156.5,
          "dataset": "monsoon",
          "date_str": "1992-09-01",
          "month": 9,
          "quarter": 3,
          "year": "1992"
         },
         {
          "Counts": null,
          "Date": "1992-10-01T00:00:00",
          "Precip": 63.1,
          "dataset": "monsoon",
          "date_str": "1992-10-01",
          "month": 10,
          "quarter": 4,
          "year": "1992"
         },
         {
          "Counts": null,
          "Date": "1992-11-01T00:00:00",
          "Precip": 48.7,
          "dataset": "monsoon",
          "date_str": "1992-11-01",
          "month": 11,
          "quarter": 4,
          "year": "1992"
         },
         {
          "Counts": null,
          "Date": "1992-12-01T00:00:00",
          "Precip": 6.9,
          "dataset": "monsoon",
          "date_str": "1992-12-01",
          "month": 12,
          "quarter": 4,
          "year": "1992"
         },
         {
          "Counts": null,
          "Date": "1993-01-01T00:00:00",
          "Precip": 3.4,
          "dataset": "monsoon",
          "date_str": "1993-01-01",
          "month": 1,
          "quarter": 1,
          "year": "1993"
         },
         {
          "Counts": null,
          "Date": "1993-02-01T00:00:00",
          "Precip": 14.5,
          "dataset": "monsoon",
          "date_str": "1993-02-01",
          "month": 2,
          "quarter": 1,
          "year": "1993"
         },
         {
          "Counts": null,
          "Date": "1993-03-01T00:00:00",
          "Precip": 17.8,
          "dataset": "monsoon",
          "date_str": "1993-03-01",
          "month": 3,
          "quarter": 1,
          "year": "1993"
         },
         {
          "Counts": null,
          "Date": "1993-04-01T00:00:00",
          "Precip": 25.5,
          "dataset": "monsoon",
          "date_str": "1993-04-01",
          "month": 4,
          "quarter": 2,
          "year": "1993"
         },
         {
          "Counts": null,
          "Date": "1993-05-01T00:00:00",
          "Precip": 58.7,
          "dataset": "monsoon",
          "date_str": "1993-05-01",
          "month": 5,
          "quarter": 2,
          "year": "1993"
         },
         {
          "Counts": null,
          "Date": "1993-06-01T00:00:00",
          "Precip": 183.6,
          "dataset": "monsoon",
          "date_str": "1993-06-01",
          "month": 6,
          "quarter": 2,
          "year": "1993"
         },
         {
          "Counts": null,
          "Date": "1993-07-01T00:00:00",
          "Precip": 280.4,
          "dataset": "monsoon",
          "date_str": "1993-07-01",
          "month": 7,
          "quarter": 3,
          "year": "1993"
         },
         {
          "Counts": null,
          "Date": "1993-08-01T00:00:00",
          "Precip": 198.5,
          "dataset": "monsoon",
          "date_str": "1993-08-01",
          "month": 8,
          "quarter": 3,
          "year": "1993"
         },
         {
          "Counts": null,
          "Date": "1993-09-01T00:00:00",
          "Precip": 204.1,
          "dataset": "monsoon",
          "date_str": "1993-09-01",
          "month": 9,
          "quarter": 3,
          "year": "1993"
         },
         {
          "Counts": null,
          "Date": "1993-10-01T00:00:00",
          "Precip": 90.7,
          "dataset": "monsoon",
          "date_str": "1993-10-01",
          "month": 10,
          "quarter": 4,
          "year": "1993"
         },
         {
          "Counts": null,
          "Date": "1993-11-01T00:00:00",
          "Precip": 29,
          "dataset": "monsoon",
          "date_str": "1993-11-01",
          "month": 11,
          "quarter": 4,
          "year": "1993"
         },
         {
          "Counts": null,
          "Date": "1993-12-01T00:00:00",
          "Precip": 21.9,
          "dataset": "monsoon",
          "date_str": "1993-12-01",
          "month": 12,
          "quarter": 4,
          "year": "1993"
         },
         {
          "Counts": null,
          "Date": "1994-01-01T00:00:00",
          "Precip": 13.1,
          "dataset": "monsoon",
          "date_str": "1994-01-01",
          "month": 1,
          "quarter": 1,
          "year": "1994"
         },
         {
          "Counts": null,
          "Date": "1994-02-01T00:00:00",
          "Precip": 19.8,
          "dataset": "monsoon",
          "date_str": "1994-02-01",
          "month": 2,
          "quarter": 1,
          "year": "1994"
         },
         {
          "Counts": null,
          "Date": "1994-03-01T00:00:00",
          "Precip": 13,
          "dataset": "monsoon",
          "date_str": "1994-03-01",
          "month": 3,
          "quarter": 1,
          "year": "1994"
         },
         {
          "Counts": null,
          "Date": "1994-04-01T00:00:00",
          "Precip": 39.2,
          "dataset": "monsoon",
          "date_str": "1994-04-01",
          "month": 4,
          "quarter": 2,
          "year": "1994"
         },
         {
          "Counts": null,
          "Date": "1994-05-01T00:00:00",
          "Precip": 40.3,
          "dataset": "monsoon",
          "date_str": "1994-05-01",
          "month": 5,
          "quarter": 2,
          "year": "1994"
         },
         {
          "Counts": null,
          "Date": "1994-06-01T00:00:00",
          "Precip": 217.3,
          "dataset": "monsoon",
          "date_str": "1994-06-01",
          "month": 6,
          "quarter": 2,
          "year": "1994"
         },
         {
          "Counts": null,
          "Date": "1994-07-01T00:00:00",
          "Precip": 321.5,
          "dataset": "monsoon",
          "date_str": "1994-07-01",
          "month": 7,
          "quarter": 3,
          "year": "1994"
         },
         {
          "Counts": null,
          "Date": "1994-08-01T00:00:00",
          "Precip": 269.5,
          "dataset": "monsoon",
          "date_str": "1994-08-01",
          "month": 8,
          "quarter": 3,
          "year": "1994"
         },
         {
          "Counts": null,
          "Date": "1994-09-01T00:00:00",
          "Precip": 144.4,
          "dataset": "monsoon",
          "date_str": "1994-09-01",
          "month": 9,
          "quarter": 3,
          "year": "1994"
         },
         {
          "Counts": null,
          "Date": "1994-10-01T00:00:00",
          "Precip": 89.6,
          "dataset": "monsoon",
          "date_str": "1994-10-01",
          "month": 10,
          "quarter": 4,
          "year": "1994"
         },
         {
          "Counts": null,
          "Date": "1994-11-01T00:00:00",
          "Precip": 33.2,
          "dataset": "monsoon",
          "date_str": "1994-11-01",
          "month": 11,
          "quarter": 4,
          "year": "1994"
         },
         {
          "Counts": null,
          "Date": "1994-12-01T00:00:00",
          "Precip": 3.6,
          "dataset": "monsoon",
          "date_str": "1994-12-01",
          "month": 12,
          "quarter": 4,
          "year": "1994"
         },
         {
          "Counts": null,
          "Date": "1995-01-01T00:00:00",
          "Precip": 26.9,
          "dataset": "monsoon",
          "date_str": "1995-01-01",
          "month": 1,
          "quarter": 1,
          "year": "1995"
         },
         {
          "Counts": null,
          "Date": "1995-02-01T00:00:00",
          "Precip": 12.2,
          "dataset": "monsoon",
          "date_str": "1995-02-01",
          "month": 2,
          "quarter": 1,
          "year": "1995"
         },
         {
          "Counts": null,
          "Date": "1995-03-01T00:00:00",
          "Precip": 16.5,
          "dataset": "monsoon",
          "date_str": "1995-03-01",
          "month": 3,
          "quarter": 1,
          "year": "1995"
         },
         {
          "Counts": null,
          "Date": "1995-04-01T00:00:00",
          "Precip": 19,
          "dataset": "monsoon",
          "date_str": "1995-04-01",
          "month": 4,
          "quarter": 2,
          "year": "1995"
         },
         {
          "Counts": null,
          "Date": "1995-05-01T00:00:00",
          "Precip": 84.8,
          "dataset": "monsoon",
          "date_str": "1995-05-01",
          "month": 5,
          "quarter": 2,
          "year": "1995"
         },
         {
          "Counts": null,
          "Date": "1995-06-01T00:00:00",
          "Precip": 128.5,
          "dataset": "monsoon",
          "date_str": "1995-06-01",
          "month": 6,
          "quarter": 2,
          "year": "1995"
         },
         {
          "Counts": null,
          "Date": "1995-07-01T00:00:00",
          "Precip": 274.1,
          "dataset": "monsoon",
          "date_str": "1995-07-01",
          "month": 7,
          "quarter": 3,
          "year": "1995"
         },
         {
          "Counts": null,
          "Date": "1995-08-01T00:00:00",
          "Precip": 232.4,
          "dataset": "monsoon",
          "date_str": "1995-08-01",
          "month": 8,
          "quarter": 3,
          "year": "1995"
         },
         {
          "Counts": null,
          "Date": "1995-09-01T00:00:00",
          "Precip": 165.2,
          "dataset": "monsoon",
          "date_str": "1995-09-01",
          "month": 9,
          "quarter": 3,
          "year": "1995"
         },
         {
          "Counts": null,
          "Date": "1995-10-01T00:00:00",
          "Precip": 84.4,
          "dataset": "monsoon",
          "date_str": "1995-10-01",
          "month": 10,
          "quarter": 4,
          "year": "1995"
         },
         {
          "Counts": null,
          "Date": "1995-11-01T00:00:00",
          "Precip": 38.4,
          "dataset": "monsoon",
          "date_str": "1995-11-01",
          "month": 11,
          "quarter": 4,
          "year": "1995"
         },
         {
          "Counts": null,
          "Date": "1995-12-01T00:00:00",
          "Precip": 5.8,
          "dataset": "monsoon",
          "date_str": "1995-12-01",
          "month": 12,
          "quarter": 4,
          "year": "1995"
         },
         {
          "Counts": null,
          "Date": "1996-01-01T00:00:00",
          "Precip": 13.1,
          "dataset": "monsoon",
          "date_str": "1996-01-01",
          "month": 1,
          "quarter": 1,
          "year": "1996"
         },
         {
          "Counts": null,
          "Date": "1996-02-01T00:00:00",
          "Precip": 17.6,
          "dataset": "monsoon",
          "date_str": "1996-02-01",
          "month": 2,
          "quarter": 1,
          "year": "1996"
         },
         {
          "Counts": null,
          "Date": "1996-03-01T00:00:00",
          "Precip": 13.1,
          "dataset": "monsoon",
          "date_str": "1996-03-01",
          "month": 3,
          "quarter": 1,
          "year": "1996"
         },
         {
          "Counts": null,
          "Date": "1996-04-01T00:00:00",
          "Precip": 26.2,
          "dataset": "monsoon",
          "date_str": "1996-04-01",
          "month": 4,
          "quarter": 2,
          "year": "1996"
         },
         {
          "Counts": null,
          "Date": "1996-05-01T00:00:00",
          "Precip": 42.2,
          "dataset": "monsoon",
          "date_str": "1996-05-01",
          "month": 5,
          "quarter": 2,
          "year": "1996"
         },
         {
          "Counts": null,
          "Date": "1996-06-01T00:00:00",
          "Precip": 188.9,
          "dataset": "monsoon",
          "date_str": "1996-06-01",
          "month": 6,
          "quarter": 2,
          "year": "1996"
         },
         {
          "Counts": null,
          "Date": "1996-07-01T00:00:00",
          "Precip": 244,
          "dataset": "monsoon",
          "date_str": "1996-07-01",
          "month": 7,
          "quarter": 3,
          "year": "1996"
         },
         {
          "Counts": null,
          "Date": "1996-08-01T00:00:00",
          "Precip": 275.5,
          "dataset": "monsoon",
          "date_str": "1996-08-01",
          "month": 8,
          "quarter": 3,
          "year": "1996"
         },
         {
          "Counts": null,
          "Date": "1996-09-01T00:00:00",
          "Precip": 150.2,
          "dataset": "monsoon",
          "date_str": "1996-09-01",
          "month": 9,
          "quarter": 3,
          "year": "1996"
         },
         {
          "Counts": null,
          "Date": "1996-10-01T00:00:00",
          "Precip": 95.3,
          "dataset": "monsoon",
          "date_str": "1996-10-01",
          "month": 10,
          "quarter": 4,
          "year": "1996"
         },
         {
          "Counts": null,
          "Date": "1996-11-01T00:00:00",
          "Precip": 16.2,
          "dataset": "monsoon",
          "date_str": "1996-11-01",
          "month": 11,
          "quarter": 4,
          "year": "1996"
         },
         {
          "Counts": null,
          "Date": "1996-12-01T00:00:00",
          "Precip": 15.8,
          "dataset": "monsoon",
          "date_str": "1996-12-01",
          "month": 12,
          "quarter": 4,
          "year": "1996"
         },
         {
          "Counts": null,
          "Date": "1997-01-01T00:00:00",
          "Precip": 10.4,
          "dataset": "monsoon",
          "date_str": "1997-01-01",
          "month": 1,
          "quarter": 1,
          "year": "1997"
         },
         {
          "Counts": null,
          "Date": "1997-02-01T00:00:00",
          "Precip": 4.2,
          "dataset": "monsoon",
          "date_str": "1997-02-01",
          "month": 2,
          "quarter": 1,
          "year": "1997"
         },
         {
          "Counts": null,
          "Date": "1997-03-01T00:00:00",
          "Precip": 14.6,
          "dataset": "monsoon",
          "date_str": "1997-03-01",
          "month": 3,
          "quarter": 1,
          "year": "1997"
         },
         {
          "Counts": null,
          "Date": "1997-04-01T00:00:00",
          "Precip": 42.1,
          "dataset": "monsoon",
          "date_str": "1997-04-01",
          "month": 4,
          "quarter": 2,
          "year": "1997"
         },
         {
          "Counts": null,
          "Date": "1997-05-01T00:00:00",
          "Precip": 42.1,
          "dataset": "monsoon",
          "date_str": "1997-05-01",
          "month": 5,
          "quarter": 2,
          "year": "1997"
         },
         {
          "Counts": null,
          "Date": "1997-06-01T00:00:00",
          "Precip": 181.1,
          "dataset": "monsoon",
          "date_str": "1997-06-01",
          "month": 6,
          "quarter": 2,
          "year": "1997"
         },
         {
          "Counts": null,
          "Date": "1997-07-01T00:00:00",
          "Precip": 259.6,
          "dataset": "monsoon",
          "date_str": "1997-07-01",
          "month": 7,
          "quarter": 3,
          "year": "1997"
         },
         {
          "Counts": null,
          "Date": "1997-08-01T00:00:00",
          "Precip": 263.1,
          "dataset": "monsoon",
          "date_str": "1997-08-01",
          "month": 8,
          "quarter": 3,
          "year": "1997"
         },
         {
          "Counts": null,
          "Date": "1997-09-01T00:00:00",
          "Precip": 167.6,
          "dataset": "monsoon",
          "date_str": "1997-09-01",
          "month": 9,
          "quarter": 3,
          "year": "1997"
         },
         {
          "Counts": null,
          "Date": "1997-10-01T00:00:00",
          "Precip": 74.5,
          "dataset": "monsoon",
          "date_str": "1997-10-01",
          "month": 10,
          "quarter": 4,
          "year": "1997"
         },
         {
          "Counts": null,
          "Date": "1997-11-01T00:00:00",
          "Precip": 59.6,
          "dataset": "monsoon",
          "date_str": "1997-11-01",
          "month": 11,
          "quarter": 4,
          "year": "1997"
         },
         {
          "Counts": null,
          "Date": "1997-12-01T00:00:00",
          "Precip": 56.5,
          "dataset": "monsoon",
          "date_str": "1997-12-01",
          "month": 12,
          "quarter": 4,
          "year": "1997"
         },
         {
          "Counts": null,
          "Date": "1998-01-01T00:00:00",
          "Precip": 14,
          "dataset": "monsoon",
          "date_str": "1998-01-01",
          "month": 1,
          "quarter": 1,
          "year": "1998"
         },
         {
          "Counts": null,
          "Date": "1998-02-01T00:00:00",
          "Precip": 14.9,
          "dataset": "monsoon",
          "date_str": "1998-02-01",
          "month": 2,
          "quarter": 1,
          "year": "1998"
         },
         {
          "Counts": null,
          "Date": "1998-03-01T00:00:00",
          "Precip": 25.7,
          "dataset": "monsoon",
          "date_str": "1998-03-01",
          "month": 3,
          "quarter": 1,
          "year": "1998"
         },
         {
          "Counts": null,
          "Date": "1998-04-01T00:00:00",
          "Precip": 27.5,
          "dataset": "monsoon",
          "date_str": "1998-04-01",
          "month": 4,
          "quarter": 2,
          "year": "1998"
         },
         {
          "Counts": null,
          "Date": "1998-05-01T00:00:00",
          "Precip": 45.1,
          "dataset": "monsoon",
          "date_str": "1998-05-01",
          "month": 5,
          "quarter": 2,
          "year": "1998"
         },
         {
          "Counts": null,
          "Date": "1998-06-01T00:00:00",
          "Precip": 151.1,
          "dataset": "monsoon",
          "date_str": "1998-06-01",
          "month": 6,
          "quarter": 2,
          "year": "1998"
         },
         {
          "Counts": null,
          "Date": "1998-07-01T00:00:00",
          "Precip": 256.6,
          "dataset": "monsoon",
          "date_str": "1998-07-01",
          "month": 7,
          "quarter": 3,
          "year": "1998"
         },
         {
          "Counts": null,
          "Date": "1998-08-01T00:00:00",
          "Precip": 241.9,
          "dataset": "monsoon",
          "date_str": "1998-08-01",
          "month": 8,
          "quarter": 3,
          "year": "1998"
         },
         {
          "Counts": null,
          "Date": "1998-09-01T00:00:00",
          "Precip": 209.7,
          "dataset": "monsoon",
          "date_str": "1998-09-01",
          "month": 9,
          "quarter": 3,
          "year": "1998"
         },
         {
          "Counts": null,
          "Date": "1998-10-01T00:00:00",
          "Precip": 116.8,
          "dataset": "monsoon",
          "date_str": "1998-10-01",
          "month": 10,
          "quarter": 4,
          "year": "1998"
         },
         {
          "Counts": null,
          "Date": "1998-11-01T00:00:00",
          "Precip": 49.2,
          "dataset": "monsoon",
          "date_str": "1998-11-01",
          "month": 11,
          "quarter": 4,
          "year": "1998"
         },
         {
          "Counts": null,
          "Date": "1998-12-01T00:00:00",
          "Precip": 10.7,
          "dataset": "monsoon",
          "date_str": "1998-12-01",
          "month": 12,
          "quarter": 4,
          "year": "1998"
         },
         {
          "Counts": null,
          "Date": "1999-01-01T00:00:00",
          "Precip": 4.1,
          "dataset": "monsoon",
          "date_str": "1999-01-01",
          "month": 1,
          "quarter": 1,
          "year": "1999"
         },
         {
          "Counts": null,
          "Date": "1999-02-01T00:00:00",
          "Precip": 11.5,
          "dataset": "monsoon",
          "date_str": "1999-02-01",
          "month": 2,
          "quarter": 1,
          "year": "1999"
         },
         {
          "Counts": null,
          "Date": "1999-03-01T00:00:00",
          "Precip": 3,
          "dataset": "monsoon",
          "date_str": "1999-03-01",
          "month": 3,
          "quarter": 1,
          "year": "1999"
         },
         {
          "Counts": null,
          "Date": "1999-04-01T00:00:00",
          "Precip": 14.8,
          "dataset": "monsoon",
          "date_str": "1999-04-01",
          "month": 4,
          "quarter": 2,
          "year": "1999"
         },
         {
          "Counts": null,
          "Date": "1999-05-01T00:00:00",
          "Precip": 95,
          "dataset": "monsoon",
          "date_str": "1999-05-01",
          "month": 5,
          "quarter": 2,
          "year": "1999"
         },
         {
          "Counts": null,
          "Date": "1999-06-01T00:00:00",
          "Precip": 176.7,
          "dataset": "monsoon",
          "date_str": "1999-06-01",
          "month": 6,
          "quarter": 2,
          "year": "1999"
         },
         {
          "Counts": null,
          "Date": "1999-07-01T00:00:00",
          "Precip": 247.2,
          "dataset": "monsoon",
          "date_str": "1999-07-01",
          "month": 7,
          "quarter": 3,
          "year": "1999"
         },
         {
          "Counts": null,
          "Date": "1999-08-01T00:00:00",
          "Precip": 212.8,
          "dataset": "monsoon",
          "date_str": "1999-08-01",
          "month": 8,
          "quarter": 3,
          "year": "1999"
         },
         {
          "Counts": null,
          "Date": "1999-09-01T00:00:00",
          "Precip": 185.2,
          "dataset": "monsoon",
          "date_str": "1999-09-01",
          "month": 9,
          "quarter": 3,
          "year": "1999"
         },
         {
          "Counts": null,
          "Date": "1999-10-01T00:00:00",
          "Precip": 123.3,
          "dataset": "monsoon",
          "date_str": "1999-10-01",
          "month": 10,
          "quarter": 4,
          "year": "1999"
         },
         {
          "Counts": null,
          "Date": "1999-11-01T00:00:00",
          "Precip": 16.9,
          "dataset": "monsoon",
          "date_str": "1999-11-01",
          "month": 11,
          "quarter": 4,
          "year": "1999"
         },
         {
          "Counts": null,
          "Date": "1999-12-01T00:00:00",
          "Precip": 3.8,
          "dataset": "monsoon",
          "date_str": "1999-12-01",
          "month": 12,
          "quarter": 4,
          "year": "1999"
         },
         {
          "Counts": null,
          "Date": "2000-01-01T00:00:00",
          "Precip": 5.4,
          "dataset": "monsoon",
          "date_str": "2000-01-01",
          "month": 1,
          "quarter": 1,
          "year": "2000"
         },
         {
          "Counts": null,
          "Date": "2000-02-01T00:00:00",
          "Precip": 25.2,
          "dataset": "monsoon",
          "date_str": "2000-02-01",
          "month": 2,
          "quarter": 1,
          "year": "2000"
         },
         {
          "Counts": null,
          "Date": "2000-03-01T00:00:00",
          "Precip": 7.6,
          "dataset": "monsoon",
          "date_str": "2000-03-01",
          "month": 3,
          "quarter": 1,
          "year": "2000"
         },
         {
          "Counts": null,
          "Date": "2000-04-01T00:00:00",
          "Precip": 29.2,
          "dataset": "monsoon",
          "date_str": "2000-04-01",
          "month": 4,
          "quarter": 2,
          "year": "2000"
         },
         {
          "Counts": null,
          "Date": "2000-05-01T00:00:00",
          "Precip": 81,
          "dataset": "monsoon",
          "date_str": "2000-05-01",
          "month": 5,
          "quarter": 2,
          "year": "2000"
         },
         {
          "Counts": null,
          "Date": "2000-06-01T00:00:00",
          "Precip": 187.5,
          "dataset": "monsoon",
          "date_str": "2000-06-01",
          "month": 6,
          "quarter": 2,
          "year": "2000"
         },
         {
          "Counts": null,
          "Date": "2000-07-01T00:00:00",
          "Precip": 249,
          "dataset": "monsoon",
          "date_str": "2000-07-01",
          "month": 7,
          "quarter": 3,
          "year": "2000"
         },
         {
          "Counts": null,
          "Date": "2000-08-01T00:00:00",
          "Precip": 209.4,
          "dataset": "monsoon",
          "date_str": "2000-08-01",
          "month": 8,
          "quarter": 3,
          "year": "2000"
         },
         {
          "Counts": null,
          "Date": "2000-09-01T00:00:00",
          "Precip": 132.3,
          "dataset": "monsoon",
          "date_str": "2000-09-01",
          "month": 9,
          "quarter": 3,
          "year": "2000"
         },
         {
          "Counts": null,
          "Date": "2000-10-01T00:00:00",
          "Precip": 42.6,
          "dataset": "monsoon",
          "date_str": "2000-10-01",
          "month": 10,
          "quarter": 4,
          "year": "2000"
         },
         {
          "Counts": null,
          "Date": "2000-11-01T00:00:00",
          "Precip": 13.4,
          "dataset": "monsoon",
          "date_str": "2000-11-01",
          "month": 11,
          "quarter": 4,
          "year": "2000"
         },
         {
          "Counts": null,
          "Date": "2000-12-01T00:00:00",
          "Precip": 7.1,
          "dataset": "monsoon",
          "date_str": "2000-12-01",
          "month": 12,
          "quarter": 4,
          "year": "2000"
         },
         {
          "Counts": null,
          "Date": "2001-01-01T00:00:00",
          "Precip": 4.8,
          "dataset": "monsoon",
          "date_str": "2001-01-01",
          "month": 1,
          "quarter": 1,
          "year": "2001"
         },
         {
          "Counts": null,
          "Date": "2001-02-01T00:00:00",
          "Precip": 6.3,
          "dataset": "monsoon",
          "date_str": "2001-02-01",
          "month": 2,
          "quarter": 1,
          "year": "2001"
         },
         {
          "Counts": null,
          "Date": "2001-03-01T00:00:00",
          "Precip": 11.8,
          "dataset": "monsoon",
          "date_str": "2001-03-01",
          "month": 3,
          "quarter": 1,
          "year": "2001"
         },
         {
          "Counts": null,
          "Date": "2001-04-01T00:00:00",
          "Precip": 39.9,
          "dataset": "monsoon",
          "date_str": "2001-04-01",
          "month": 4,
          "quarter": 2,
          "year": "2001"
         },
         {
          "Counts": null,
          "Date": "2001-05-01T00:00:00",
          "Precip": 62,
          "dataset": "monsoon",
          "date_str": "2001-05-01",
          "month": 5,
          "quarter": 2,
          "year": "2001"
         },
         {
          "Counts": null,
          "Date": "2001-06-01T00:00:00",
          "Precip": 230.5,
          "dataset": "monsoon",
          "date_str": "2001-06-01",
          "month": 6,
          "quarter": 2,
          "year": "2001"
         },
         {
          "Counts": null,
          "Date": "2001-07-01T00:00:00",
          "Precip": 262.5,
          "dataset": "monsoon",
          "date_str": "2001-07-01",
          "month": 7,
          "quarter": 3,
          "year": "2001"
         },
         {
          "Counts": null,
          "Date": "2001-08-01T00:00:00",
          "Precip": 188.7,
          "dataset": "monsoon",
          "date_str": "2001-08-01",
          "month": 8,
          "quarter": 3,
          "year": "2001"
         },
         {
          "Counts": null,
          "Date": "2001-09-01T00:00:00",
          "Precip": 111.7,
          "dataset": "monsoon",
          "date_str": "2001-09-01",
          "month": 9,
          "quarter": 3,
          "year": "2001"
         },
         {
          "Counts": null,
          "Date": "2001-10-01T00:00:00",
          "Precip": 113,
          "dataset": "monsoon",
          "date_str": "2001-10-01",
          "month": 10,
          "quarter": 4,
          "year": "2001"
         },
         {
          "Counts": null,
          "Date": "2001-11-01T00:00:00",
          "Precip": 22.2,
          "dataset": "monsoon",
          "date_str": "2001-11-01",
          "month": 11,
          "quarter": 4,
          "year": "2001"
         },
         {
          "Counts": null,
          "Date": "2001-12-01T00:00:00",
          "Precip": 6.5,
          "dataset": "monsoon",
          "date_str": "2001-12-01",
          "month": 12,
          "quarter": 4,
          "year": "2001"
         },
         {
          "Counts": null,
          "Date": "2002-01-01T00:00:00",
          "Precip": 11,
          "dataset": "monsoon",
          "date_str": "2002-01-01",
          "month": 1,
          "quarter": 1,
          "year": "2002"
         },
         {
          "Counts": null,
          "Date": "2002-02-01T00:00:00",
          "Precip": 18.5,
          "dataset": "monsoon",
          "date_str": "2002-02-01",
          "month": 2,
          "quarter": 1,
          "year": "2002"
         },
         {
          "Counts": null,
          "Date": "2002-03-01T00:00:00",
          "Precip": 10.7,
          "dataset": "monsoon",
          "date_str": "2002-03-01",
          "month": 3,
          "quarter": 1,
          "year": "2002"
         },
         {
          "Counts": null,
          "Date": "2002-04-01T00:00:00",
          "Precip": 28.4,
          "dataset": "monsoon",
          "date_str": "2002-04-01",
          "month": 4,
          "quarter": 2,
          "year": "2002"
         },
         {
          "Counts": null,
          "Date": "2002-05-01T00:00:00",
          "Precip": 58.1,
          "dataset": "monsoon",
          "date_str": "2002-05-01",
          "month": 5,
          "quarter": 2,
          "year": "2002"
         },
         {
          "Counts": null,
          "Date": "2002-06-01T00:00:00",
          "Precip": 172.6,
          "dataset": "monsoon",
          "date_str": "2002-06-01",
          "month": 6,
          "quarter": 2,
          "year": "2002"
         },
         {
          "Counts": null,
          "Date": "2002-07-01T00:00:00",
          "Precip": 117.6,
          "dataset": "monsoon",
          "date_str": "2002-07-01",
          "month": 7,
          "quarter": 3,
          "year": "2002"
         },
         {
          "Counts": null,
          "Date": "2002-08-01T00:00:00",
          "Precip": 239.1,
          "dataset": "monsoon",
          "date_str": "2002-08-01",
          "month": 8,
          "quarter": 3,
          "year": "2002"
         },
         {
          "Counts": null,
          "Date": "2002-09-01T00:00:00",
          "Precip": 132.6,
          "dataset": "monsoon",
          "date_str": "2002-09-01",
          "month": 9,
          "quarter": 3,
          "year": "2002"
         },
         {
          "Counts": null,
          "Date": "2002-10-01T00:00:00",
          "Precip": 65.1,
          "dataset": "monsoon",
          "date_str": "2002-10-01",
          "month": 10,
          "quarter": 4,
          "year": "2002"
         },
         {
          "Counts": null,
          "Date": "2002-11-01T00:00:00",
          "Precip": 23.7,
          "dataset": "monsoon",
          "date_str": "2002-11-01",
          "month": 11,
          "quarter": 4,
          "year": "2002"
         },
         {
          "Counts": null,
          "Date": "2002-12-01T00:00:00",
          "Precip": 5,
          "dataset": "monsoon",
          "date_str": "2002-12-01",
          "month": 12,
          "quarter": 4,
          "year": "2002"
         },
         {
          "Counts": null,
          "Date": "2003-01-01T00:00:00",
          "Precip": 4.7,
          "dataset": "monsoon",
          "date_str": "2003-01-01",
          "month": 1,
          "quarter": 1,
          "year": "2003"
         },
         {
          "Counts": null,
          "Date": "2003-02-01T00:00:00",
          "Precip": 27.3,
          "dataset": "monsoon",
          "date_str": "2003-02-01",
          "month": 2,
          "quarter": 1,
          "year": "2003"
         },
         {
          "Counts": null,
          "Date": "2003-03-01T00:00:00",
          "Precip": 18,
          "dataset": "monsoon",
          "date_str": "2003-03-01",
          "month": 3,
          "quarter": 1,
          "year": "2003"
         },
         {
          "Counts": null,
          "Date": "2003-04-01T00:00:00",
          "Precip": 27.5,
          "dataset": "monsoon",
          "date_str": "2003-04-01",
          "month": 4,
          "quarter": 2,
          "year": "2003"
         },
         {
          "Counts": null,
          "Date": "2003-05-01T00:00:00",
          "Precip": 30.5,
          "dataset": "monsoon",
          "date_str": "2003-05-01",
          "month": 5,
          "quarter": 2,
          "year": "2003"
         },
         {
          "Counts": null,
          "Date": "2003-06-01T00:00:00",
          "Precip": 163.7,
          "dataset": "monsoon",
          "date_str": "2003-06-01",
          "month": 6,
          "quarter": 2,
          "year": "2003"
         },
         {
          "Counts": null,
          "Date": "2003-07-01T00:00:00",
          "Precip": 284.7,
          "dataset": "monsoon",
          "date_str": "2003-07-01",
          "month": 7,
          "quarter": 3,
          "year": "2003"
         },
         {
          "Counts": null,
          "Date": "2003-08-01T00:00:00",
          "Precip": 222.9,
          "dataset": "monsoon",
          "date_str": "2003-08-01",
          "month": 8,
          "quarter": 3,
          "year": "2003"
         },
         {
          "Counts": null,
          "Date": "2003-09-01T00:00:00",
          "Precip": 178.2,
          "dataset": "monsoon",
          "date_str": "2003-09-01",
          "month": 9,
          "quarter": 3,
          "year": "2003"
         },
         {
          "Counts": null,
          "Date": "2003-10-01T00:00:00",
          "Precip": 102,
          "dataset": "monsoon",
          "date_str": "2003-10-01",
          "month": 10,
          "quarter": 4,
          "year": "2003"
         },
         {
          "Counts": null,
          "Date": "2003-11-01T00:00:00",
          "Precip": 16.2,
          "dataset": "monsoon",
          "date_str": "2003-11-01",
          "month": 11,
          "quarter": 4,
          "year": "2003"
         },
         {
          "Counts": null,
          "Date": "2003-12-01T00:00:00",
          "Precip": 12.8,
          "dataset": "monsoon",
          "date_str": "2003-12-01",
          "month": 12,
          "quarter": 4,
          "year": "2003"
         },
         {
          "Counts": null,
          "Date": "2004-01-01T00:00:00",
          "Precip": 13.1,
          "dataset": "monsoon",
          "date_str": "2004-01-01",
          "month": 1,
          "quarter": 1,
          "year": "2004"
         },
         {
          "Counts": null,
          "Date": "2004-02-01T00:00:00",
          "Precip": 3.8,
          "dataset": "monsoon",
          "date_str": "2004-02-01",
          "month": 2,
          "quarter": 1,
          "year": "2004"
         },
         {
          "Counts": null,
          "Date": "2004-03-01T00:00:00",
          "Precip": 5.7,
          "dataset": "monsoon",
          "date_str": "2004-03-01",
          "month": 3,
          "quarter": 1,
          "year": "2004"
         },
         {
          "Counts": null,
          "Date": "2004-04-01T00:00:00",
          "Precip": 45.2,
          "dataset": "monsoon",
          "date_str": "2004-04-01",
          "month": 4,
          "quarter": 2,
          "year": "2004"
         },
         {
          "Counts": null,
          "Date": "2004-05-01T00:00:00",
          "Precip": 82.5,
          "dataset": "monsoon",
          "date_str": "2004-05-01",
          "month": 5,
          "quarter": 2,
          "year": "2004"
         },
         {
          "Counts": null,
          "Date": "2004-06-01T00:00:00",
          "Precip": 164,
          "dataset": "monsoon",
          "date_str": "2004-06-01",
          "month": 6,
          "quarter": 2,
          "year": "2004"
         },
         {
          "Counts": null,
          "Date": "2004-07-01T00:00:00",
          "Precip": 219.5,
          "dataset": "monsoon",
          "date_str": "2004-07-01",
          "month": 7,
          "quarter": 3,
          "year": "2004"
         },
         {
          "Counts": null,
          "Date": "2004-08-01T00:00:00",
          "Precip": 232.5,
          "dataset": "monsoon",
          "date_str": "2004-08-01",
          "month": 8,
          "quarter": 3,
          "year": "2004"
         },
         {
          "Counts": null,
          "Date": "2004-09-01T00:00:00",
          "Precip": 128.7,
          "dataset": "monsoon",
          "date_str": "2004-09-01",
          "month": 9,
          "quarter": 3,
          "year": "2004"
         },
         {
          "Counts": null,
          "Date": "2004-10-01T00:00:00",
          "Precip": 89.8,
          "dataset": "monsoon",
          "date_str": "2004-10-01",
          "month": 10,
          "quarter": 4,
          "year": "2004"
         },
         {
          "Counts": null,
          "Date": "2004-11-01T00:00:00",
          "Precip": 16.8,
          "dataset": "monsoon",
          "date_str": "2004-11-01",
          "month": 11,
          "quarter": 4,
          "year": "2004"
         },
         {
          "Counts": null,
          "Date": "2004-12-01T00:00:00",
          "Precip": 1.8,
          "dataset": "monsoon",
          "date_str": "2004-12-01",
          "month": 12,
          "quarter": 4,
          "year": "2004"
         },
         {
          "Counts": null,
          "Date": "2005-01-01T00:00:00",
          "Precip": 15.7,
          "dataset": "monsoon",
          "date_str": "2005-01-01",
          "month": 1,
          "quarter": 1,
          "year": "2005"
         },
         {
          "Counts": null,
          "Date": "2005-02-01T00:00:00",
          "Precip": 13.7,
          "dataset": "monsoon",
          "date_str": "2005-02-01",
          "month": 2,
          "quarter": 1,
          "year": "2005"
         },
         {
          "Counts": null,
          "Date": "2005-03-01T00:00:00",
          "Precip": 24.4,
          "dataset": "monsoon",
          "date_str": "2005-03-01",
          "month": 3,
          "quarter": 1,
          "year": "2005"
         },
         {
          "Counts": null,
          "Date": "2005-04-01T00:00:00",
          "Precip": 33.3,
          "dataset": "monsoon",
          "date_str": "2005-04-01",
          "month": 4,
          "quarter": 2,
          "year": "2005"
         },
         {
          "Counts": null,
          "Date": "2005-05-01T00:00:00",
          "Precip": 43.2,
          "dataset": "monsoon",
          "date_str": "2005-05-01",
          "month": 5,
          "quarter": 2,
          "year": "2005"
         },
         {
          "Counts": null,
          "Date": "2005-06-01T00:00:00",
          "Precip": 147.7,
          "dataset": "monsoon",
          "date_str": "2005-06-01",
          "month": 6,
          "quarter": 2,
          "year": "2005"
         },
         {
          "Counts": null,
          "Date": "2005-07-01T00:00:00",
          "Precip": 319.3,
          "dataset": "monsoon",
          "date_str": "2005-07-01",
          "month": 7,
          "quarter": 3,
          "year": "2005"
         },
         {
          "Counts": null,
          "Date": "2005-08-01T00:00:00",
          "Precip": 183.2,
          "dataset": "monsoon",
          "date_str": "2005-08-01",
          "month": 8,
          "quarter": 3,
          "year": "2005"
         },
         {
          "Counts": null,
          "Date": "2005-09-01T00:00:00",
          "Precip": 206.6,
          "dataset": "monsoon",
          "date_str": "2005-09-01",
          "month": 9,
          "quarter": 3,
          "year": "2005"
         },
         {
          "Counts": null,
          "Date": "2005-10-01T00:00:00",
          "Precip": 116.3,
          "dataset": "monsoon",
          "date_str": "2005-10-01",
          "month": 10,
          "quarter": 4,
          "year": "2005"
         },
         {
          "Counts": null,
          "Date": "2005-11-01T00:00:00",
          "Precip": 27.7,
          "dataset": "monsoon",
          "date_str": "2005-11-01",
          "month": 11,
          "quarter": 4,
          "year": "2005"
         },
         {
          "Counts": null,
          "Date": "2005-12-01T00:00:00",
          "Precip": 10,
          "dataset": "monsoon",
          "date_str": "2005-12-01",
          "month": 12,
          "quarter": 4,
          "year": "2005"
         },
         {
          "Counts": null,
          "Date": "2006-01-01T00:00:00",
          "Precip": 1.6,
          "dataset": "monsoon",
          "date_str": "2006-01-01",
          "month": 1,
          "quarter": 1,
          "year": "2006"
         },
         {
          "Counts": null,
          "Date": "2006-02-01T00:00:00",
          "Precip": 3,
          "dataset": "monsoon",
          "date_str": "2006-02-01",
          "month": 2,
          "quarter": 1,
          "year": "2006"
         },
         {
          "Counts": null,
          "Date": "2006-03-01T00:00:00",
          "Precip": 28.1,
          "dataset": "monsoon",
          "date_str": "2006-03-01",
          "month": 3,
          "quarter": 1,
          "year": "2006"
         },
         {
          "Counts": null,
          "Date": "2006-04-01T00:00:00",
          "Precip": 27,
          "dataset": "monsoon",
          "date_str": "2006-04-01",
          "month": 4,
          "quarter": 2,
          "year": "2006"
         },
         {
          "Counts": null,
          "Date": "2006-05-01T00:00:00",
          "Precip": 77.2,
          "dataset": "monsoon",
          "date_str": "2006-05-01",
          "month": 5,
          "quarter": 2,
          "year": "2006"
         },
         {
          "Counts": null,
          "Date": "2006-06-01T00:00:00",
          "Precip": 157.9,
          "dataset": "monsoon",
          "date_str": "2006-06-01",
          "month": 6,
          "quarter": 2,
          "year": "2006"
         },
         {
          "Counts": null,
          "Date": "2006-07-01T00:00:00",
          "Precip": 278.9,
          "dataset": "monsoon",
          "date_str": "2006-07-01",
          "month": 7,
          "quarter": 3,
          "year": "2006"
         },
         {
          "Counts": null,
          "Date": "2006-08-01T00:00:00",
          "Precip": 270.4,
          "dataset": "monsoon",
          "date_str": "2006-08-01",
          "month": 8,
          "quarter": 3,
          "year": "2006"
         },
         {
          "Counts": null,
          "Date": "2006-09-01T00:00:00",
          "Precip": 162.7,
          "dataset": "monsoon",
          "date_str": "2006-09-01",
          "month": 9,
          "quarter": 3,
          "year": "2006"
         },
         {
          "Counts": null,
          "Date": "2006-10-01T00:00:00",
          "Precip": 67.4,
          "dataset": "monsoon",
          "date_str": "2006-10-01",
          "month": 10,
          "quarter": 4,
          "year": "2006"
         },
         {
          "Counts": null,
          "Date": "2006-11-01T00:00:00",
          "Precip": 35.3,
          "dataset": "monsoon",
          "date_str": "2006-11-01",
          "month": 11,
          "quarter": 4,
          "year": "2006"
         },
         {
          "Counts": null,
          "Date": "2006-12-01T00:00:00",
          "Precip": 3.2,
          "dataset": "monsoon",
          "date_str": "2006-12-01",
          "month": 12,
          "quarter": 4,
          "year": "2006"
         },
         {
          "Counts": null,
          "Date": "2007-01-01T00:00:00",
          "Precip": 0.9,
          "dataset": "monsoon",
          "date_str": "2007-01-01",
          "month": 1,
          "quarter": 1,
          "year": "2007"
         },
         {
          "Counts": null,
          "Date": "2007-02-01T00:00:00",
          "Precip": 35.2,
          "dataset": "monsoon",
          "date_str": "2007-02-01",
          "month": 2,
          "quarter": 1,
          "year": "2007"
         },
         {
          "Counts": null,
          "Date": "2007-03-01T00:00:00",
          "Precip": 12.8,
          "dataset": "monsoon",
          "date_str": "2007-03-01",
          "month": 3,
          "quarter": 1,
          "year": "2007"
         },
         {
          "Counts": null,
          "Date": "2007-04-01T00:00:00",
          "Precip": 31.5,
          "dataset": "monsoon",
          "date_str": "2007-04-01",
          "month": 4,
          "quarter": 2,
          "year": "2007"
         },
         {
          "Counts": null,
          "Date": "2007-05-01T00:00:00",
          "Precip": 47,
          "dataset": "monsoon",
          "date_str": "2007-05-01",
          "month": 5,
          "quarter": 2,
          "year": "2007"
         },
         {
          "Counts": null,
          "Date": "2007-06-01T00:00:00",
          "Precip": 199.5,
          "dataset": "monsoon",
          "date_str": "2007-06-01",
          "month": 6,
          "quarter": 2,
          "year": "2007"
         },
         {
          "Counts": null,
          "Date": "2007-07-01T00:00:00",
          "Precip": 278.1,
          "dataset": "monsoon",
          "date_str": "2007-07-01",
          "month": 7,
          "quarter": 3,
          "year": "2007"
         },
         {
          "Counts": null,
          "Date": "2007-08-01T00:00:00",
          "Precip": 247.8,
          "dataset": "monsoon",
          "date_str": "2007-08-01",
          "month": 8,
          "quarter": 3,
          "year": "2007"
         },
         {
          "Counts": null,
          "Date": "2007-09-01T00:00:00",
          "Precip": 209.6,
          "dataset": "monsoon",
          "date_str": "2007-09-01",
          "month": 9,
          "quarter": 3,
          "year": "2007"
         },
         {
          "Counts": null,
          "Date": "2007-10-01T00:00:00",
          "Precip": 58.5,
          "dataset": "monsoon",
          "date_str": "2007-10-01",
          "month": 10,
          "quarter": 4,
          "year": "2007"
         },
         {
          "Counts": null,
          "Date": "2007-11-01T00:00:00",
          "Precip": 18.3,
          "dataset": "monsoon",
          "date_str": "2007-11-01",
          "month": 11,
          "quarter": 4,
          "year": "2007"
         },
         {
          "Counts": null,
          "Date": "2007-12-01T00:00:00",
          "Precip": 10.5,
          "dataset": "monsoon",
          "date_str": "2007-12-01",
          "month": 12,
          "quarter": 4,
          "year": "2007"
         },
         {
          "Counts": null,
          "Date": "2008-01-01T00:00:00",
          "Precip": 11.5,
          "dataset": "monsoon",
          "date_str": "2008-01-01",
          "month": 1,
          "quarter": 1,
          "year": "2008"
         },
         {
          "Counts": null,
          "Date": "2008-02-01T00:00:00",
          "Precip": 12.8,
          "dataset": "monsoon",
          "date_str": "2008-02-01",
          "month": 2,
          "quarter": 1,
          "year": "2008"
         },
         {
          "Counts": null,
          "Date": "2008-03-01T00:00:00",
          "Precip": 42.6,
          "dataset": "monsoon",
          "date_str": "2008-03-01",
          "month": 3,
          "quarter": 1,
          "year": "2008"
         },
         {
          "Counts": null,
          "Date": "2008-04-01T00:00:00",
          "Precip": 24.5,
          "dataset": "monsoon",
          "date_str": "2008-04-01",
          "month": 4,
          "quarter": 2,
          "year": "2008"
         },
         {
          "Counts": null,
          "Date": "2008-05-01T00:00:00",
          "Precip": 44.3,
          "dataset": "monsoon",
          "date_str": "2008-05-01",
          "month": 5,
          "quarter": 2,
          "year": "2008"
         },
         {
          "Counts": null,
          "Date": "2008-06-01T00:00:00",
          "Precip": 216.3,
          "dataset": "monsoon",
          "date_str": "2008-06-01",
          "month": 6,
          "quarter": 2,
          "year": "2008"
         },
         {
          "Counts": null,
          "Date": "2008-07-01T00:00:00",
          "Precip": 245.4,
          "dataset": "monsoon",
          "date_str": "2008-07-01",
          "month": 7,
          "quarter": 3,
          "year": "2008"
         },
         {
          "Counts": null,
          "Date": "2008-08-01T00:00:00",
          "Precip": 250.6,
          "dataset": "monsoon",
          "date_str": "2008-08-01",
          "month": 8,
          "quarter": 3,
          "year": "2008"
         },
         {
          "Counts": null,
          "Date": "2008-09-01T00:00:00",
          "Precip": 174.7,
          "dataset": "monsoon",
          "date_str": "2008-09-01",
          "month": 9,
          "quarter": 3,
          "year": "2008"
         },
         {
          "Counts": null,
          "Date": "2008-10-01T00:00:00",
          "Precip": 57.6,
          "dataset": "monsoon",
          "date_str": "2008-10-01",
          "month": 10,
          "quarter": 4,
          "year": "2008"
         },
         {
          "Counts": null,
          "Date": "2008-11-01T00:00:00",
          "Precip": 31.9,
          "dataset": "monsoon",
          "date_str": "2008-11-01",
          "month": 11,
          "quarter": 4,
          "year": "2008"
         },
         {
          "Counts": null,
          "Date": "2008-12-01T00:00:00",
          "Precip": 6.1,
          "dataset": "monsoon",
          "date_str": "2008-12-01",
          "month": 12,
          "quarter": 4,
          "year": "2008"
         },
         {
          "Counts": null,
          "Date": "2009-01-01T00:00:00",
          "Precip": 2.4,
          "dataset": "monsoon",
          "date_str": "2009-01-01",
          "month": 1,
          "quarter": 1,
          "year": "2009"
         },
         {
          "Counts": null,
          "Date": "2009-02-01T00:00:00",
          "Precip": 1.6,
          "dataset": "monsoon",
          "date_str": "2009-02-01",
          "month": 2,
          "quarter": 1,
          "year": "2009"
         },
         {
          "Counts": null,
          "Date": "2009-03-01T00:00:00",
          "Precip": 8.7,
          "dataset": "monsoon",
          "date_str": "2009-03-01",
          "month": 3,
          "quarter": 1,
          "year": "2009"
         },
         {
          "Counts": null,
          "Date": "2009-04-01T00:00:00",
          "Precip": 13,
          "dataset": "monsoon",
          "date_str": "2009-04-01",
          "month": 4,
          "quarter": 2,
          "year": "2009"
         },
         {
          "Counts": null,
          "Date": "2009-05-01T00:00:00",
          "Precip": 51,
          "dataset": "monsoon",
          "date_str": "2009-05-01",
          "month": 5,
          "quarter": 2,
          "year": "2009"
         },
         {
          "Counts": null,
          "Date": "2009-06-01T00:00:00",
          "Precip": 78.2,
          "dataset": "monsoon",
          "date_str": "2009-06-01",
          "month": 6,
          "quarter": 2,
          "year": "2009"
         },
         {
          "Counts": null,
          "Date": "2009-07-01T00:00:00",
          "Precip": 271.1,
          "dataset": "monsoon",
          "date_str": "2009-07-01",
          "month": 7,
          "quarter": 3,
          "year": "2009"
         },
         {
          "Counts": null,
          "Date": "2009-08-01T00:00:00",
          "Precip": 179.8,
          "dataset": "monsoon",
          "date_str": "2009-08-01",
          "month": 8,
          "quarter": 3,
          "year": "2009"
         },
         {
          "Counts": null,
          "Date": "2009-09-01T00:00:00",
          "Precip": 138.5,
          "dataset": "monsoon",
          "date_str": "2009-09-01",
          "month": 9,
          "quarter": 3,
          "year": "2009"
         },
         {
          "Counts": null,
          "Date": "2009-10-01T00:00:00",
          "Precip": 71.8,
          "dataset": "monsoon",
          "date_str": "2009-10-01",
          "month": 10,
          "quarter": 4,
          "year": "2009"
         },
         {
          "Counts": null,
          "Date": "2009-11-01T00:00:00",
          "Precip": 59.3,
          "dataset": "monsoon",
          "date_str": "2009-11-01",
          "month": 11,
          "quarter": 4,
          "year": "2009"
         },
         {
          "Counts": null,
          "Date": "2009-12-01T00:00:00",
          "Precip": 11,
          "dataset": "monsoon",
          "date_str": "2009-12-01",
          "month": 12,
          "quarter": 4,
          "year": "2009"
         },
         {
          "Counts": null,
          "Date": "2010-01-01T00:00:00",
          "Precip": 6,
          "dataset": "monsoon",
          "date_str": "2010-01-01",
          "month": 1,
          "quarter": 1,
          "year": "2010"
         },
         {
          "Counts": null,
          "Date": "2010-02-01T00:00:00",
          "Precip": 5.4,
          "dataset": "monsoon",
          "date_str": "2010-02-01",
          "month": 2,
          "quarter": 1,
          "year": "2010"
         },
         {
          "Counts": null,
          "Date": "2010-03-01T00:00:00",
          "Precip": 7.9,
          "dataset": "monsoon",
          "date_str": "2010-03-01",
          "month": 3,
          "quarter": 1,
          "year": "2010"
         },
         {
          "Counts": null,
          "Date": "2010-04-01T00:00:00",
          "Precip": 27.9,
          "dataset": "monsoon",
          "date_str": "2010-04-01",
          "month": 4,
          "quarter": 2,
          "year": "2010"
         },
         {
          "Counts": null,
          "Date": "2010-05-01T00:00:00",
          "Precip": 55.1,
          "dataset": "monsoon",
          "date_str": "2010-05-01",
          "month": 5,
          "quarter": 2,
          "year": "2010"
         },
         {
          "Counts": null,
          "Date": "2010-06-01T00:00:00",
          "Precip": 130.5,
          "dataset": "monsoon",
          "date_str": "2010-06-01",
          "month": 6,
          "quarter": 2,
          "year": "2010"
         },
         {
          "Counts": null,
          "Date": "2010-07-01T00:00:00",
          "Precip": 280.5,
          "dataset": "monsoon",
          "date_str": "2010-07-01",
          "month": 7,
          "quarter": 3,
          "year": "2010"
         },
         {
          "Counts": null,
          "Date": "2010-08-01T00:00:00",
          "Precip": 246.2,
          "dataset": "monsoon",
          "date_str": "2010-08-01",
          "month": 8,
          "quarter": 3,
          "year": "2010"
         },
         {
          "Counts": null,
          "Date": "2010-09-01T00:00:00",
          "Precip": 188.4,
          "dataset": "monsoon",
          "date_str": "2010-09-01",
          "month": 9,
          "quarter": 3,
          "year": "2010"
         },
         {
          "Counts": null,
          "Date": "2010-10-01T00:00:00",
          "Precip": 69.3,
          "dataset": "monsoon",
          "date_str": "2010-10-01",
          "month": 10,
          "quarter": 4,
          "year": "2010"
         },
         {
          "Counts": null,
          "Date": "2010-11-01T00:00:00",
          "Precip": 69.3,
          "dataset": "monsoon",
          "date_str": "2010-11-01",
          "month": 11,
          "quarter": 4,
          "year": "2010"
         },
         {
          "Counts": null,
          "Date": "2010-12-01T00:00:00",
          "Precip": 21.1,
          "dataset": "monsoon",
          "date_str": "2010-12-01",
          "month": 12,
          "quarter": 4,
          "year": "2010"
         },
         {
          "Counts": null,
          "Date": "2011-01-01T00:00:00",
          "Precip": 2,
          "dataset": "monsoon",
          "date_str": "2011-01-01",
          "month": 1,
          "quarter": 1,
          "year": "2011"
         },
         {
          "Counts": null,
          "Date": "2011-02-01T00:00:00",
          "Precip": 13.6,
          "dataset": "monsoon",
          "date_str": "2011-02-01",
          "month": 2,
          "quarter": 1,
          "year": "2011"
         },
         {
          "Counts": null,
          "Date": "2011-03-01T00:00:00",
          "Precip": 9.9,
          "dataset": "monsoon",
          "date_str": "2011-03-01",
          "month": 3,
          "quarter": 1,
          "year": "2011"
         },
         {
          "Counts": null,
          "Date": "2011-04-01T00:00:00",
          "Precip": 32.8,
          "dataset": "monsoon",
          "date_str": "2011-04-01",
          "month": 4,
          "quarter": 2,
          "year": "2011"
         },
         {
          "Counts": null,
          "Date": "2011-05-01T00:00:00",
          "Precip": 47.8,
          "dataset": "monsoon",
          "date_str": "2011-05-01",
          "month": 5,
          "quarter": 2,
          "year": "2011"
         },
         {
          "Counts": null,
          "Date": "2011-06-01T00:00:00",
          "Precip": 192.3,
          "dataset": "monsoon",
          "date_str": "2011-06-01",
          "month": 6,
          "quarter": 2,
          "year": "2011"
         },
         {
          "Counts": null,
          "Date": "2011-07-01T00:00:00",
          "Precip": 231.9,
          "dataset": "monsoon",
          "date_str": "2011-07-01",
          "month": 7,
          "quarter": 3,
          "year": "2011"
         },
         {
          "Counts": null,
          "Date": "2011-08-01T00:00:00",
          "Precip": 268.4,
          "dataset": "monsoon",
          "date_str": "2011-08-01",
          "month": 8,
          "quarter": 3,
          "year": "2011"
         },
         {
          "Counts": null,
          "Date": "2011-09-01T00:00:00",
          "Precip": 188.3,
          "dataset": "monsoon",
          "date_str": "2011-09-01",
          "month": 9,
          "quarter": 3,
          "year": "2011"
         },
         {
          "Counts": null,
          "Date": "2011-10-01T00:00:00",
          "Precip": 37.8,
          "dataset": "monsoon",
          "date_str": "2011-10-01",
          "month": 10,
          "quarter": 4,
          "year": "2011"
         },
         {
          "Counts": null,
          "Date": "2011-11-01T00:00:00",
          "Precip": 22.2,
          "dataset": "monsoon",
          "date_str": "2011-11-01",
          "month": 11,
          "quarter": 4,
          "year": "2011"
         },
         {
          "Counts": null,
          "Date": "2011-12-01T00:00:00",
          "Precip": 4.8,
          "dataset": "monsoon",
          "date_str": "2011-12-01",
          "month": 12,
          "quarter": 4,
          "year": "2011"
         },
         {
          "Counts": 6413,
          "Date": "1964-04-01T00:00:00",
          "Precip": null,
          "dataset": "olou",
          "date_str": "1964-04-01",
          "month": 4,
          "quarter": 2,
          "year": "1964"
         },
         {
          "Counts": 6424,
          "Date": "1964-05-01T00:00:00",
          "Precip": null,
          "dataset": "olou",
          "date_str": "1964-05-01",
          "month": 5,
          "quarter": 2,
          "year": "1964"
         },
         {
          "Counts": 6427,
          "Date": "1964-06-01T00:00:00",
          "Precip": null,
          "dataset": "olou",
          "date_str": "1964-06-01",
          "month": 6,
          "quarter": 2,
          "year": "1964"
         },
         {
          "Counts": 6461,
          "Date": "1964-07-01T00:00:00",
          "Precip": null,
          "dataset": "olou",
          "date_str": "1964-07-01",
          "month": 7,
          "quarter": 3,
          "year": "1964"
         },
         {
          "Counts": 6464,
          "Date": "1964-08-01T00:00:00",
          "Precip": null,
          "dataset": "olou",
          "date_str": "1964-08-01",
          "month": 8,
          "quarter": 3,
          "year": "1964"
         },
         {
          "Counts": 6491,
          "Date": "1964-09-01T00:00:00",
          "Precip": null,
          "dataset": "olou",
          "date_str": "1964-09-01",
          "month": 9,
          "quarter": 3,
          "year": "1964"
         },
         {
          "Counts": 6474,
          "Date": "1964-10-01T00:00:00",
          "Precip": null,
          "dataset": "olou",
          "date_str": "1964-10-01",
          "month": 10,
          "quarter": 4,
          "year": "1964"
         },
         {
          "Counts": 6467,
          "Date": "1964-11-01T00:00:00",
          "Precip": null,
          "dataset": "olou",
          "date_str": "1964-11-01",
          "month": 11,
          "quarter": 4,
          "year": "1964"
         },
         {
          "Counts": 6512,
          "Date": "1964-12-01T00:00:00",
          "Precip": null,
          "dataset": "olou",
          "date_str": "1964-12-01",
          "month": 12,
          "quarter": 4,
          "year": "1964"
         },
         {
          "Counts": 6505,
          "Date": "1965-01-01T00:00:00",
          "Precip": null,
          "dataset": "olou",
          "date_str": "1965-01-01",
          "month": 1,
          "quarter": 1,
          "year": "1965"
         },
         {
          "Counts": 6466,
          "Date": "1965-02-01T00:00:00",
          "Precip": null,
          "dataset": "olou",
          "date_str": "1965-02-01",
          "month": 2,
          "quarter": 1,
          "year": "1965"
         },
         {
          "Counts": 6532,
          "Date": "1965-03-01T00:00:00",
          "Precip": null,
          "dataset": "olou",
          "date_str": "1965-03-01",
          "month": 3,
          "quarter": 1,
          "year": "1965"
         },
         {
          "Counts": 6592,
          "Date": "1965-04-01T00:00:00",
          "Precip": null,
          "dataset": "olou",
          "date_str": "1965-04-01",
          "month": 4,
          "quarter": 2,
          "year": "1965"
         },
         {
          "Counts": 6619,
          "Date": "1965-05-01T00:00:00",
          "Precip": null,
          "dataset": "olou",
          "date_str": "1965-05-01",
          "month": 5,
          "quarter": 2,
          "year": "1965"
         },
         {
          "Counts": 6512,
          "Date": "1965-06-01T00:00:00",
          "Precip": null,
          "dataset": "olou",
          "date_str": "1965-06-01",
          "month": 6,
          "quarter": 2,
          "year": "1965"
         },
         {
          "Counts": 6472,
          "Date": "1965-07-01T00:00:00",
          "Precip": null,
          "dataset": "olou",
          "date_str": "1965-07-01",
          "month": 7,
          "quarter": 3,
          "year": "1965"
         },
         {
          "Counts": 6453,
          "Date": "1965-08-01T00:00:00",
          "Precip": null,
          "dataset": "olou",
          "date_str": "1965-08-01",
          "month": 8,
          "quarter": 3,
          "year": "1965"
         },
         {
          "Counts": 6470,
          "Date": "1965-09-01T00:00:00",
          "Precip": null,
          "dataset": "olou",
          "date_str": "1965-09-01",
          "month": 9,
          "quarter": 3,
          "year": "1965"
         },
         {
          "Counts": 6508,
          "Date": "1965-10-01T00:00:00",
          "Precip": null,
          "dataset": "olou",
          "date_str": "1965-10-01",
          "month": 10,
          "quarter": 4,
          "year": "1965"
         },
         {
          "Counts": 6558,
          "Date": "1965-11-01T00:00:00",
          "Precip": null,
          "dataset": "olou",
          "date_str": "1965-11-01",
          "month": 11,
          "quarter": 4,
          "year": "1965"
         },
         {
          "Counts": 6507,
          "Date": "1965-12-01T00:00:00",
          "Precip": null,
          "dataset": "olou",
          "date_str": "1965-12-01",
          "month": 12,
          "quarter": 4,
          "year": "1965"
         },
         {
          "Counts": 6423,
          "Date": "1966-01-01T00:00:00",
          "Precip": null,
          "dataset": "olou",
          "date_str": "1966-01-01",
          "month": 1,
          "quarter": 1,
          "year": "1966"
         },
         {
          "Counts": 6376,
          "Date": "1966-02-01T00:00:00",
          "Precip": null,
          "dataset": "olou",
          "date_str": "1966-02-01",
          "month": 2,
          "quarter": 1,
          "year": "1966"
         },
         {
          "Counts": 6410,
          "Date": "1966-03-01T00:00:00",
          "Precip": null,
          "dataset": "olou",
          "date_str": "1966-03-01",
          "month": 3,
          "quarter": 1,
          "year": "1966"
         },
         {
          "Counts": 6396,
          "Date": "1966-04-01T00:00:00",
          "Precip": null,
          "dataset": "olou",
          "date_str": "1966-04-01",
          "month": 4,
          "quarter": 2,
          "year": "1966"
         },
         {
          "Counts": 6434,
          "Date": "1966-05-01T00:00:00",
          "Precip": null,
          "dataset": "olou",
          "date_str": "1966-05-01",
          "month": 5,
          "quarter": 2,
          "year": "1966"
         },
         {
          "Counts": 6345,
          "Date": "1966-06-01T00:00:00",
          "Precip": null,
          "dataset": "olou",
          "date_str": "1966-06-01",
          "month": 6,
          "quarter": 2,
          "year": "1966"
         },
         {
          "Counts": 6304,
          "Date": "1966-07-01T00:00:00",
          "Precip": null,
          "dataset": "olou",
          "date_str": "1966-07-01",
          "month": 7,
          "quarter": 3,
          "year": "1966"
         },
         {
          "Counts": 6277,
          "Date": "1966-08-01T00:00:00",
          "Precip": null,
          "dataset": "olou",
          "date_str": "1966-08-01",
          "month": 8,
          "quarter": 3,
          "year": "1966"
         },
         {
          "Counts": 6040,
          "Date": "1966-09-01T00:00:00",
          "Precip": null,
          "dataset": "olou",
          "date_str": "1966-09-01",
          "month": 9,
          "quarter": 3,
          "year": "1966"
         },
         {
          "Counts": 6162,
          "Date": "1966-10-01T00:00:00",
          "Precip": null,
          "dataset": "olou",
          "date_str": "1966-10-01",
          "month": 10,
          "quarter": 4,
          "year": "1966"
         },
         {
          "Counts": 6220,
          "Date": "1966-11-01T00:00:00",
          "Precip": null,
          "dataset": "olou",
          "date_str": "1966-11-01",
          "month": 11,
          "quarter": 4,
          "year": "1966"
         },
         {
          "Counts": 6155,
          "Date": "1966-12-01T00:00:00",
          "Precip": null,
          "dataset": "olou",
          "date_str": "1966-12-01",
          "month": 12,
          "quarter": 4,
          "year": "1966"
         },
         {
          "Counts": 6021,
          "Date": "1967-01-01T00:00:00",
          "Precip": null,
          "dataset": "olou",
          "date_str": "1967-01-01",
          "month": 1,
          "quarter": 1,
          "year": "1967"
         },
         {
          "Counts": 5961,
          "Date": "1967-02-01T00:00:00",
          "Precip": null,
          "dataset": "olou",
          "date_str": "1967-02-01",
          "month": 2,
          "quarter": 1,
          "year": "1967"
         },
         {
          "Counts": 6074,
          "Date": "1967-03-01T00:00:00",
          "Precip": null,
          "dataset": "olou",
          "date_str": "1967-03-01",
          "month": 3,
          "quarter": 1,
          "year": "1967"
         },
         {
          "Counts": 6151,
          "Date": "1967-04-01T00:00:00",
          "Precip": null,
          "dataset": "olou",
          "date_str": "1967-04-01",
          "month": 4,
          "quarter": 2,
          "year": "1967"
         },
         {
          "Counts": 6040,
          "Date": "1967-05-01T00:00:00",
          "Precip": null,
          "dataset": "olou",
          "date_str": "1967-05-01",
          "month": 5,
          "quarter": 2,
          "year": "1967"
         },
         {
          "Counts": 5996,
          "Date": "1967-06-01T00:00:00",
          "Precip": null,
          "dataset": "olou",
          "date_str": "1967-06-01",
          "month": 6,
          "quarter": 2,
          "year": "1967"
         },
         {
          "Counts": 6047,
          "Date": "1967-07-01T00:00:00",
          "Precip": null,
          "dataset": "olou",
          "date_str": "1967-07-01",
          "month": 7,
          "quarter": 3,
          "year": "1967"
         },
         {
          "Counts": 5981,
          "Date": "1967-08-01T00:00:00",
          "Precip": null,
          "dataset": "olou",
          "date_str": "1967-08-01",
          "month": 8,
          "quarter": 3,
          "year": "1967"
         },
         {
          "Counts": 6037,
          "Date": "1967-09-01T00:00:00",
          "Precip": null,
          "dataset": "olou",
          "date_str": "1967-09-01",
          "month": 9,
          "quarter": 3,
          "year": "1967"
         },
         {
          "Counts": 6069,
          "Date": "1967-10-01T00:00:00",
          "Precip": null,
          "dataset": "olou",
          "date_str": "1967-10-01",
          "month": 10,
          "quarter": 4,
          "year": "1967"
         },
         {
          "Counts": 6010,
          "Date": "1967-11-01T00:00:00",
          "Precip": null,
          "dataset": "olou",
          "date_str": "1967-11-01",
          "month": 11,
          "quarter": 4,
          "year": "1967"
         },
         {
          "Counts": 6003,
          "Date": "1967-12-01T00:00:00",
          "Precip": null,
          "dataset": "olou",
          "date_str": "1967-12-01",
          "month": 12,
          "quarter": 4,
          "year": "1967"
         },
         {
          "Counts": 5953,
          "Date": "1968-01-01T00:00:00",
          "Precip": null,
          "dataset": "olou",
          "date_str": "1968-01-01",
          "month": 1,
          "quarter": 1,
          "year": "1968"
         },
         {
          "Counts": 5879,
          "Date": "1968-02-01T00:00:00",
          "Precip": null,
          "dataset": "olou",
          "date_str": "1968-02-01",
          "month": 2,
          "quarter": 1,
          "year": "1968"
         },
         {
          "Counts": 5912,
          "Date": "1968-03-01T00:00:00",
          "Precip": null,
          "dataset": "olou",
          "date_str": "1968-03-01",
          "month": 3,
          "quarter": 1,
          "year": "1968"
         },
         {
          "Counts": 6049,
          "Date": "1968-04-01T00:00:00",
          "Precip": null,
          "dataset": "olou",
          "date_str": "1968-04-01",
          "month": 4,
          "quarter": 2,
          "year": "1968"
         },
         {
          "Counts": 5984,
          "Date": "1968-05-01T00:00:00",
          "Precip": null,
          "dataset": "olou",
          "date_str": "1968-05-01",
          "month": 5,
          "quarter": 2,
          "year": "1968"
         },
         {
          "Counts": 5905,
          "Date": "1968-06-01T00:00:00",
          "Precip": null,
          "dataset": "olou",
          "date_str": "1968-06-01",
          "month": 6,
          "quarter": 2,
          "year": "1968"
         },
         {
          "Counts": 5924,
          "Date": "1968-07-01T00:00:00",
          "Precip": null,
          "dataset": "olou",
          "date_str": "1968-07-01",
          "month": 7,
          "quarter": 3,
          "year": "1968"
         },
         {
          "Counts": 5942,
          "Date": "1968-08-01T00:00:00",
          "Precip": null,
          "dataset": "olou",
          "date_str": "1968-08-01",
          "month": 8,
          "quarter": 3,
          "year": "1968"
         },
         {
          "Counts": 5893,
          "Date": "1968-09-01T00:00:00",
          "Precip": null,
          "dataset": "olou",
          "date_str": "1968-09-01",
          "month": 9,
          "quarter": 3,
          "year": "1968"
         },
         {
          "Counts": 5801,
          "Date": "1968-10-01T00:00:00",
          "Precip": null,
          "dataset": "olou",
          "date_str": "1968-10-01",
          "month": 10,
          "quarter": 4,
          "year": "1968"
         },
         {
          "Counts": 5623,
          "Date": "1968-11-01T00:00:00",
          "Precip": null,
          "dataset": "olou",
          "date_str": "1968-11-01",
          "month": 11,
          "quarter": 4,
          "year": "1968"
         },
         {
          "Counts": 5654,
          "Date": "1968-12-01T00:00:00",
          "Precip": null,
          "dataset": "olou",
          "date_str": "1968-12-01",
          "month": 12,
          "quarter": 4,
          "year": "1968"
         },
         {
          "Counts": 5771,
          "Date": "1969-01-01T00:00:00",
          "Precip": null,
          "dataset": "olou",
          "date_str": "1969-01-01",
          "month": 1,
          "quarter": 1,
          "year": "1969"
         },
         {
          "Counts": 5730,
          "Date": "1969-02-01T00:00:00",
          "Precip": null,
          "dataset": "olou",
          "date_str": "1969-02-01",
          "month": 2,
          "quarter": 1,
          "year": "1969"
         },
         {
          "Counts": 5743,
          "Date": "1969-03-01T00:00:00",
          "Precip": null,
          "dataset": "olou",
          "date_str": "1969-03-01",
          "month": 3,
          "quarter": 1,
          "year": "1969"
         },
         {
          "Counts": 5828,
          "Date": "1969-04-01T00:00:00",
          "Precip": null,
          "dataset": "olou",
          "date_str": "1969-04-01",
          "month": 4,
          "quarter": 2,
          "year": "1969"
         },
         {
          "Counts": 5686,
          "Date": "1969-05-01T00:00:00",
          "Precip": null,
          "dataset": "olou",
          "date_str": "1969-05-01",
          "month": 5,
          "quarter": 2,
          "year": "1969"
         },
         {
          "Counts": 5628,
          "Date": "1969-06-01T00:00:00",
          "Precip": null,
          "dataset": "olou",
          "date_str": "1969-06-01",
          "month": 6,
          "quarter": 2,
          "year": "1969"
         },
         {
          "Counts": 5689,
          "Date": "1969-07-01T00:00:00",
          "Precip": null,
          "dataset": "olou",
          "date_str": "1969-07-01",
          "month": 7,
          "quarter": 3,
          "year": "1969"
         },
         {
          "Counts": 5785,
          "Date": "1969-08-01T00:00:00",
          "Precip": null,
          "dataset": "olou",
          "date_str": "1969-08-01",
          "month": 8,
          "quarter": 3,
          "year": "1969"
         },
         {
          "Counts": 5832,
          "Date": "1969-09-01T00:00:00",
          "Precip": null,
          "dataset": "olou",
          "date_str": "1969-09-01",
          "month": 9,
          "quarter": 3,
          "year": "1969"
         },
         {
          "Counts": 5860,
          "Date": "1969-10-01T00:00:00",
          "Precip": null,
          "dataset": "olou",
          "date_str": "1969-10-01",
          "month": 10,
          "quarter": 4,
          "year": "1969"
         },
         {
          "Counts": 5850,
          "Date": "1969-11-01T00:00:00",
          "Precip": null,
          "dataset": "olou",
          "date_str": "1969-11-01",
          "month": 11,
          "quarter": 4,
          "year": "1969"
         },
         {
          "Counts": 5864,
          "Date": "1969-12-01T00:00:00",
          "Precip": null,
          "dataset": "olou",
          "date_str": "1969-12-01",
          "month": 12,
          "quarter": 4,
          "year": "1969"
         },
         {
          "Counts": 5791,
          "Date": "1970-01-01T00:00:00",
          "Precip": null,
          "dataset": "olou",
          "date_str": "1970-01-01",
          "month": 1,
          "quarter": 1,
          "year": "1970"
         },
         {
          "Counts": 5789,
          "Date": "1970-02-01T00:00:00",
          "Precip": null,
          "dataset": "olou",
          "date_str": "1970-02-01",
          "month": 2,
          "quarter": 1,
          "year": "1970"
         },
         {
          "Counts": 5794,
          "Date": "1970-03-01T00:00:00",
          "Precip": null,
          "dataset": "olou",
          "date_str": "1970-03-01",
          "month": 3,
          "quarter": 1,
          "year": "1970"
         },
         {
          "Counts": 5803,
          "Date": "1970-04-01T00:00:00",
          "Precip": null,
          "dataset": "olou",
          "date_str": "1970-04-01",
          "month": 4,
          "quarter": 2,
          "year": "1970"
         },
         {
          "Counts": 5841,
          "Date": "1970-05-01T00:00:00",
          "Precip": null,
          "dataset": "olou",
          "date_str": "1970-05-01",
          "month": 5,
          "quarter": 2,
          "year": "1970"
         },
         {
          "Counts": 5698,
          "Date": "1970-06-01T00:00:00",
          "Precip": null,
          "dataset": "olou",
          "date_str": "1970-06-01",
          "month": 6,
          "quarter": 2,
          "year": "1970"
         },
         {
          "Counts": 5689,
          "Date": "1970-07-01T00:00:00",
          "Precip": null,
          "dataset": "olou",
          "date_str": "1970-07-01",
          "month": 7,
          "quarter": 3,
          "year": "1970"
         },
         {
          "Counts": 5781,
          "Date": "1970-08-01T00:00:00",
          "Precip": null,
          "dataset": "olou",
          "date_str": "1970-08-01",
          "month": 8,
          "quarter": 3,
          "year": "1970"
         },
         {
          "Counts": 5869,
          "Date": "1970-09-01T00:00:00",
          "Precip": null,
          "dataset": "olou",
          "date_str": "1970-09-01",
          "month": 9,
          "quarter": 3,
          "year": "1970"
         },
         {
          "Counts": 5910,
          "Date": "1970-10-01T00:00:00",
          "Precip": null,
          "dataset": "olou",
          "date_str": "1970-10-01",
          "month": 10,
          "quarter": 4,
          "year": "1970"
         },
         {
          "Counts": 5794,
          "Date": "1970-11-01T00:00:00",
          "Precip": null,
          "dataset": "olou",
          "date_str": "1970-11-01",
          "month": 11,
          "quarter": 4,
          "year": "1970"
         },
         {
          "Counts": 5939,
          "Date": "1970-12-01T00:00:00",
          "Precip": null,
          "dataset": "olou",
          "date_str": "1970-12-01",
          "month": 12,
          "quarter": 4,
          "year": "1970"
         },
         {
          "Counts": 5909,
          "Date": "1971-01-01T00:00:00",
          "Precip": null,
          "dataset": "olou",
          "date_str": "1971-01-01",
          "month": 1,
          "quarter": 1,
          "year": "1971"
         },
         {
          "Counts": 6003,
          "Date": "1971-02-01T00:00:00",
          "Precip": null,
          "dataset": "olou",
          "date_str": "1971-02-01",
          "month": 2,
          "quarter": 1,
          "year": "1971"
         },
         {
          "Counts": 5955,
          "Date": "1971-03-01T00:00:00",
          "Precip": null,
          "dataset": "olou",
          "date_str": "1971-03-01",
          "month": 3,
          "quarter": 1,
          "year": "1971"
         },
         {
          "Counts": 6089,
          "Date": "1971-04-01T00:00:00",
          "Precip": null,
          "dataset": "olou",
          "date_str": "1971-04-01",
          "month": 4,
          "quarter": 2,
          "year": "1971"
         },
         {
          "Counts": 6132,
          "Date": "1971-05-01T00:00:00",
          "Precip": null,
          "dataset": "olou",
          "date_str": "1971-05-01",
          "month": 5,
          "quarter": 2,
          "year": "1971"
         },
         {
          "Counts": 6254,
          "Date": "1971-06-01T00:00:00",
          "Precip": null,
          "dataset": "olou",
          "date_str": "1971-06-01",
          "month": 6,
          "quarter": 2,
          "year": "1971"
         },
         {
          "Counts": 6265,
          "Date": "1971-07-01T00:00:00",
          "Precip": null,
          "dataset": "olou",
          "date_str": "1971-07-01",
          "month": 7,
          "quarter": 3,
          "year": "1971"
         },
         {
          "Counts": 6319,
          "Date": "1971-08-01T00:00:00",
          "Precip": null,
          "dataset": "olou",
          "date_str": "1971-08-01",
          "month": 8,
          "quarter": 3,
          "year": "1971"
         },
         {
          "Counts": 6323,
          "Date": "1971-09-01T00:00:00",
          "Precip": null,
          "dataset": "olou",
          "date_str": "1971-09-01",
          "month": 9,
          "quarter": 3,
          "year": "1971"
         },
         {
          "Counts": 6386,
          "Date": "1971-10-01T00:00:00",
          "Precip": null,
          "dataset": "olou",
          "date_str": "1971-10-01",
          "month": 10,
          "quarter": 4,
          "year": "1971"
         },
         {
          "Counts": 6348,
          "Date": "1971-11-01T00:00:00",
          "Precip": null,
          "dataset": "olou",
          "date_str": "1971-11-01",
          "month": 11,
          "quarter": 4,
          "year": "1971"
         },
         {
          "Counts": 6294,
          "Date": "1971-12-01T00:00:00",
          "Precip": null,
          "dataset": "olou",
          "date_str": "1971-12-01",
          "month": 12,
          "quarter": 4,
          "year": "1971"
         },
         {
          "Counts": 6227,
          "Date": "1972-01-01T00:00:00",
          "Precip": null,
          "dataset": "olou",
          "date_str": "1972-01-01",
          "month": 1,
          "quarter": 1,
          "year": "1972"
         },
         {
          "Counts": 6130,
          "Date": "1972-02-01T00:00:00",
          "Precip": null,
          "dataset": "olou",
          "date_str": "1972-02-01",
          "month": 2,
          "quarter": 1,
          "year": "1972"
         },
         {
          "Counts": 6391,
          "Date": "1972-03-01T00:00:00",
          "Precip": null,
          "dataset": "olou",
          "date_str": "1972-03-01",
          "month": 3,
          "quarter": 1,
          "year": "1972"
         },
         {
          "Counts": 6445,
          "Date": "1972-04-01T00:00:00",
          "Precip": null,
          "dataset": "olou",
          "date_str": "1972-04-01",
          "month": 4,
          "quarter": 2,
          "year": "1972"
         },
         {
          "Counts": 6410,
          "Date": "1972-05-01T00:00:00",
          "Precip": null,
          "dataset": "olou",
          "date_str": "1972-05-01",
          "month": 5,
          "quarter": 2,
          "year": "1972"
         },
         {
          "Counts": 6269,
          "Date": "1972-06-01T00:00:00",
          "Precip": null,
          "dataset": "olou",
          "date_str": "1972-06-01",
          "month": 6,
          "quarter": 2,
          "year": "1972"
         },
         {
          "Counts": 6356,
          "Date": "1972-07-01T00:00:00",
          "Precip": null,
          "dataset": "olou",
          "date_str": "1972-07-01",
          "month": 7,
          "quarter": 3,
          "year": "1972"
         },
         {
          "Counts": 6092,
          "Date": "1972-08-01T00:00:00",
          "Precip": null,
          "dataset": "olou",
          "date_str": "1972-08-01",
          "month": 8,
          "quarter": 3,
          "year": "1972"
         },
         {
          "Counts": 6347,
          "Date": "1972-09-01T00:00:00",
          "Precip": null,
          "dataset": "olou",
          "date_str": "1972-09-01",
          "month": 9,
          "quarter": 3,
          "year": "1972"
         },
         {
          "Counts": 6353,
          "Date": "1972-10-01T00:00:00",
          "Precip": null,
          "dataset": "olou",
          "date_str": "1972-10-01",
          "month": 10,
          "quarter": 4,
          "year": "1972"
         },
         {
          "Counts": 6148,
          "Date": "1972-11-01T00:00:00",
          "Precip": null,
          "dataset": "olou",
          "date_str": "1972-11-01",
          "month": 11,
          "quarter": 4,
          "year": "1972"
         },
         {
          "Counts": 6354,
          "Date": "1972-12-01T00:00:00",
          "Precip": null,
          "dataset": "olou",
          "date_str": "1972-12-01",
          "month": 12,
          "quarter": 4,
          "year": "1972"
         },
         {
          "Counts": 6365,
          "Date": "1973-01-01T00:00:00",
          "Precip": null,
          "dataset": "olou",
          "date_str": "1973-01-01",
          "month": 1,
          "quarter": 1,
          "year": "1973"
         },
         {
          "Counts": 6333,
          "Date": "1973-02-01T00:00:00",
          "Precip": null,
          "dataset": "olou",
          "date_str": "1973-02-01",
          "month": 2,
          "quarter": 1,
          "year": "1973"
         },
         {
          "Counts": 6308,
          "Date": "1973-03-01T00:00:00",
          "Precip": null,
          "dataset": "olou",
          "date_str": "1973-03-01",
          "month": 3,
          "quarter": 1,
          "year": "1973"
         },
         {
          "Counts": 6197,
          "Date": "1973-04-01T00:00:00",
          "Precip": null,
          "dataset": "olou",
          "date_str": "1973-04-01",
          "month": 4,
          "quarter": 2,
          "year": "1973"
         },
         {
          "Counts": 6126,
          "Date": "1973-05-01T00:00:00",
          "Precip": null,
          "dataset": "olou",
          "date_str": "1973-05-01",
          "month": 5,
          "quarter": 2,
          "year": "1973"
         },
         {
          "Counts": 6262,
          "Date": "1973-06-01T00:00:00",
          "Precip": null,
          "dataset": "olou",
          "date_str": "1973-06-01",
          "month": 6,
          "quarter": 2,
          "year": "1973"
         },
         {
          "Counts": 6313,
          "Date": "1973-07-01T00:00:00",
          "Precip": null,
          "dataset": "olou",
          "date_str": "1973-07-01",
          "month": 7,
          "quarter": 3,
          "year": "1973"
         },
         {
          "Counts": 6360,
          "Date": "1973-08-01T00:00:00",
          "Precip": null,
          "dataset": "olou",
          "date_str": "1973-08-01",
          "month": 8,
          "quarter": 3,
          "year": "1973"
         },
         {
          "Counts": 6472,
          "Date": "1973-09-01T00:00:00",
          "Precip": null,
          "dataset": "olou",
          "date_str": "1973-09-01",
          "month": 9,
          "quarter": 3,
          "year": "1973"
         },
         {
          "Counts": 6446,
          "Date": "1973-10-01T00:00:00",
          "Precip": null,
          "dataset": "olou",
          "date_str": "1973-10-01",
          "month": 10,
          "quarter": 4,
          "year": "1973"
         },
         {
          "Counts": 6475,
          "Date": "1973-11-01T00:00:00",
          "Precip": null,
          "dataset": "olou",
          "date_str": "1973-11-01",
          "month": 11,
          "quarter": 4,
          "year": "1973"
         },
         {
          "Counts": 6475,
          "Date": "1973-12-01T00:00:00",
          "Precip": null,
          "dataset": "olou",
          "date_str": "1973-12-01",
          "month": 12,
          "quarter": 4,
          "year": "1973"
         },
         {
          "Counts": 6453,
          "Date": "1974-01-01T00:00:00",
          "Precip": null,
          "dataset": "olou",
          "date_str": "1974-01-01",
          "month": 1,
          "quarter": 1,
          "year": "1974"
         },
         {
          "Counts": 6480,
          "Date": "1974-02-01T00:00:00",
          "Precip": null,
          "dataset": "olou",
          "date_str": "1974-02-01",
          "month": 2,
          "quarter": 1,
          "year": "1974"
         },
         {
          "Counts": 6417,
          "Date": "1974-03-01T00:00:00",
          "Precip": null,
          "dataset": "olou",
          "date_str": "1974-03-01",
          "month": 3,
          "quarter": 1,
          "year": "1974"
         },
         {
          "Counts": 6383,
          "Date": "1974-04-01T00:00:00",
          "Precip": null,
          "dataset": "olou",
          "date_str": "1974-04-01",
          "month": 4,
          "quarter": 2,
          "year": "1974"
         },
         {
          "Counts": 6281,
          "Date": "1974-05-01T00:00:00",
          "Precip": null,
          "dataset": "olou",
          "date_str": "1974-05-01",
          "month": 5,
          "quarter": 2,
          "year": "1974"
         },
         {
          "Counts": 6213,
          "Date": "1974-06-01T00:00:00",
          "Precip": null,
          "dataset": "olou",
          "date_str": "1974-06-01",
          "month": 6,
          "quarter": 2,
          "year": "1974"
         },
         {
          "Counts": 6094,
          "Date": "1974-07-01T00:00:00",
          "Precip": null,
          "dataset": "olou",
          "date_str": "1974-07-01",
          "month": 7,
          "quarter": 3,
          "year": "1974"
         },
         {
          "Counts": 6194,
          "Date": "1974-08-01T00:00:00",
          "Precip": null,
          "dataset": "olou",
          "date_str": "1974-08-01",
          "month": 8,
          "quarter": 3,
          "year": "1974"
         },
         {
          "Counts": 6149,
          "Date": "1974-09-01T00:00:00",
          "Precip": null,
          "dataset": "olou",
          "date_str": "1974-09-01",
          "month": 9,
          "quarter": 3,
          "year": "1974"
         },
         {
          "Counts": 6155,
          "Date": "1974-10-01T00:00:00",
          "Precip": null,
          "dataset": "olou",
          "date_str": "1974-10-01",
          "month": 10,
          "quarter": 4,
          "year": "1974"
         },
         {
          "Counts": 6192,
          "Date": "1974-11-01T00:00:00",
          "Precip": null,
          "dataset": "olou",
          "date_str": "1974-11-01",
          "month": 11,
          "quarter": 4,
          "year": "1974"
         },
         {
          "Counts": 6303,
          "Date": "1974-12-01T00:00:00",
          "Precip": null,
          "dataset": "olou",
          "date_str": "1974-12-01",
          "month": 12,
          "quarter": 4,
          "year": "1974"
         },
         {
          "Counts": 6318,
          "Date": "1975-01-01T00:00:00",
          "Precip": null,
          "dataset": "olou",
          "date_str": "1975-01-01",
          "month": 1,
          "quarter": 1,
          "year": "1975"
         },
         {
          "Counts": 6374,
          "Date": "1975-02-01T00:00:00",
          "Precip": null,
          "dataset": "olou",
          "date_str": "1975-02-01",
          "month": 2,
          "quarter": 1,
          "year": "1975"
         },
         {
          "Counts": 6389,
          "Date": "1975-03-01T00:00:00",
          "Precip": null,
          "dataset": "olou",
          "date_str": "1975-03-01",
          "month": 3,
          "quarter": 1,
          "year": "1975"
         },
         {
          "Counts": 6429,
          "Date": "1975-04-01T00:00:00",
          "Precip": null,
          "dataset": "olou",
          "date_str": "1975-04-01",
          "month": 4,
          "quarter": 2,
          "year": "1975"
         },
         {
          "Counts": 6438,
          "Date": "1975-05-01T00:00:00",
          "Precip": null,
          "dataset": "olou",
          "date_str": "1975-05-01",
          "month": 5,
          "quarter": 2,
          "year": "1975"
         },
         {
          "Counts": 6462,
          "Date": "1975-06-01T00:00:00",
          "Precip": null,
          "dataset": "olou",
          "date_str": "1975-06-01",
          "month": 6,
          "quarter": 2,
          "year": "1975"
         },
         {
          "Counts": 6447,
          "Date": "1975-07-01T00:00:00",
          "Precip": null,
          "dataset": "olou",
          "date_str": "1975-07-01",
          "month": 7,
          "quarter": 3,
          "year": "1975"
         },
         {
          "Counts": 6405,
          "Date": "1975-08-01T00:00:00",
          "Precip": null,
          "dataset": "olou",
          "date_str": "1975-08-01",
          "month": 8,
          "quarter": 3,
          "year": "1975"
         },
         {
          "Counts": 6427,
          "Date": "1975-09-01T00:00:00",
          "Precip": null,
          "dataset": "olou",
          "date_str": "1975-09-01",
          "month": 9,
          "quarter": 3,
          "year": "1975"
         },
         {
          "Counts": 6420,
          "Date": "1975-10-01T00:00:00",
          "Precip": null,
          "dataset": "olou",
          "date_str": "1975-10-01",
          "month": 10,
          "quarter": 4,
          "year": "1975"
         },
         {
          "Counts": 6356,
          "Date": "1975-11-01T00:00:00",
          "Precip": null,
          "dataset": "olou",
          "date_str": "1975-11-01",
          "month": 11,
          "quarter": 4,
          "year": "1975"
         },
         {
          "Counts": 6429,
          "Date": "1975-12-01T00:00:00",
          "Precip": null,
          "dataset": "olou",
          "date_str": "1975-12-01",
          "month": 12,
          "quarter": 4,
          "year": "1975"
         },
         {
          "Counts": 6417,
          "Date": "1976-01-01T00:00:00",
          "Precip": null,
          "dataset": "olou",
          "date_str": "1976-01-01",
          "month": 1,
          "quarter": 1,
          "year": "1976"
         },
         {
          "Counts": 6415,
          "Date": "1976-02-01T00:00:00",
          "Precip": null,
          "dataset": "olou",
          "date_str": "1976-02-01",
          "month": 2,
          "quarter": 1,
          "year": "1976"
         },
         {
          "Counts": 6418,
          "Date": "1976-03-01T00:00:00",
          "Precip": null,
          "dataset": "olou",
          "date_str": "1976-03-01",
          "month": 3,
          "quarter": 1,
          "year": "1976"
         },
         {
          "Counts": 6372,
          "Date": "1976-04-01T00:00:00",
          "Precip": null,
          "dataset": "olou",
          "date_str": "1976-04-01",
          "month": 4,
          "quarter": 2,
          "year": "1976"
         },
         {
          "Counts": 6413,
          "Date": "1976-05-01T00:00:00",
          "Precip": null,
          "dataset": "olou",
          "date_str": "1976-05-01",
          "month": 5,
          "quarter": 2,
          "year": "1976"
         },
         {
          "Counts": 6442,
          "Date": "1976-06-01T00:00:00",
          "Precip": null,
          "dataset": "olou",
          "date_str": "1976-06-01",
          "month": 6,
          "quarter": 2,
          "year": "1976"
         },
         {
          "Counts": 6468,
          "Date": "1976-07-01T00:00:00",
          "Precip": null,
          "dataset": "olou",
          "date_str": "1976-07-01",
          "month": 7,
          "quarter": 3,
          "year": "1976"
         },
         {
          "Counts": 6476,
          "Date": "1976-08-01T00:00:00",
          "Precip": null,
          "dataset": "olou",
          "date_str": "1976-08-01",
          "month": 8,
          "quarter": 3,
          "year": "1976"
         },
         {
          "Counts": 6488,
          "Date": "1976-09-01T00:00:00",
          "Precip": null,
          "dataset": "olou",
          "date_str": "1976-09-01",
          "month": 9,
          "quarter": 3,
          "year": "1976"
         },
         {
          "Counts": 6480,
          "Date": "1976-10-01T00:00:00",
          "Precip": null,
          "dataset": "olou",
          "date_str": "1976-10-01",
          "month": 10,
          "quarter": 4,
          "year": "1976"
         },
         {
          "Counts": 6493,
          "Date": "1976-11-01T00:00:00",
          "Precip": null,
          "dataset": "olou",
          "date_str": "1976-11-01",
          "month": 11,
          "quarter": 4,
          "year": "1976"
         },
         {
          "Counts": 6469,
          "Date": "1976-12-01T00:00:00",
          "Precip": null,
          "dataset": "olou",
          "date_str": "1976-12-01",
          "month": 12,
          "quarter": 4,
          "year": "1976"
         },
         {
          "Counts": 6434,
          "Date": "1977-01-01T00:00:00",
          "Precip": null,
          "dataset": "olou",
          "date_str": "1977-01-01",
          "month": 1,
          "quarter": 1,
          "year": "1977"
         },
         {
          "Counts": 6439,
          "Date": "1977-02-01T00:00:00",
          "Precip": null,
          "dataset": "olou",
          "date_str": "1977-02-01",
          "month": 2,
          "quarter": 1,
          "year": "1977"
         },
         {
          "Counts": 6454,
          "Date": "1977-03-01T00:00:00",
          "Precip": null,
          "dataset": "olou",
          "date_str": "1977-03-01",
          "month": 3,
          "quarter": 1,
          "year": "1977"
         },
         {
          "Counts": 6435,
          "Date": "1977-04-01T00:00:00",
          "Precip": null,
          "dataset": "olou",
          "date_str": "1977-04-01",
          "month": 4,
          "quarter": 2,
          "year": "1977"
         },
         {
          "Counts": 6436,
          "Date": "1977-05-01T00:00:00",
          "Precip": null,
          "dataset": "olou",
          "date_str": "1977-05-01",
          "month": 5,
          "quarter": 2,
          "year": "1977"
         },
         {
          "Counts": 6432,
          "Date": "1977-06-01T00:00:00",
          "Precip": null,
          "dataset": "olou",
          "date_str": "1977-06-01",
          "month": 6,
          "quarter": 2,
          "year": "1977"
         },
         {
          "Counts": 6343,
          "Date": "1977-07-01T00:00:00",
          "Precip": null,
          "dataset": "olou",
          "date_str": "1977-07-01",
          "month": 7,
          "quarter": 3,
          "year": "1977"
         },
         {
          "Counts": 6357,
          "Date": "1977-08-01T00:00:00",
          "Precip": null,
          "dataset": "olou",
          "date_str": "1977-08-01",
          "month": 8,
          "quarter": 3,
          "year": "1977"
         },
         {
          "Counts": 6368,
          "Date": "1977-09-01T00:00:00",
          "Precip": null,
          "dataset": "olou",
          "date_str": "1977-09-01",
          "month": 9,
          "quarter": 3,
          "year": "1977"
         },
         {
          "Counts": 6419,
          "Date": "1977-10-01T00:00:00",
          "Precip": null,
          "dataset": "olou",
          "date_str": "1977-10-01",
          "month": 10,
          "quarter": 4,
          "year": "1977"
         },
         {
          "Counts": 6482,
          "Date": "1977-11-01T00:00:00",
          "Precip": null,
          "dataset": "olou",
          "date_str": "1977-11-01",
          "month": 11,
          "quarter": 4,
          "year": "1977"
         },
         {
          "Counts": 6452,
          "Date": "1977-12-01T00:00:00",
          "Precip": null,
          "dataset": "olou",
          "date_str": "1977-12-01",
          "month": 12,
          "quarter": 4,
          "year": "1977"
         },
         {
          "Counts": 6343,
          "Date": "1978-01-01T00:00:00",
          "Precip": null,
          "dataset": "olou",
          "date_str": "1978-01-01",
          "month": 1,
          "quarter": 1,
          "year": "1978"
         },
         {
          "Counts": 6311,
          "Date": "1978-02-01T00:00:00",
          "Precip": null,
          "dataset": "olou",
          "date_str": "1978-02-01",
          "month": 2,
          "quarter": 1,
          "year": "1978"
         },
         {
          "Counts": 6298,
          "Date": "1978-03-01T00:00:00",
          "Precip": null,
          "dataset": "olou",
          "date_str": "1978-03-01",
          "month": 3,
          "quarter": 1,
          "year": "1978"
         },
         {
          "Counts": 6185,
          "Date": "1978-04-01T00:00:00",
          "Precip": null,
          "dataset": "olou",
          "date_str": "1978-04-01",
          "month": 4,
          "quarter": 2,
          "year": "1978"
         },
         {
          "Counts": 6052,
          "Date": "1978-05-01T00:00:00",
          "Precip": null,
          "dataset": "olou",
          "date_str": "1978-05-01",
          "month": 5,
          "quarter": 2,
          "year": "1978"
         },
         {
          "Counts": 6152,
          "Date": "1978-06-01T00:00:00",
          "Precip": null,
          "dataset": "olou",
          "date_str": "1978-06-01",
          "month": 6,
          "quarter": 2,
          "year": "1978"
         },
         {
          "Counts": 6159,
          "Date": "1978-07-01T00:00:00",
          "Precip": null,
          "dataset": "olou",
          "date_str": "1978-07-01",
          "month": 7,
          "quarter": 3,
          "year": "1978"
         },
         {
          "Counts": 6309,
          "Date": "1978-08-01T00:00:00",
          "Precip": null,
          "dataset": "olou",
          "date_str": "1978-08-01",
          "month": 8,
          "quarter": 3,
          "year": "1978"
         },
         {
          "Counts": 6317,
          "Date": "1978-09-01T00:00:00",
          "Precip": null,
          "dataset": "olou",
          "date_str": "1978-09-01",
          "month": 9,
          "quarter": 3,
          "year": "1978"
         },
         {
          "Counts": 6221,
          "Date": "1978-10-01T00:00:00",
          "Precip": null,
          "dataset": "olou",
          "date_str": "1978-10-01",
          "month": 10,
          "quarter": 4,
          "year": "1978"
         },
         {
          "Counts": 6262,
          "Date": "1978-11-01T00:00:00",
          "Precip": null,
          "dataset": "olou",
          "date_str": "1978-11-01",
          "month": 11,
          "quarter": 4,
          "year": "1978"
         },
         {
          "Counts": 6270,
          "Date": "1978-12-01T00:00:00",
          "Precip": null,
          "dataset": "olou",
          "date_str": "1978-12-01",
          "month": 12,
          "quarter": 4,
          "year": "1978"
         },
         {
          "Counts": 6179,
          "Date": "1979-01-01T00:00:00",
          "Precip": null,
          "dataset": "olou",
          "date_str": "1979-01-01",
          "month": 1,
          "quarter": 1,
          "year": "1979"
         },
         {
          "Counts": 6152,
          "Date": "1979-02-01T00:00:00",
          "Precip": null,
          "dataset": "olou",
          "date_str": "1979-02-01",
          "month": 2,
          "quarter": 1,
          "year": "1979"
         },
         {
          "Counts": 6077,
          "Date": "1979-03-01T00:00:00",
          "Precip": null,
          "dataset": "olou",
          "date_str": "1979-03-01",
          "month": 3,
          "quarter": 1,
          "year": "1979"
         },
         {
          "Counts": 5953,
          "Date": "1979-04-01T00:00:00",
          "Precip": null,
          "dataset": "olou",
          "date_str": "1979-04-01",
          "month": 4,
          "quarter": 2,
          "year": "1979"
         },
         {
          "Counts": 5997,
          "Date": "1979-05-01T00:00:00",
          "Precip": null,
          "dataset": "olou",
          "date_str": "1979-05-01",
          "month": 5,
          "quarter": 2,
          "year": "1979"
         },
         {
          "Counts": 5857,
          "Date": "1979-06-01T00:00:00",
          "Precip": null,
          "dataset": "olou",
          "date_str": "1979-06-01",
          "month": 6,
          "quarter": 2,
          "year": "1979"
         },
         {
          "Counts": 5863,
          "Date": "1979-07-01T00:00:00",
          "Precip": null,
          "dataset": "olou",
          "date_str": "1979-07-01",
          "month": 7,
          "quarter": 3,
          "year": "1979"
         },
         {
          "Counts": 5726,
          "Date": "1979-08-01T00:00:00",
          "Precip": null,
          "dataset": "olou",
          "date_str": "1979-08-01",
          "month": 8,
          "quarter": 3,
          "year": "1979"
         },
         {
          "Counts": 5780,
          "Date": "1979-09-01T00:00:00",
          "Precip": null,
          "dataset": "olou",
          "date_str": "1979-09-01",
          "month": 9,
          "quarter": 3,
          "year": "1979"
         },
         {
          "Counts": 5882,
          "Date": "1979-10-01T00:00:00",
          "Precip": null,
          "dataset": "olou",
          "date_str": "1979-10-01",
          "month": 10,
          "quarter": 4,
          "year": "1979"
         },
         {
          "Counts": 5889,
          "Date": "1979-11-01T00:00:00",
          "Precip": null,
          "dataset": "olou",
          "date_str": "1979-11-01",
          "month": 11,
          "quarter": 4,
          "year": "1979"
         },
         {
          "Counts": 6000,
          "Date": "1979-12-01T00:00:00",
          "Precip": null,
          "dataset": "olou",
          "date_str": "1979-12-01",
          "month": 12,
          "quarter": 4,
          "year": "1979"
         },
         {
          "Counts": 5973,
          "Date": "1980-01-01T00:00:00",
          "Precip": null,
          "dataset": "olou",
          "date_str": "1980-01-01",
          "month": 1,
          "quarter": 1,
          "year": "1980"
         },
         {
          "Counts": 5933,
          "Date": "1980-02-01T00:00:00",
          "Precip": null,
          "dataset": "olou",
          "date_str": "1980-02-01",
          "month": 2,
          "quarter": 1,
          "year": "1980"
         },
         {
          "Counts": 6015,
          "Date": "1980-03-01T00:00:00",
          "Precip": null,
          "dataset": "olou",
          "date_str": "1980-03-01",
          "month": 3,
          "quarter": 1,
          "year": "1980"
         },
         {
          "Counts": 5912,
          "Date": "1980-04-01T00:00:00",
          "Precip": null,
          "dataset": "olou",
          "date_str": "1980-04-01",
          "month": 4,
          "quarter": 2,
          "year": "1980"
         },
         {
          "Counts": 5915,
          "Date": "1980-05-01T00:00:00",
          "Precip": null,
          "dataset": "olou",
          "date_str": "1980-05-01",
          "month": 5,
          "quarter": 2,
          "year": "1980"
         },
         {
          "Counts": 5743,
          "Date": "1980-06-01T00:00:00",
          "Precip": null,
          "dataset": "olou",
          "date_str": "1980-06-01",
          "month": 6,
          "quarter": 2,
          "year": "1980"
         },
         {
          "Counts": 5744,
          "Date": "1980-07-01T00:00:00",
          "Precip": null,
          "dataset": "olou",
          "date_str": "1980-07-01",
          "month": 7,
          "quarter": 3,
          "year": "1980"
         },
         {
          "Counts": 5764,
          "Date": "1980-08-01T00:00:00",
          "Precip": null,
          "dataset": "olou",
          "date_str": "1980-08-01",
          "month": 8,
          "quarter": 3,
          "year": "1980"
         },
         {
          "Counts": 5760,
          "Date": "1980-09-01T00:00:00",
          "Precip": null,
          "dataset": "olou",
          "date_str": "1980-09-01",
          "month": 9,
          "quarter": 3,
          "year": "1980"
         },
         {
          "Counts": 5651,
          "Date": "1980-10-01T00:00:00",
          "Precip": null,
          "dataset": "olou",
          "date_str": "1980-10-01",
          "month": 10,
          "quarter": 4,
          "year": "1980"
         },
         {
          "Counts": 5557,
          "Date": "1980-11-01T00:00:00",
          "Precip": null,
          "dataset": "olou",
          "date_str": "1980-11-01",
          "month": 11,
          "quarter": 4,
          "year": "1980"
         },
         {
          "Counts": 5549,
          "Date": "1980-12-01T00:00:00",
          "Precip": null,
          "dataset": "olou",
          "date_str": "1980-12-01",
          "month": 12,
          "quarter": 4,
          "year": "1980"
         },
         {
          "Counts": 5732,
          "Date": "1981-01-01T00:00:00",
          "Precip": null,
          "dataset": "olou",
          "date_str": "1981-01-01",
          "month": 1,
          "quarter": 1,
          "year": "1981"
         },
         {
          "Counts": 5646,
          "Date": "1981-02-01T00:00:00",
          "Precip": null,
          "dataset": "olou",
          "date_str": "1981-02-01",
          "month": 2,
          "quarter": 1,
          "year": "1981"
         },
         {
          "Counts": 5618,
          "Date": "1981-03-01T00:00:00",
          "Precip": null,
          "dataset": "olou",
          "date_str": "1981-03-01",
          "month": 3,
          "quarter": 1,
          "year": "1981"
         },
         {
          "Counts": 5559,
          "Date": "1981-04-01T00:00:00",
          "Precip": null,
          "dataset": "olou",
          "date_str": "1981-04-01",
          "month": 4,
          "quarter": 2,
          "year": "1981"
         },
         {
          "Counts": 5488,
          "Date": "1981-05-01T00:00:00",
          "Precip": null,
          "dataset": "olou",
          "date_str": "1981-05-01",
          "month": 5,
          "quarter": 2,
          "year": "1981"
         },
         {
          "Counts": 5646,
          "Date": "1981-06-01T00:00:00",
          "Precip": null,
          "dataset": "olou",
          "date_str": "1981-06-01",
          "month": 6,
          "quarter": 2,
          "year": "1981"
         },
         {
          "Counts": 5664,
          "Date": "1981-07-01T00:00:00",
          "Precip": null,
          "dataset": "olou",
          "date_str": "1981-07-01",
          "month": 7,
          "quarter": 3,
          "year": "1981"
         },
         {
          "Counts": 5671,
          "Date": "1981-08-01T00:00:00",
          "Precip": null,
          "dataset": "olou",
          "date_str": "1981-08-01",
          "month": 8,
          "quarter": 3,
          "year": "1981"
         },
         {
          "Counts": 5753,
          "Date": "1981-09-01T00:00:00",
          "Precip": null,
          "dataset": "olou",
          "date_str": "1981-09-01",
          "month": 9,
          "quarter": 3,
          "year": "1981"
         },
         {
          "Counts": 5572,
          "Date": "1981-10-01T00:00:00",
          "Precip": null,
          "dataset": "olou",
          "date_str": "1981-10-01",
          "month": 10,
          "quarter": 4,
          "year": "1981"
         },
         {
          "Counts": 5596,
          "Date": "1981-11-01T00:00:00",
          "Precip": null,
          "dataset": "olou",
          "date_str": "1981-11-01",
          "month": 11,
          "quarter": 4,
          "year": "1981"
         },
         {
          "Counts": 5710,
          "Date": "1981-12-01T00:00:00",
          "Precip": null,
          "dataset": "olou",
          "date_str": "1981-12-01",
          "month": 12,
          "quarter": 4,
          "year": "1981"
         },
         {
          "Counts": 5830,
          "Date": "1982-01-01T00:00:00",
          "Precip": null,
          "dataset": "olou",
          "date_str": "1982-01-01",
          "month": 1,
          "quarter": 1,
          "year": "1982"
         },
         {
          "Counts": 5629,
          "Date": "1982-02-01T00:00:00",
          "Precip": null,
          "dataset": "olou",
          "date_str": "1982-02-01",
          "month": 2,
          "quarter": 1,
          "year": "1982"
         },
         {
          "Counts": 5815,
          "Date": "1982-03-01T00:00:00",
          "Precip": null,
          "dataset": "olou",
          "date_str": "1982-03-01",
          "month": 3,
          "quarter": 1,
          "year": "1982"
         },
         {
          "Counts": 5861,
          "Date": "1982-04-01T00:00:00",
          "Precip": null,
          "dataset": "olou",
          "date_str": "1982-04-01",
          "month": 4,
          "quarter": 2,
          "year": "1982"
         },
         {
          "Counts": 5916,
          "Date": "1982-05-01T00:00:00",
          "Precip": null,
          "dataset": "olou",
          "date_str": "1982-05-01",
          "month": 5,
          "quarter": 2,
          "year": "1982"
         },
         {
          "Counts": 5629,
          "Date": "1982-06-01T00:00:00",
          "Precip": null,
          "dataset": "olou",
          "date_str": "1982-06-01",
          "month": 6,
          "quarter": 2,
          "year": "1982"
         },
         {
          "Counts": 5415,
          "Date": "1982-07-01T00:00:00",
          "Precip": null,
          "dataset": "olou",
          "date_str": "1982-07-01",
          "month": 7,
          "quarter": 3,
          "year": "1982"
         },
         {
          "Counts": 5387,
          "Date": "1982-08-01T00:00:00",
          "Precip": null,
          "dataset": "olou",
          "date_str": "1982-08-01",
          "month": 8,
          "quarter": 3,
          "year": "1982"
         },
         {
          "Counts": 5258,
          "Date": "1982-09-01T00:00:00",
          "Precip": null,
          "dataset": "olou",
          "date_str": "1982-09-01",
          "month": 9,
          "quarter": 3,
          "year": "1982"
         },
         {
          "Counts": 5400,
          "Date": "1982-10-01T00:00:00",
          "Precip": null,
          "dataset": "olou",
          "date_str": "1982-10-01",
          "month": 10,
          "quarter": 4,
          "year": "1982"
         },
         {
          "Counts": 5463,
          "Date": "1982-11-01T00:00:00",
          "Precip": null,
          "dataset": "olou",
          "date_str": "1982-11-01",
          "month": 11,
          "quarter": 4,
          "year": "1982"
         },
         {
          "Counts": 5366,
          "Date": "1982-12-01T00:00:00",
          "Precip": null,
          "dataset": "olou",
          "date_str": "1982-12-01",
          "month": 12,
          "quarter": 4,
          "year": "1982"
         },
         {
          "Counts": 5512,
          "Date": "1983-01-01T00:00:00",
          "Precip": null,
          "dataset": "olou",
          "date_str": "1983-01-01",
          "month": 1,
          "quarter": 1,
          "year": "1983"
         },
         {
          "Counts": 5644,
          "Date": "1983-02-01T00:00:00",
          "Precip": null,
          "dataset": "olou",
          "date_str": "1983-02-01",
          "month": 2,
          "quarter": 1,
          "year": "1983"
         },
         {
          "Counts": 5762,
          "Date": "1983-03-01T00:00:00",
          "Precip": null,
          "dataset": "olou",
          "date_str": "1983-03-01",
          "month": 3,
          "quarter": 1,
          "year": "1983"
         },
         {
          "Counts": 5768,
          "Date": "1983-04-01T00:00:00",
          "Precip": null,
          "dataset": "olou",
          "date_str": "1983-04-01",
          "month": 4,
          "quarter": 2,
          "year": "1983"
         },
         {
          "Counts": 5601,
          "Date": "1983-05-01T00:00:00",
          "Precip": null,
          "dataset": "olou",
          "date_str": "1983-05-01",
          "month": 5,
          "quarter": 2,
          "year": "1983"
         },
         {
          "Counts": 5707,
          "Date": "1983-06-01T00:00:00",
          "Precip": null,
          "dataset": "olou",
          "date_str": "1983-06-01",
          "month": 6,
          "quarter": 2,
          "year": "1983"
         },
         {
          "Counts": 5818,
          "Date": "1983-07-01T00:00:00",
          "Precip": null,
          "dataset": "olou",
          "date_str": "1983-07-01",
          "month": 7,
          "quarter": 3,
          "year": "1983"
         },
         {
          "Counts": 5823,
          "Date": "1983-08-01T00:00:00",
          "Precip": null,
          "dataset": "olou",
          "date_str": "1983-08-01",
          "month": 8,
          "quarter": 3,
          "year": "1983"
         },
         {
          "Counts": 5864,
          "Date": "1983-09-01T00:00:00",
          "Precip": null,
          "dataset": "olou",
          "date_str": "1983-09-01",
          "month": 9,
          "quarter": 3,
          "year": "1983"
         },
         {
          "Counts": 5894,
          "Date": "1983-10-01T00:00:00",
          "Precip": null,
          "dataset": "olou",
          "date_str": "1983-10-01",
          "month": 10,
          "quarter": 4,
          "year": "1983"
         },
         {
          "Counts": 5923,
          "Date": "1983-11-01T00:00:00",
          "Precip": null,
          "dataset": "olou",
          "date_str": "1983-11-01",
          "month": 11,
          "quarter": 4,
          "year": "1983"
         },
         {
          "Counts": 5925,
          "Date": "1983-12-01T00:00:00",
          "Precip": null,
          "dataset": "olou",
          "date_str": "1983-12-01",
          "month": 12,
          "quarter": 4,
          "year": "1983"
         },
         {
          "Counts": 5977,
          "Date": "1984-01-01T00:00:00",
          "Precip": null,
          "dataset": "olou",
          "date_str": "1984-01-01",
          "month": 1,
          "quarter": 1,
          "year": "1984"
         },
         {
          "Counts": 5953,
          "Date": "1984-02-01T00:00:00",
          "Precip": null,
          "dataset": "olou",
          "date_str": "1984-02-01",
          "month": 2,
          "quarter": 1,
          "year": "1984"
         },
         {
          "Counts": 5865,
          "Date": "1984-03-01T00:00:00",
          "Precip": null,
          "dataset": "olou",
          "date_str": "1984-03-01",
          "month": 3,
          "quarter": 1,
          "year": "1984"
         },
         {
          "Counts": 5802,
          "Date": "1984-04-01T00:00:00",
          "Precip": null,
          "dataset": "olou",
          "date_str": "1984-04-01",
          "month": 4,
          "quarter": 2,
          "year": "1984"
         },
         {
          "Counts": 5672,
          "Date": "1984-05-01T00:00:00",
          "Precip": null,
          "dataset": "olou",
          "date_str": "1984-05-01",
          "month": 5,
          "quarter": 2,
          "year": "1984"
         },
         {
          "Counts": 5779,
          "Date": "1984-06-01T00:00:00",
          "Precip": null,
          "dataset": "olou",
          "date_str": "1984-06-01",
          "month": 6,
          "quarter": 2,
          "year": "1984"
         },
         {
          "Counts": 5813,
          "Date": "1984-07-01T00:00:00",
          "Precip": null,
          "dataset": "olou",
          "date_str": "1984-07-01",
          "month": 7,
          "quarter": 3,
          "year": "1984"
         },
         {
          "Counts": 5894,
          "Date": "1984-08-01T00:00:00",
          "Precip": null,
          "dataset": "olou",
          "date_str": "1984-08-01",
          "month": 8,
          "quarter": 3,
          "year": "1984"
         },
         {
          "Counts": 5920,
          "Date": "1984-09-01T00:00:00",
          "Precip": null,
          "dataset": "olou",
          "date_str": "1984-09-01",
          "month": 9,
          "quarter": 3,
          "year": "1984"
         },
         {
          "Counts": 5920,
          "Date": "1984-10-01T00:00:00",
          "Precip": null,
          "dataset": "olou",
          "date_str": "1984-10-01",
          "month": 10,
          "quarter": 4,
          "year": "1984"
         },
         {
          "Counts": 5902,
          "Date": "1984-11-01T00:00:00",
          "Precip": null,
          "dataset": "olou",
          "date_str": "1984-11-01",
          "month": 11,
          "quarter": 4,
          "year": "1984"
         },
         {
          "Counts": 5928,
          "Date": "1984-12-01T00:00:00",
          "Precip": null,
          "dataset": "olou",
          "date_str": "1984-12-01",
          "month": 12,
          "quarter": 4,
          "year": "1984"
         },
         {
          "Counts": 5945,
          "Date": "1985-01-01T00:00:00",
          "Precip": null,
          "dataset": "olou",
          "date_str": "1985-01-01",
          "month": 1,
          "quarter": 1,
          "year": "1985"
         },
         {
          "Counts": 6034,
          "Date": "1985-02-01T00:00:00",
          "Precip": null,
          "dataset": "olou",
          "date_str": "1985-02-01",
          "month": 2,
          "quarter": 1,
          "year": "1985"
         },
         {
          "Counts": 6052,
          "Date": "1985-03-01T00:00:00",
          "Precip": null,
          "dataset": "olou",
          "date_str": "1985-03-01",
          "month": 3,
          "quarter": 1,
          "year": "1985"
         },
         {
          "Counts": 6078,
          "Date": "1985-04-01T00:00:00",
          "Precip": null,
          "dataset": "olou",
          "date_str": "1985-04-01",
          "month": 4,
          "quarter": 2,
          "year": "1985"
         },
         {
          "Counts": 6100,
          "Date": "1985-05-01T00:00:00",
          "Precip": null,
          "dataset": "olou",
          "date_str": "1985-05-01",
          "month": 5,
          "quarter": 2,
          "year": "1985"
         },
         {
          "Counts": 6171,
          "Date": "1985-06-01T00:00:00",
          "Precip": null,
          "dataset": "olou",
          "date_str": "1985-06-01",
          "month": 6,
          "quarter": 2,
          "year": "1985"
         },
         {
          "Counts": 6147,
          "Date": "1985-07-01T00:00:00",
          "Precip": null,
          "dataset": "olou",
          "date_str": "1985-07-01",
          "month": 7,
          "quarter": 3,
          "year": "1985"
         },
         {
          "Counts": 6149,
          "Date": "1985-08-01T00:00:00",
          "Precip": null,
          "dataset": "olou",
          "date_str": "1985-08-01",
          "month": 8,
          "quarter": 3,
          "year": "1985"
         },
         {
          "Counts": 6229,
          "Date": "1985-09-01T00:00:00",
          "Precip": null,
          "dataset": "olou",
          "date_str": "1985-09-01",
          "month": 9,
          "quarter": 3,
          "year": "1985"
         },
         {
          "Counts": 6271,
          "Date": "1985-10-01T00:00:00",
          "Precip": null,
          "dataset": "olou",
          "date_str": "1985-10-01",
          "month": 10,
          "quarter": 4,
          "year": "1985"
         },
         {
          "Counts": 6340,
          "Date": "1985-11-01T00:00:00",
          "Precip": null,
          "dataset": "olou",
          "date_str": "1985-11-01",
          "month": 11,
          "quarter": 4,
          "year": "1985"
         },
         {
          "Counts": 6295,
          "Date": "1985-12-01T00:00:00",
          "Precip": null,
          "dataset": "olou",
          "date_str": "1985-12-01",
          "month": 12,
          "quarter": 4,
          "year": "1985"
         },
         {
          "Counts": 6276,
          "Date": "1986-01-01T00:00:00",
          "Precip": null,
          "dataset": "olou",
          "date_str": "1986-01-01",
          "month": 1,
          "quarter": 1,
          "year": "1986"
         },
         {
          "Counts": 6160,
          "Date": "1986-02-01T00:00:00",
          "Precip": null,
          "dataset": "olou",
          "date_str": "1986-02-01",
          "month": 2,
          "quarter": 1,
          "year": "1986"
         },
         {
          "Counts": 6261,
          "Date": "1986-03-01T00:00:00",
          "Precip": null,
          "dataset": "olou",
          "date_str": "1986-03-01",
          "month": 3,
          "quarter": 1,
          "year": "1986"
         },
         {
          "Counts": 6389,
          "Date": "1986-04-01T00:00:00",
          "Precip": null,
          "dataset": "olou",
          "date_str": "1986-04-01",
          "month": 4,
          "quarter": 2,
          "year": "1986"
         },
         {
          "Counts": 6408,
          "Date": "1986-05-01T00:00:00",
          "Precip": null,
          "dataset": "olou",
          "date_str": "1986-05-01",
          "month": 5,
          "quarter": 2,
          "year": "1986"
         },
         {
          "Counts": 6417,
          "Date": "1986-06-01T00:00:00",
          "Precip": null,
          "dataset": "olou",
          "date_str": "1986-06-01",
          "month": 6,
          "quarter": 2,
          "year": "1986"
         },
         {
          "Counts": 6424,
          "Date": "1986-07-01T00:00:00",
          "Precip": null,
          "dataset": "olou",
          "date_str": "1986-07-01",
          "month": 7,
          "quarter": 3,
          "year": "1986"
         },
         {
          "Counts": 6432,
          "Date": "1986-08-01T00:00:00",
          "Precip": null,
          "dataset": "olou",
          "date_str": "1986-08-01",
          "month": 8,
          "quarter": 3,
          "year": "1986"
         },
         {
          "Counts": 6451,
          "Date": "1986-09-01T00:00:00",
          "Precip": null,
          "dataset": "olou",
          "date_str": "1986-09-01",
          "month": 9,
          "quarter": 3,
          "year": "1986"
         },
         {
          "Counts": 6483,
          "Date": "1986-10-01T00:00:00",
          "Precip": null,
          "dataset": "olou",
          "date_str": "1986-10-01",
          "month": 10,
          "quarter": 4,
          "year": "1986"
         },
         {
          "Counts": 6391,
          "Date": "1986-11-01T00:00:00",
          "Precip": null,
          "dataset": "olou",
          "date_str": "1986-11-01",
          "month": 11,
          "quarter": 4,
          "year": "1986"
         },
         {
          "Counts": 6497,
          "Date": "1986-12-01T00:00:00",
          "Precip": null,
          "dataset": "olou",
          "date_str": "1986-12-01",
          "month": 12,
          "quarter": 4,
          "year": "1986"
         },
         {
          "Counts": 6581,
          "Date": "1987-01-01T00:00:00",
          "Precip": null,
          "dataset": "olou",
          "date_str": "1987-01-01",
          "month": 1,
          "quarter": 1,
          "year": "1987"
         },
         {
          "Counts": 6603,
          "Date": "1987-02-01T00:00:00",
          "Precip": null,
          "dataset": "olou",
          "date_str": "1987-02-01",
          "month": 2,
          "quarter": 1,
          "year": "1987"
         },
         {
          "Counts": 6612,
          "Date": "1987-03-01T00:00:00",
          "Precip": null,
          "dataset": "olou",
          "date_str": "1987-03-01",
          "month": 3,
          "quarter": 1,
          "year": "1987"
         },
         {
          "Counts": 6591,
          "Date": "1987-04-01T00:00:00",
          "Precip": null,
          "dataset": "olou",
          "date_str": "1987-04-01",
          "month": 4,
          "quarter": 2,
          "year": "1987"
         },
         {
          "Counts": 6549,
          "Date": "1987-05-01T00:00:00",
          "Precip": null,
          "dataset": "olou",
          "date_str": "1987-05-01",
          "month": 5,
          "quarter": 2,
          "year": "1987"
         },
         {
          "Counts": 6440,
          "Date": "1987-06-01T00:00:00",
          "Precip": null,
          "dataset": "olou",
          "date_str": "1987-06-01",
          "month": 6,
          "quarter": 2,
          "year": "1987"
         },
         {
          "Counts": 6393,
          "Date": "1987-07-01T00:00:00",
          "Precip": null,
          "dataset": "olou",
          "date_str": "1987-07-01",
          "month": 7,
          "quarter": 3,
          "year": "1987"
         },
         {
          "Counts": 6337,
          "Date": "1987-08-01T00:00:00",
          "Precip": null,
          "dataset": "olou",
          "date_str": "1987-08-01",
          "month": 8,
          "quarter": 3,
          "year": "1987"
         },
         {
          "Counts": 6287,
          "Date": "1987-09-01T00:00:00",
          "Precip": null,
          "dataset": "olou",
          "date_str": "1987-09-01",
          "month": 9,
          "quarter": 3,
          "year": "1987"
         },
         {
          "Counts": 6291,
          "Date": "1987-10-01T00:00:00",
          "Precip": null,
          "dataset": "olou",
          "date_str": "1987-10-01",
          "month": 10,
          "quarter": 4,
          "year": "1987"
         },
         {
          "Counts": 6245,
          "Date": "1987-11-01T00:00:00",
          "Precip": null,
          "dataset": "olou",
          "date_str": "1987-11-01",
          "month": 11,
          "quarter": 4,
          "year": "1987"
         },
         {
          "Counts": 6254,
          "Date": "1987-12-01T00:00:00",
          "Precip": null,
          "dataset": "olou",
          "date_str": "1987-12-01",
          "month": 12,
          "quarter": 4,
          "year": "1987"
         },
         {
          "Counts": 6081,
          "Date": "1988-01-01T00:00:00",
          "Precip": null,
          "dataset": "olou",
          "date_str": "1988-01-01",
          "month": 1,
          "quarter": 1,
          "year": "1988"
         },
         {
          "Counts": 6143,
          "Date": "1988-02-01T00:00:00",
          "Precip": null,
          "dataset": "olou",
          "date_str": "1988-02-01",
          "month": 2,
          "quarter": 1,
          "year": "1988"
         },
         {
          "Counts": 6168,
          "Date": "1988-03-01T00:00:00",
          "Precip": null,
          "dataset": "olou",
          "date_str": "1988-03-01",
          "month": 3,
          "quarter": 1,
          "year": "1988"
         },
         {
          "Counts": 6136,
          "Date": "1988-04-01T00:00:00",
          "Precip": null,
          "dataset": "olou",
          "date_str": "1988-04-01",
          "month": 4,
          "quarter": 2,
          "year": "1988"
         },
         {
          "Counts": 6152,
          "Date": "1988-05-01T00:00:00",
          "Precip": null,
          "dataset": "olou",
          "date_str": "1988-05-01",
          "month": 5,
          "quarter": 2,
          "year": "1988"
         },
         {
          "Counts": 6127,
          "Date": "1988-06-01T00:00:00",
          "Precip": null,
          "dataset": "olou",
          "date_str": "1988-06-01",
          "month": 6,
          "quarter": 2,
          "year": "1988"
         },
         {
          "Counts": 6017,
          "Date": "1988-07-01T00:00:00",
          "Precip": null,
          "dataset": "olou",
          "date_str": "1988-07-01",
          "month": 7,
          "quarter": 3,
          "year": "1988"
         },
         {
          "Counts": 6021,
          "Date": "1988-08-01T00:00:00",
          "Precip": null,
          "dataset": "olou",
          "date_str": "1988-08-01",
          "month": 8,
          "quarter": 3,
          "year": "1988"
         },
         {
          "Counts": 6015,
          "Date": "1988-09-01T00:00:00",
          "Precip": null,
          "dataset": "olou",
          "date_str": "1988-09-01",
          "month": 9,
          "quarter": 3,
          "year": "1988"
         },
         {
          "Counts": 5992,
          "Date": "1988-10-01T00:00:00",
          "Precip": null,
          "dataset": "olou",
          "date_str": "1988-10-01",
          "month": 10,
          "quarter": 4,
          "year": "1988"
         },
         {
          "Counts": 5969,
          "Date": "1988-11-01T00:00:00",
          "Precip": null,
          "dataset": "olou",
          "date_str": "1988-11-01",
          "month": 11,
          "quarter": 4,
          "year": "1988"
         },
         {
          "Counts": 5812,
          "Date": "1988-12-01T00:00:00",
          "Precip": null,
          "dataset": "olou",
          "date_str": "1988-12-01",
          "month": 12,
          "quarter": 4,
          "year": "1988"
         },
         {
          "Counts": 5736,
          "Date": "1989-01-01T00:00:00",
          "Precip": null,
          "dataset": "olou",
          "date_str": "1989-01-01",
          "month": 1,
          "quarter": 1,
          "year": "1989"
         },
         {
          "Counts": 5717,
          "Date": "1989-02-01T00:00:00",
          "Precip": null,
          "dataset": "olou",
          "date_str": "1989-02-01",
          "month": 2,
          "quarter": 1,
          "year": "1989"
         },
         {
          "Counts": 5449,
          "Date": "1989-03-01T00:00:00",
          "Precip": null,
          "dataset": "olou",
          "date_str": "1989-03-01",
          "month": 3,
          "quarter": 1,
          "year": "1989"
         },
         {
          "Counts": 5504,
          "Date": "1989-04-01T00:00:00",
          "Precip": null,
          "dataset": "olou",
          "date_str": "1989-04-01",
          "month": 4,
          "quarter": 2,
          "year": "1989"
         },
         {
          "Counts": 5402,
          "Date": "1989-05-01T00:00:00",
          "Precip": null,
          "dataset": "olou",
          "date_str": "1989-05-01",
          "month": 5,
          "quarter": 2,
          "year": "1989"
         },
         {
          "Counts": 5445,
          "Date": "1989-06-01T00:00:00",
          "Precip": null,
          "dataset": "olou",
          "date_str": "1989-06-01",
          "month": 6,
          "quarter": 2,
          "year": "1989"
         },
         {
          "Counts": 5615,
          "Date": "1989-07-01T00:00:00",
          "Precip": null,
          "dataset": "olou",
          "date_str": "1989-07-01",
          "month": 7,
          "quarter": 3,
          "year": "1989"
         },
         {
          "Counts": 5537,
          "Date": "1989-08-01T00:00:00",
          "Precip": null,
          "dataset": "olou",
          "date_str": "1989-08-01",
          "month": 8,
          "quarter": 3,
          "year": "1989"
         },
         {
          "Counts": 5470,
          "Date": "1989-09-01T00:00:00",
          "Precip": null,
          "dataset": "olou",
          "date_str": "1989-09-01",
          "month": 9,
          "quarter": 3,
          "year": "1989"
         },
         {
          "Counts": 5356,
          "Date": "1989-10-01T00:00:00",
          "Precip": null,
          "dataset": "olou",
          "date_str": "1989-10-01",
          "month": 10,
          "quarter": 4,
          "year": "1989"
         },
         {
          "Counts": 5226,
          "Date": "1989-11-01T00:00:00",
          "Precip": null,
          "dataset": "olou",
          "date_str": "1989-11-01",
          "month": 11,
          "quarter": 4,
          "year": "1989"
         },
         {
          "Counts": 5316,
          "Date": "1989-12-01T00:00:00",
          "Precip": null,
          "dataset": "olou",
          "date_str": "1989-12-01",
          "month": 12,
          "quarter": 4,
          "year": "1989"
         },
         {
          "Counts": 5419,
          "Date": "1990-01-01T00:00:00",
          "Precip": null,
          "dataset": "olou",
          "date_str": "1990-01-01",
          "month": 1,
          "quarter": 1,
          "year": "1990"
         },
         {
          "Counts": 5441,
          "Date": "1990-02-01T00:00:00",
          "Precip": null,
          "dataset": "olou",
          "date_str": "1990-02-01",
          "month": 2,
          "quarter": 1,
          "year": "1990"
         },
         {
          "Counts": 5373,
          "Date": "1990-03-01T00:00:00",
          "Precip": null,
          "dataset": "olou",
          "date_str": "1990-03-01",
          "month": 3,
          "quarter": 1,
          "year": "1990"
         },
         {
          "Counts": 5266,
          "Date": "1990-04-01T00:00:00",
          "Precip": null,
          "dataset": "olou",
          "date_str": "1990-04-01",
          "month": 4,
          "quarter": 2,
          "year": "1990"
         },
         {
          "Counts": 5246,
          "Date": "1990-05-01T00:00:00",
          "Precip": null,
          "dataset": "olou",
          "date_str": "1990-05-01",
          "month": 5,
          "quarter": 2,
          "year": "1990"
         },
         {
          "Counts": 5235,
          "Date": "1990-06-01T00:00:00",
          "Precip": null,
          "dataset": "olou",
          "date_str": "1990-06-01",
          "month": 6,
          "quarter": 2,
          "year": "1990"
         },
         {
          "Counts": 5381,
          "Date": "1990-07-01T00:00:00",
          "Precip": null,
          "dataset": "olou",
          "date_str": "1990-07-01",
          "month": 7,
          "quarter": 3,
          "year": "1990"
         },
         {
          "Counts": 5352,
          "Date": "1990-08-01T00:00:00",
          "Precip": null,
          "dataset": "olou",
          "date_str": "1990-08-01",
          "month": 8,
          "quarter": 3,
          "year": "1990"
         },
         {
          "Counts": 5453,
          "Date": "1990-09-01T00:00:00",
          "Precip": null,
          "dataset": "olou",
          "date_str": "1990-09-01",
          "month": 9,
          "quarter": 3,
          "year": "1990"
         },
         {
          "Counts": 5551,
          "Date": "1990-10-01T00:00:00",
          "Precip": null,
          "dataset": "olou",
          "date_str": "1990-10-01",
          "month": 10,
          "quarter": 4,
          "year": "1990"
         },
         {
          "Counts": 5630,
          "Date": "1990-11-01T00:00:00",
          "Precip": null,
          "dataset": "olou",
          "date_str": "1990-11-01",
          "month": 11,
          "quarter": 4,
          "year": "1990"
         },
         {
          "Counts": 5644,
          "Date": "1990-12-01T00:00:00",
          "Precip": null,
          "dataset": "olou",
          "date_str": "1990-12-01",
          "month": 12,
          "quarter": 4,
          "year": "1990"
         },
         {
          "Counts": 5774,
          "Date": "1991-01-01T00:00:00",
          "Precip": null,
          "dataset": "olou",
          "date_str": "1991-01-01",
          "month": 1,
          "quarter": 1,
          "year": "1991"
         },
         {
          "Counts": 5809,
          "Date": "1991-02-01T00:00:00",
          "Precip": null,
          "dataset": "olou",
          "date_str": "1991-02-01",
          "month": 2,
          "quarter": 1,
          "year": "1991"
         },
         {
          "Counts": 5421,
          "Date": "1991-03-01T00:00:00",
          "Precip": null,
          "dataset": "olou",
          "date_str": "1991-03-01",
          "month": 3,
          "quarter": 1,
          "year": "1991"
         },
         {
          "Counts": 5469,
          "Date": "1991-04-01T00:00:00",
          "Precip": null,
          "dataset": "olou",
          "date_str": "1991-04-01",
          "month": 4,
          "quarter": 2,
          "year": "1991"
         },
         {
          "Counts": 5501,
          "Date": "1991-05-01T00:00:00",
          "Precip": null,
          "dataset": "olou",
          "date_str": "1991-05-01",
          "month": 5,
          "quarter": 2,
          "year": "1991"
         },
         {
          "Counts": 4879,
          "Date": "1991-06-01T00:00:00",
          "Precip": null,
          "dataset": "olou",
          "date_str": "1991-06-01",
          "month": 6,
          "quarter": 2,
          "year": "1991"
         },
         {
          "Counts": 4920,
          "Date": "1991-07-01T00:00:00",
          "Precip": null,
          "dataset": "olou",
          "date_str": "1991-07-01",
          "month": 7,
          "quarter": 3,
          "year": "1991"
         },
         {
          "Counts": 5227,
          "Date": "1991-08-01T00:00:00",
          "Precip": null,
          "dataset": "olou",
          "date_str": "1991-08-01",
          "month": 8,
          "quarter": 3,
          "year": "1991"
         },
         {
          "Counts": 5473,
          "Date": "1991-09-01T00:00:00",
          "Precip": null,
          "dataset": "olou",
          "date_str": "1991-09-01",
          "month": 9,
          "quarter": 3,
          "year": "1991"
         },
         {
          "Counts": 5534,
          "Date": "1991-10-01T00:00:00",
          "Precip": null,
          "dataset": "olou",
          "date_str": "1991-10-01",
          "month": 10,
          "quarter": 4,
          "year": "1991"
         },
         {
          "Counts": 5551,
          "Date": "1991-11-01T00:00:00",
          "Precip": null,
          "dataset": "olou",
          "date_str": "1991-11-01",
          "month": 11,
          "quarter": 4,
          "year": "1991"
         },
         {
          "Counts": 5648,
          "Date": "1991-12-01T00:00:00",
          "Precip": null,
          "dataset": "olou",
          "date_str": "1991-12-01",
          "month": 12,
          "quarter": 4,
          "year": "1991"
         },
         {
          "Counts": 5632,
          "Date": "1992-01-01T00:00:00",
          "Precip": null,
          "dataset": "olou",
          "date_str": "1992-01-01",
          "month": 1,
          "quarter": 1,
          "year": "1992"
         },
         {
          "Counts": 5591,
          "Date": "1992-02-01T00:00:00",
          "Precip": null,
          "dataset": "olou",
          "date_str": "1992-02-01",
          "month": 2,
          "quarter": 1,
          "year": "1992"
         },
         {
          "Counts": 5724,
          "Date": "1992-03-01T00:00:00",
          "Precip": null,
          "dataset": "olou",
          "date_str": "1992-03-01",
          "month": 3,
          "quarter": 1,
          "year": "1992"
         },
         {
          "Counts": 5894,
          "Date": "1992-04-01T00:00:00",
          "Precip": null,
          "dataset": "olou",
          "date_str": "1992-04-01",
          "month": 4,
          "quarter": 2,
          "year": "1992"
         },
         {
          "Counts": 5846,
          "Date": "1992-05-01T00:00:00",
          "Precip": null,
          "dataset": "olou",
          "date_str": "1992-05-01",
          "month": 5,
          "quarter": 2,
          "year": "1992"
         },
         {
          "Counts": 5984,
          "Date": "1992-06-01T00:00:00",
          "Precip": null,
          "dataset": "olou",
          "date_str": "1992-06-01",
          "month": 6,
          "quarter": 2,
          "year": "1992"
         },
         {
          "Counts": 6060,
          "Date": "1992-07-01T00:00:00",
          "Precip": null,
          "dataset": "olou",
          "date_str": "1992-07-01",
          "month": 7,
          "quarter": 3,
          "year": "1992"
         },
         {
          "Counts": 6029,
          "Date": "1992-08-01T00:00:00",
          "Precip": null,
          "dataset": "olou",
          "date_str": "1992-08-01",
          "month": 8,
          "quarter": 3,
          "year": "1992"
         },
         {
          "Counts": 5995,
          "Date": "1992-09-01T00:00:00",
          "Precip": null,
          "dataset": "olou",
          "date_str": "1992-09-01",
          "month": 9,
          "quarter": 3,
          "year": "1992"
         },
         {
          "Counts": 6094,
          "Date": "1992-10-01T00:00:00",
          "Precip": null,
          "dataset": "olou",
          "date_str": "1992-10-01",
          "month": 10,
          "quarter": 4,
          "year": "1992"
         },
         {
          "Counts": 6057,
          "Date": "1992-11-01T00:00:00",
          "Precip": null,
          "dataset": "olou",
          "date_str": "1992-11-01",
          "month": 11,
          "quarter": 4,
          "year": "1992"
         },
         {
          "Counts": 6149,
          "Date": "1992-12-01T00:00:00",
          "Precip": null,
          "dataset": "olou",
          "date_str": "1992-12-01",
          "month": 12,
          "quarter": 4,
          "year": "1992"
         },
         {
          "Counts": 6126,
          "Date": "1993-01-01T00:00:00",
          "Precip": null,
          "dataset": "olou",
          "date_str": "1993-01-01",
          "month": 1,
          "quarter": 1,
          "year": "1993"
         },
         {
          "Counts": 6130,
          "Date": "1993-02-01T00:00:00",
          "Precip": null,
          "dataset": "olou",
          "date_str": "1993-02-01",
          "month": 2,
          "quarter": 1,
          "year": "1993"
         },
         {
          "Counts": 6048,
          "Date": "1993-03-01T00:00:00",
          "Precip": null,
          "dataset": "olou",
          "date_str": "1993-03-01",
          "month": 3,
          "quarter": 1,
          "year": "1993"
         },
         {
          "Counts": 6144,
          "Date": "1993-04-01T00:00:00",
          "Precip": null,
          "dataset": "olou",
          "date_str": "1993-04-01",
          "month": 4,
          "quarter": 2,
          "year": "1993"
         },
         {
          "Counts": 6181,
          "Date": "1993-05-01T00:00:00",
          "Precip": null,
          "dataset": "olou",
          "date_str": "1993-05-01",
          "month": 5,
          "quarter": 2,
          "year": "1993"
         },
         {
          "Counts": 6213,
          "Date": "1993-06-01T00:00:00",
          "Precip": null,
          "dataset": "olou",
          "date_str": "1993-06-01",
          "month": 6,
          "quarter": 2,
          "year": "1993"
         },
         {
          "Counts": 6224,
          "Date": "1993-07-01T00:00:00",
          "Precip": null,
          "dataset": "olou",
          "date_str": "1993-07-01",
          "month": 7,
          "quarter": 3,
          "year": "1993"
         },
         {
          "Counts": 6232,
          "Date": "1993-08-01T00:00:00",
          "Precip": null,
          "dataset": "olou",
          "date_str": "1993-08-01",
          "month": 8,
          "quarter": 3,
          "year": "1993"
         },
         {
          "Counts": 6273,
          "Date": "1993-09-01T00:00:00",
          "Precip": null,
          "dataset": "olou",
          "date_str": "1993-09-01",
          "month": 9,
          "quarter": 3,
          "year": "1993"
         },
         {
          "Counts": 6276,
          "Date": "1993-10-01T00:00:00",
          "Precip": null,
          "dataset": "olou",
          "date_str": "1993-10-01",
          "month": 10,
          "quarter": 4,
          "year": "1993"
         },
         {
          "Counts": 6302,
          "Date": "1993-11-01T00:00:00",
          "Precip": null,
          "dataset": "olou",
          "date_str": "1993-11-01",
          "month": 11,
          "quarter": 4,
          "year": "1993"
         },
         {
          "Counts": 6288,
          "Date": "1993-12-01T00:00:00",
          "Precip": null,
          "dataset": "olou",
          "date_str": "1993-12-01",
          "month": 12,
          "quarter": 4,
          "year": "1993"
         },
         {
          "Counts": 6299,
          "Date": "1994-01-01T00:00:00",
          "Precip": null,
          "dataset": "olou",
          "date_str": "1994-01-01",
          "month": 1,
          "quarter": 1,
          "year": "1994"
         },
         {
          "Counts": 6195,
          "Date": "1994-02-01T00:00:00",
          "Precip": null,
          "dataset": "olou",
          "date_str": "1994-02-01",
          "month": 2,
          "quarter": 1,
          "year": "1994"
         },
         {
          "Counts": 6201,
          "Date": "1994-03-01T00:00:00",
          "Precip": null,
          "dataset": "olou",
          "date_str": "1994-03-01",
          "month": 3,
          "quarter": 1,
          "year": "1994"
         },
         {
          "Counts": 6181,
          "Date": "1994-04-01T00:00:00",
          "Precip": null,
          "dataset": "olou",
          "date_str": "1994-04-01",
          "month": 4,
          "quarter": 2,
          "year": "1994"
         },
         {
          "Counts": 6248,
          "Date": "1994-05-01T00:00:00",
          "Precip": null,
          "dataset": "olou",
          "date_str": "1994-05-01",
          "month": 5,
          "quarter": 2,
          "year": "1994"
         },
         {
          "Counts": 6254,
          "Date": "1994-06-01T00:00:00",
          "Precip": null,
          "dataset": "olou",
          "date_str": "1994-06-01",
          "month": 6,
          "quarter": 2,
          "year": "1994"
         },
         {
          "Counts": 6287,
          "Date": "1994-07-01T00:00:00",
          "Precip": null,
          "dataset": "olou",
          "date_str": "1994-07-01",
          "month": 7,
          "quarter": 3,
          "year": "1994"
         },
         {
          "Counts": 6339,
          "Date": "1994-08-01T00:00:00",
          "Precip": null,
          "dataset": "olou",
          "date_str": "1994-08-01",
          "month": 8,
          "quarter": 3,
          "year": "1994"
         },
         {
          "Counts": 6370,
          "Date": "1994-09-01T00:00:00",
          "Precip": null,
          "dataset": "olou",
          "date_str": "1994-09-01",
          "month": 9,
          "quarter": 3,
          "year": "1994"
         },
         {
          "Counts": 6336,
          "Date": "1994-10-01T00:00:00",
          "Precip": null,
          "dataset": "olou",
          "date_str": "1994-10-01",
          "month": 10,
          "quarter": 4,
          "year": "1994"
         },
         {
          "Counts": 6328,
          "Date": "1994-11-01T00:00:00",
          "Precip": null,
          "dataset": "olou",
          "date_str": "1994-11-01",
          "month": 11,
          "quarter": 4,
          "year": "1994"
         },
         {
          "Counts": 6315,
          "Date": "1994-12-01T00:00:00",
          "Precip": null,
          "dataset": "olou",
          "date_str": "1994-12-01",
          "month": 12,
          "quarter": 4,
          "year": "1994"
         },
         {
          "Counts": 6363,
          "Date": "1995-01-01T00:00:00",
          "Precip": null,
          "dataset": "olou",
          "date_str": "1995-01-01",
          "month": 1,
          "quarter": 1,
          "year": "1995"
         },
         {
          "Counts": 6381,
          "Date": "1995-02-01T00:00:00",
          "Precip": null,
          "dataset": "olou",
          "date_str": "1995-02-01",
          "month": 2,
          "quarter": 1,
          "year": "1995"
         },
         {
          "Counts": 6350,
          "Date": "1995-03-01T00:00:00",
          "Precip": null,
          "dataset": "olou",
          "date_str": "1995-03-01",
          "month": 3,
          "quarter": 1,
          "year": "1995"
         },
         {
          "Counts": 6376,
          "Date": "1995-04-01T00:00:00",
          "Precip": null,
          "dataset": "olou",
          "date_str": "1995-04-01",
          "month": 4,
          "quarter": 2,
          "year": "1995"
         },
         {
          "Counts": 6395,
          "Date": "1995-05-01T00:00:00",
          "Precip": null,
          "dataset": "olou",
          "date_str": "1995-05-01",
          "month": 5,
          "quarter": 2,
          "year": "1995"
         },
         {
          "Counts": 6398,
          "Date": "1995-06-01T00:00:00",
          "Precip": null,
          "dataset": "olou",
          "date_str": "1995-06-01",
          "month": 6,
          "quarter": 2,
          "year": "1995"
         },
         {
          "Counts": 6402,
          "Date": "1995-07-01T00:00:00",
          "Precip": null,
          "dataset": "olou",
          "date_str": "1995-07-01",
          "month": 7,
          "quarter": 3,
          "year": "1995"
         },
         {
          "Counts": 6411,
          "Date": "1995-08-01T00:00:00",
          "Precip": null,
          "dataset": "olou",
          "date_str": "1995-08-01",
          "month": 8,
          "quarter": 3,
          "year": "1995"
         },
         {
          "Counts": 6398,
          "Date": "1995-09-01T00:00:00",
          "Precip": null,
          "dataset": "olou",
          "date_str": "1995-09-01",
          "month": 9,
          "quarter": 3,
          "year": "1995"
         },
         {
          "Counts": 6371,
          "Date": "1995-10-01T00:00:00",
          "Precip": null,
          "dataset": "olou",
          "date_str": "1995-10-01",
          "month": 10,
          "quarter": 4,
          "year": "1995"
         },
         {
          "Counts": 6377,
          "Date": "1995-11-01T00:00:00",
          "Precip": null,
          "dataset": "olou",
          "date_str": "1995-11-01",
          "month": 11,
          "quarter": 4,
          "year": "1995"
         },
         {
          "Counts": 6425,
          "Date": "1995-12-01T00:00:00",
          "Precip": null,
          "dataset": "olou",
          "date_str": "1995-12-01",
          "month": 12,
          "quarter": 4,
          "year": "1995"
         },
         {
          "Counts": 6432,
          "Date": "1996-01-01T00:00:00",
          "Precip": null,
          "dataset": "olou",
          "date_str": "1996-01-01",
          "month": 1,
          "quarter": 1,
          "year": "1996"
         },
         {
          "Counts": 6457,
          "Date": "1996-02-01T00:00:00",
          "Precip": null,
          "dataset": "olou",
          "date_str": "1996-02-01",
          "month": 2,
          "quarter": 1,
          "year": "1996"
         },
         {
          "Counts": 6511,
          "Date": "1996-03-01T00:00:00",
          "Precip": null,
          "dataset": "olou",
          "date_str": "1996-03-01",
          "month": 3,
          "quarter": 1,
          "year": "1996"
         },
         {
          "Counts": 6533,
          "Date": "1996-04-01T00:00:00",
          "Precip": null,
          "dataset": "olou",
          "date_str": "1996-04-01",
          "month": 4,
          "quarter": 2,
          "year": "1996"
         },
         {
          "Counts": 6533,
          "Date": "1996-05-01T00:00:00",
          "Precip": null,
          "dataset": "olou",
          "date_str": "1996-05-01",
          "month": 5,
          "quarter": 2,
          "year": "1996"
         },
         {
          "Counts": 6539,
          "Date": "1996-06-01T00:00:00",
          "Precip": null,
          "dataset": "olou",
          "date_str": "1996-06-01",
          "month": 6,
          "quarter": 2,
          "year": "1996"
         },
         {
          "Counts": 6541,
          "Date": "1996-07-01T00:00:00",
          "Precip": null,
          "dataset": "olou",
          "date_str": "1996-07-01",
          "month": 7,
          "quarter": 3,
          "year": "1996"
         },
         {
          "Counts": 6519,
          "Date": "1996-08-01T00:00:00",
          "Precip": null,
          "dataset": "olou",
          "date_str": "1996-08-01",
          "month": 8,
          "quarter": 3,
          "year": "1996"
         },
         {
          "Counts": 6514,
          "Date": "1996-09-01T00:00:00",
          "Precip": null,
          "dataset": "olou",
          "date_str": "1996-09-01",
          "month": 9,
          "quarter": 3,
          "year": "1996"
         },
         {
          "Counts": 6484,
          "Date": "1996-10-01T00:00:00",
          "Precip": null,
          "dataset": "olou",
          "date_str": "1996-10-01",
          "month": 10,
          "quarter": 4,
          "year": "1996"
         },
         {
          "Counts": 6477,
          "Date": "1996-11-01T00:00:00",
          "Precip": null,
          "dataset": "olou",
          "date_str": "1996-11-01",
          "month": 11,
          "quarter": 4,
          "year": "1996"
         },
         {
          "Counts": 6488,
          "Date": "1996-12-01T00:00:00",
          "Precip": null,
          "dataset": "olou",
          "date_str": "1996-12-01",
          "month": 12,
          "quarter": 4,
          "year": "1996"
         },
         {
          "Counts": 6532,
          "Date": "1997-01-01T00:00:00",
          "Precip": null,
          "dataset": "olou",
          "date_str": "1997-01-01",
          "month": 1,
          "quarter": 1,
          "year": "1997"
         },
         {
          "Counts": 6551,
          "Date": "1997-02-01T00:00:00",
          "Precip": null,
          "dataset": "olou",
          "date_str": "1997-02-01",
          "month": 2,
          "quarter": 1,
          "year": "1997"
         },
         {
          "Counts": 6558,
          "Date": "1997-03-01T00:00:00",
          "Precip": null,
          "dataset": "olou",
          "date_str": "1997-03-01",
          "month": 3,
          "quarter": 1,
          "year": "1997"
         },
         {
          "Counts": 6542,
          "Date": "1997-04-01T00:00:00",
          "Precip": null,
          "dataset": "olou",
          "date_str": "1997-04-01",
          "month": 4,
          "quarter": 2,
          "year": "1997"
         },
         {
          "Counts": 6558,
          "Date": "1997-05-01T00:00:00",
          "Precip": null,
          "dataset": "olou",
          "date_str": "1997-05-01",
          "month": 5,
          "quarter": 2,
          "year": "1997"
         },
         {
          "Counts": 6549,
          "Date": "1997-06-01T00:00:00",
          "Precip": null,
          "dataset": "olou",
          "date_str": "1997-06-01",
          "month": 6,
          "quarter": 2,
          "year": "1997"
         },
         {
          "Counts": 6546,
          "Date": "1997-07-01T00:00:00",
          "Precip": null,
          "dataset": "olou",
          "date_str": "1997-07-01",
          "month": 7,
          "quarter": 3,
          "year": "1997"
         },
         {
          "Counts": 6579,
          "Date": "1997-08-01T00:00:00",
          "Precip": null,
          "dataset": "olou",
          "date_str": "1997-08-01",
          "month": 8,
          "quarter": 3,
          "year": "1997"
         },
         {
          "Counts": 6574,
          "Date": "1997-09-01T00:00:00",
          "Precip": null,
          "dataset": "olou",
          "date_str": "1997-09-01",
          "month": 9,
          "quarter": 3,
          "year": "1997"
         },
         {
          "Counts": 6538,
          "Date": "1997-10-01T00:00:00",
          "Precip": null,
          "dataset": "olou",
          "date_str": "1997-10-01",
          "month": 10,
          "quarter": 4,
          "year": "1997"
         },
         {
          "Counts": 6489,
          "Date": "1997-11-01T00:00:00",
          "Precip": null,
          "dataset": "olou",
          "date_str": "1997-11-01",
          "month": 11,
          "quarter": 4,
          "year": "1997"
         },
         {
          "Counts": 6518,
          "Date": "1997-12-01T00:00:00",
          "Precip": null,
          "dataset": "olou",
          "date_str": "1997-12-01",
          "month": 12,
          "quarter": 4,
          "year": "1997"
         },
         {
          "Counts": 6526,
          "Date": "1998-01-01T00:00:00",
          "Precip": null,
          "dataset": "olou",
          "date_str": "1998-01-01",
          "month": 1,
          "quarter": 1,
          "year": "1998"
         },
         {
          "Counts": 6536,
          "Date": "1998-02-01T00:00:00",
          "Precip": null,
          "dataset": "olou",
          "date_str": "1998-02-01",
          "month": 2,
          "quarter": 1,
          "year": "1998"
         },
         {
          "Counts": 6543,
          "Date": "1998-03-01T00:00:00",
          "Precip": null,
          "dataset": "olou",
          "date_str": "1998-03-01",
          "month": 3,
          "quarter": 1,
          "year": "1998"
         },
         {
          "Counts": 6389,
          "Date": "1998-04-01T00:00:00",
          "Precip": null,
          "dataset": "olou",
          "date_str": "1998-04-01",
          "month": 4,
          "quarter": 2,
          "year": "1998"
         },
         {
          "Counts": 6280,
          "Date": "1998-05-01T00:00:00",
          "Precip": null,
          "dataset": "olou",
          "date_str": "1998-05-01",
          "month": 5,
          "quarter": 2,
          "year": "1998"
         },
         {
          "Counts": 6308,
          "Date": "1998-06-01T00:00:00",
          "Precip": null,
          "dataset": "olou",
          "date_str": "1998-06-01",
          "month": 6,
          "quarter": 2,
          "year": "1998"
         },
         {
          "Counts": 6382,
          "Date": "1998-07-01T00:00:00",
          "Precip": null,
          "dataset": "olou",
          "date_str": "1998-07-01",
          "month": 7,
          "quarter": 3,
          "year": "1998"
         },
         {
          "Counts": 6299,
          "Date": "1998-08-01T00:00:00",
          "Precip": null,
          "dataset": "olou",
          "date_str": "1998-08-01",
          "month": 8,
          "quarter": 3,
          "year": "1998"
         },
         {
          "Counts": 6380,
          "Date": "1998-09-01T00:00:00",
          "Precip": null,
          "dataset": "olou",
          "date_str": "1998-09-01",
          "month": 9,
          "quarter": 3,
          "year": "1998"
         },
         {
          "Counts": 6433,
          "Date": "1998-10-01T00:00:00",
          "Precip": null,
          "dataset": "olou",
          "date_str": "1998-10-01",
          "month": 10,
          "quarter": 4,
          "year": "1998"
         },
         {
          "Counts": 6385,
          "Date": "1998-11-01T00:00:00",
          "Precip": null,
          "dataset": "olou",
          "date_str": "1998-11-01",
          "month": 11,
          "quarter": 4,
          "year": "1998"
         },
         {
          "Counts": 6337,
          "Date": "1998-12-01T00:00:00",
          "Precip": null,
          "dataset": "olou",
          "date_str": "1998-12-01",
          "month": 12,
          "quarter": 4,
          "year": "1998"
         },
         {
          "Counts": 6249,
          "Date": "1999-01-01T00:00:00",
          "Precip": null,
          "dataset": "olou",
          "date_str": "1999-01-01",
          "month": 1,
          "quarter": 1,
          "year": "1999"
         },
         {
          "Counts": 6248,
          "Date": "1999-02-01T00:00:00",
          "Precip": null,
          "dataset": "olou",
          "date_str": "1999-02-01",
          "month": 2,
          "quarter": 1,
          "year": "1999"
         },
         {
          "Counts": 6263,
          "Date": "1999-03-01T00:00:00",
          "Precip": null,
          "dataset": "olou",
          "date_str": "1999-03-01",
          "month": 3,
          "quarter": 1,
          "year": "1999"
         },
         {
          "Counts": 6313,
          "Date": "1999-04-01T00:00:00",
          "Precip": null,
          "dataset": "olou",
          "date_str": "1999-04-01",
          "month": 4,
          "quarter": 2,
          "year": "1999"
         },
         {
          "Counts": 6291,
          "Date": "1999-05-01T00:00:00",
          "Precip": null,
          "dataset": "olou",
          "date_str": "1999-05-01",
          "month": 5,
          "quarter": 2,
          "year": "1999"
         },
         {
          "Counts": 6341,
          "Date": "1999-06-01T00:00:00",
          "Precip": null,
          "dataset": "olou",
          "date_str": "1999-06-01",
          "month": 6,
          "quarter": 2,
          "year": "1999"
         },
         {
          "Counts": 6386,
          "Date": "1999-07-01T00:00:00",
          "Precip": null,
          "dataset": "olou",
          "date_str": "1999-07-01",
          "month": 7,
          "quarter": 3,
          "year": "1999"
         },
         {
          "Counts": 6243,
          "Date": "1999-08-01T00:00:00",
          "Precip": null,
          "dataset": "olou",
          "date_str": "1999-08-01",
          "month": 8,
          "quarter": 3,
          "year": "1999"
         },
         {
          "Counts": 6120,
          "Date": "1999-09-01T00:00:00",
          "Precip": null,
          "dataset": "olou",
          "date_str": "1999-09-01",
          "month": 9,
          "quarter": 3,
          "year": "1999"
         },
         {
          "Counts": 6063,
          "Date": "1999-10-01T00:00:00",
          "Precip": null,
          "dataset": "olou",
          "date_str": "1999-10-01",
          "month": 10,
          "quarter": 4,
          "year": "1999"
         },
         {
          "Counts": 6039,
          "Date": "1999-11-01T00:00:00",
          "Precip": null,
          "dataset": "olou",
          "date_str": "1999-11-01",
          "month": 11,
          "quarter": 4,
          "year": "1999"
         },
         {
          "Counts": 5950,
          "Date": "1999-12-01T00:00:00",
          "Precip": null,
          "dataset": "olou",
          "date_str": "1999-12-01",
          "month": 12,
          "quarter": 4,
          "year": "1999"
         },
         {
          "Counts": 6013,
          "Date": "2000-01-01T00:00:00",
          "Precip": null,
          "dataset": "olou",
          "date_str": "2000-01-01",
          "month": 1,
          "quarter": 1,
          "year": "2000"
         },
         {
          "Counts": 5961,
          "Date": "2000-02-01T00:00:00",
          "Precip": null,
          "dataset": "olou",
          "date_str": "2000-02-01",
          "month": 2,
          "quarter": 1,
          "year": "2000"
         },
         {
          "Counts": 5880,
          "Date": "2000-03-01T00:00:00",
          "Precip": null,
          "dataset": "olou",
          "date_str": "2000-03-01",
          "month": 3,
          "quarter": 1,
          "year": "2000"
         },
         {
          "Counts": 5900,
          "Date": "2000-04-01T00:00:00",
          "Precip": null,
          "dataset": "olou",
          "date_str": "2000-04-01",
          "month": 4,
          "quarter": 2,
          "year": "2000"
         },
         {
          "Counts": 5779,
          "Date": "2000-05-01T00:00:00",
          "Precip": null,
          "dataset": "olou",
          "date_str": "2000-05-01",
          "month": 5,
          "quarter": 2,
          "year": "2000"
         },
         {
          "Counts": 5670,
          "Date": "2000-06-01T00:00:00",
          "Precip": null,
          "dataset": "olou",
          "date_str": "2000-06-01",
          "month": 6,
          "quarter": 2,
          "year": "2000"
         },
         {
          "Counts": 5569,
          "Date": "2000-07-01T00:00:00",
          "Precip": null,
          "dataset": "olou",
          "date_str": "2000-07-01",
          "month": 7,
          "quarter": 3,
          "year": "2000"
         },
         {
          "Counts": 5654,
          "Date": "2000-08-01T00:00:00",
          "Precip": null,
          "dataset": "olou",
          "date_str": "2000-08-01",
          "month": 8,
          "quarter": 3,
          "year": "2000"
         },
         {
          "Counts": 5717,
          "Date": "2000-09-01T00:00:00",
          "Precip": null,
          "dataset": "olou",
          "date_str": "2000-09-01",
          "month": 9,
          "quarter": 3,
          "year": "2000"
         },
         {
          "Counts": 5833,
          "Date": "2000-10-01T00:00:00",
          "Precip": null,
          "dataset": "olou",
          "date_str": "2000-10-01",
          "month": 10,
          "quarter": 4,
          "year": "2000"
         },
         {
          "Counts": 5694,
          "Date": "2000-11-01T00:00:00",
          "Precip": null,
          "dataset": "olou",
          "date_str": "2000-11-01",
          "month": 11,
          "quarter": 4,
          "year": "2000"
         },
         {
          "Counts": 5742,
          "Date": "2000-12-01T00:00:00",
          "Precip": null,
          "dataset": "olou",
          "date_str": "2000-12-01",
          "month": 12,
          "quarter": 4,
          "year": "2000"
         },
         {
          "Counts": 5817,
          "Date": "2001-01-01T00:00:00",
          "Precip": null,
          "dataset": "olou",
          "date_str": "2001-01-01",
          "month": 1,
          "quarter": 1,
          "year": "2001"
         },
         {
          "Counts": 5959,
          "Date": "2001-02-01T00:00:00",
          "Precip": null,
          "dataset": "olou",
          "date_str": "2001-02-01",
          "month": 2,
          "quarter": 1,
          "year": "2001"
         },
         {
          "Counts": 6024,
          "Date": "2001-03-01T00:00:00",
          "Precip": null,
          "dataset": "olou",
          "date_str": "2001-03-01",
          "month": 3,
          "quarter": 1,
          "year": "2001"
         },
         {
          "Counts": 5736,
          "Date": "2001-04-01T00:00:00",
          "Precip": null,
          "dataset": "olou",
          "date_str": "2001-04-01",
          "month": 4,
          "quarter": 2,
          "year": "2001"
         },
         {
          "Counts": 5885,
          "Date": "2001-05-01T00:00:00",
          "Precip": null,
          "dataset": "olou",
          "date_str": "2001-05-01",
          "month": 5,
          "quarter": 2,
          "year": "2001"
         },
         {
          "Counts": 5929,
          "Date": "2001-06-01T00:00:00",
          "Precip": null,
          "dataset": "olou",
          "date_str": "2001-06-01",
          "month": 6,
          "quarter": 2,
          "year": "2001"
         },
         {
          "Counts": 5959,
          "Date": "2001-07-01T00:00:00",
          "Precip": null,
          "dataset": "olou",
          "date_str": "2001-07-01",
          "month": 7,
          "quarter": 3,
          "year": "2001"
         },
         {
          "Counts": 5857,
          "Date": "2001-08-01T00:00:00",
          "Precip": null,
          "dataset": "olou",
          "date_str": "2001-08-01",
          "month": 8,
          "quarter": 3,
          "year": "2001"
         },
         {
          "Counts": 5857,
          "Date": "2001-09-01T00:00:00",
          "Precip": null,
          "dataset": "olou",
          "date_str": "2001-09-01",
          "month": 9,
          "quarter": 3,
          "year": "2001"
         },
         {
          "Counts": 5771,
          "Date": "2001-10-01T00:00:00",
          "Precip": null,
          "dataset": "olou",
          "date_str": "2001-10-01",
          "month": 10,
          "quarter": 4,
          "year": "2001"
         },
         {
          "Counts": 5854,
          "Date": "2001-11-01T00:00:00",
          "Precip": null,
          "dataset": "olou",
          "date_str": "2001-11-01",
          "month": 11,
          "quarter": 4,
          "year": "2001"
         },
         {
          "Counts": 5907,
          "Date": "2001-12-01T00:00:00",
          "Precip": null,
          "dataset": "olou",
          "date_str": "2001-12-01",
          "month": 12,
          "quarter": 4,
          "year": "2001"
         },
         {
          "Counts": 5735,
          "Date": "2002-01-01T00:00:00",
          "Precip": null,
          "dataset": "olou",
          "date_str": "2002-01-01",
          "month": 1,
          "quarter": 1,
          "year": "2002"
         },
         {
          "Counts": 5910,
          "Date": "2002-02-01T00:00:00",
          "Precip": null,
          "dataset": "olou",
          "date_str": "2002-02-01",
          "month": 2,
          "quarter": 1,
          "year": "2002"
         },
         {
          "Counts": 5845,
          "Date": "2002-03-01T00:00:00",
          "Precip": null,
          "dataset": "olou",
          "date_str": "2002-03-01",
          "month": 3,
          "quarter": 1,
          "year": "2002"
         },
         {
          "Counts": 5848,
          "Date": "2002-04-01T00:00:00",
          "Precip": null,
          "dataset": "olou",
          "date_str": "2002-04-01",
          "month": 4,
          "quarter": 2,
          "year": "2002"
         },
         {
          "Counts": 5859,
          "Date": "2002-05-01T00:00:00",
          "Precip": null,
          "dataset": "olou",
          "date_str": "2002-05-01",
          "month": 5,
          "quarter": 2,
          "year": "2002"
         },
         {
          "Counts": 5908,
          "Date": "2002-06-01T00:00:00",
          "Precip": null,
          "dataset": "olou",
          "date_str": "2002-06-01",
          "month": 6,
          "quarter": 2,
          "year": "2002"
         },
         {
          "Counts": 5808,
          "Date": "2002-07-01T00:00:00",
          "Precip": null,
          "dataset": "olou",
          "date_str": "2002-07-01",
          "month": 7,
          "quarter": 3,
          "year": "2002"
         },
         {
          "Counts": 5684,
          "Date": "2002-08-01T00:00:00",
          "Precip": null,
          "dataset": "olou",
          "date_str": "2002-08-01",
          "month": 8,
          "quarter": 3,
          "year": "2002"
         },
         {
          "Counts": 5780,
          "Date": "2002-09-01T00:00:00",
          "Precip": null,
          "dataset": "olou",
          "date_str": "2002-09-01",
          "month": 9,
          "quarter": 3,
          "year": "2002"
         },
         {
          "Counts": 5825,
          "Date": "2002-10-01T00:00:00",
          "Precip": null,
          "dataset": "olou",
          "date_str": "2002-10-01",
          "month": 10,
          "quarter": 4,
          "year": "2002"
         },
         {
          "Counts": 5728,
          "Date": "2002-11-01T00:00:00",
          "Precip": null,
          "dataset": "olou",
          "date_str": "2002-11-01",
          "month": 11,
          "quarter": 4,
          "year": "2002"
         },
         {
          "Counts": 5756,
          "Date": "2002-12-01T00:00:00",
          "Precip": null,
          "dataset": "olou",
          "date_str": "2002-12-01",
          "month": 12,
          "quarter": 4,
          "year": "2002"
         },
         {
          "Counts": 5810,
          "Date": "2003-01-01T00:00:00",
          "Precip": null,
          "dataset": "olou",
          "date_str": "2003-01-01",
          "month": 1,
          "quarter": 1,
          "year": "2003"
         },
         {
          "Counts": 5807,
          "Date": "2003-02-01T00:00:00",
          "Precip": null,
          "dataset": "olou",
          "date_str": "2003-02-01",
          "month": 2,
          "quarter": 1,
          "year": "2003"
         },
         {
          "Counts": 5844,
          "Date": "2003-03-01T00:00:00",
          "Precip": null,
          "dataset": "olou",
          "date_str": "2003-03-01",
          "month": 3,
          "quarter": 1,
          "year": "2003"
         },
         {
          "Counts": 5821,
          "Date": "2003-04-01T00:00:00",
          "Precip": null,
          "dataset": "olou",
          "date_str": "2003-04-01",
          "month": 4,
          "quarter": 2,
          "year": "2003"
         },
         {
          "Counts": 5772,
          "Date": "2003-05-01T00:00:00",
          "Precip": null,
          "dataset": "olou",
          "date_str": "2003-05-01",
          "month": 5,
          "quarter": 2,
          "year": "2003"
         },
         {
          "Counts": 5654,
          "Date": "2003-06-01T00:00:00",
          "Precip": null,
          "dataset": "olou",
          "date_str": "2003-06-01",
          "month": 6,
          "quarter": 2,
          "year": "2003"
         },
         {
          "Counts": 5750,
          "Date": "2003-07-01T00:00:00",
          "Precip": null,
          "dataset": "olou",
          "date_str": "2003-07-01",
          "month": 7,
          "quarter": 3,
          "year": "2003"
         },
         {
          "Counts": 5799,
          "Date": "2003-08-01T00:00:00",
          "Precip": null,
          "dataset": "olou",
          "date_str": "2003-08-01",
          "month": 8,
          "quarter": 3,
          "year": "2003"
         },
         {
          "Counts": 5849,
          "Date": "2003-09-01T00:00:00",
          "Precip": null,
          "dataset": "olou",
          "date_str": "2003-09-01",
          "month": 9,
          "quarter": 3,
          "year": "2003"
         },
         {
          "Counts": 5762,
          "Date": "2003-10-01T00:00:00",
          "Precip": null,
          "dataset": "olou",
          "date_str": "2003-10-01",
          "month": 10,
          "quarter": 4,
          "year": "2003"
         },
         {
          "Counts": 5435,
          "Date": "2003-11-01T00:00:00",
          "Precip": null,
          "dataset": "olou",
          "date_str": "2003-11-01",
          "month": 11,
          "quarter": 4,
          "year": "2003"
         },
         {
          "Counts": 5800,
          "Date": "2003-12-01T00:00:00",
          "Precip": null,
          "dataset": "olou",
          "date_str": "2003-12-01",
          "month": 12,
          "quarter": 4,
          "year": "2003"
         },
         {
          "Counts": 5755,
          "Date": "2004-01-01T00:00:00",
          "Precip": null,
          "dataset": "olou",
          "date_str": "2004-01-01",
          "month": 1,
          "quarter": 1,
          "year": "2004"
         },
         {
          "Counts": 5922,
          "Date": "2004-02-01T00:00:00",
          "Precip": null,
          "dataset": "olou",
          "date_str": "2004-02-01",
          "month": 2,
          "quarter": 1,
          "year": "2004"
         },
         {
          "Counts": 6042,
          "Date": "2004-03-01T00:00:00",
          "Precip": null,
          "dataset": "olou",
          "date_str": "2004-03-01",
          "month": 3,
          "quarter": 1,
          "year": "2004"
         },
         {
          "Counts": 6105,
          "Date": "2004-04-01T00:00:00",
          "Precip": null,
          "dataset": "olou",
          "date_str": "2004-04-01",
          "month": 4,
          "quarter": 2,
          "year": "2004"
         },
         {
          "Counts": 6166,
          "Date": "2004-05-01T00:00:00",
          "Precip": null,
          "dataset": "olou",
          "date_str": "2004-05-01",
          "month": 5,
          "quarter": 2,
          "year": "2004"
         },
         {
          "Counts": 6163,
          "Date": "2004-06-01T00:00:00",
          "Precip": null,
          "dataset": "olou",
          "date_str": "2004-06-01",
          "month": 6,
          "quarter": 2,
          "year": "2004"
         },
         {
          "Counts": 6077,
          "Date": "2004-07-01T00:00:00",
          "Precip": null,
          "dataset": "olou",
          "date_str": "2004-07-01",
          "month": 7,
          "quarter": 3,
          "year": "2004"
         },
         {
          "Counts": 6114,
          "Date": "2004-08-01T00:00:00",
          "Precip": null,
          "dataset": "olou",
          "date_str": "2004-08-01",
          "month": 8,
          "quarter": 3,
          "year": "2004"
         },
         {
          "Counts": 6153,
          "Date": "2004-09-01T00:00:00",
          "Precip": null,
          "dataset": "olou",
          "date_str": "2004-09-01",
          "month": 9,
          "quarter": 3,
          "year": "2004"
         },
         {
          "Counts": 6296,
          "Date": "2004-10-01T00:00:00",
          "Precip": null,
          "dataset": "olou",
          "date_str": "2004-10-01",
          "month": 10,
          "quarter": 4,
          "year": "2004"
         },
         {
          "Counts": 6135,
          "Date": "2004-11-01T00:00:00",
          "Precip": null,
          "dataset": "olou",
          "date_str": "2004-11-01",
          "month": 11,
          "quarter": 4,
          "year": "2004"
         },
         {
          "Counts": 6182,
          "Date": "2004-12-01T00:00:00",
          "Precip": null,
          "dataset": "olou",
          "date_str": "2004-12-01",
          "month": 12,
          "quarter": 4,
          "year": "2004"
         },
         {
          "Counts": 5959,
          "Date": "2005-01-01T00:00:00",
          "Precip": null,
          "dataset": "olou",
          "date_str": "2005-01-01",
          "month": 1,
          "quarter": 1,
          "year": "2005"
         },
         {
          "Counts": 6134,
          "Date": "2005-02-01T00:00:00",
          "Precip": null,
          "dataset": "olou",
          "date_str": "2005-02-01",
          "month": 2,
          "quarter": 1,
          "year": "2005"
         },
         {
          "Counts": 6179,
          "Date": "2005-03-01T00:00:00",
          "Precip": null,
          "dataset": "olou",
          "date_str": "2005-03-01",
          "month": 3,
          "quarter": 1,
          "year": "2005"
         },
         {
          "Counts": 6233,
          "Date": "2005-04-01T00:00:00",
          "Precip": null,
          "dataset": "olou",
          "date_str": "2005-04-01",
          "month": 4,
          "quarter": 2,
          "year": "2005"
         },
         {
          "Counts": 6092,
          "Date": "2005-05-01T00:00:00",
          "Precip": null,
          "dataset": "olou",
          "date_str": "2005-05-01",
          "month": 5,
          "quarter": 2,
          "year": "2005"
         },
         {
          "Counts": 6207,
          "Date": "2005-06-01T00:00:00",
          "Precip": null,
          "dataset": "olou",
          "date_str": "2005-06-01",
          "month": 6,
          "quarter": 2,
          "year": "2005"
         },
         {
          "Counts": 6166,
          "Date": "2005-07-01T00:00:00",
          "Precip": null,
          "dataset": "olou",
          "date_str": "2005-07-01",
          "month": 7,
          "quarter": 3,
          "year": "2005"
         },
         {
          "Counts": 6114,
          "Date": "2005-08-01T00:00:00",
          "Precip": null,
          "dataset": "olou",
          "date_str": "2005-08-01",
          "month": 8,
          "quarter": 3,
          "year": "2005"
         },
         {
          "Counts": 5945,
          "Date": "2005-09-01T00:00:00",
          "Precip": null,
          "dataset": "olou",
          "date_str": "2005-09-01",
          "month": 9,
          "quarter": 3,
          "year": "2005"
         },
         {
          "Counts": 6233,
          "Date": "2005-10-01T00:00:00",
          "Precip": null,
          "dataset": "olou",
          "date_str": "2005-10-01",
          "month": 10,
          "quarter": 4,
          "year": "2005"
         },
         {
          "Counts": 6306,
          "Date": "2005-11-01T00:00:00",
          "Precip": null,
          "dataset": "olou",
          "date_str": "2005-11-01",
          "month": 11,
          "quarter": 4,
          "year": "2005"
         },
         {
          "Counts": 6308,
          "Date": "2005-12-01T00:00:00",
          "Precip": null,
          "dataset": "olou",
          "date_str": "2005-12-01",
          "month": 12,
          "quarter": 4,
          "year": "2005"
         },
         {
          "Counts": 6330,
          "Date": "2006-01-01T00:00:00",
          "Precip": null,
          "dataset": "olou",
          "date_str": "2006-01-01",
          "month": 1,
          "quarter": 1,
          "year": "2006"
         },
         {
          "Counts": 6404,
          "Date": "2006-02-01T00:00:00",
          "Precip": null,
          "dataset": "olou",
          "date_str": "2006-02-01",
          "month": 2,
          "quarter": 1,
          "year": "2006"
         },
         {
          "Counts": 6478,
          "Date": "2006-03-01T00:00:00",
          "Precip": null,
          "dataset": "olou",
          "date_str": "2006-03-01",
          "month": 3,
          "quarter": 1,
          "year": "2006"
         },
         {
          "Counts": 6487,
          "Date": "2006-04-01T00:00:00",
          "Precip": null,
          "dataset": "olou",
          "date_str": "2006-04-01",
          "month": 4,
          "quarter": 2,
          "year": "2006"
         },
         {
          "Counts": 6515,
          "Date": "2006-05-01T00:00:00",
          "Precip": null,
          "dataset": "olou",
          "date_str": "2006-05-01",
          "month": 5,
          "quarter": 2,
          "year": "2006"
         },
         {
          "Counts": 6512,
          "Date": "2006-06-01T00:00:00",
          "Precip": null,
          "dataset": "olou",
          "date_str": "2006-06-01",
          "month": 6,
          "quarter": 2,
          "year": "2006"
         },
         {
          "Counts": 6494,
          "Date": "2006-07-01T00:00:00",
          "Precip": null,
          "dataset": "olou",
          "date_str": "2006-07-01",
          "month": 7,
          "quarter": 3,
          "year": "2006"
         },
         {
          "Counts": 6499,
          "Date": "2006-08-01T00:00:00",
          "Precip": null,
          "dataset": "olou",
          "date_str": "2006-08-01",
          "month": 8,
          "quarter": 3,
          "year": "2006"
         },
         {
          "Counts": 6494,
          "Date": "2006-09-01T00:00:00",
          "Precip": null,
          "dataset": "olou",
          "date_str": "2006-09-01",
          "month": 9,
          "quarter": 3,
          "year": "2006"
         },
         {
          "Counts": 6546,
          "Date": "2006-10-01T00:00:00",
          "Precip": null,
          "dataset": "olou",
          "date_str": "2006-10-01",
          "month": 10,
          "quarter": 4,
          "year": "2006"
         },
         {
          "Counts": 6528,
          "Date": "2006-11-01T00:00:00",
          "Precip": null,
          "dataset": "olou",
          "date_str": "2006-11-01",
          "month": 11,
          "quarter": 4,
          "year": "2006"
         },
         {
          "Counts": 6445,
          "Date": "2006-12-01T00:00:00",
          "Precip": null,
          "dataset": "olou",
          "date_str": "2006-12-01",
          "month": 12,
          "quarter": 4,
          "year": "2006"
         },
         {
          "Counts": 6578,
          "Date": "2007-01-01T00:00:00",
          "Precip": null,
          "dataset": "olou",
          "date_str": "2007-01-01",
          "month": 1,
          "quarter": 1,
          "year": "2007"
         },
         {
          "Counts": 6551,
          "Date": "2007-02-01T00:00:00",
          "Precip": null,
          "dataset": "olou",
          "date_str": "2007-02-01",
          "month": 2,
          "quarter": 1,
          "year": "2007"
         },
         {
          "Counts": 6588,
          "Date": "2007-03-01T00:00:00",
          "Precip": null,
          "dataset": "olou",
          "date_str": "2007-03-01",
          "month": 3,
          "quarter": 1,
          "year": "2007"
         },
         {
          "Counts": 6650,
          "Date": "2007-04-01T00:00:00",
          "Precip": null,
          "dataset": "olou",
          "date_str": "2007-04-01",
          "month": 4,
          "quarter": 2,
          "year": "2007"
         },
         {
          "Counts": 6651,
          "Date": "2007-05-01T00:00:00",
          "Precip": null,
          "dataset": "olou",
          "date_str": "2007-05-01",
          "month": 5,
          "quarter": 2,
          "year": "2007"
         },
         {
          "Counts": 6655,
          "Date": "2007-06-01T00:00:00",
          "Precip": null,
          "dataset": "olou",
          "date_str": "2007-06-01",
          "month": 6,
          "quarter": 2,
          "year": "2007"
         },
         {
          "Counts": 6645,
          "Date": "2007-07-01T00:00:00",
          "Precip": null,
          "dataset": "olou",
          "date_str": "2007-07-01",
          "month": 7,
          "quarter": 3,
          "year": "2007"
         },
         {
          "Counts": 6637,
          "Date": "2007-08-01T00:00:00",
          "Precip": null,
          "dataset": "olou",
          "date_str": "2007-08-01",
          "month": 8,
          "quarter": 3,
          "year": "2007"
         },
         {
          "Counts": 6652,
          "Date": "2007-09-01T00:00:00",
          "Precip": null,
          "dataset": "olou",
          "date_str": "2007-09-01",
          "month": 9,
          "quarter": 3,
          "year": "2007"
         },
         {
          "Counts": 6656,
          "Date": "2007-10-01T00:00:00",
          "Precip": null,
          "dataset": "olou",
          "date_str": "2007-10-01",
          "month": 10,
          "quarter": 4,
          "year": "2007"
         },
         {
          "Counts": 6647,
          "Date": "2007-11-01T00:00:00",
          "Precip": null,
          "dataset": "olou",
          "date_str": "2007-11-01",
          "month": 11,
          "quarter": 4,
          "year": "2007"
         },
         {
          "Counts": 6671,
          "Date": "2007-12-01T00:00:00",
          "Precip": null,
          "dataset": "olou",
          "date_str": "2007-12-01",
          "month": 12,
          "quarter": 4,
          "year": "2007"
         },
         {
          "Counts": 6646,
          "Date": "2008-01-01T00:00:00",
          "Precip": null,
          "dataset": "olou",
          "date_str": "2008-01-01",
          "month": 1,
          "quarter": 1,
          "year": "2008"
         },
         {
          "Counts": 6629,
          "Date": "2008-02-01T00:00:00",
          "Precip": null,
          "dataset": "olou",
          "date_str": "2008-02-01",
          "month": 2,
          "quarter": 1,
          "year": "2008"
         },
         {
          "Counts": 6630,
          "Date": "2008-03-01T00:00:00",
          "Precip": null,
          "dataset": "olou",
          "date_str": "2008-03-01",
          "month": 3,
          "quarter": 1,
          "year": "2008"
         },
         {
          "Counts": 6640,
          "Date": "2008-04-01T00:00:00",
          "Precip": null,
          "dataset": "olou",
          "date_str": "2008-04-01",
          "month": 4,
          "quarter": 2,
          "year": "2008"
         },
         {
          "Counts": 6631,
          "Date": "2008-05-01T00:00:00",
          "Precip": null,
          "dataset": "olou",
          "date_str": "2008-05-01",
          "month": 5,
          "quarter": 2,
          "year": "2008"
         },
         {
          "Counts": 6635,
          "Date": "2008-06-01T00:00:00",
          "Precip": null,
          "dataset": "olou",
          "date_str": "2008-06-01",
          "month": 6,
          "quarter": 2,
          "year": "2008"
         },
         {
          "Counts": 6651,
          "Date": "2008-07-01T00:00:00",
          "Precip": null,
          "dataset": "olou",
          "date_str": "2008-07-01",
          "month": 7,
          "quarter": 3,
          "year": "2008"
         },
         {
          "Counts": 6656,
          "Date": "2008-08-01T00:00:00",
          "Precip": null,
          "dataset": "olou",
          "date_str": "2008-08-01",
          "month": 8,
          "quarter": 3,
          "year": "2008"
         },
         {
          "Counts": 6678,
          "Date": "2008-09-01T00:00:00",
          "Precip": null,
          "dataset": "olou",
          "date_str": "2008-09-01",
          "month": 9,
          "quarter": 3,
          "year": "2008"
         },
         {
          "Counts": 6698,
          "Date": "2008-10-01T00:00:00",
          "Precip": null,
          "dataset": "olou",
          "date_str": "2008-10-01",
          "month": 10,
          "quarter": 4,
          "year": "2008"
         },
         {
          "Counts": 6724,
          "Date": "2008-11-01T00:00:00",
          "Precip": null,
          "dataset": "olou",
          "date_str": "2008-11-01",
          "month": 11,
          "quarter": 4,
          "year": "2008"
         },
         {
          "Counts": 6722,
          "Date": "2008-12-01T00:00:00",
          "Precip": null,
          "dataset": "olou",
          "date_str": "2008-12-01",
          "month": 12,
          "quarter": 4,
          "year": "2008"
         },
         {
          "Counts": 6737,
          "Date": "2009-01-01T00:00:00",
          "Precip": null,
          "dataset": "olou",
          "date_str": "2009-01-01",
          "month": 1,
          "quarter": 1,
          "year": "2009"
         },
         {
          "Counts": 6736,
          "Date": "2009-02-01T00:00:00",
          "Precip": null,
          "dataset": "olou",
          "date_str": "2009-02-01",
          "month": 2,
          "quarter": 1,
          "year": "2009"
         },
         {
          "Counts": 6779,
          "Date": "2009-03-01T00:00:00",
          "Precip": null,
          "dataset": "olou",
          "date_str": "2009-03-01",
          "month": 3,
          "quarter": 1,
          "year": "2009"
         },
         {
          "Counts": 6818,
          "Date": "2009-04-01T00:00:00",
          "Precip": null,
          "dataset": "olou",
          "date_str": "2009-04-01",
          "month": 4,
          "quarter": 2,
          "year": "2009"
         },
         {
          "Counts": 6825,
          "Date": "2009-05-01T00:00:00",
          "Precip": null,
          "dataset": "olou",
          "date_str": "2009-05-01",
          "month": 5,
          "quarter": 2,
          "year": "2009"
         },
         {
          "Counts": 6813,
          "Date": "2009-06-01T00:00:00",
          "Precip": null,
          "dataset": "olou",
          "date_str": "2009-06-01",
          "month": 6,
          "quarter": 2,
          "year": "2009"
         },
         {
          "Counts": 6804,
          "Date": "2009-07-01T00:00:00",
          "Precip": null,
          "dataset": "olou",
          "date_str": "2009-07-01",
          "month": 7,
          "quarter": 3,
          "year": "2009"
         },
         {
          "Counts": 6803,
          "Date": "2009-08-01T00:00:00",
          "Precip": null,
          "dataset": "olou",
          "date_str": "2009-08-01",
          "month": 8,
          "quarter": 3,
          "year": "2009"
         },
         {
          "Counts": 6818,
          "Date": "2009-09-01T00:00:00",
          "Precip": null,
          "dataset": "olou",
          "date_str": "2009-09-01",
          "month": 9,
          "quarter": 3,
          "year": "2009"
         },
         {
          "Counts": 6838,
          "Date": "2009-10-01T00:00:00",
          "Precip": null,
          "dataset": "olou",
          "date_str": "2009-10-01",
          "month": 10,
          "quarter": 4,
          "year": "2009"
         },
         {
          "Counts": 6833,
          "Date": "2009-11-01T00:00:00",
          "Precip": null,
          "dataset": "olou",
          "date_str": "2009-11-01",
          "month": 11,
          "quarter": 4,
          "year": "2009"
         },
         {
          "Counts": 6843,
          "Date": "2009-12-01T00:00:00",
          "Precip": null,
          "dataset": "olou",
          "date_str": "2009-12-01",
          "month": 12,
          "quarter": 4,
          "year": "2009"
         },
         {
          "Counts": 6810,
          "Date": "2010-01-01T00:00:00",
          "Precip": null,
          "dataset": "olou",
          "date_str": "2010-01-01",
          "month": 1,
          "quarter": 1,
          "year": "2010"
         },
         {
          "Counts": 6717,
          "Date": "2010-02-01T00:00:00",
          "Precip": null,
          "dataset": "olou",
          "date_str": "2010-02-01",
          "month": 2,
          "quarter": 1,
          "year": "2010"
         },
         {
          "Counts": 6655,
          "Date": "2010-03-01T00:00:00",
          "Precip": null,
          "dataset": "olou",
          "date_str": "2010-03-01",
          "month": 3,
          "quarter": 1,
          "year": "2010"
         },
         {
          "Counts": 6599,
          "Date": "2010-04-01T00:00:00",
          "Precip": null,
          "dataset": "olou",
          "date_str": "2010-04-01",
          "month": 4,
          "quarter": 2,
          "year": "2010"
         },
         {
          "Counts": 6629,
          "Date": "2010-05-01T00:00:00",
          "Precip": null,
          "dataset": "olou",
          "date_str": "2010-05-01",
          "month": 5,
          "quarter": 2,
          "year": "2010"
         },
         {
          "Counts": 6609,
          "Date": "2010-06-01T00:00:00",
          "Precip": null,
          "dataset": "olou",
          "date_str": "2010-06-01",
          "month": 6,
          "quarter": 2,
          "year": "2010"
         },
         {
          "Counts": 6598,
          "Date": "2010-07-01T00:00:00",
          "Precip": null,
          "dataset": "olou",
          "date_str": "2010-07-01",
          "month": 7,
          "quarter": 3,
          "year": "2010"
         },
         {
          "Counts": 6577,
          "Date": "2010-08-01T00:00:00",
          "Precip": null,
          "dataset": "olou",
          "date_str": "2010-08-01",
          "month": 8,
          "quarter": 3,
          "year": "2010"
         },
         {
          "Counts": 6577,
          "Date": "2010-09-01T00:00:00",
          "Precip": null,
          "dataset": "olou",
          "date_str": "2010-09-01",
          "month": 9,
          "quarter": 3,
          "year": "2010"
         },
         {
          "Counts": 6603,
          "Date": "2010-10-01T00:00:00",
          "Precip": null,
          "dataset": "olou",
          "date_str": "2010-10-01",
          "month": 10,
          "quarter": 4,
          "year": "2010"
         },
         {
          "Counts": 6574,
          "Date": "2010-11-01T00:00:00",
          "Precip": null,
          "dataset": "olou",
          "date_str": "2010-11-01",
          "month": 11,
          "quarter": 4,
          "year": "2010"
         },
         {
          "Counts": 6533,
          "Date": "2010-12-01T00:00:00",
          "Precip": null,
          "dataset": "olou",
          "date_str": "2010-12-01",
          "month": 12,
          "quarter": 4,
          "year": "2010"
         },
         {
          "Counts": 6558,
          "Date": "2011-01-01T00:00:00",
          "Precip": null,
          "dataset": "olou",
          "date_str": "2011-01-01",
          "month": 1,
          "quarter": 1,
          "year": "2011"
         },
         {
          "Counts": 6529,
          "Date": "2011-02-01T00:00:00",
          "Precip": null,
          "dataset": "olou",
          "date_str": "2011-02-01",
          "month": 2,
          "quarter": 1,
          "year": "2011"
         },
         {
          "Counts": 6507,
          "Date": "2011-03-01T00:00:00",
          "Precip": null,
          "dataset": "olou",
          "date_str": "2011-03-01",
          "month": 3,
          "quarter": 1,
          "year": "2011"
         },
         {
          "Counts": 6384,
          "Date": "2011-04-01T00:00:00",
          "Precip": null,
          "dataset": "olou",
          "date_str": "2011-04-01",
          "month": 4,
          "quarter": 2,
          "year": "2011"
         },
         {
          "Counts": 6458,
          "Date": "2011-05-01T00:00:00",
          "Precip": null,
          "dataset": "olou",
          "date_str": "2011-05-01",
          "month": 5,
          "quarter": 2,
          "year": "2011"
         },
         {
          "Counts": 6292,
          "Date": "2011-06-01T00:00:00",
          "Precip": null,
          "dataset": "olou",
          "date_str": "2011-06-01",
          "month": 6,
          "quarter": 2,
          "year": "2011"
         },
         {
          "Counts": 6346,
          "Date": "2011-07-01T00:00:00",
          "Precip": null,
          "dataset": "olou",
          "date_str": "2011-07-01",
          "month": 7,
          "quarter": 3,
          "year": "2011"
         },
         {
          "Counts": 6362,
          "Date": "2011-08-01T00:00:00",
          "Precip": null,
          "dataset": "olou",
          "date_str": "2011-08-01",
          "month": 8,
          "quarter": 3,
          "year": "2011"
         },
         {
          "Counts": 6355,
          "Date": "2011-09-01T00:00:00",
          "Precip": null,
          "dataset": "olou",
          "date_str": "2011-09-01",
          "month": 9,
          "quarter": 3,
          "year": "2011"
         },
         {
          "Counts": 6320,
          "Date": "2011-10-01T00:00:00",
          "Precip": null,
          "dataset": "olou",
          "date_str": "2011-10-01",
          "month": 10,
          "quarter": 4,
          "year": "2011"
         },
         {
          "Counts": 6397,
          "Date": "2011-11-01T00:00:00",
          "Precip": null,
          "dataset": "olou",
          "date_str": "2011-11-01",
          "month": 11,
          "quarter": 4,
          "year": "2011"
         },
         {
          "Counts": 6485,
          "Date": "2011-12-01T00:00:00",
          "Precip": null,
          "dataset": "olou",
          "date_str": "2011-12-01",
          "month": 12,
          "quarter": 4,
          "year": "2011"
         }
        ],
        "data-eb62011b3bb8ce7558a02b394eeedaa6": [
         {
          "Counts": 6413,
          "Date": "1964-04-01T00:00:00",
          "Precip": null,
          "dataset": "olou",
          "date_str": "1964-04-01",
          "month": 4,
          "quarter": 2,
          "year": "1964"
         },
         {
          "Counts": 6424,
          "Date": "1964-05-01T00:00:00",
          "Precip": null,
          "dataset": "olou",
          "date_str": "1964-05-01",
          "month": 5,
          "quarter": 2,
          "year": "1964"
         },
         {
          "Counts": 6427,
          "Date": "1964-06-01T00:00:00",
          "Precip": null,
          "dataset": "olou",
          "date_str": "1964-06-01",
          "month": 6,
          "quarter": 2,
          "year": "1964"
         },
         {
          "Counts": 6461,
          "Date": "1964-07-01T00:00:00",
          "Precip": null,
          "dataset": "olou",
          "date_str": "1964-07-01",
          "month": 7,
          "quarter": 3,
          "year": "1964"
         },
         {
          "Counts": 6464,
          "Date": "1964-08-01T00:00:00",
          "Precip": null,
          "dataset": "olou",
          "date_str": "1964-08-01",
          "month": 8,
          "quarter": 3,
          "year": "1964"
         },
         {
          "Counts": 6491,
          "Date": "1964-09-01T00:00:00",
          "Precip": null,
          "dataset": "olou",
          "date_str": "1964-09-01",
          "month": 9,
          "quarter": 3,
          "year": "1964"
         },
         {
          "Counts": 6474,
          "Date": "1964-10-01T00:00:00",
          "Precip": null,
          "dataset": "olou",
          "date_str": "1964-10-01",
          "month": 10,
          "quarter": 4,
          "year": "1964"
         },
         {
          "Counts": 6467,
          "Date": "1964-11-01T00:00:00",
          "Precip": null,
          "dataset": "olou",
          "date_str": "1964-11-01",
          "month": 11,
          "quarter": 4,
          "year": "1964"
         },
         {
          "Counts": 6512,
          "Date": "1964-12-01T00:00:00",
          "Precip": null,
          "dataset": "olou",
          "date_str": "1964-12-01",
          "month": 12,
          "quarter": 4,
          "year": "1964"
         },
         {
          "Counts": 6505,
          "Date": "1965-01-01T00:00:00",
          "Precip": null,
          "dataset": "olou",
          "date_str": "1965-01-01",
          "month": 1,
          "quarter": 1,
          "year": "1965"
         },
         {
          "Counts": 6466,
          "Date": "1965-02-01T00:00:00",
          "Precip": null,
          "dataset": "olou",
          "date_str": "1965-02-01",
          "month": 2,
          "quarter": 1,
          "year": "1965"
         },
         {
          "Counts": 6532,
          "Date": "1965-03-01T00:00:00",
          "Precip": null,
          "dataset": "olou",
          "date_str": "1965-03-01",
          "month": 3,
          "quarter": 1,
          "year": "1965"
         },
         {
          "Counts": 6592,
          "Date": "1965-04-01T00:00:00",
          "Precip": null,
          "dataset": "olou",
          "date_str": "1965-04-01",
          "month": 4,
          "quarter": 2,
          "year": "1965"
         },
         {
          "Counts": 6619,
          "Date": "1965-05-01T00:00:00",
          "Precip": null,
          "dataset": "olou",
          "date_str": "1965-05-01",
          "month": 5,
          "quarter": 2,
          "year": "1965"
         },
         {
          "Counts": 6512,
          "Date": "1965-06-01T00:00:00",
          "Precip": null,
          "dataset": "olou",
          "date_str": "1965-06-01",
          "month": 6,
          "quarter": 2,
          "year": "1965"
         },
         {
          "Counts": 6472,
          "Date": "1965-07-01T00:00:00",
          "Precip": null,
          "dataset": "olou",
          "date_str": "1965-07-01",
          "month": 7,
          "quarter": 3,
          "year": "1965"
         },
         {
          "Counts": 6453,
          "Date": "1965-08-01T00:00:00",
          "Precip": null,
          "dataset": "olou",
          "date_str": "1965-08-01",
          "month": 8,
          "quarter": 3,
          "year": "1965"
         },
         {
          "Counts": 6470,
          "Date": "1965-09-01T00:00:00",
          "Precip": null,
          "dataset": "olou",
          "date_str": "1965-09-01",
          "month": 9,
          "quarter": 3,
          "year": "1965"
         },
         {
          "Counts": 6508,
          "Date": "1965-10-01T00:00:00",
          "Precip": null,
          "dataset": "olou",
          "date_str": "1965-10-01",
          "month": 10,
          "quarter": 4,
          "year": "1965"
         },
         {
          "Counts": 6558,
          "Date": "1965-11-01T00:00:00",
          "Precip": null,
          "dataset": "olou",
          "date_str": "1965-11-01",
          "month": 11,
          "quarter": 4,
          "year": "1965"
         },
         {
          "Counts": 6507,
          "Date": "1965-12-01T00:00:00",
          "Precip": null,
          "dataset": "olou",
          "date_str": "1965-12-01",
          "month": 12,
          "quarter": 4,
          "year": "1965"
         },
         {
          "Counts": 6423,
          "Date": "1966-01-01T00:00:00",
          "Precip": null,
          "dataset": "olou",
          "date_str": "1966-01-01",
          "month": 1,
          "quarter": 1,
          "year": "1966"
         },
         {
          "Counts": 6376,
          "Date": "1966-02-01T00:00:00",
          "Precip": null,
          "dataset": "olou",
          "date_str": "1966-02-01",
          "month": 2,
          "quarter": 1,
          "year": "1966"
         },
         {
          "Counts": 6410,
          "Date": "1966-03-01T00:00:00",
          "Precip": null,
          "dataset": "olou",
          "date_str": "1966-03-01",
          "month": 3,
          "quarter": 1,
          "year": "1966"
         },
         {
          "Counts": 6396,
          "Date": "1966-04-01T00:00:00",
          "Precip": null,
          "dataset": "olou",
          "date_str": "1966-04-01",
          "month": 4,
          "quarter": 2,
          "year": "1966"
         },
         {
          "Counts": 6434,
          "Date": "1966-05-01T00:00:00",
          "Precip": null,
          "dataset": "olou",
          "date_str": "1966-05-01",
          "month": 5,
          "quarter": 2,
          "year": "1966"
         },
         {
          "Counts": 6345,
          "Date": "1966-06-01T00:00:00",
          "Precip": null,
          "dataset": "olou",
          "date_str": "1966-06-01",
          "month": 6,
          "quarter": 2,
          "year": "1966"
         },
         {
          "Counts": 6304,
          "Date": "1966-07-01T00:00:00",
          "Precip": null,
          "dataset": "olou",
          "date_str": "1966-07-01",
          "month": 7,
          "quarter": 3,
          "year": "1966"
         },
         {
          "Counts": 6277,
          "Date": "1966-08-01T00:00:00",
          "Precip": null,
          "dataset": "olou",
          "date_str": "1966-08-01",
          "month": 8,
          "quarter": 3,
          "year": "1966"
         },
         {
          "Counts": 6040,
          "Date": "1966-09-01T00:00:00",
          "Precip": null,
          "dataset": "olou",
          "date_str": "1966-09-01",
          "month": 9,
          "quarter": 3,
          "year": "1966"
         },
         {
          "Counts": 6162,
          "Date": "1966-10-01T00:00:00",
          "Precip": null,
          "dataset": "olou",
          "date_str": "1966-10-01",
          "month": 10,
          "quarter": 4,
          "year": "1966"
         },
         {
          "Counts": 6220,
          "Date": "1966-11-01T00:00:00",
          "Precip": null,
          "dataset": "olou",
          "date_str": "1966-11-01",
          "month": 11,
          "quarter": 4,
          "year": "1966"
         },
         {
          "Counts": 6155,
          "Date": "1966-12-01T00:00:00",
          "Precip": null,
          "dataset": "olou",
          "date_str": "1966-12-01",
          "month": 12,
          "quarter": 4,
          "year": "1966"
         },
         {
          "Counts": 6021,
          "Date": "1967-01-01T00:00:00",
          "Precip": null,
          "dataset": "olou",
          "date_str": "1967-01-01",
          "month": 1,
          "quarter": 1,
          "year": "1967"
         },
         {
          "Counts": 5961,
          "Date": "1967-02-01T00:00:00",
          "Precip": null,
          "dataset": "olou",
          "date_str": "1967-02-01",
          "month": 2,
          "quarter": 1,
          "year": "1967"
         },
         {
          "Counts": 6074,
          "Date": "1967-03-01T00:00:00",
          "Precip": null,
          "dataset": "olou",
          "date_str": "1967-03-01",
          "month": 3,
          "quarter": 1,
          "year": "1967"
         },
         {
          "Counts": 6151,
          "Date": "1967-04-01T00:00:00",
          "Precip": null,
          "dataset": "olou",
          "date_str": "1967-04-01",
          "month": 4,
          "quarter": 2,
          "year": "1967"
         },
         {
          "Counts": 6040,
          "Date": "1967-05-01T00:00:00",
          "Precip": null,
          "dataset": "olou",
          "date_str": "1967-05-01",
          "month": 5,
          "quarter": 2,
          "year": "1967"
         },
         {
          "Counts": 5996,
          "Date": "1967-06-01T00:00:00",
          "Precip": null,
          "dataset": "olou",
          "date_str": "1967-06-01",
          "month": 6,
          "quarter": 2,
          "year": "1967"
         },
         {
          "Counts": 6047,
          "Date": "1967-07-01T00:00:00",
          "Precip": null,
          "dataset": "olou",
          "date_str": "1967-07-01",
          "month": 7,
          "quarter": 3,
          "year": "1967"
         },
         {
          "Counts": 5981,
          "Date": "1967-08-01T00:00:00",
          "Precip": null,
          "dataset": "olou",
          "date_str": "1967-08-01",
          "month": 8,
          "quarter": 3,
          "year": "1967"
         },
         {
          "Counts": 6037,
          "Date": "1967-09-01T00:00:00",
          "Precip": null,
          "dataset": "olou",
          "date_str": "1967-09-01",
          "month": 9,
          "quarter": 3,
          "year": "1967"
         },
         {
          "Counts": 6069,
          "Date": "1967-10-01T00:00:00",
          "Precip": null,
          "dataset": "olou",
          "date_str": "1967-10-01",
          "month": 10,
          "quarter": 4,
          "year": "1967"
         },
         {
          "Counts": 6010,
          "Date": "1967-11-01T00:00:00",
          "Precip": null,
          "dataset": "olou",
          "date_str": "1967-11-01",
          "month": 11,
          "quarter": 4,
          "year": "1967"
         },
         {
          "Counts": 6003,
          "Date": "1967-12-01T00:00:00",
          "Precip": null,
          "dataset": "olou",
          "date_str": "1967-12-01",
          "month": 12,
          "quarter": 4,
          "year": "1967"
         },
         {
          "Counts": 5953,
          "Date": "1968-01-01T00:00:00",
          "Precip": null,
          "dataset": "olou",
          "date_str": "1968-01-01",
          "month": 1,
          "quarter": 1,
          "year": "1968"
         },
         {
          "Counts": 5879,
          "Date": "1968-02-01T00:00:00",
          "Precip": null,
          "dataset": "olou",
          "date_str": "1968-02-01",
          "month": 2,
          "quarter": 1,
          "year": "1968"
         },
         {
          "Counts": 5912,
          "Date": "1968-03-01T00:00:00",
          "Precip": null,
          "dataset": "olou",
          "date_str": "1968-03-01",
          "month": 3,
          "quarter": 1,
          "year": "1968"
         },
         {
          "Counts": 6049,
          "Date": "1968-04-01T00:00:00",
          "Precip": null,
          "dataset": "olou",
          "date_str": "1968-04-01",
          "month": 4,
          "quarter": 2,
          "year": "1968"
         },
         {
          "Counts": 5984,
          "Date": "1968-05-01T00:00:00",
          "Precip": null,
          "dataset": "olou",
          "date_str": "1968-05-01",
          "month": 5,
          "quarter": 2,
          "year": "1968"
         },
         {
          "Counts": 5905,
          "Date": "1968-06-01T00:00:00",
          "Precip": null,
          "dataset": "olou",
          "date_str": "1968-06-01",
          "month": 6,
          "quarter": 2,
          "year": "1968"
         },
         {
          "Counts": 5924,
          "Date": "1968-07-01T00:00:00",
          "Precip": null,
          "dataset": "olou",
          "date_str": "1968-07-01",
          "month": 7,
          "quarter": 3,
          "year": "1968"
         },
         {
          "Counts": 5942,
          "Date": "1968-08-01T00:00:00",
          "Precip": null,
          "dataset": "olou",
          "date_str": "1968-08-01",
          "month": 8,
          "quarter": 3,
          "year": "1968"
         },
         {
          "Counts": 5893,
          "Date": "1968-09-01T00:00:00",
          "Precip": null,
          "dataset": "olou",
          "date_str": "1968-09-01",
          "month": 9,
          "quarter": 3,
          "year": "1968"
         },
         {
          "Counts": 5801,
          "Date": "1968-10-01T00:00:00",
          "Precip": null,
          "dataset": "olou",
          "date_str": "1968-10-01",
          "month": 10,
          "quarter": 4,
          "year": "1968"
         },
         {
          "Counts": 5623,
          "Date": "1968-11-01T00:00:00",
          "Precip": null,
          "dataset": "olou",
          "date_str": "1968-11-01",
          "month": 11,
          "quarter": 4,
          "year": "1968"
         },
         {
          "Counts": 5654,
          "Date": "1968-12-01T00:00:00",
          "Precip": null,
          "dataset": "olou",
          "date_str": "1968-12-01",
          "month": 12,
          "quarter": 4,
          "year": "1968"
         },
         {
          "Counts": 5771,
          "Date": "1969-01-01T00:00:00",
          "Precip": null,
          "dataset": "olou",
          "date_str": "1969-01-01",
          "month": 1,
          "quarter": 1,
          "year": "1969"
         },
         {
          "Counts": 5730,
          "Date": "1969-02-01T00:00:00",
          "Precip": null,
          "dataset": "olou",
          "date_str": "1969-02-01",
          "month": 2,
          "quarter": 1,
          "year": "1969"
         },
         {
          "Counts": 5743,
          "Date": "1969-03-01T00:00:00",
          "Precip": null,
          "dataset": "olou",
          "date_str": "1969-03-01",
          "month": 3,
          "quarter": 1,
          "year": "1969"
         },
         {
          "Counts": 5828,
          "Date": "1969-04-01T00:00:00",
          "Precip": null,
          "dataset": "olou",
          "date_str": "1969-04-01",
          "month": 4,
          "quarter": 2,
          "year": "1969"
         },
         {
          "Counts": 5686,
          "Date": "1969-05-01T00:00:00",
          "Precip": null,
          "dataset": "olou",
          "date_str": "1969-05-01",
          "month": 5,
          "quarter": 2,
          "year": "1969"
         },
         {
          "Counts": 5628,
          "Date": "1969-06-01T00:00:00",
          "Precip": null,
          "dataset": "olou",
          "date_str": "1969-06-01",
          "month": 6,
          "quarter": 2,
          "year": "1969"
         },
         {
          "Counts": 5689,
          "Date": "1969-07-01T00:00:00",
          "Precip": null,
          "dataset": "olou",
          "date_str": "1969-07-01",
          "month": 7,
          "quarter": 3,
          "year": "1969"
         },
         {
          "Counts": 5785,
          "Date": "1969-08-01T00:00:00",
          "Precip": null,
          "dataset": "olou",
          "date_str": "1969-08-01",
          "month": 8,
          "quarter": 3,
          "year": "1969"
         },
         {
          "Counts": 5832,
          "Date": "1969-09-01T00:00:00",
          "Precip": null,
          "dataset": "olou",
          "date_str": "1969-09-01",
          "month": 9,
          "quarter": 3,
          "year": "1969"
         },
         {
          "Counts": 5860,
          "Date": "1969-10-01T00:00:00",
          "Precip": null,
          "dataset": "olou",
          "date_str": "1969-10-01",
          "month": 10,
          "quarter": 4,
          "year": "1969"
         },
         {
          "Counts": 5850,
          "Date": "1969-11-01T00:00:00",
          "Precip": null,
          "dataset": "olou",
          "date_str": "1969-11-01",
          "month": 11,
          "quarter": 4,
          "year": "1969"
         },
         {
          "Counts": 5864,
          "Date": "1969-12-01T00:00:00",
          "Precip": null,
          "dataset": "olou",
          "date_str": "1969-12-01",
          "month": 12,
          "quarter": 4,
          "year": "1969"
         },
         {
          "Counts": 5791,
          "Date": "1970-01-01T00:00:00",
          "Precip": null,
          "dataset": "olou",
          "date_str": "1970-01-01",
          "month": 1,
          "quarter": 1,
          "year": "1970"
         },
         {
          "Counts": 5789,
          "Date": "1970-02-01T00:00:00",
          "Precip": null,
          "dataset": "olou",
          "date_str": "1970-02-01",
          "month": 2,
          "quarter": 1,
          "year": "1970"
         },
         {
          "Counts": 5794,
          "Date": "1970-03-01T00:00:00",
          "Precip": null,
          "dataset": "olou",
          "date_str": "1970-03-01",
          "month": 3,
          "quarter": 1,
          "year": "1970"
         },
         {
          "Counts": 5803,
          "Date": "1970-04-01T00:00:00",
          "Precip": null,
          "dataset": "olou",
          "date_str": "1970-04-01",
          "month": 4,
          "quarter": 2,
          "year": "1970"
         },
         {
          "Counts": 5841,
          "Date": "1970-05-01T00:00:00",
          "Precip": null,
          "dataset": "olou",
          "date_str": "1970-05-01",
          "month": 5,
          "quarter": 2,
          "year": "1970"
         },
         {
          "Counts": 5698,
          "Date": "1970-06-01T00:00:00",
          "Precip": null,
          "dataset": "olou",
          "date_str": "1970-06-01",
          "month": 6,
          "quarter": 2,
          "year": "1970"
         },
         {
          "Counts": 5689,
          "Date": "1970-07-01T00:00:00",
          "Precip": null,
          "dataset": "olou",
          "date_str": "1970-07-01",
          "month": 7,
          "quarter": 3,
          "year": "1970"
         },
         {
          "Counts": 5781,
          "Date": "1970-08-01T00:00:00",
          "Precip": null,
          "dataset": "olou",
          "date_str": "1970-08-01",
          "month": 8,
          "quarter": 3,
          "year": "1970"
         },
         {
          "Counts": 5869,
          "Date": "1970-09-01T00:00:00",
          "Precip": null,
          "dataset": "olou",
          "date_str": "1970-09-01",
          "month": 9,
          "quarter": 3,
          "year": "1970"
         },
         {
          "Counts": 5910,
          "Date": "1970-10-01T00:00:00",
          "Precip": null,
          "dataset": "olou",
          "date_str": "1970-10-01",
          "month": 10,
          "quarter": 4,
          "year": "1970"
         },
         {
          "Counts": 5794,
          "Date": "1970-11-01T00:00:00",
          "Precip": null,
          "dataset": "olou",
          "date_str": "1970-11-01",
          "month": 11,
          "quarter": 4,
          "year": "1970"
         },
         {
          "Counts": 5939,
          "Date": "1970-12-01T00:00:00",
          "Precip": null,
          "dataset": "olou",
          "date_str": "1970-12-01",
          "month": 12,
          "quarter": 4,
          "year": "1970"
         },
         {
          "Counts": 5909,
          "Date": "1971-01-01T00:00:00",
          "Precip": null,
          "dataset": "olou",
          "date_str": "1971-01-01",
          "month": 1,
          "quarter": 1,
          "year": "1971"
         },
         {
          "Counts": 6003,
          "Date": "1971-02-01T00:00:00",
          "Precip": null,
          "dataset": "olou",
          "date_str": "1971-02-01",
          "month": 2,
          "quarter": 1,
          "year": "1971"
         },
         {
          "Counts": 5955,
          "Date": "1971-03-01T00:00:00",
          "Precip": null,
          "dataset": "olou",
          "date_str": "1971-03-01",
          "month": 3,
          "quarter": 1,
          "year": "1971"
         },
         {
          "Counts": 6089,
          "Date": "1971-04-01T00:00:00",
          "Precip": null,
          "dataset": "olou",
          "date_str": "1971-04-01",
          "month": 4,
          "quarter": 2,
          "year": "1971"
         },
         {
          "Counts": 6132,
          "Date": "1971-05-01T00:00:00",
          "Precip": null,
          "dataset": "olou",
          "date_str": "1971-05-01",
          "month": 5,
          "quarter": 2,
          "year": "1971"
         },
         {
          "Counts": 6254,
          "Date": "1971-06-01T00:00:00",
          "Precip": null,
          "dataset": "olou",
          "date_str": "1971-06-01",
          "month": 6,
          "quarter": 2,
          "year": "1971"
         },
         {
          "Counts": 6265,
          "Date": "1971-07-01T00:00:00",
          "Precip": null,
          "dataset": "olou",
          "date_str": "1971-07-01",
          "month": 7,
          "quarter": 3,
          "year": "1971"
         },
         {
          "Counts": 6319,
          "Date": "1971-08-01T00:00:00",
          "Precip": null,
          "dataset": "olou",
          "date_str": "1971-08-01",
          "month": 8,
          "quarter": 3,
          "year": "1971"
         },
         {
          "Counts": 6323,
          "Date": "1971-09-01T00:00:00",
          "Precip": null,
          "dataset": "olou",
          "date_str": "1971-09-01",
          "month": 9,
          "quarter": 3,
          "year": "1971"
         },
         {
          "Counts": 6386,
          "Date": "1971-10-01T00:00:00",
          "Precip": null,
          "dataset": "olou",
          "date_str": "1971-10-01",
          "month": 10,
          "quarter": 4,
          "year": "1971"
         },
         {
          "Counts": 6348,
          "Date": "1971-11-01T00:00:00",
          "Precip": null,
          "dataset": "olou",
          "date_str": "1971-11-01",
          "month": 11,
          "quarter": 4,
          "year": "1971"
         },
         {
          "Counts": 6294,
          "Date": "1971-12-01T00:00:00",
          "Precip": null,
          "dataset": "olou",
          "date_str": "1971-12-01",
          "month": 12,
          "quarter": 4,
          "year": "1971"
         },
         {
          "Counts": 6227,
          "Date": "1972-01-01T00:00:00",
          "Precip": null,
          "dataset": "olou",
          "date_str": "1972-01-01",
          "month": 1,
          "quarter": 1,
          "year": "1972"
         },
         {
          "Counts": 6130,
          "Date": "1972-02-01T00:00:00",
          "Precip": null,
          "dataset": "olou",
          "date_str": "1972-02-01",
          "month": 2,
          "quarter": 1,
          "year": "1972"
         },
         {
          "Counts": 6391,
          "Date": "1972-03-01T00:00:00",
          "Precip": null,
          "dataset": "olou",
          "date_str": "1972-03-01",
          "month": 3,
          "quarter": 1,
          "year": "1972"
         },
         {
          "Counts": 6445,
          "Date": "1972-04-01T00:00:00",
          "Precip": null,
          "dataset": "olou",
          "date_str": "1972-04-01",
          "month": 4,
          "quarter": 2,
          "year": "1972"
         },
         {
          "Counts": 6410,
          "Date": "1972-05-01T00:00:00",
          "Precip": null,
          "dataset": "olou",
          "date_str": "1972-05-01",
          "month": 5,
          "quarter": 2,
          "year": "1972"
         },
         {
          "Counts": 6269,
          "Date": "1972-06-01T00:00:00",
          "Precip": null,
          "dataset": "olou",
          "date_str": "1972-06-01",
          "month": 6,
          "quarter": 2,
          "year": "1972"
         },
         {
          "Counts": 6356,
          "Date": "1972-07-01T00:00:00",
          "Precip": null,
          "dataset": "olou",
          "date_str": "1972-07-01",
          "month": 7,
          "quarter": 3,
          "year": "1972"
         },
         {
          "Counts": 6092,
          "Date": "1972-08-01T00:00:00",
          "Precip": null,
          "dataset": "olou",
          "date_str": "1972-08-01",
          "month": 8,
          "quarter": 3,
          "year": "1972"
         },
         {
          "Counts": 6347,
          "Date": "1972-09-01T00:00:00",
          "Precip": null,
          "dataset": "olou",
          "date_str": "1972-09-01",
          "month": 9,
          "quarter": 3,
          "year": "1972"
         },
         {
          "Counts": 6353,
          "Date": "1972-10-01T00:00:00",
          "Precip": null,
          "dataset": "olou",
          "date_str": "1972-10-01",
          "month": 10,
          "quarter": 4,
          "year": "1972"
         },
         {
          "Counts": 6148,
          "Date": "1972-11-01T00:00:00",
          "Precip": null,
          "dataset": "olou",
          "date_str": "1972-11-01",
          "month": 11,
          "quarter": 4,
          "year": "1972"
         },
         {
          "Counts": 6354,
          "Date": "1972-12-01T00:00:00",
          "Precip": null,
          "dataset": "olou",
          "date_str": "1972-12-01",
          "month": 12,
          "quarter": 4,
          "year": "1972"
         },
         {
          "Counts": 6365,
          "Date": "1973-01-01T00:00:00",
          "Precip": null,
          "dataset": "olou",
          "date_str": "1973-01-01",
          "month": 1,
          "quarter": 1,
          "year": "1973"
         },
         {
          "Counts": 6333,
          "Date": "1973-02-01T00:00:00",
          "Precip": null,
          "dataset": "olou",
          "date_str": "1973-02-01",
          "month": 2,
          "quarter": 1,
          "year": "1973"
         },
         {
          "Counts": 6308,
          "Date": "1973-03-01T00:00:00",
          "Precip": null,
          "dataset": "olou",
          "date_str": "1973-03-01",
          "month": 3,
          "quarter": 1,
          "year": "1973"
         },
         {
          "Counts": 6197,
          "Date": "1973-04-01T00:00:00",
          "Precip": null,
          "dataset": "olou",
          "date_str": "1973-04-01",
          "month": 4,
          "quarter": 2,
          "year": "1973"
         },
         {
          "Counts": 6126,
          "Date": "1973-05-01T00:00:00",
          "Precip": null,
          "dataset": "olou",
          "date_str": "1973-05-01",
          "month": 5,
          "quarter": 2,
          "year": "1973"
         },
         {
          "Counts": 6262,
          "Date": "1973-06-01T00:00:00",
          "Precip": null,
          "dataset": "olou",
          "date_str": "1973-06-01",
          "month": 6,
          "quarter": 2,
          "year": "1973"
         },
         {
          "Counts": 6313,
          "Date": "1973-07-01T00:00:00",
          "Precip": null,
          "dataset": "olou",
          "date_str": "1973-07-01",
          "month": 7,
          "quarter": 3,
          "year": "1973"
         },
         {
          "Counts": 6360,
          "Date": "1973-08-01T00:00:00",
          "Precip": null,
          "dataset": "olou",
          "date_str": "1973-08-01",
          "month": 8,
          "quarter": 3,
          "year": "1973"
         },
         {
          "Counts": 6472,
          "Date": "1973-09-01T00:00:00",
          "Precip": null,
          "dataset": "olou",
          "date_str": "1973-09-01",
          "month": 9,
          "quarter": 3,
          "year": "1973"
         },
         {
          "Counts": 6446,
          "Date": "1973-10-01T00:00:00",
          "Precip": null,
          "dataset": "olou",
          "date_str": "1973-10-01",
          "month": 10,
          "quarter": 4,
          "year": "1973"
         },
         {
          "Counts": 6475,
          "Date": "1973-11-01T00:00:00",
          "Precip": null,
          "dataset": "olou",
          "date_str": "1973-11-01",
          "month": 11,
          "quarter": 4,
          "year": "1973"
         },
         {
          "Counts": 6475,
          "Date": "1973-12-01T00:00:00",
          "Precip": null,
          "dataset": "olou",
          "date_str": "1973-12-01",
          "month": 12,
          "quarter": 4,
          "year": "1973"
         },
         {
          "Counts": 6453,
          "Date": "1974-01-01T00:00:00",
          "Precip": null,
          "dataset": "olou",
          "date_str": "1974-01-01",
          "month": 1,
          "quarter": 1,
          "year": "1974"
         },
         {
          "Counts": 6480,
          "Date": "1974-02-01T00:00:00",
          "Precip": null,
          "dataset": "olou",
          "date_str": "1974-02-01",
          "month": 2,
          "quarter": 1,
          "year": "1974"
         },
         {
          "Counts": 6417,
          "Date": "1974-03-01T00:00:00",
          "Precip": null,
          "dataset": "olou",
          "date_str": "1974-03-01",
          "month": 3,
          "quarter": 1,
          "year": "1974"
         },
         {
          "Counts": 6383,
          "Date": "1974-04-01T00:00:00",
          "Precip": null,
          "dataset": "olou",
          "date_str": "1974-04-01",
          "month": 4,
          "quarter": 2,
          "year": "1974"
         },
         {
          "Counts": 6281,
          "Date": "1974-05-01T00:00:00",
          "Precip": null,
          "dataset": "olou",
          "date_str": "1974-05-01",
          "month": 5,
          "quarter": 2,
          "year": "1974"
         },
         {
          "Counts": 6213,
          "Date": "1974-06-01T00:00:00",
          "Precip": null,
          "dataset": "olou",
          "date_str": "1974-06-01",
          "month": 6,
          "quarter": 2,
          "year": "1974"
         },
         {
          "Counts": 6094,
          "Date": "1974-07-01T00:00:00",
          "Precip": null,
          "dataset": "olou",
          "date_str": "1974-07-01",
          "month": 7,
          "quarter": 3,
          "year": "1974"
         },
         {
          "Counts": 6194,
          "Date": "1974-08-01T00:00:00",
          "Precip": null,
          "dataset": "olou",
          "date_str": "1974-08-01",
          "month": 8,
          "quarter": 3,
          "year": "1974"
         },
         {
          "Counts": 6149,
          "Date": "1974-09-01T00:00:00",
          "Precip": null,
          "dataset": "olou",
          "date_str": "1974-09-01",
          "month": 9,
          "quarter": 3,
          "year": "1974"
         },
         {
          "Counts": 6155,
          "Date": "1974-10-01T00:00:00",
          "Precip": null,
          "dataset": "olou",
          "date_str": "1974-10-01",
          "month": 10,
          "quarter": 4,
          "year": "1974"
         },
         {
          "Counts": 6192,
          "Date": "1974-11-01T00:00:00",
          "Precip": null,
          "dataset": "olou",
          "date_str": "1974-11-01",
          "month": 11,
          "quarter": 4,
          "year": "1974"
         },
         {
          "Counts": 6303,
          "Date": "1974-12-01T00:00:00",
          "Precip": null,
          "dataset": "olou",
          "date_str": "1974-12-01",
          "month": 12,
          "quarter": 4,
          "year": "1974"
         },
         {
          "Counts": 6318,
          "Date": "1975-01-01T00:00:00",
          "Precip": null,
          "dataset": "olou",
          "date_str": "1975-01-01",
          "month": 1,
          "quarter": 1,
          "year": "1975"
         },
         {
          "Counts": 6374,
          "Date": "1975-02-01T00:00:00",
          "Precip": null,
          "dataset": "olou",
          "date_str": "1975-02-01",
          "month": 2,
          "quarter": 1,
          "year": "1975"
         },
         {
          "Counts": 6389,
          "Date": "1975-03-01T00:00:00",
          "Precip": null,
          "dataset": "olou",
          "date_str": "1975-03-01",
          "month": 3,
          "quarter": 1,
          "year": "1975"
         },
         {
          "Counts": 6429,
          "Date": "1975-04-01T00:00:00",
          "Precip": null,
          "dataset": "olou",
          "date_str": "1975-04-01",
          "month": 4,
          "quarter": 2,
          "year": "1975"
         },
         {
          "Counts": 6438,
          "Date": "1975-05-01T00:00:00",
          "Precip": null,
          "dataset": "olou",
          "date_str": "1975-05-01",
          "month": 5,
          "quarter": 2,
          "year": "1975"
         },
         {
          "Counts": 6462,
          "Date": "1975-06-01T00:00:00",
          "Precip": null,
          "dataset": "olou",
          "date_str": "1975-06-01",
          "month": 6,
          "quarter": 2,
          "year": "1975"
         },
         {
          "Counts": 6447,
          "Date": "1975-07-01T00:00:00",
          "Precip": null,
          "dataset": "olou",
          "date_str": "1975-07-01",
          "month": 7,
          "quarter": 3,
          "year": "1975"
         },
         {
          "Counts": 6405,
          "Date": "1975-08-01T00:00:00",
          "Precip": null,
          "dataset": "olou",
          "date_str": "1975-08-01",
          "month": 8,
          "quarter": 3,
          "year": "1975"
         },
         {
          "Counts": 6427,
          "Date": "1975-09-01T00:00:00",
          "Precip": null,
          "dataset": "olou",
          "date_str": "1975-09-01",
          "month": 9,
          "quarter": 3,
          "year": "1975"
         },
         {
          "Counts": 6420,
          "Date": "1975-10-01T00:00:00",
          "Precip": null,
          "dataset": "olou",
          "date_str": "1975-10-01",
          "month": 10,
          "quarter": 4,
          "year": "1975"
         },
         {
          "Counts": 6356,
          "Date": "1975-11-01T00:00:00",
          "Precip": null,
          "dataset": "olou",
          "date_str": "1975-11-01",
          "month": 11,
          "quarter": 4,
          "year": "1975"
         },
         {
          "Counts": 6429,
          "Date": "1975-12-01T00:00:00",
          "Precip": null,
          "dataset": "olou",
          "date_str": "1975-12-01",
          "month": 12,
          "quarter": 4,
          "year": "1975"
         },
         {
          "Counts": 6417,
          "Date": "1976-01-01T00:00:00",
          "Precip": null,
          "dataset": "olou",
          "date_str": "1976-01-01",
          "month": 1,
          "quarter": 1,
          "year": "1976"
         },
         {
          "Counts": 6415,
          "Date": "1976-02-01T00:00:00",
          "Precip": null,
          "dataset": "olou",
          "date_str": "1976-02-01",
          "month": 2,
          "quarter": 1,
          "year": "1976"
         },
         {
          "Counts": 6418,
          "Date": "1976-03-01T00:00:00",
          "Precip": null,
          "dataset": "olou",
          "date_str": "1976-03-01",
          "month": 3,
          "quarter": 1,
          "year": "1976"
         },
         {
          "Counts": 6372,
          "Date": "1976-04-01T00:00:00",
          "Precip": null,
          "dataset": "olou",
          "date_str": "1976-04-01",
          "month": 4,
          "quarter": 2,
          "year": "1976"
         },
         {
          "Counts": 6413,
          "Date": "1976-05-01T00:00:00",
          "Precip": null,
          "dataset": "olou",
          "date_str": "1976-05-01",
          "month": 5,
          "quarter": 2,
          "year": "1976"
         },
         {
          "Counts": 6442,
          "Date": "1976-06-01T00:00:00",
          "Precip": null,
          "dataset": "olou",
          "date_str": "1976-06-01",
          "month": 6,
          "quarter": 2,
          "year": "1976"
         },
         {
          "Counts": 6468,
          "Date": "1976-07-01T00:00:00",
          "Precip": null,
          "dataset": "olou",
          "date_str": "1976-07-01",
          "month": 7,
          "quarter": 3,
          "year": "1976"
         },
         {
          "Counts": 6476,
          "Date": "1976-08-01T00:00:00",
          "Precip": null,
          "dataset": "olou",
          "date_str": "1976-08-01",
          "month": 8,
          "quarter": 3,
          "year": "1976"
         },
         {
          "Counts": 6488,
          "Date": "1976-09-01T00:00:00",
          "Precip": null,
          "dataset": "olou",
          "date_str": "1976-09-01",
          "month": 9,
          "quarter": 3,
          "year": "1976"
         },
         {
          "Counts": 6480,
          "Date": "1976-10-01T00:00:00",
          "Precip": null,
          "dataset": "olou",
          "date_str": "1976-10-01",
          "month": 10,
          "quarter": 4,
          "year": "1976"
         },
         {
          "Counts": 6493,
          "Date": "1976-11-01T00:00:00",
          "Precip": null,
          "dataset": "olou",
          "date_str": "1976-11-01",
          "month": 11,
          "quarter": 4,
          "year": "1976"
         },
         {
          "Counts": 6469,
          "Date": "1976-12-01T00:00:00",
          "Precip": null,
          "dataset": "olou",
          "date_str": "1976-12-01",
          "month": 12,
          "quarter": 4,
          "year": "1976"
         },
         {
          "Counts": 6434,
          "Date": "1977-01-01T00:00:00",
          "Precip": null,
          "dataset": "olou",
          "date_str": "1977-01-01",
          "month": 1,
          "quarter": 1,
          "year": "1977"
         },
         {
          "Counts": 6439,
          "Date": "1977-02-01T00:00:00",
          "Precip": null,
          "dataset": "olou",
          "date_str": "1977-02-01",
          "month": 2,
          "quarter": 1,
          "year": "1977"
         },
         {
          "Counts": 6454,
          "Date": "1977-03-01T00:00:00",
          "Precip": null,
          "dataset": "olou",
          "date_str": "1977-03-01",
          "month": 3,
          "quarter": 1,
          "year": "1977"
         },
         {
          "Counts": 6435,
          "Date": "1977-04-01T00:00:00",
          "Precip": null,
          "dataset": "olou",
          "date_str": "1977-04-01",
          "month": 4,
          "quarter": 2,
          "year": "1977"
         },
         {
          "Counts": 6436,
          "Date": "1977-05-01T00:00:00",
          "Precip": null,
          "dataset": "olou",
          "date_str": "1977-05-01",
          "month": 5,
          "quarter": 2,
          "year": "1977"
         },
         {
          "Counts": 6432,
          "Date": "1977-06-01T00:00:00",
          "Precip": null,
          "dataset": "olou",
          "date_str": "1977-06-01",
          "month": 6,
          "quarter": 2,
          "year": "1977"
         },
         {
          "Counts": 6343,
          "Date": "1977-07-01T00:00:00",
          "Precip": null,
          "dataset": "olou",
          "date_str": "1977-07-01",
          "month": 7,
          "quarter": 3,
          "year": "1977"
         },
         {
          "Counts": 6357,
          "Date": "1977-08-01T00:00:00",
          "Precip": null,
          "dataset": "olou",
          "date_str": "1977-08-01",
          "month": 8,
          "quarter": 3,
          "year": "1977"
         },
         {
          "Counts": 6368,
          "Date": "1977-09-01T00:00:00",
          "Precip": null,
          "dataset": "olou",
          "date_str": "1977-09-01",
          "month": 9,
          "quarter": 3,
          "year": "1977"
         },
         {
          "Counts": 6419,
          "Date": "1977-10-01T00:00:00",
          "Precip": null,
          "dataset": "olou",
          "date_str": "1977-10-01",
          "month": 10,
          "quarter": 4,
          "year": "1977"
         },
         {
          "Counts": 6482,
          "Date": "1977-11-01T00:00:00",
          "Precip": null,
          "dataset": "olou",
          "date_str": "1977-11-01",
          "month": 11,
          "quarter": 4,
          "year": "1977"
         },
         {
          "Counts": 6452,
          "Date": "1977-12-01T00:00:00",
          "Precip": null,
          "dataset": "olou",
          "date_str": "1977-12-01",
          "month": 12,
          "quarter": 4,
          "year": "1977"
         },
         {
          "Counts": 6343,
          "Date": "1978-01-01T00:00:00",
          "Precip": null,
          "dataset": "olou",
          "date_str": "1978-01-01",
          "month": 1,
          "quarter": 1,
          "year": "1978"
         },
         {
          "Counts": 6311,
          "Date": "1978-02-01T00:00:00",
          "Precip": null,
          "dataset": "olou",
          "date_str": "1978-02-01",
          "month": 2,
          "quarter": 1,
          "year": "1978"
         },
         {
          "Counts": 6298,
          "Date": "1978-03-01T00:00:00",
          "Precip": null,
          "dataset": "olou",
          "date_str": "1978-03-01",
          "month": 3,
          "quarter": 1,
          "year": "1978"
         },
         {
          "Counts": 6185,
          "Date": "1978-04-01T00:00:00",
          "Precip": null,
          "dataset": "olou",
          "date_str": "1978-04-01",
          "month": 4,
          "quarter": 2,
          "year": "1978"
         },
         {
          "Counts": 6052,
          "Date": "1978-05-01T00:00:00",
          "Precip": null,
          "dataset": "olou",
          "date_str": "1978-05-01",
          "month": 5,
          "quarter": 2,
          "year": "1978"
         },
         {
          "Counts": 6152,
          "Date": "1978-06-01T00:00:00",
          "Precip": null,
          "dataset": "olou",
          "date_str": "1978-06-01",
          "month": 6,
          "quarter": 2,
          "year": "1978"
         },
         {
          "Counts": 6159,
          "Date": "1978-07-01T00:00:00",
          "Precip": null,
          "dataset": "olou",
          "date_str": "1978-07-01",
          "month": 7,
          "quarter": 3,
          "year": "1978"
         },
         {
          "Counts": 6309,
          "Date": "1978-08-01T00:00:00",
          "Precip": null,
          "dataset": "olou",
          "date_str": "1978-08-01",
          "month": 8,
          "quarter": 3,
          "year": "1978"
         },
         {
          "Counts": 6317,
          "Date": "1978-09-01T00:00:00",
          "Precip": null,
          "dataset": "olou",
          "date_str": "1978-09-01",
          "month": 9,
          "quarter": 3,
          "year": "1978"
         },
         {
          "Counts": 6221,
          "Date": "1978-10-01T00:00:00",
          "Precip": null,
          "dataset": "olou",
          "date_str": "1978-10-01",
          "month": 10,
          "quarter": 4,
          "year": "1978"
         },
         {
          "Counts": 6262,
          "Date": "1978-11-01T00:00:00",
          "Precip": null,
          "dataset": "olou",
          "date_str": "1978-11-01",
          "month": 11,
          "quarter": 4,
          "year": "1978"
         },
         {
          "Counts": 6270,
          "Date": "1978-12-01T00:00:00",
          "Precip": null,
          "dataset": "olou",
          "date_str": "1978-12-01",
          "month": 12,
          "quarter": 4,
          "year": "1978"
         },
         {
          "Counts": 6179,
          "Date": "1979-01-01T00:00:00",
          "Precip": null,
          "dataset": "olou",
          "date_str": "1979-01-01",
          "month": 1,
          "quarter": 1,
          "year": "1979"
         },
         {
          "Counts": 6152,
          "Date": "1979-02-01T00:00:00",
          "Precip": null,
          "dataset": "olou",
          "date_str": "1979-02-01",
          "month": 2,
          "quarter": 1,
          "year": "1979"
         },
         {
          "Counts": 6077,
          "Date": "1979-03-01T00:00:00",
          "Precip": null,
          "dataset": "olou",
          "date_str": "1979-03-01",
          "month": 3,
          "quarter": 1,
          "year": "1979"
         },
         {
          "Counts": 5953,
          "Date": "1979-04-01T00:00:00",
          "Precip": null,
          "dataset": "olou",
          "date_str": "1979-04-01",
          "month": 4,
          "quarter": 2,
          "year": "1979"
         },
         {
          "Counts": 5997,
          "Date": "1979-05-01T00:00:00",
          "Precip": null,
          "dataset": "olou",
          "date_str": "1979-05-01",
          "month": 5,
          "quarter": 2,
          "year": "1979"
         },
         {
          "Counts": 5857,
          "Date": "1979-06-01T00:00:00",
          "Precip": null,
          "dataset": "olou",
          "date_str": "1979-06-01",
          "month": 6,
          "quarter": 2,
          "year": "1979"
         },
         {
          "Counts": 5863,
          "Date": "1979-07-01T00:00:00",
          "Precip": null,
          "dataset": "olou",
          "date_str": "1979-07-01",
          "month": 7,
          "quarter": 3,
          "year": "1979"
         },
         {
          "Counts": 5726,
          "Date": "1979-08-01T00:00:00",
          "Precip": null,
          "dataset": "olou",
          "date_str": "1979-08-01",
          "month": 8,
          "quarter": 3,
          "year": "1979"
         },
         {
          "Counts": 5780,
          "Date": "1979-09-01T00:00:00",
          "Precip": null,
          "dataset": "olou",
          "date_str": "1979-09-01",
          "month": 9,
          "quarter": 3,
          "year": "1979"
         },
         {
          "Counts": 5882,
          "Date": "1979-10-01T00:00:00",
          "Precip": null,
          "dataset": "olou",
          "date_str": "1979-10-01",
          "month": 10,
          "quarter": 4,
          "year": "1979"
         },
         {
          "Counts": 5889,
          "Date": "1979-11-01T00:00:00",
          "Precip": null,
          "dataset": "olou",
          "date_str": "1979-11-01",
          "month": 11,
          "quarter": 4,
          "year": "1979"
         },
         {
          "Counts": 6000,
          "Date": "1979-12-01T00:00:00",
          "Precip": null,
          "dataset": "olou",
          "date_str": "1979-12-01",
          "month": 12,
          "quarter": 4,
          "year": "1979"
         },
         {
          "Counts": 5973,
          "Date": "1980-01-01T00:00:00",
          "Precip": null,
          "dataset": "olou",
          "date_str": "1980-01-01",
          "month": 1,
          "quarter": 1,
          "year": "1980"
         },
         {
          "Counts": 5933,
          "Date": "1980-02-01T00:00:00",
          "Precip": null,
          "dataset": "olou",
          "date_str": "1980-02-01",
          "month": 2,
          "quarter": 1,
          "year": "1980"
         },
         {
          "Counts": 6015,
          "Date": "1980-03-01T00:00:00",
          "Precip": null,
          "dataset": "olou",
          "date_str": "1980-03-01",
          "month": 3,
          "quarter": 1,
          "year": "1980"
         },
         {
          "Counts": 5912,
          "Date": "1980-04-01T00:00:00",
          "Precip": null,
          "dataset": "olou",
          "date_str": "1980-04-01",
          "month": 4,
          "quarter": 2,
          "year": "1980"
         },
         {
          "Counts": 5915,
          "Date": "1980-05-01T00:00:00",
          "Precip": null,
          "dataset": "olou",
          "date_str": "1980-05-01",
          "month": 5,
          "quarter": 2,
          "year": "1980"
         },
         {
          "Counts": 5743,
          "Date": "1980-06-01T00:00:00",
          "Precip": null,
          "dataset": "olou",
          "date_str": "1980-06-01",
          "month": 6,
          "quarter": 2,
          "year": "1980"
         },
         {
          "Counts": 5744,
          "Date": "1980-07-01T00:00:00",
          "Precip": null,
          "dataset": "olou",
          "date_str": "1980-07-01",
          "month": 7,
          "quarter": 3,
          "year": "1980"
         },
         {
          "Counts": 5764,
          "Date": "1980-08-01T00:00:00",
          "Precip": null,
          "dataset": "olou",
          "date_str": "1980-08-01",
          "month": 8,
          "quarter": 3,
          "year": "1980"
         },
         {
          "Counts": 5760,
          "Date": "1980-09-01T00:00:00",
          "Precip": null,
          "dataset": "olou",
          "date_str": "1980-09-01",
          "month": 9,
          "quarter": 3,
          "year": "1980"
         },
         {
          "Counts": 5651,
          "Date": "1980-10-01T00:00:00",
          "Precip": null,
          "dataset": "olou",
          "date_str": "1980-10-01",
          "month": 10,
          "quarter": 4,
          "year": "1980"
         },
         {
          "Counts": 5557,
          "Date": "1980-11-01T00:00:00",
          "Precip": null,
          "dataset": "olou",
          "date_str": "1980-11-01",
          "month": 11,
          "quarter": 4,
          "year": "1980"
         },
         {
          "Counts": 5549,
          "Date": "1980-12-01T00:00:00",
          "Precip": null,
          "dataset": "olou",
          "date_str": "1980-12-01",
          "month": 12,
          "quarter": 4,
          "year": "1980"
         },
         {
          "Counts": 5732,
          "Date": "1981-01-01T00:00:00",
          "Precip": null,
          "dataset": "olou",
          "date_str": "1981-01-01",
          "month": 1,
          "quarter": 1,
          "year": "1981"
         },
         {
          "Counts": 5646,
          "Date": "1981-02-01T00:00:00",
          "Precip": null,
          "dataset": "olou",
          "date_str": "1981-02-01",
          "month": 2,
          "quarter": 1,
          "year": "1981"
         },
         {
          "Counts": 5618,
          "Date": "1981-03-01T00:00:00",
          "Precip": null,
          "dataset": "olou",
          "date_str": "1981-03-01",
          "month": 3,
          "quarter": 1,
          "year": "1981"
         },
         {
          "Counts": 5559,
          "Date": "1981-04-01T00:00:00",
          "Precip": null,
          "dataset": "olou",
          "date_str": "1981-04-01",
          "month": 4,
          "quarter": 2,
          "year": "1981"
         },
         {
          "Counts": 5488,
          "Date": "1981-05-01T00:00:00",
          "Precip": null,
          "dataset": "olou",
          "date_str": "1981-05-01",
          "month": 5,
          "quarter": 2,
          "year": "1981"
         },
         {
          "Counts": 5646,
          "Date": "1981-06-01T00:00:00",
          "Precip": null,
          "dataset": "olou",
          "date_str": "1981-06-01",
          "month": 6,
          "quarter": 2,
          "year": "1981"
         },
         {
          "Counts": 5664,
          "Date": "1981-07-01T00:00:00",
          "Precip": null,
          "dataset": "olou",
          "date_str": "1981-07-01",
          "month": 7,
          "quarter": 3,
          "year": "1981"
         },
         {
          "Counts": 5671,
          "Date": "1981-08-01T00:00:00",
          "Precip": null,
          "dataset": "olou",
          "date_str": "1981-08-01",
          "month": 8,
          "quarter": 3,
          "year": "1981"
         },
         {
          "Counts": 5753,
          "Date": "1981-09-01T00:00:00",
          "Precip": null,
          "dataset": "olou",
          "date_str": "1981-09-01",
          "month": 9,
          "quarter": 3,
          "year": "1981"
         },
         {
          "Counts": 5572,
          "Date": "1981-10-01T00:00:00",
          "Precip": null,
          "dataset": "olou",
          "date_str": "1981-10-01",
          "month": 10,
          "quarter": 4,
          "year": "1981"
         },
         {
          "Counts": 5596,
          "Date": "1981-11-01T00:00:00",
          "Precip": null,
          "dataset": "olou",
          "date_str": "1981-11-01",
          "month": 11,
          "quarter": 4,
          "year": "1981"
         },
         {
          "Counts": 5710,
          "Date": "1981-12-01T00:00:00",
          "Precip": null,
          "dataset": "olou",
          "date_str": "1981-12-01",
          "month": 12,
          "quarter": 4,
          "year": "1981"
         },
         {
          "Counts": 5830,
          "Date": "1982-01-01T00:00:00",
          "Precip": null,
          "dataset": "olou",
          "date_str": "1982-01-01",
          "month": 1,
          "quarter": 1,
          "year": "1982"
         },
         {
          "Counts": 5629,
          "Date": "1982-02-01T00:00:00",
          "Precip": null,
          "dataset": "olou",
          "date_str": "1982-02-01",
          "month": 2,
          "quarter": 1,
          "year": "1982"
         },
         {
          "Counts": 5815,
          "Date": "1982-03-01T00:00:00",
          "Precip": null,
          "dataset": "olou",
          "date_str": "1982-03-01",
          "month": 3,
          "quarter": 1,
          "year": "1982"
         },
         {
          "Counts": 5861,
          "Date": "1982-04-01T00:00:00",
          "Precip": null,
          "dataset": "olou",
          "date_str": "1982-04-01",
          "month": 4,
          "quarter": 2,
          "year": "1982"
         },
         {
          "Counts": 5916,
          "Date": "1982-05-01T00:00:00",
          "Precip": null,
          "dataset": "olou",
          "date_str": "1982-05-01",
          "month": 5,
          "quarter": 2,
          "year": "1982"
         },
         {
          "Counts": 5629,
          "Date": "1982-06-01T00:00:00",
          "Precip": null,
          "dataset": "olou",
          "date_str": "1982-06-01",
          "month": 6,
          "quarter": 2,
          "year": "1982"
         },
         {
          "Counts": 5415,
          "Date": "1982-07-01T00:00:00",
          "Precip": null,
          "dataset": "olou",
          "date_str": "1982-07-01",
          "month": 7,
          "quarter": 3,
          "year": "1982"
         },
         {
          "Counts": 5387,
          "Date": "1982-08-01T00:00:00",
          "Precip": null,
          "dataset": "olou",
          "date_str": "1982-08-01",
          "month": 8,
          "quarter": 3,
          "year": "1982"
         },
         {
          "Counts": 5258,
          "Date": "1982-09-01T00:00:00",
          "Precip": null,
          "dataset": "olou",
          "date_str": "1982-09-01",
          "month": 9,
          "quarter": 3,
          "year": "1982"
         },
         {
          "Counts": 5400,
          "Date": "1982-10-01T00:00:00",
          "Precip": null,
          "dataset": "olou",
          "date_str": "1982-10-01",
          "month": 10,
          "quarter": 4,
          "year": "1982"
         },
         {
          "Counts": 5463,
          "Date": "1982-11-01T00:00:00",
          "Precip": null,
          "dataset": "olou",
          "date_str": "1982-11-01",
          "month": 11,
          "quarter": 4,
          "year": "1982"
         },
         {
          "Counts": 5366,
          "Date": "1982-12-01T00:00:00",
          "Precip": null,
          "dataset": "olou",
          "date_str": "1982-12-01",
          "month": 12,
          "quarter": 4,
          "year": "1982"
         },
         {
          "Counts": 5512,
          "Date": "1983-01-01T00:00:00",
          "Precip": null,
          "dataset": "olou",
          "date_str": "1983-01-01",
          "month": 1,
          "quarter": 1,
          "year": "1983"
         },
         {
          "Counts": 5644,
          "Date": "1983-02-01T00:00:00",
          "Precip": null,
          "dataset": "olou",
          "date_str": "1983-02-01",
          "month": 2,
          "quarter": 1,
          "year": "1983"
         },
         {
          "Counts": 5762,
          "Date": "1983-03-01T00:00:00",
          "Precip": null,
          "dataset": "olou",
          "date_str": "1983-03-01",
          "month": 3,
          "quarter": 1,
          "year": "1983"
         },
         {
          "Counts": 5768,
          "Date": "1983-04-01T00:00:00",
          "Precip": null,
          "dataset": "olou",
          "date_str": "1983-04-01",
          "month": 4,
          "quarter": 2,
          "year": "1983"
         },
         {
          "Counts": 5601,
          "Date": "1983-05-01T00:00:00",
          "Precip": null,
          "dataset": "olou",
          "date_str": "1983-05-01",
          "month": 5,
          "quarter": 2,
          "year": "1983"
         },
         {
          "Counts": 5707,
          "Date": "1983-06-01T00:00:00",
          "Precip": null,
          "dataset": "olou",
          "date_str": "1983-06-01",
          "month": 6,
          "quarter": 2,
          "year": "1983"
         },
         {
          "Counts": 5818,
          "Date": "1983-07-01T00:00:00",
          "Precip": null,
          "dataset": "olou",
          "date_str": "1983-07-01",
          "month": 7,
          "quarter": 3,
          "year": "1983"
         },
         {
          "Counts": 5823,
          "Date": "1983-08-01T00:00:00",
          "Precip": null,
          "dataset": "olou",
          "date_str": "1983-08-01",
          "month": 8,
          "quarter": 3,
          "year": "1983"
         },
         {
          "Counts": 5864,
          "Date": "1983-09-01T00:00:00",
          "Precip": null,
          "dataset": "olou",
          "date_str": "1983-09-01",
          "month": 9,
          "quarter": 3,
          "year": "1983"
         },
         {
          "Counts": 5894,
          "Date": "1983-10-01T00:00:00",
          "Precip": null,
          "dataset": "olou",
          "date_str": "1983-10-01",
          "month": 10,
          "quarter": 4,
          "year": "1983"
         },
         {
          "Counts": 5923,
          "Date": "1983-11-01T00:00:00",
          "Precip": null,
          "dataset": "olou",
          "date_str": "1983-11-01",
          "month": 11,
          "quarter": 4,
          "year": "1983"
         },
         {
          "Counts": 5925,
          "Date": "1983-12-01T00:00:00",
          "Precip": null,
          "dataset": "olou",
          "date_str": "1983-12-01",
          "month": 12,
          "quarter": 4,
          "year": "1983"
         },
         {
          "Counts": 5977,
          "Date": "1984-01-01T00:00:00",
          "Precip": null,
          "dataset": "olou",
          "date_str": "1984-01-01",
          "month": 1,
          "quarter": 1,
          "year": "1984"
         },
         {
          "Counts": 5953,
          "Date": "1984-02-01T00:00:00",
          "Precip": null,
          "dataset": "olou",
          "date_str": "1984-02-01",
          "month": 2,
          "quarter": 1,
          "year": "1984"
         },
         {
          "Counts": 5865,
          "Date": "1984-03-01T00:00:00",
          "Precip": null,
          "dataset": "olou",
          "date_str": "1984-03-01",
          "month": 3,
          "quarter": 1,
          "year": "1984"
         },
         {
          "Counts": 5802,
          "Date": "1984-04-01T00:00:00",
          "Precip": null,
          "dataset": "olou",
          "date_str": "1984-04-01",
          "month": 4,
          "quarter": 2,
          "year": "1984"
         },
         {
          "Counts": 5672,
          "Date": "1984-05-01T00:00:00",
          "Precip": null,
          "dataset": "olou",
          "date_str": "1984-05-01",
          "month": 5,
          "quarter": 2,
          "year": "1984"
         },
         {
          "Counts": 5779,
          "Date": "1984-06-01T00:00:00",
          "Precip": null,
          "dataset": "olou",
          "date_str": "1984-06-01",
          "month": 6,
          "quarter": 2,
          "year": "1984"
         },
         {
          "Counts": 5813,
          "Date": "1984-07-01T00:00:00",
          "Precip": null,
          "dataset": "olou",
          "date_str": "1984-07-01",
          "month": 7,
          "quarter": 3,
          "year": "1984"
         },
         {
          "Counts": 5894,
          "Date": "1984-08-01T00:00:00",
          "Precip": null,
          "dataset": "olou",
          "date_str": "1984-08-01",
          "month": 8,
          "quarter": 3,
          "year": "1984"
         },
         {
          "Counts": 5920,
          "Date": "1984-09-01T00:00:00",
          "Precip": null,
          "dataset": "olou",
          "date_str": "1984-09-01",
          "month": 9,
          "quarter": 3,
          "year": "1984"
         },
         {
          "Counts": 5920,
          "Date": "1984-10-01T00:00:00",
          "Precip": null,
          "dataset": "olou",
          "date_str": "1984-10-01",
          "month": 10,
          "quarter": 4,
          "year": "1984"
         },
         {
          "Counts": 5902,
          "Date": "1984-11-01T00:00:00",
          "Precip": null,
          "dataset": "olou",
          "date_str": "1984-11-01",
          "month": 11,
          "quarter": 4,
          "year": "1984"
         },
         {
          "Counts": 5928,
          "Date": "1984-12-01T00:00:00",
          "Precip": null,
          "dataset": "olou",
          "date_str": "1984-12-01",
          "month": 12,
          "quarter": 4,
          "year": "1984"
         },
         {
          "Counts": 5945,
          "Date": "1985-01-01T00:00:00",
          "Precip": null,
          "dataset": "olou",
          "date_str": "1985-01-01",
          "month": 1,
          "quarter": 1,
          "year": "1985"
         },
         {
          "Counts": 6034,
          "Date": "1985-02-01T00:00:00",
          "Precip": null,
          "dataset": "olou",
          "date_str": "1985-02-01",
          "month": 2,
          "quarter": 1,
          "year": "1985"
         },
         {
          "Counts": 6052,
          "Date": "1985-03-01T00:00:00",
          "Precip": null,
          "dataset": "olou",
          "date_str": "1985-03-01",
          "month": 3,
          "quarter": 1,
          "year": "1985"
         },
         {
          "Counts": 6078,
          "Date": "1985-04-01T00:00:00",
          "Precip": null,
          "dataset": "olou",
          "date_str": "1985-04-01",
          "month": 4,
          "quarter": 2,
          "year": "1985"
         },
         {
          "Counts": 6100,
          "Date": "1985-05-01T00:00:00",
          "Precip": null,
          "dataset": "olou",
          "date_str": "1985-05-01",
          "month": 5,
          "quarter": 2,
          "year": "1985"
         },
         {
          "Counts": 6171,
          "Date": "1985-06-01T00:00:00",
          "Precip": null,
          "dataset": "olou",
          "date_str": "1985-06-01",
          "month": 6,
          "quarter": 2,
          "year": "1985"
         },
         {
          "Counts": 6147,
          "Date": "1985-07-01T00:00:00",
          "Precip": null,
          "dataset": "olou",
          "date_str": "1985-07-01",
          "month": 7,
          "quarter": 3,
          "year": "1985"
         },
         {
          "Counts": 6149,
          "Date": "1985-08-01T00:00:00",
          "Precip": null,
          "dataset": "olou",
          "date_str": "1985-08-01",
          "month": 8,
          "quarter": 3,
          "year": "1985"
         },
         {
          "Counts": 6229,
          "Date": "1985-09-01T00:00:00",
          "Precip": null,
          "dataset": "olou",
          "date_str": "1985-09-01",
          "month": 9,
          "quarter": 3,
          "year": "1985"
         },
         {
          "Counts": 6271,
          "Date": "1985-10-01T00:00:00",
          "Precip": null,
          "dataset": "olou",
          "date_str": "1985-10-01",
          "month": 10,
          "quarter": 4,
          "year": "1985"
         },
         {
          "Counts": 6340,
          "Date": "1985-11-01T00:00:00",
          "Precip": null,
          "dataset": "olou",
          "date_str": "1985-11-01",
          "month": 11,
          "quarter": 4,
          "year": "1985"
         },
         {
          "Counts": 6295,
          "Date": "1985-12-01T00:00:00",
          "Precip": null,
          "dataset": "olou",
          "date_str": "1985-12-01",
          "month": 12,
          "quarter": 4,
          "year": "1985"
         },
         {
          "Counts": 6276,
          "Date": "1986-01-01T00:00:00",
          "Precip": null,
          "dataset": "olou",
          "date_str": "1986-01-01",
          "month": 1,
          "quarter": 1,
          "year": "1986"
         },
         {
          "Counts": 6160,
          "Date": "1986-02-01T00:00:00",
          "Precip": null,
          "dataset": "olou",
          "date_str": "1986-02-01",
          "month": 2,
          "quarter": 1,
          "year": "1986"
         },
         {
          "Counts": 6261,
          "Date": "1986-03-01T00:00:00",
          "Precip": null,
          "dataset": "olou",
          "date_str": "1986-03-01",
          "month": 3,
          "quarter": 1,
          "year": "1986"
         },
         {
          "Counts": 6389,
          "Date": "1986-04-01T00:00:00",
          "Precip": null,
          "dataset": "olou",
          "date_str": "1986-04-01",
          "month": 4,
          "quarter": 2,
          "year": "1986"
         },
         {
          "Counts": 6408,
          "Date": "1986-05-01T00:00:00",
          "Precip": null,
          "dataset": "olou",
          "date_str": "1986-05-01",
          "month": 5,
          "quarter": 2,
          "year": "1986"
         },
         {
          "Counts": 6417,
          "Date": "1986-06-01T00:00:00",
          "Precip": null,
          "dataset": "olou",
          "date_str": "1986-06-01",
          "month": 6,
          "quarter": 2,
          "year": "1986"
         },
         {
          "Counts": 6424,
          "Date": "1986-07-01T00:00:00",
          "Precip": null,
          "dataset": "olou",
          "date_str": "1986-07-01",
          "month": 7,
          "quarter": 3,
          "year": "1986"
         },
         {
          "Counts": 6432,
          "Date": "1986-08-01T00:00:00",
          "Precip": null,
          "dataset": "olou",
          "date_str": "1986-08-01",
          "month": 8,
          "quarter": 3,
          "year": "1986"
         },
         {
          "Counts": 6451,
          "Date": "1986-09-01T00:00:00",
          "Precip": null,
          "dataset": "olou",
          "date_str": "1986-09-01",
          "month": 9,
          "quarter": 3,
          "year": "1986"
         },
         {
          "Counts": 6483,
          "Date": "1986-10-01T00:00:00",
          "Precip": null,
          "dataset": "olou",
          "date_str": "1986-10-01",
          "month": 10,
          "quarter": 4,
          "year": "1986"
         },
         {
          "Counts": 6391,
          "Date": "1986-11-01T00:00:00",
          "Precip": null,
          "dataset": "olou",
          "date_str": "1986-11-01",
          "month": 11,
          "quarter": 4,
          "year": "1986"
         },
         {
          "Counts": 6497,
          "Date": "1986-12-01T00:00:00",
          "Precip": null,
          "dataset": "olou",
          "date_str": "1986-12-01",
          "month": 12,
          "quarter": 4,
          "year": "1986"
         },
         {
          "Counts": 6581,
          "Date": "1987-01-01T00:00:00",
          "Precip": null,
          "dataset": "olou",
          "date_str": "1987-01-01",
          "month": 1,
          "quarter": 1,
          "year": "1987"
         },
         {
          "Counts": 6603,
          "Date": "1987-02-01T00:00:00",
          "Precip": null,
          "dataset": "olou",
          "date_str": "1987-02-01",
          "month": 2,
          "quarter": 1,
          "year": "1987"
         },
         {
          "Counts": 6612,
          "Date": "1987-03-01T00:00:00",
          "Precip": null,
          "dataset": "olou",
          "date_str": "1987-03-01",
          "month": 3,
          "quarter": 1,
          "year": "1987"
         },
         {
          "Counts": 6591,
          "Date": "1987-04-01T00:00:00",
          "Precip": null,
          "dataset": "olou",
          "date_str": "1987-04-01",
          "month": 4,
          "quarter": 2,
          "year": "1987"
         },
         {
          "Counts": 6549,
          "Date": "1987-05-01T00:00:00",
          "Precip": null,
          "dataset": "olou",
          "date_str": "1987-05-01",
          "month": 5,
          "quarter": 2,
          "year": "1987"
         },
         {
          "Counts": 6440,
          "Date": "1987-06-01T00:00:00",
          "Precip": null,
          "dataset": "olou",
          "date_str": "1987-06-01",
          "month": 6,
          "quarter": 2,
          "year": "1987"
         },
         {
          "Counts": 6393,
          "Date": "1987-07-01T00:00:00",
          "Precip": null,
          "dataset": "olou",
          "date_str": "1987-07-01",
          "month": 7,
          "quarter": 3,
          "year": "1987"
         },
         {
          "Counts": 6337,
          "Date": "1987-08-01T00:00:00",
          "Precip": null,
          "dataset": "olou",
          "date_str": "1987-08-01",
          "month": 8,
          "quarter": 3,
          "year": "1987"
         },
         {
          "Counts": 6287,
          "Date": "1987-09-01T00:00:00",
          "Precip": null,
          "dataset": "olou",
          "date_str": "1987-09-01",
          "month": 9,
          "quarter": 3,
          "year": "1987"
         },
         {
          "Counts": 6291,
          "Date": "1987-10-01T00:00:00",
          "Precip": null,
          "dataset": "olou",
          "date_str": "1987-10-01",
          "month": 10,
          "quarter": 4,
          "year": "1987"
         },
         {
          "Counts": 6245,
          "Date": "1987-11-01T00:00:00",
          "Precip": null,
          "dataset": "olou",
          "date_str": "1987-11-01",
          "month": 11,
          "quarter": 4,
          "year": "1987"
         },
         {
          "Counts": 6254,
          "Date": "1987-12-01T00:00:00",
          "Precip": null,
          "dataset": "olou",
          "date_str": "1987-12-01",
          "month": 12,
          "quarter": 4,
          "year": "1987"
         },
         {
          "Counts": 6081,
          "Date": "1988-01-01T00:00:00",
          "Precip": null,
          "dataset": "olou",
          "date_str": "1988-01-01",
          "month": 1,
          "quarter": 1,
          "year": "1988"
         },
         {
          "Counts": 6143,
          "Date": "1988-02-01T00:00:00",
          "Precip": null,
          "dataset": "olou",
          "date_str": "1988-02-01",
          "month": 2,
          "quarter": 1,
          "year": "1988"
         },
         {
          "Counts": 6168,
          "Date": "1988-03-01T00:00:00",
          "Precip": null,
          "dataset": "olou",
          "date_str": "1988-03-01",
          "month": 3,
          "quarter": 1,
          "year": "1988"
         },
         {
          "Counts": 6136,
          "Date": "1988-04-01T00:00:00",
          "Precip": null,
          "dataset": "olou",
          "date_str": "1988-04-01",
          "month": 4,
          "quarter": 2,
          "year": "1988"
         },
         {
          "Counts": 6152,
          "Date": "1988-05-01T00:00:00",
          "Precip": null,
          "dataset": "olou",
          "date_str": "1988-05-01",
          "month": 5,
          "quarter": 2,
          "year": "1988"
         },
         {
          "Counts": 6127,
          "Date": "1988-06-01T00:00:00",
          "Precip": null,
          "dataset": "olou",
          "date_str": "1988-06-01",
          "month": 6,
          "quarter": 2,
          "year": "1988"
         },
         {
          "Counts": 6017,
          "Date": "1988-07-01T00:00:00",
          "Precip": null,
          "dataset": "olou",
          "date_str": "1988-07-01",
          "month": 7,
          "quarter": 3,
          "year": "1988"
         },
         {
          "Counts": 6021,
          "Date": "1988-08-01T00:00:00",
          "Precip": null,
          "dataset": "olou",
          "date_str": "1988-08-01",
          "month": 8,
          "quarter": 3,
          "year": "1988"
         },
         {
          "Counts": 6015,
          "Date": "1988-09-01T00:00:00",
          "Precip": null,
          "dataset": "olou",
          "date_str": "1988-09-01",
          "month": 9,
          "quarter": 3,
          "year": "1988"
         },
         {
          "Counts": 5992,
          "Date": "1988-10-01T00:00:00",
          "Precip": null,
          "dataset": "olou",
          "date_str": "1988-10-01",
          "month": 10,
          "quarter": 4,
          "year": "1988"
         },
         {
          "Counts": 5969,
          "Date": "1988-11-01T00:00:00",
          "Precip": null,
          "dataset": "olou",
          "date_str": "1988-11-01",
          "month": 11,
          "quarter": 4,
          "year": "1988"
         },
         {
          "Counts": 5812,
          "Date": "1988-12-01T00:00:00",
          "Precip": null,
          "dataset": "olou",
          "date_str": "1988-12-01",
          "month": 12,
          "quarter": 4,
          "year": "1988"
         },
         {
          "Counts": 5736,
          "Date": "1989-01-01T00:00:00",
          "Precip": null,
          "dataset": "olou",
          "date_str": "1989-01-01",
          "month": 1,
          "quarter": 1,
          "year": "1989"
         },
         {
          "Counts": 5717,
          "Date": "1989-02-01T00:00:00",
          "Precip": null,
          "dataset": "olou",
          "date_str": "1989-02-01",
          "month": 2,
          "quarter": 1,
          "year": "1989"
         },
         {
          "Counts": 5449,
          "Date": "1989-03-01T00:00:00",
          "Precip": null,
          "dataset": "olou",
          "date_str": "1989-03-01",
          "month": 3,
          "quarter": 1,
          "year": "1989"
         },
         {
          "Counts": 5504,
          "Date": "1989-04-01T00:00:00",
          "Precip": null,
          "dataset": "olou",
          "date_str": "1989-04-01",
          "month": 4,
          "quarter": 2,
          "year": "1989"
         },
         {
          "Counts": 5402,
          "Date": "1989-05-01T00:00:00",
          "Precip": null,
          "dataset": "olou",
          "date_str": "1989-05-01",
          "month": 5,
          "quarter": 2,
          "year": "1989"
         },
         {
          "Counts": 5445,
          "Date": "1989-06-01T00:00:00",
          "Precip": null,
          "dataset": "olou",
          "date_str": "1989-06-01",
          "month": 6,
          "quarter": 2,
          "year": "1989"
         },
         {
          "Counts": 5615,
          "Date": "1989-07-01T00:00:00",
          "Precip": null,
          "dataset": "olou",
          "date_str": "1989-07-01",
          "month": 7,
          "quarter": 3,
          "year": "1989"
         },
         {
          "Counts": 5537,
          "Date": "1989-08-01T00:00:00",
          "Precip": null,
          "dataset": "olou",
          "date_str": "1989-08-01",
          "month": 8,
          "quarter": 3,
          "year": "1989"
         },
         {
          "Counts": 5470,
          "Date": "1989-09-01T00:00:00",
          "Precip": null,
          "dataset": "olou",
          "date_str": "1989-09-01",
          "month": 9,
          "quarter": 3,
          "year": "1989"
         },
         {
          "Counts": 5356,
          "Date": "1989-10-01T00:00:00",
          "Precip": null,
          "dataset": "olou",
          "date_str": "1989-10-01",
          "month": 10,
          "quarter": 4,
          "year": "1989"
         },
         {
          "Counts": 5226,
          "Date": "1989-11-01T00:00:00",
          "Precip": null,
          "dataset": "olou",
          "date_str": "1989-11-01",
          "month": 11,
          "quarter": 4,
          "year": "1989"
         },
         {
          "Counts": 5316,
          "Date": "1989-12-01T00:00:00",
          "Precip": null,
          "dataset": "olou",
          "date_str": "1989-12-01",
          "month": 12,
          "quarter": 4,
          "year": "1989"
         },
         {
          "Counts": 5419,
          "Date": "1990-01-01T00:00:00",
          "Precip": null,
          "dataset": "olou",
          "date_str": "1990-01-01",
          "month": 1,
          "quarter": 1,
          "year": "1990"
         },
         {
          "Counts": 5441,
          "Date": "1990-02-01T00:00:00",
          "Precip": null,
          "dataset": "olou",
          "date_str": "1990-02-01",
          "month": 2,
          "quarter": 1,
          "year": "1990"
         },
         {
          "Counts": 5373,
          "Date": "1990-03-01T00:00:00",
          "Precip": null,
          "dataset": "olou",
          "date_str": "1990-03-01",
          "month": 3,
          "quarter": 1,
          "year": "1990"
         },
         {
          "Counts": 5266,
          "Date": "1990-04-01T00:00:00",
          "Precip": null,
          "dataset": "olou",
          "date_str": "1990-04-01",
          "month": 4,
          "quarter": 2,
          "year": "1990"
         },
         {
          "Counts": 5246,
          "Date": "1990-05-01T00:00:00",
          "Precip": null,
          "dataset": "olou",
          "date_str": "1990-05-01",
          "month": 5,
          "quarter": 2,
          "year": "1990"
         },
         {
          "Counts": 5235,
          "Date": "1990-06-01T00:00:00",
          "Precip": null,
          "dataset": "olou",
          "date_str": "1990-06-01",
          "month": 6,
          "quarter": 2,
          "year": "1990"
         },
         {
          "Counts": 5381,
          "Date": "1990-07-01T00:00:00",
          "Precip": null,
          "dataset": "olou",
          "date_str": "1990-07-01",
          "month": 7,
          "quarter": 3,
          "year": "1990"
         },
         {
          "Counts": 5352,
          "Date": "1990-08-01T00:00:00",
          "Precip": null,
          "dataset": "olou",
          "date_str": "1990-08-01",
          "month": 8,
          "quarter": 3,
          "year": "1990"
         },
         {
          "Counts": 5453,
          "Date": "1990-09-01T00:00:00",
          "Precip": null,
          "dataset": "olou",
          "date_str": "1990-09-01",
          "month": 9,
          "quarter": 3,
          "year": "1990"
         },
         {
          "Counts": 5551,
          "Date": "1990-10-01T00:00:00",
          "Precip": null,
          "dataset": "olou",
          "date_str": "1990-10-01",
          "month": 10,
          "quarter": 4,
          "year": "1990"
         },
         {
          "Counts": 5630,
          "Date": "1990-11-01T00:00:00",
          "Precip": null,
          "dataset": "olou",
          "date_str": "1990-11-01",
          "month": 11,
          "quarter": 4,
          "year": "1990"
         },
         {
          "Counts": 5644,
          "Date": "1990-12-01T00:00:00",
          "Precip": null,
          "dataset": "olou",
          "date_str": "1990-12-01",
          "month": 12,
          "quarter": 4,
          "year": "1990"
         },
         {
          "Counts": 5774,
          "Date": "1991-01-01T00:00:00",
          "Precip": null,
          "dataset": "olou",
          "date_str": "1991-01-01",
          "month": 1,
          "quarter": 1,
          "year": "1991"
         },
         {
          "Counts": 5809,
          "Date": "1991-02-01T00:00:00",
          "Precip": null,
          "dataset": "olou",
          "date_str": "1991-02-01",
          "month": 2,
          "quarter": 1,
          "year": "1991"
         },
         {
          "Counts": 5421,
          "Date": "1991-03-01T00:00:00",
          "Precip": null,
          "dataset": "olou",
          "date_str": "1991-03-01",
          "month": 3,
          "quarter": 1,
          "year": "1991"
         },
         {
          "Counts": 5469,
          "Date": "1991-04-01T00:00:00",
          "Precip": null,
          "dataset": "olou",
          "date_str": "1991-04-01",
          "month": 4,
          "quarter": 2,
          "year": "1991"
         },
         {
          "Counts": 5501,
          "Date": "1991-05-01T00:00:00",
          "Precip": null,
          "dataset": "olou",
          "date_str": "1991-05-01",
          "month": 5,
          "quarter": 2,
          "year": "1991"
         },
         {
          "Counts": 4879,
          "Date": "1991-06-01T00:00:00",
          "Precip": null,
          "dataset": "olou",
          "date_str": "1991-06-01",
          "month": 6,
          "quarter": 2,
          "year": "1991"
         },
         {
          "Counts": 4920,
          "Date": "1991-07-01T00:00:00",
          "Precip": null,
          "dataset": "olou",
          "date_str": "1991-07-01",
          "month": 7,
          "quarter": 3,
          "year": "1991"
         },
         {
          "Counts": 5227,
          "Date": "1991-08-01T00:00:00",
          "Precip": null,
          "dataset": "olou",
          "date_str": "1991-08-01",
          "month": 8,
          "quarter": 3,
          "year": "1991"
         },
         {
          "Counts": 5473,
          "Date": "1991-09-01T00:00:00",
          "Precip": null,
          "dataset": "olou",
          "date_str": "1991-09-01",
          "month": 9,
          "quarter": 3,
          "year": "1991"
         },
         {
          "Counts": 5534,
          "Date": "1991-10-01T00:00:00",
          "Precip": null,
          "dataset": "olou",
          "date_str": "1991-10-01",
          "month": 10,
          "quarter": 4,
          "year": "1991"
         },
         {
          "Counts": 5551,
          "Date": "1991-11-01T00:00:00",
          "Precip": null,
          "dataset": "olou",
          "date_str": "1991-11-01",
          "month": 11,
          "quarter": 4,
          "year": "1991"
         },
         {
          "Counts": 5648,
          "Date": "1991-12-01T00:00:00",
          "Precip": null,
          "dataset": "olou",
          "date_str": "1991-12-01",
          "month": 12,
          "quarter": 4,
          "year": "1991"
         },
         {
          "Counts": 5632,
          "Date": "1992-01-01T00:00:00",
          "Precip": null,
          "dataset": "olou",
          "date_str": "1992-01-01",
          "month": 1,
          "quarter": 1,
          "year": "1992"
         },
         {
          "Counts": 5591,
          "Date": "1992-02-01T00:00:00",
          "Precip": null,
          "dataset": "olou",
          "date_str": "1992-02-01",
          "month": 2,
          "quarter": 1,
          "year": "1992"
         },
         {
          "Counts": 5724,
          "Date": "1992-03-01T00:00:00",
          "Precip": null,
          "dataset": "olou",
          "date_str": "1992-03-01",
          "month": 3,
          "quarter": 1,
          "year": "1992"
         },
         {
          "Counts": 5894,
          "Date": "1992-04-01T00:00:00",
          "Precip": null,
          "dataset": "olou",
          "date_str": "1992-04-01",
          "month": 4,
          "quarter": 2,
          "year": "1992"
         },
         {
          "Counts": 5846,
          "Date": "1992-05-01T00:00:00",
          "Precip": null,
          "dataset": "olou",
          "date_str": "1992-05-01",
          "month": 5,
          "quarter": 2,
          "year": "1992"
         },
         {
          "Counts": 5984,
          "Date": "1992-06-01T00:00:00",
          "Precip": null,
          "dataset": "olou",
          "date_str": "1992-06-01",
          "month": 6,
          "quarter": 2,
          "year": "1992"
         },
         {
          "Counts": 6060,
          "Date": "1992-07-01T00:00:00",
          "Precip": null,
          "dataset": "olou",
          "date_str": "1992-07-01",
          "month": 7,
          "quarter": 3,
          "year": "1992"
         },
         {
          "Counts": 6029,
          "Date": "1992-08-01T00:00:00",
          "Precip": null,
          "dataset": "olou",
          "date_str": "1992-08-01",
          "month": 8,
          "quarter": 3,
          "year": "1992"
         },
         {
          "Counts": 5995,
          "Date": "1992-09-01T00:00:00",
          "Precip": null,
          "dataset": "olou",
          "date_str": "1992-09-01",
          "month": 9,
          "quarter": 3,
          "year": "1992"
         },
         {
          "Counts": 6094,
          "Date": "1992-10-01T00:00:00",
          "Precip": null,
          "dataset": "olou",
          "date_str": "1992-10-01",
          "month": 10,
          "quarter": 4,
          "year": "1992"
         },
         {
          "Counts": 6057,
          "Date": "1992-11-01T00:00:00",
          "Precip": null,
          "dataset": "olou",
          "date_str": "1992-11-01",
          "month": 11,
          "quarter": 4,
          "year": "1992"
         },
         {
          "Counts": 6149,
          "Date": "1992-12-01T00:00:00",
          "Precip": null,
          "dataset": "olou",
          "date_str": "1992-12-01",
          "month": 12,
          "quarter": 4,
          "year": "1992"
         },
         {
          "Counts": 6126,
          "Date": "1993-01-01T00:00:00",
          "Precip": null,
          "dataset": "olou",
          "date_str": "1993-01-01",
          "month": 1,
          "quarter": 1,
          "year": "1993"
         },
         {
          "Counts": 6130,
          "Date": "1993-02-01T00:00:00",
          "Precip": null,
          "dataset": "olou",
          "date_str": "1993-02-01",
          "month": 2,
          "quarter": 1,
          "year": "1993"
         },
         {
          "Counts": 6048,
          "Date": "1993-03-01T00:00:00",
          "Precip": null,
          "dataset": "olou",
          "date_str": "1993-03-01",
          "month": 3,
          "quarter": 1,
          "year": "1993"
         },
         {
          "Counts": 6144,
          "Date": "1993-04-01T00:00:00",
          "Precip": null,
          "dataset": "olou",
          "date_str": "1993-04-01",
          "month": 4,
          "quarter": 2,
          "year": "1993"
         },
         {
          "Counts": 6181,
          "Date": "1993-05-01T00:00:00",
          "Precip": null,
          "dataset": "olou",
          "date_str": "1993-05-01",
          "month": 5,
          "quarter": 2,
          "year": "1993"
         },
         {
          "Counts": 6213,
          "Date": "1993-06-01T00:00:00",
          "Precip": null,
          "dataset": "olou",
          "date_str": "1993-06-01",
          "month": 6,
          "quarter": 2,
          "year": "1993"
         },
         {
          "Counts": 6224,
          "Date": "1993-07-01T00:00:00",
          "Precip": null,
          "dataset": "olou",
          "date_str": "1993-07-01",
          "month": 7,
          "quarter": 3,
          "year": "1993"
         },
         {
          "Counts": 6232,
          "Date": "1993-08-01T00:00:00",
          "Precip": null,
          "dataset": "olou",
          "date_str": "1993-08-01",
          "month": 8,
          "quarter": 3,
          "year": "1993"
         },
         {
          "Counts": 6273,
          "Date": "1993-09-01T00:00:00",
          "Precip": null,
          "dataset": "olou",
          "date_str": "1993-09-01",
          "month": 9,
          "quarter": 3,
          "year": "1993"
         },
         {
          "Counts": 6276,
          "Date": "1993-10-01T00:00:00",
          "Precip": null,
          "dataset": "olou",
          "date_str": "1993-10-01",
          "month": 10,
          "quarter": 4,
          "year": "1993"
         },
         {
          "Counts": 6302,
          "Date": "1993-11-01T00:00:00",
          "Precip": null,
          "dataset": "olou",
          "date_str": "1993-11-01",
          "month": 11,
          "quarter": 4,
          "year": "1993"
         },
         {
          "Counts": 6288,
          "Date": "1993-12-01T00:00:00",
          "Precip": null,
          "dataset": "olou",
          "date_str": "1993-12-01",
          "month": 12,
          "quarter": 4,
          "year": "1993"
         },
         {
          "Counts": 6299,
          "Date": "1994-01-01T00:00:00",
          "Precip": null,
          "dataset": "olou",
          "date_str": "1994-01-01",
          "month": 1,
          "quarter": 1,
          "year": "1994"
         },
         {
          "Counts": 6195,
          "Date": "1994-02-01T00:00:00",
          "Precip": null,
          "dataset": "olou",
          "date_str": "1994-02-01",
          "month": 2,
          "quarter": 1,
          "year": "1994"
         },
         {
          "Counts": 6201,
          "Date": "1994-03-01T00:00:00",
          "Precip": null,
          "dataset": "olou",
          "date_str": "1994-03-01",
          "month": 3,
          "quarter": 1,
          "year": "1994"
         },
         {
          "Counts": 6181,
          "Date": "1994-04-01T00:00:00",
          "Precip": null,
          "dataset": "olou",
          "date_str": "1994-04-01",
          "month": 4,
          "quarter": 2,
          "year": "1994"
         },
         {
          "Counts": 6248,
          "Date": "1994-05-01T00:00:00",
          "Precip": null,
          "dataset": "olou",
          "date_str": "1994-05-01",
          "month": 5,
          "quarter": 2,
          "year": "1994"
         },
         {
          "Counts": 6254,
          "Date": "1994-06-01T00:00:00",
          "Precip": null,
          "dataset": "olou",
          "date_str": "1994-06-01",
          "month": 6,
          "quarter": 2,
          "year": "1994"
         },
         {
          "Counts": 6287,
          "Date": "1994-07-01T00:00:00",
          "Precip": null,
          "dataset": "olou",
          "date_str": "1994-07-01",
          "month": 7,
          "quarter": 3,
          "year": "1994"
         },
         {
          "Counts": 6339,
          "Date": "1994-08-01T00:00:00",
          "Precip": null,
          "dataset": "olou",
          "date_str": "1994-08-01",
          "month": 8,
          "quarter": 3,
          "year": "1994"
         },
         {
          "Counts": 6370,
          "Date": "1994-09-01T00:00:00",
          "Precip": null,
          "dataset": "olou",
          "date_str": "1994-09-01",
          "month": 9,
          "quarter": 3,
          "year": "1994"
         },
         {
          "Counts": 6336,
          "Date": "1994-10-01T00:00:00",
          "Precip": null,
          "dataset": "olou",
          "date_str": "1994-10-01",
          "month": 10,
          "quarter": 4,
          "year": "1994"
         },
         {
          "Counts": 6328,
          "Date": "1994-11-01T00:00:00",
          "Precip": null,
          "dataset": "olou",
          "date_str": "1994-11-01",
          "month": 11,
          "quarter": 4,
          "year": "1994"
         },
         {
          "Counts": 6315,
          "Date": "1994-12-01T00:00:00",
          "Precip": null,
          "dataset": "olou",
          "date_str": "1994-12-01",
          "month": 12,
          "quarter": 4,
          "year": "1994"
         },
         {
          "Counts": 6363,
          "Date": "1995-01-01T00:00:00",
          "Precip": null,
          "dataset": "olou",
          "date_str": "1995-01-01",
          "month": 1,
          "quarter": 1,
          "year": "1995"
         },
         {
          "Counts": 6381,
          "Date": "1995-02-01T00:00:00",
          "Precip": null,
          "dataset": "olou",
          "date_str": "1995-02-01",
          "month": 2,
          "quarter": 1,
          "year": "1995"
         },
         {
          "Counts": 6350,
          "Date": "1995-03-01T00:00:00",
          "Precip": null,
          "dataset": "olou",
          "date_str": "1995-03-01",
          "month": 3,
          "quarter": 1,
          "year": "1995"
         },
         {
          "Counts": 6376,
          "Date": "1995-04-01T00:00:00",
          "Precip": null,
          "dataset": "olou",
          "date_str": "1995-04-01",
          "month": 4,
          "quarter": 2,
          "year": "1995"
         },
         {
          "Counts": 6395,
          "Date": "1995-05-01T00:00:00",
          "Precip": null,
          "dataset": "olou",
          "date_str": "1995-05-01",
          "month": 5,
          "quarter": 2,
          "year": "1995"
         },
         {
          "Counts": 6398,
          "Date": "1995-06-01T00:00:00",
          "Precip": null,
          "dataset": "olou",
          "date_str": "1995-06-01",
          "month": 6,
          "quarter": 2,
          "year": "1995"
         },
         {
          "Counts": 6402,
          "Date": "1995-07-01T00:00:00",
          "Precip": null,
          "dataset": "olou",
          "date_str": "1995-07-01",
          "month": 7,
          "quarter": 3,
          "year": "1995"
         },
         {
          "Counts": 6411,
          "Date": "1995-08-01T00:00:00",
          "Precip": null,
          "dataset": "olou",
          "date_str": "1995-08-01",
          "month": 8,
          "quarter": 3,
          "year": "1995"
         },
         {
          "Counts": 6398,
          "Date": "1995-09-01T00:00:00",
          "Precip": null,
          "dataset": "olou",
          "date_str": "1995-09-01",
          "month": 9,
          "quarter": 3,
          "year": "1995"
         },
         {
          "Counts": 6371,
          "Date": "1995-10-01T00:00:00",
          "Precip": null,
          "dataset": "olou",
          "date_str": "1995-10-01",
          "month": 10,
          "quarter": 4,
          "year": "1995"
         },
         {
          "Counts": 6377,
          "Date": "1995-11-01T00:00:00",
          "Precip": null,
          "dataset": "olou",
          "date_str": "1995-11-01",
          "month": 11,
          "quarter": 4,
          "year": "1995"
         },
         {
          "Counts": 6425,
          "Date": "1995-12-01T00:00:00",
          "Precip": null,
          "dataset": "olou",
          "date_str": "1995-12-01",
          "month": 12,
          "quarter": 4,
          "year": "1995"
         },
         {
          "Counts": 6432,
          "Date": "1996-01-01T00:00:00",
          "Precip": null,
          "dataset": "olou",
          "date_str": "1996-01-01",
          "month": 1,
          "quarter": 1,
          "year": "1996"
         },
         {
          "Counts": 6457,
          "Date": "1996-02-01T00:00:00",
          "Precip": null,
          "dataset": "olou",
          "date_str": "1996-02-01",
          "month": 2,
          "quarter": 1,
          "year": "1996"
         },
         {
          "Counts": 6511,
          "Date": "1996-03-01T00:00:00",
          "Precip": null,
          "dataset": "olou",
          "date_str": "1996-03-01",
          "month": 3,
          "quarter": 1,
          "year": "1996"
         },
         {
          "Counts": 6533,
          "Date": "1996-04-01T00:00:00",
          "Precip": null,
          "dataset": "olou",
          "date_str": "1996-04-01",
          "month": 4,
          "quarter": 2,
          "year": "1996"
         },
         {
          "Counts": 6533,
          "Date": "1996-05-01T00:00:00",
          "Precip": null,
          "dataset": "olou",
          "date_str": "1996-05-01",
          "month": 5,
          "quarter": 2,
          "year": "1996"
         },
         {
          "Counts": 6539,
          "Date": "1996-06-01T00:00:00",
          "Precip": null,
          "dataset": "olou",
          "date_str": "1996-06-01",
          "month": 6,
          "quarter": 2,
          "year": "1996"
         },
         {
          "Counts": 6541,
          "Date": "1996-07-01T00:00:00",
          "Precip": null,
          "dataset": "olou",
          "date_str": "1996-07-01",
          "month": 7,
          "quarter": 3,
          "year": "1996"
         },
         {
          "Counts": 6519,
          "Date": "1996-08-01T00:00:00",
          "Precip": null,
          "dataset": "olou",
          "date_str": "1996-08-01",
          "month": 8,
          "quarter": 3,
          "year": "1996"
         },
         {
          "Counts": 6514,
          "Date": "1996-09-01T00:00:00",
          "Precip": null,
          "dataset": "olou",
          "date_str": "1996-09-01",
          "month": 9,
          "quarter": 3,
          "year": "1996"
         },
         {
          "Counts": 6484,
          "Date": "1996-10-01T00:00:00",
          "Precip": null,
          "dataset": "olou",
          "date_str": "1996-10-01",
          "month": 10,
          "quarter": 4,
          "year": "1996"
         },
         {
          "Counts": 6477,
          "Date": "1996-11-01T00:00:00",
          "Precip": null,
          "dataset": "olou",
          "date_str": "1996-11-01",
          "month": 11,
          "quarter": 4,
          "year": "1996"
         },
         {
          "Counts": 6488,
          "Date": "1996-12-01T00:00:00",
          "Precip": null,
          "dataset": "olou",
          "date_str": "1996-12-01",
          "month": 12,
          "quarter": 4,
          "year": "1996"
         },
         {
          "Counts": 6532,
          "Date": "1997-01-01T00:00:00",
          "Precip": null,
          "dataset": "olou",
          "date_str": "1997-01-01",
          "month": 1,
          "quarter": 1,
          "year": "1997"
         },
         {
          "Counts": 6551,
          "Date": "1997-02-01T00:00:00",
          "Precip": null,
          "dataset": "olou",
          "date_str": "1997-02-01",
          "month": 2,
          "quarter": 1,
          "year": "1997"
         },
         {
          "Counts": 6558,
          "Date": "1997-03-01T00:00:00",
          "Precip": null,
          "dataset": "olou",
          "date_str": "1997-03-01",
          "month": 3,
          "quarter": 1,
          "year": "1997"
         },
         {
          "Counts": 6542,
          "Date": "1997-04-01T00:00:00",
          "Precip": null,
          "dataset": "olou",
          "date_str": "1997-04-01",
          "month": 4,
          "quarter": 2,
          "year": "1997"
         },
         {
          "Counts": 6558,
          "Date": "1997-05-01T00:00:00",
          "Precip": null,
          "dataset": "olou",
          "date_str": "1997-05-01",
          "month": 5,
          "quarter": 2,
          "year": "1997"
         },
         {
          "Counts": 6549,
          "Date": "1997-06-01T00:00:00",
          "Precip": null,
          "dataset": "olou",
          "date_str": "1997-06-01",
          "month": 6,
          "quarter": 2,
          "year": "1997"
         },
         {
          "Counts": 6546,
          "Date": "1997-07-01T00:00:00",
          "Precip": null,
          "dataset": "olou",
          "date_str": "1997-07-01",
          "month": 7,
          "quarter": 3,
          "year": "1997"
         },
         {
          "Counts": 6579,
          "Date": "1997-08-01T00:00:00",
          "Precip": null,
          "dataset": "olou",
          "date_str": "1997-08-01",
          "month": 8,
          "quarter": 3,
          "year": "1997"
         },
         {
          "Counts": 6574,
          "Date": "1997-09-01T00:00:00",
          "Precip": null,
          "dataset": "olou",
          "date_str": "1997-09-01",
          "month": 9,
          "quarter": 3,
          "year": "1997"
         },
         {
          "Counts": 6538,
          "Date": "1997-10-01T00:00:00",
          "Precip": null,
          "dataset": "olou",
          "date_str": "1997-10-01",
          "month": 10,
          "quarter": 4,
          "year": "1997"
         },
         {
          "Counts": 6489,
          "Date": "1997-11-01T00:00:00",
          "Precip": null,
          "dataset": "olou",
          "date_str": "1997-11-01",
          "month": 11,
          "quarter": 4,
          "year": "1997"
         },
         {
          "Counts": 6518,
          "Date": "1997-12-01T00:00:00",
          "Precip": null,
          "dataset": "olou",
          "date_str": "1997-12-01",
          "month": 12,
          "quarter": 4,
          "year": "1997"
         },
         {
          "Counts": 6526,
          "Date": "1998-01-01T00:00:00",
          "Precip": null,
          "dataset": "olou",
          "date_str": "1998-01-01",
          "month": 1,
          "quarter": 1,
          "year": "1998"
         },
         {
          "Counts": 6536,
          "Date": "1998-02-01T00:00:00",
          "Precip": null,
          "dataset": "olou",
          "date_str": "1998-02-01",
          "month": 2,
          "quarter": 1,
          "year": "1998"
         },
         {
          "Counts": 6543,
          "Date": "1998-03-01T00:00:00",
          "Precip": null,
          "dataset": "olou",
          "date_str": "1998-03-01",
          "month": 3,
          "quarter": 1,
          "year": "1998"
         },
         {
          "Counts": 6389,
          "Date": "1998-04-01T00:00:00",
          "Precip": null,
          "dataset": "olou",
          "date_str": "1998-04-01",
          "month": 4,
          "quarter": 2,
          "year": "1998"
         },
         {
          "Counts": 6280,
          "Date": "1998-05-01T00:00:00",
          "Precip": null,
          "dataset": "olou",
          "date_str": "1998-05-01",
          "month": 5,
          "quarter": 2,
          "year": "1998"
         },
         {
          "Counts": 6308,
          "Date": "1998-06-01T00:00:00",
          "Precip": null,
          "dataset": "olou",
          "date_str": "1998-06-01",
          "month": 6,
          "quarter": 2,
          "year": "1998"
         },
         {
          "Counts": 6382,
          "Date": "1998-07-01T00:00:00",
          "Precip": null,
          "dataset": "olou",
          "date_str": "1998-07-01",
          "month": 7,
          "quarter": 3,
          "year": "1998"
         },
         {
          "Counts": 6299,
          "Date": "1998-08-01T00:00:00",
          "Precip": null,
          "dataset": "olou",
          "date_str": "1998-08-01",
          "month": 8,
          "quarter": 3,
          "year": "1998"
         },
         {
          "Counts": 6380,
          "Date": "1998-09-01T00:00:00",
          "Precip": null,
          "dataset": "olou",
          "date_str": "1998-09-01",
          "month": 9,
          "quarter": 3,
          "year": "1998"
         },
         {
          "Counts": 6433,
          "Date": "1998-10-01T00:00:00",
          "Precip": null,
          "dataset": "olou",
          "date_str": "1998-10-01",
          "month": 10,
          "quarter": 4,
          "year": "1998"
         },
         {
          "Counts": 6385,
          "Date": "1998-11-01T00:00:00",
          "Precip": null,
          "dataset": "olou",
          "date_str": "1998-11-01",
          "month": 11,
          "quarter": 4,
          "year": "1998"
         },
         {
          "Counts": 6337,
          "Date": "1998-12-01T00:00:00",
          "Precip": null,
          "dataset": "olou",
          "date_str": "1998-12-01",
          "month": 12,
          "quarter": 4,
          "year": "1998"
         },
         {
          "Counts": 6249,
          "Date": "1999-01-01T00:00:00",
          "Precip": null,
          "dataset": "olou",
          "date_str": "1999-01-01",
          "month": 1,
          "quarter": 1,
          "year": "1999"
         },
         {
          "Counts": 6248,
          "Date": "1999-02-01T00:00:00",
          "Precip": null,
          "dataset": "olou",
          "date_str": "1999-02-01",
          "month": 2,
          "quarter": 1,
          "year": "1999"
         },
         {
          "Counts": 6263,
          "Date": "1999-03-01T00:00:00",
          "Precip": null,
          "dataset": "olou",
          "date_str": "1999-03-01",
          "month": 3,
          "quarter": 1,
          "year": "1999"
         },
         {
          "Counts": 6313,
          "Date": "1999-04-01T00:00:00",
          "Precip": null,
          "dataset": "olou",
          "date_str": "1999-04-01",
          "month": 4,
          "quarter": 2,
          "year": "1999"
         },
         {
          "Counts": 6291,
          "Date": "1999-05-01T00:00:00",
          "Precip": null,
          "dataset": "olou",
          "date_str": "1999-05-01",
          "month": 5,
          "quarter": 2,
          "year": "1999"
         },
         {
          "Counts": 6341,
          "Date": "1999-06-01T00:00:00",
          "Precip": null,
          "dataset": "olou",
          "date_str": "1999-06-01",
          "month": 6,
          "quarter": 2,
          "year": "1999"
         },
         {
          "Counts": 6386,
          "Date": "1999-07-01T00:00:00",
          "Precip": null,
          "dataset": "olou",
          "date_str": "1999-07-01",
          "month": 7,
          "quarter": 3,
          "year": "1999"
         },
         {
          "Counts": 6243,
          "Date": "1999-08-01T00:00:00",
          "Precip": null,
          "dataset": "olou",
          "date_str": "1999-08-01",
          "month": 8,
          "quarter": 3,
          "year": "1999"
         },
         {
          "Counts": 6120,
          "Date": "1999-09-01T00:00:00",
          "Precip": null,
          "dataset": "olou",
          "date_str": "1999-09-01",
          "month": 9,
          "quarter": 3,
          "year": "1999"
         },
         {
          "Counts": 6063,
          "Date": "1999-10-01T00:00:00",
          "Precip": null,
          "dataset": "olou",
          "date_str": "1999-10-01",
          "month": 10,
          "quarter": 4,
          "year": "1999"
         },
         {
          "Counts": 6039,
          "Date": "1999-11-01T00:00:00",
          "Precip": null,
          "dataset": "olou",
          "date_str": "1999-11-01",
          "month": 11,
          "quarter": 4,
          "year": "1999"
         },
         {
          "Counts": 5950,
          "Date": "1999-12-01T00:00:00",
          "Precip": null,
          "dataset": "olou",
          "date_str": "1999-12-01",
          "month": 12,
          "quarter": 4,
          "year": "1999"
         },
         {
          "Counts": 6013,
          "Date": "2000-01-01T00:00:00",
          "Precip": null,
          "dataset": "olou",
          "date_str": "2000-01-01",
          "month": 1,
          "quarter": 1,
          "year": "2000"
         },
         {
          "Counts": 5961,
          "Date": "2000-02-01T00:00:00",
          "Precip": null,
          "dataset": "olou",
          "date_str": "2000-02-01",
          "month": 2,
          "quarter": 1,
          "year": "2000"
         },
         {
          "Counts": 5880,
          "Date": "2000-03-01T00:00:00",
          "Precip": null,
          "dataset": "olou",
          "date_str": "2000-03-01",
          "month": 3,
          "quarter": 1,
          "year": "2000"
         },
         {
          "Counts": 5900,
          "Date": "2000-04-01T00:00:00",
          "Precip": null,
          "dataset": "olou",
          "date_str": "2000-04-01",
          "month": 4,
          "quarter": 2,
          "year": "2000"
         },
         {
          "Counts": 5779,
          "Date": "2000-05-01T00:00:00",
          "Precip": null,
          "dataset": "olou",
          "date_str": "2000-05-01",
          "month": 5,
          "quarter": 2,
          "year": "2000"
         },
         {
          "Counts": 5670,
          "Date": "2000-06-01T00:00:00",
          "Precip": null,
          "dataset": "olou",
          "date_str": "2000-06-01",
          "month": 6,
          "quarter": 2,
          "year": "2000"
         },
         {
          "Counts": 5569,
          "Date": "2000-07-01T00:00:00",
          "Precip": null,
          "dataset": "olou",
          "date_str": "2000-07-01",
          "month": 7,
          "quarter": 3,
          "year": "2000"
         },
         {
          "Counts": 5654,
          "Date": "2000-08-01T00:00:00",
          "Precip": null,
          "dataset": "olou",
          "date_str": "2000-08-01",
          "month": 8,
          "quarter": 3,
          "year": "2000"
         },
         {
          "Counts": 5717,
          "Date": "2000-09-01T00:00:00",
          "Precip": null,
          "dataset": "olou",
          "date_str": "2000-09-01",
          "month": 9,
          "quarter": 3,
          "year": "2000"
         },
         {
          "Counts": 5833,
          "Date": "2000-10-01T00:00:00",
          "Precip": null,
          "dataset": "olou",
          "date_str": "2000-10-01",
          "month": 10,
          "quarter": 4,
          "year": "2000"
         },
         {
          "Counts": 5694,
          "Date": "2000-11-01T00:00:00",
          "Precip": null,
          "dataset": "olou",
          "date_str": "2000-11-01",
          "month": 11,
          "quarter": 4,
          "year": "2000"
         },
         {
          "Counts": 5742,
          "Date": "2000-12-01T00:00:00",
          "Precip": null,
          "dataset": "olou",
          "date_str": "2000-12-01",
          "month": 12,
          "quarter": 4,
          "year": "2000"
         },
         {
          "Counts": 5817,
          "Date": "2001-01-01T00:00:00",
          "Precip": null,
          "dataset": "olou",
          "date_str": "2001-01-01",
          "month": 1,
          "quarter": 1,
          "year": "2001"
         },
         {
          "Counts": 5959,
          "Date": "2001-02-01T00:00:00",
          "Precip": null,
          "dataset": "olou",
          "date_str": "2001-02-01",
          "month": 2,
          "quarter": 1,
          "year": "2001"
         },
         {
          "Counts": 6024,
          "Date": "2001-03-01T00:00:00",
          "Precip": null,
          "dataset": "olou",
          "date_str": "2001-03-01",
          "month": 3,
          "quarter": 1,
          "year": "2001"
         },
         {
          "Counts": 5736,
          "Date": "2001-04-01T00:00:00",
          "Precip": null,
          "dataset": "olou",
          "date_str": "2001-04-01",
          "month": 4,
          "quarter": 2,
          "year": "2001"
         },
         {
          "Counts": 5885,
          "Date": "2001-05-01T00:00:00",
          "Precip": null,
          "dataset": "olou",
          "date_str": "2001-05-01",
          "month": 5,
          "quarter": 2,
          "year": "2001"
         },
         {
          "Counts": 5929,
          "Date": "2001-06-01T00:00:00",
          "Precip": null,
          "dataset": "olou",
          "date_str": "2001-06-01",
          "month": 6,
          "quarter": 2,
          "year": "2001"
         },
         {
          "Counts": 5959,
          "Date": "2001-07-01T00:00:00",
          "Precip": null,
          "dataset": "olou",
          "date_str": "2001-07-01",
          "month": 7,
          "quarter": 3,
          "year": "2001"
         },
         {
          "Counts": 5857,
          "Date": "2001-08-01T00:00:00",
          "Precip": null,
          "dataset": "olou",
          "date_str": "2001-08-01",
          "month": 8,
          "quarter": 3,
          "year": "2001"
         },
         {
          "Counts": 5857,
          "Date": "2001-09-01T00:00:00",
          "Precip": null,
          "dataset": "olou",
          "date_str": "2001-09-01",
          "month": 9,
          "quarter": 3,
          "year": "2001"
         },
         {
          "Counts": 5771,
          "Date": "2001-10-01T00:00:00",
          "Precip": null,
          "dataset": "olou",
          "date_str": "2001-10-01",
          "month": 10,
          "quarter": 4,
          "year": "2001"
         },
         {
          "Counts": 5854,
          "Date": "2001-11-01T00:00:00",
          "Precip": null,
          "dataset": "olou",
          "date_str": "2001-11-01",
          "month": 11,
          "quarter": 4,
          "year": "2001"
         },
         {
          "Counts": 5907,
          "Date": "2001-12-01T00:00:00",
          "Precip": null,
          "dataset": "olou",
          "date_str": "2001-12-01",
          "month": 12,
          "quarter": 4,
          "year": "2001"
         },
         {
          "Counts": 5735,
          "Date": "2002-01-01T00:00:00",
          "Precip": null,
          "dataset": "olou",
          "date_str": "2002-01-01",
          "month": 1,
          "quarter": 1,
          "year": "2002"
         },
         {
          "Counts": 5910,
          "Date": "2002-02-01T00:00:00",
          "Precip": null,
          "dataset": "olou",
          "date_str": "2002-02-01",
          "month": 2,
          "quarter": 1,
          "year": "2002"
         },
         {
          "Counts": 5845,
          "Date": "2002-03-01T00:00:00",
          "Precip": null,
          "dataset": "olou",
          "date_str": "2002-03-01",
          "month": 3,
          "quarter": 1,
          "year": "2002"
         },
         {
          "Counts": 5848,
          "Date": "2002-04-01T00:00:00",
          "Precip": null,
          "dataset": "olou",
          "date_str": "2002-04-01",
          "month": 4,
          "quarter": 2,
          "year": "2002"
         },
         {
          "Counts": 5859,
          "Date": "2002-05-01T00:00:00",
          "Precip": null,
          "dataset": "olou",
          "date_str": "2002-05-01",
          "month": 5,
          "quarter": 2,
          "year": "2002"
         },
         {
          "Counts": 5908,
          "Date": "2002-06-01T00:00:00",
          "Precip": null,
          "dataset": "olou",
          "date_str": "2002-06-01",
          "month": 6,
          "quarter": 2,
          "year": "2002"
         },
         {
          "Counts": 5808,
          "Date": "2002-07-01T00:00:00",
          "Precip": null,
          "dataset": "olou",
          "date_str": "2002-07-01",
          "month": 7,
          "quarter": 3,
          "year": "2002"
         },
         {
          "Counts": 5684,
          "Date": "2002-08-01T00:00:00",
          "Precip": null,
          "dataset": "olou",
          "date_str": "2002-08-01",
          "month": 8,
          "quarter": 3,
          "year": "2002"
         },
         {
          "Counts": 5780,
          "Date": "2002-09-01T00:00:00",
          "Precip": null,
          "dataset": "olou",
          "date_str": "2002-09-01",
          "month": 9,
          "quarter": 3,
          "year": "2002"
         },
         {
          "Counts": 5825,
          "Date": "2002-10-01T00:00:00",
          "Precip": null,
          "dataset": "olou",
          "date_str": "2002-10-01",
          "month": 10,
          "quarter": 4,
          "year": "2002"
         },
         {
          "Counts": 5728,
          "Date": "2002-11-01T00:00:00",
          "Precip": null,
          "dataset": "olou",
          "date_str": "2002-11-01",
          "month": 11,
          "quarter": 4,
          "year": "2002"
         },
         {
          "Counts": 5756,
          "Date": "2002-12-01T00:00:00",
          "Precip": null,
          "dataset": "olou",
          "date_str": "2002-12-01",
          "month": 12,
          "quarter": 4,
          "year": "2002"
         },
         {
          "Counts": 5810,
          "Date": "2003-01-01T00:00:00",
          "Precip": null,
          "dataset": "olou",
          "date_str": "2003-01-01",
          "month": 1,
          "quarter": 1,
          "year": "2003"
         },
         {
          "Counts": 5807,
          "Date": "2003-02-01T00:00:00",
          "Precip": null,
          "dataset": "olou",
          "date_str": "2003-02-01",
          "month": 2,
          "quarter": 1,
          "year": "2003"
         },
         {
          "Counts": 5844,
          "Date": "2003-03-01T00:00:00",
          "Precip": null,
          "dataset": "olou",
          "date_str": "2003-03-01",
          "month": 3,
          "quarter": 1,
          "year": "2003"
         },
         {
          "Counts": 5821,
          "Date": "2003-04-01T00:00:00",
          "Precip": null,
          "dataset": "olou",
          "date_str": "2003-04-01",
          "month": 4,
          "quarter": 2,
          "year": "2003"
         },
         {
          "Counts": 5772,
          "Date": "2003-05-01T00:00:00",
          "Precip": null,
          "dataset": "olou",
          "date_str": "2003-05-01",
          "month": 5,
          "quarter": 2,
          "year": "2003"
         },
         {
          "Counts": 5654,
          "Date": "2003-06-01T00:00:00",
          "Precip": null,
          "dataset": "olou",
          "date_str": "2003-06-01",
          "month": 6,
          "quarter": 2,
          "year": "2003"
         },
         {
          "Counts": 5750,
          "Date": "2003-07-01T00:00:00",
          "Precip": null,
          "dataset": "olou",
          "date_str": "2003-07-01",
          "month": 7,
          "quarter": 3,
          "year": "2003"
         },
         {
          "Counts": 5799,
          "Date": "2003-08-01T00:00:00",
          "Precip": null,
          "dataset": "olou",
          "date_str": "2003-08-01",
          "month": 8,
          "quarter": 3,
          "year": "2003"
         },
         {
          "Counts": 5849,
          "Date": "2003-09-01T00:00:00",
          "Precip": null,
          "dataset": "olou",
          "date_str": "2003-09-01",
          "month": 9,
          "quarter": 3,
          "year": "2003"
         },
         {
          "Counts": 5762,
          "Date": "2003-10-01T00:00:00",
          "Precip": null,
          "dataset": "olou",
          "date_str": "2003-10-01",
          "month": 10,
          "quarter": 4,
          "year": "2003"
         },
         {
          "Counts": 5435,
          "Date": "2003-11-01T00:00:00",
          "Precip": null,
          "dataset": "olou",
          "date_str": "2003-11-01",
          "month": 11,
          "quarter": 4,
          "year": "2003"
         },
         {
          "Counts": 5800,
          "Date": "2003-12-01T00:00:00",
          "Precip": null,
          "dataset": "olou",
          "date_str": "2003-12-01",
          "month": 12,
          "quarter": 4,
          "year": "2003"
         },
         {
          "Counts": 5755,
          "Date": "2004-01-01T00:00:00",
          "Precip": null,
          "dataset": "olou",
          "date_str": "2004-01-01",
          "month": 1,
          "quarter": 1,
          "year": "2004"
         },
         {
          "Counts": 5922,
          "Date": "2004-02-01T00:00:00",
          "Precip": null,
          "dataset": "olou",
          "date_str": "2004-02-01",
          "month": 2,
          "quarter": 1,
          "year": "2004"
         },
         {
          "Counts": 6042,
          "Date": "2004-03-01T00:00:00",
          "Precip": null,
          "dataset": "olou",
          "date_str": "2004-03-01",
          "month": 3,
          "quarter": 1,
          "year": "2004"
         },
         {
          "Counts": 6105,
          "Date": "2004-04-01T00:00:00",
          "Precip": null,
          "dataset": "olou",
          "date_str": "2004-04-01",
          "month": 4,
          "quarter": 2,
          "year": "2004"
         },
         {
          "Counts": 6166,
          "Date": "2004-05-01T00:00:00",
          "Precip": null,
          "dataset": "olou",
          "date_str": "2004-05-01",
          "month": 5,
          "quarter": 2,
          "year": "2004"
         },
         {
          "Counts": 6163,
          "Date": "2004-06-01T00:00:00",
          "Precip": null,
          "dataset": "olou",
          "date_str": "2004-06-01",
          "month": 6,
          "quarter": 2,
          "year": "2004"
         },
         {
          "Counts": 6077,
          "Date": "2004-07-01T00:00:00",
          "Precip": null,
          "dataset": "olou",
          "date_str": "2004-07-01",
          "month": 7,
          "quarter": 3,
          "year": "2004"
         },
         {
          "Counts": 6114,
          "Date": "2004-08-01T00:00:00",
          "Precip": null,
          "dataset": "olou",
          "date_str": "2004-08-01",
          "month": 8,
          "quarter": 3,
          "year": "2004"
         },
         {
          "Counts": 6153,
          "Date": "2004-09-01T00:00:00",
          "Precip": null,
          "dataset": "olou",
          "date_str": "2004-09-01",
          "month": 9,
          "quarter": 3,
          "year": "2004"
         },
         {
          "Counts": 6296,
          "Date": "2004-10-01T00:00:00",
          "Precip": null,
          "dataset": "olou",
          "date_str": "2004-10-01",
          "month": 10,
          "quarter": 4,
          "year": "2004"
         },
         {
          "Counts": 6135,
          "Date": "2004-11-01T00:00:00",
          "Precip": null,
          "dataset": "olou",
          "date_str": "2004-11-01",
          "month": 11,
          "quarter": 4,
          "year": "2004"
         },
         {
          "Counts": 6182,
          "Date": "2004-12-01T00:00:00",
          "Precip": null,
          "dataset": "olou",
          "date_str": "2004-12-01",
          "month": 12,
          "quarter": 4,
          "year": "2004"
         },
         {
          "Counts": 5959,
          "Date": "2005-01-01T00:00:00",
          "Precip": null,
          "dataset": "olou",
          "date_str": "2005-01-01",
          "month": 1,
          "quarter": 1,
          "year": "2005"
         },
         {
          "Counts": 6134,
          "Date": "2005-02-01T00:00:00",
          "Precip": null,
          "dataset": "olou",
          "date_str": "2005-02-01",
          "month": 2,
          "quarter": 1,
          "year": "2005"
         },
         {
          "Counts": 6179,
          "Date": "2005-03-01T00:00:00",
          "Precip": null,
          "dataset": "olou",
          "date_str": "2005-03-01",
          "month": 3,
          "quarter": 1,
          "year": "2005"
         },
         {
          "Counts": 6233,
          "Date": "2005-04-01T00:00:00",
          "Precip": null,
          "dataset": "olou",
          "date_str": "2005-04-01",
          "month": 4,
          "quarter": 2,
          "year": "2005"
         },
         {
          "Counts": 6092,
          "Date": "2005-05-01T00:00:00",
          "Precip": null,
          "dataset": "olou",
          "date_str": "2005-05-01",
          "month": 5,
          "quarter": 2,
          "year": "2005"
         },
         {
          "Counts": 6207,
          "Date": "2005-06-01T00:00:00",
          "Precip": null,
          "dataset": "olou",
          "date_str": "2005-06-01",
          "month": 6,
          "quarter": 2,
          "year": "2005"
         },
         {
          "Counts": 6166,
          "Date": "2005-07-01T00:00:00",
          "Precip": null,
          "dataset": "olou",
          "date_str": "2005-07-01",
          "month": 7,
          "quarter": 3,
          "year": "2005"
         },
         {
          "Counts": 6114,
          "Date": "2005-08-01T00:00:00",
          "Precip": null,
          "dataset": "olou",
          "date_str": "2005-08-01",
          "month": 8,
          "quarter": 3,
          "year": "2005"
         },
         {
          "Counts": 5945,
          "Date": "2005-09-01T00:00:00",
          "Precip": null,
          "dataset": "olou",
          "date_str": "2005-09-01",
          "month": 9,
          "quarter": 3,
          "year": "2005"
         },
         {
          "Counts": 6233,
          "Date": "2005-10-01T00:00:00",
          "Precip": null,
          "dataset": "olou",
          "date_str": "2005-10-01",
          "month": 10,
          "quarter": 4,
          "year": "2005"
         },
         {
          "Counts": 6306,
          "Date": "2005-11-01T00:00:00",
          "Precip": null,
          "dataset": "olou",
          "date_str": "2005-11-01",
          "month": 11,
          "quarter": 4,
          "year": "2005"
         },
         {
          "Counts": 6308,
          "Date": "2005-12-01T00:00:00",
          "Precip": null,
          "dataset": "olou",
          "date_str": "2005-12-01",
          "month": 12,
          "quarter": 4,
          "year": "2005"
         },
         {
          "Counts": 6330,
          "Date": "2006-01-01T00:00:00",
          "Precip": null,
          "dataset": "olou",
          "date_str": "2006-01-01",
          "month": 1,
          "quarter": 1,
          "year": "2006"
         },
         {
          "Counts": 6404,
          "Date": "2006-02-01T00:00:00",
          "Precip": null,
          "dataset": "olou",
          "date_str": "2006-02-01",
          "month": 2,
          "quarter": 1,
          "year": "2006"
         },
         {
          "Counts": 6478,
          "Date": "2006-03-01T00:00:00",
          "Precip": null,
          "dataset": "olou",
          "date_str": "2006-03-01",
          "month": 3,
          "quarter": 1,
          "year": "2006"
         },
         {
          "Counts": 6487,
          "Date": "2006-04-01T00:00:00",
          "Precip": null,
          "dataset": "olou",
          "date_str": "2006-04-01",
          "month": 4,
          "quarter": 2,
          "year": "2006"
         },
         {
          "Counts": 6515,
          "Date": "2006-05-01T00:00:00",
          "Precip": null,
          "dataset": "olou",
          "date_str": "2006-05-01",
          "month": 5,
          "quarter": 2,
          "year": "2006"
         },
         {
          "Counts": 6512,
          "Date": "2006-06-01T00:00:00",
          "Precip": null,
          "dataset": "olou",
          "date_str": "2006-06-01",
          "month": 6,
          "quarter": 2,
          "year": "2006"
         },
         {
          "Counts": 6494,
          "Date": "2006-07-01T00:00:00",
          "Precip": null,
          "dataset": "olou",
          "date_str": "2006-07-01",
          "month": 7,
          "quarter": 3,
          "year": "2006"
         },
         {
          "Counts": 6499,
          "Date": "2006-08-01T00:00:00",
          "Precip": null,
          "dataset": "olou",
          "date_str": "2006-08-01",
          "month": 8,
          "quarter": 3,
          "year": "2006"
         },
         {
          "Counts": 6494,
          "Date": "2006-09-01T00:00:00",
          "Precip": null,
          "dataset": "olou",
          "date_str": "2006-09-01",
          "month": 9,
          "quarter": 3,
          "year": "2006"
         },
         {
          "Counts": 6546,
          "Date": "2006-10-01T00:00:00",
          "Precip": null,
          "dataset": "olou",
          "date_str": "2006-10-01",
          "month": 10,
          "quarter": 4,
          "year": "2006"
         },
         {
          "Counts": 6528,
          "Date": "2006-11-01T00:00:00",
          "Precip": null,
          "dataset": "olou",
          "date_str": "2006-11-01",
          "month": 11,
          "quarter": 4,
          "year": "2006"
         },
         {
          "Counts": 6445,
          "Date": "2006-12-01T00:00:00",
          "Precip": null,
          "dataset": "olou",
          "date_str": "2006-12-01",
          "month": 12,
          "quarter": 4,
          "year": "2006"
         },
         {
          "Counts": 6578,
          "Date": "2007-01-01T00:00:00",
          "Precip": null,
          "dataset": "olou",
          "date_str": "2007-01-01",
          "month": 1,
          "quarter": 1,
          "year": "2007"
         },
         {
          "Counts": 6551,
          "Date": "2007-02-01T00:00:00",
          "Precip": null,
          "dataset": "olou",
          "date_str": "2007-02-01",
          "month": 2,
          "quarter": 1,
          "year": "2007"
         },
         {
          "Counts": 6588,
          "Date": "2007-03-01T00:00:00",
          "Precip": null,
          "dataset": "olou",
          "date_str": "2007-03-01",
          "month": 3,
          "quarter": 1,
          "year": "2007"
         },
         {
          "Counts": 6650,
          "Date": "2007-04-01T00:00:00",
          "Precip": null,
          "dataset": "olou",
          "date_str": "2007-04-01",
          "month": 4,
          "quarter": 2,
          "year": "2007"
         },
         {
          "Counts": 6651,
          "Date": "2007-05-01T00:00:00",
          "Precip": null,
          "dataset": "olou",
          "date_str": "2007-05-01",
          "month": 5,
          "quarter": 2,
          "year": "2007"
         },
         {
          "Counts": 6655,
          "Date": "2007-06-01T00:00:00",
          "Precip": null,
          "dataset": "olou",
          "date_str": "2007-06-01",
          "month": 6,
          "quarter": 2,
          "year": "2007"
         },
         {
          "Counts": 6645,
          "Date": "2007-07-01T00:00:00",
          "Precip": null,
          "dataset": "olou",
          "date_str": "2007-07-01",
          "month": 7,
          "quarter": 3,
          "year": "2007"
         },
         {
          "Counts": 6637,
          "Date": "2007-08-01T00:00:00",
          "Precip": null,
          "dataset": "olou",
          "date_str": "2007-08-01",
          "month": 8,
          "quarter": 3,
          "year": "2007"
         },
         {
          "Counts": 6652,
          "Date": "2007-09-01T00:00:00",
          "Precip": null,
          "dataset": "olou",
          "date_str": "2007-09-01",
          "month": 9,
          "quarter": 3,
          "year": "2007"
         },
         {
          "Counts": 6656,
          "Date": "2007-10-01T00:00:00",
          "Precip": null,
          "dataset": "olou",
          "date_str": "2007-10-01",
          "month": 10,
          "quarter": 4,
          "year": "2007"
         },
         {
          "Counts": 6647,
          "Date": "2007-11-01T00:00:00",
          "Precip": null,
          "dataset": "olou",
          "date_str": "2007-11-01",
          "month": 11,
          "quarter": 4,
          "year": "2007"
         },
         {
          "Counts": 6671,
          "Date": "2007-12-01T00:00:00",
          "Precip": null,
          "dataset": "olou",
          "date_str": "2007-12-01",
          "month": 12,
          "quarter": 4,
          "year": "2007"
         },
         {
          "Counts": 6646,
          "Date": "2008-01-01T00:00:00",
          "Precip": null,
          "dataset": "olou",
          "date_str": "2008-01-01",
          "month": 1,
          "quarter": 1,
          "year": "2008"
         },
         {
          "Counts": 6629,
          "Date": "2008-02-01T00:00:00",
          "Precip": null,
          "dataset": "olou",
          "date_str": "2008-02-01",
          "month": 2,
          "quarter": 1,
          "year": "2008"
         },
         {
          "Counts": 6630,
          "Date": "2008-03-01T00:00:00",
          "Precip": null,
          "dataset": "olou",
          "date_str": "2008-03-01",
          "month": 3,
          "quarter": 1,
          "year": "2008"
         },
         {
          "Counts": 6640,
          "Date": "2008-04-01T00:00:00",
          "Precip": null,
          "dataset": "olou",
          "date_str": "2008-04-01",
          "month": 4,
          "quarter": 2,
          "year": "2008"
         },
         {
          "Counts": 6631,
          "Date": "2008-05-01T00:00:00",
          "Precip": null,
          "dataset": "olou",
          "date_str": "2008-05-01",
          "month": 5,
          "quarter": 2,
          "year": "2008"
         },
         {
          "Counts": 6635,
          "Date": "2008-06-01T00:00:00",
          "Precip": null,
          "dataset": "olou",
          "date_str": "2008-06-01",
          "month": 6,
          "quarter": 2,
          "year": "2008"
         },
         {
          "Counts": 6651,
          "Date": "2008-07-01T00:00:00",
          "Precip": null,
          "dataset": "olou",
          "date_str": "2008-07-01",
          "month": 7,
          "quarter": 3,
          "year": "2008"
         },
         {
          "Counts": 6656,
          "Date": "2008-08-01T00:00:00",
          "Precip": null,
          "dataset": "olou",
          "date_str": "2008-08-01",
          "month": 8,
          "quarter": 3,
          "year": "2008"
         },
         {
          "Counts": 6678,
          "Date": "2008-09-01T00:00:00",
          "Precip": null,
          "dataset": "olou",
          "date_str": "2008-09-01",
          "month": 9,
          "quarter": 3,
          "year": "2008"
         },
         {
          "Counts": 6698,
          "Date": "2008-10-01T00:00:00",
          "Precip": null,
          "dataset": "olou",
          "date_str": "2008-10-01",
          "month": 10,
          "quarter": 4,
          "year": "2008"
         },
         {
          "Counts": 6724,
          "Date": "2008-11-01T00:00:00",
          "Precip": null,
          "dataset": "olou",
          "date_str": "2008-11-01",
          "month": 11,
          "quarter": 4,
          "year": "2008"
         },
         {
          "Counts": 6722,
          "Date": "2008-12-01T00:00:00",
          "Precip": null,
          "dataset": "olou",
          "date_str": "2008-12-01",
          "month": 12,
          "quarter": 4,
          "year": "2008"
         },
         {
          "Counts": 6737,
          "Date": "2009-01-01T00:00:00",
          "Precip": null,
          "dataset": "olou",
          "date_str": "2009-01-01",
          "month": 1,
          "quarter": 1,
          "year": "2009"
         },
         {
          "Counts": 6736,
          "Date": "2009-02-01T00:00:00",
          "Precip": null,
          "dataset": "olou",
          "date_str": "2009-02-01",
          "month": 2,
          "quarter": 1,
          "year": "2009"
         },
         {
          "Counts": 6779,
          "Date": "2009-03-01T00:00:00",
          "Precip": null,
          "dataset": "olou",
          "date_str": "2009-03-01",
          "month": 3,
          "quarter": 1,
          "year": "2009"
         },
         {
          "Counts": 6818,
          "Date": "2009-04-01T00:00:00",
          "Precip": null,
          "dataset": "olou",
          "date_str": "2009-04-01",
          "month": 4,
          "quarter": 2,
          "year": "2009"
         },
         {
          "Counts": 6825,
          "Date": "2009-05-01T00:00:00",
          "Precip": null,
          "dataset": "olou",
          "date_str": "2009-05-01",
          "month": 5,
          "quarter": 2,
          "year": "2009"
         },
         {
          "Counts": 6813,
          "Date": "2009-06-01T00:00:00",
          "Precip": null,
          "dataset": "olou",
          "date_str": "2009-06-01",
          "month": 6,
          "quarter": 2,
          "year": "2009"
         },
         {
          "Counts": 6804,
          "Date": "2009-07-01T00:00:00",
          "Precip": null,
          "dataset": "olou",
          "date_str": "2009-07-01",
          "month": 7,
          "quarter": 3,
          "year": "2009"
         },
         {
          "Counts": 6803,
          "Date": "2009-08-01T00:00:00",
          "Precip": null,
          "dataset": "olou",
          "date_str": "2009-08-01",
          "month": 8,
          "quarter": 3,
          "year": "2009"
         },
         {
          "Counts": 6818,
          "Date": "2009-09-01T00:00:00",
          "Precip": null,
          "dataset": "olou",
          "date_str": "2009-09-01",
          "month": 9,
          "quarter": 3,
          "year": "2009"
         },
         {
          "Counts": 6838,
          "Date": "2009-10-01T00:00:00",
          "Precip": null,
          "dataset": "olou",
          "date_str": "2009-10-01",
          "month": 10,
          "quarter": 4,
          "year": "2009"
         },
         {
          "Counts": 6833,
          "Date": "2009-11-01T00:00:00",
          "Precip": null,
          "dataset": "olou",
          "date_str": "2009-11-01",
          "month": 11,
          "quarter": 4,
          "year": "2009"
         },
         {
          "Counts": 6843,
          "Date": "2009-12-01T00:00:00",
          "Precip": null,
          "dataset": "olou",
          "date_str": "2009-12-01",
          "month": 12,
          "quarter": 4,
          "year": "2009"
         },
         {
          "Counts": 6810,
          "Date": "2010-01-01T00:00:00",
          "Precip": null,
          "dataset": "olou",
          "date_str": "2010-01-01",
          "month": 1,
          "quarter": 1,
          "year": "2010"
         },
         {
          "Counts": 6717,
          "Date": "2010-02-01T00:00:00",
          "Precip": null,
          "dataset": "olou",
          "date_str": "2010-02-01",
          "month": 2,
          "quarter": 1,
          "year": "2010"
         },
         {
          "Counts": 6655,
          "Date": "2010-03-01T00:00:00",
          "Precip": null,
          "dataset": "olou",
          "date_str": "2010-03-01",
          "month": 3,
          "quarter": 1,
          "year": "2010"
         },
         {
          "Counts": 6599,
          "Date": "2010-04-01T00:00:00",
          "Precip": null,
          "dataset": "olou",
          "date_str": "2010-04-01",
          "month": 4,
          "quarter": 2,
          "year": "2010"
         },
         {
          "Counts": 6629,
          "Date": "2010-05-01T00:00:00",
          "Precip": null,
          "dataset": "olou",
          "date_str": "2010-05-01",
          "month": 5,
          "quarter": 2,
          "year": "2010"
         },
         {
          "Counts": 6609,
          "Date": "2010-06-01T00:00:00",
          "Precip": null,
          "dataset": "olou",
          "date_str": "2010-06-01",
          "month": 6,
          "quarter": 2,
          "year": "2010"
         },
         {
          "Counts": 6598,
          "Date": "2010-07-01T00:00:00",
          "Precip": null,
          "dataset": "olou",
          "date_str": "2010-07-01",
          "month": 7,
          "quarter": 3,
          "year": "2010"
         },
         {
          "Counts": 6577,
          "Date": "2010-08-01T00:00:00",
          "Precip": null,
          "dataset": "olou",
          "date_str": "2010-08-01",
          "month": 8,
          "quarter": 3,
          "year": "2010"
         },
         {
          "Counts": 6577,
          "Date": "2010-09-01T00:00:00",
          "Precip": null,
          "dataset": "olou",
          "date_str": "2010-09-01",
          "month": 9,
          "quarter": 3,
          "year": "2010"
         },
         {
          "Counts": 6603,
          "Date": "2010-10-01T00:00:00",
          "Precip": null,
          "dataset": "olou",
          "date_str": "2010-10-01",
          "month": 10,
          "quarter": 4,
          "year": "2010"
         },
         {
          "Counts": 6574,
          "Date": "2010-11-01T00:00:00",
          "Precip": null,
          "dataset": "olou",
          "date_str": "2010-11-01",
          "month": 11,
          "quarter": 4,
          "year": "2010"
         },
         {
          "Counts": 6533,
          "Date": "2010-12-01T00:00:00",
          "Precip": null,
          "dataset": "olou",
          "date_str": "2010-12-01",
          "month": 12,
          "quarter": 4,
          "year": "2010"
         },
         {
          "Counts": 6558,
          "Date": "2011-01-01T00:00:00",
          "Precip": null,
          "dataset": "olou",
          "date_str": "2011-01-01",
          "month": 1,
          "quarter": 1,
          "year": "2011"
         },
         {
          "Counts": 6529,
          "Date": "2011-02-01T00:00:00",
          "Precip": null,
          "dataset": "olou",
          "date_str": "2011-02-01",
          "month": 2,
          "quarter": 1,
          "year": "2011"
         },
         {
          "Counts": 6507,
          "Date": "2011-03-01T00:00:00",
          "Precip": null,
          "dataset": "olou",
          "date_str": "2011-03-01",
          "month": 3,
          "quarter": 1,
          "year": "2011"
         },
         {
          "Counts": 6384,
          "Date": "2011-04-01T00:00:00",
          "Precip": null,
          "dataset": "olou",
          "date_str": "2011-04-01",
          "month": 4,
          "quarter": 2,
          "year": "2011"
         },
         {
          "Counts": 6458,
          "Date": "2011-05-01T00:00:00",
          "Precip": null,
          "dataset": "olou",
          "date_str": "2011-05-01",
          "month": 5,
          "quarter": 2,
          "year": "2011"
         },
         {
          "Counts": 6292,
          "Date": "2011-06-01T00:00:00",
          "Precip": null,
          "dataset": "olou",
          "date_str": "2011-06-01",
          "month": 6,
          "quarter": 2,
          "year": "2011"
         },
         {
          "Counts": 6346,
          "Date": "2011-07-01T00:00:00",
          "Precip": null,
          "dataset": "olou",
          "date_str": "2011-07-01",
          "month": 7,
          "quarter": 3,
          "year": "2011"
         },
         {
          "Counts": 6362,
          "Date": "2011-08-01T00:00:00",
          "Precip": null,
          "dataset": "olou",
          "date_str": "2011-08-01",
          "month": 8,
          "quarter": 3,
          "year": "2011"
         },
         {
          "Counts": 6355,
          "Date": "2011-09-01T00:00:00",
          "Precip": null,
          "dataset": "olou",
          "date_str": "2011-09-01",
          "month": 9,
          "quarter": 3,
          "year": "2011"
         },
         {
          "Counts": 6320,
          "Date": "2011-10-01T00:00:00",
          "Precip": null,
          "dataset": "olou",
          "date_str": "2011-10-01",
          "month": 10,
          "quarter": 4,
          "year": "2011"
         },
         {
          "Counts": 6397,
          "Date": "2011-11-01T00:00:00",
          "Precip": null,
          "dataset": "olou",
          "date_str": "2011-11-01",
          "month": 11,
          "quarter": 4,
          "year": "2011"
         },
         {
          "Counts": 6485,
          "Date": "2011-12-01T00:00:00",
          "Precip": null,
          "dataset": "olou",
          "date_str": "2011-12-01",
          "month": 12,
          "quarter": 4,
          "year": "2011"
         }
        ]
       },
       "layer": [
        {
         "data": {
          "name": "data-eb62011b3bb8ce7558a02b394eeedaa6"
         },
         "encoding": {
          "color": {
           "field": "dataset",
           "legend": {
            "symbolType": "circle"
           },
           "type": "nominal"
          },
          "x": {
           "field": "Date",
           "scale": {
            "domain": [
             "1964-04-01T00:00:00",
             "2011-12-01T00:00:00"
            ]
           },
           "title": "",
           "type": "temporal"
          },
          "y": {
           "field": "Counts",
           "scale": {
            "domain": [
             4879,
             6843
            ]
           },
           "type": "quantitative"
          }
         },
         "mark": {
          "interpolate": "basis",
          "opacity": 0.25,
          "strokeWidth": 2.5,
          "type": "line"
         },
         "name": "view_1"
        },
        {
         "data": {
          "name": "data-eb62011b3bb8ce7558a02b394eeedaa6"
         },
         "encoding": {
          "x": {
           "field": "Date",
           "scale": {
            "domain": [
             "1964-04-01T00:00:00",
             "2011-12-01T00:00:00"
            ]
           },
           "type": "temporal"
          },
          "y": {
           "field": "rolling_mean",
           "scale": {
            "domain": [
             4879,
             6843
            ]
           },
           "type": "quantitative"
          }
         },
         "mark": {
          "color": "red",
          "interpolate": "basis",
          "strokeWidth": 2,
          "type": "line"
         },
         "transform": [
          {
           "frame": [
            -15,
            15
           ],
           "window": [
            {
             "as": "rolling_mean",
             "field": "Counts",
             "op": "mean"
            }
           ]
          }
         ]
        },
        {
         "data": {
          "name": "data-eb62011b3bb8ce7558a02b394eeedaa6"
         },
         "encoding": {
          "color": {
           "field": "dataset",
           "legend": {
            "symbolType": "circle"
           },
           "type": "nominal"
          },
          "x": {
           "field": "Date",
           "scale": {
            "domain": [
             "1964-04-01T00:00:00",
             "2011-12-01T00:00:00"
            ]
           },
           "type": "temporal"
          },
          "y": {
           "field": "Counts",
           "scale": {
            "domain": [
             4879,
             6843
            ]
           },
           "type": "quantitative"
          }
         },
         "mark": {
          "size": 90,
          "strokeWidth": 1,
          "type": "point"
         },
         "transform": [
          {
           "filter": {
            "empty": false,
            "param": "param_2"
           }
          }
         ]
        },
        {
         "data": {
          "name": "data-eb62011b3bb8ce7558a02b394eeedaa6"
         },
         "encoding": {
          "opacity": {
           "value": 0
          },
          "x": {
           "field": "Date",
           "scale": {
            "domain": [
             "1964-04-01T00:00:00",
             "2011-12-01T00:00:00"
            ]
           },
           "type": "temporal"
          },
          "y": {
           "field": "Counts",
           "scale": {
            "domain": [
             4879,
             6843
            ]
           },
           "type": "quantitative"
          }
         },
         "mark": {
          "type": "point"
         },
         "name": "view_2"
        },
        {
         "data": {
          "name": "data-26d13fd126909e222b82ec89f0051dc3"
         },
         "encoding": {
          "strokeWidth": {
           "value": 4
          },
          "x": {
           "field": "Date",
           "scale": {
            "domain": [
             "1964-04-01T00:00:00",
             "2011-12-01T00:00:00"
            ]
           },
           "type": "temporal"
          }
         },
         "mark": {
          "color": "lightgray",
          "opacity": 0.4,
          "type": "rule"
         },
         "transform": [
          {
           "filter": {
            "empty": false,
            "param": "param_2"
           }
          }
         ]
        },
        {
         "data": {
          "name": "data-eb62011b3bb8ce7558a02b394eeedaa6"
         },
         "encoding": {
          "color": {
           "field": "dataset",
           "legend": {
            "symbolType": "circle"
           },
           "type": "nominal"
          },
          "text": {
           "field": "Counts",
           "format": ".2f",
           "type": "quantitative"
          },
          "x": {
           "field": "Date",
           "scale": {
            "domain": [
             "1964-04-01T00:00:00",
             "2011-12-01T00:00:00"
            ]
           },
           "type": "temporal"
          },
          "y": {
           "field": "Counts",
           "scale": {
            "domain": [
             4879,
             6843
            ]
           },
           "type": "quantitative"
          }
         },
         "mark": {
          "align": "left",
          "dx": 7,
          "fontSize": 14,
          "type": "text"
         },
         "transform": [
          {
           "filter": {
            "empty": false,
            "param": "param_2"
           }
          }
         ]
        }
       ],
       "params": [
        {
         "bind": "scales",
         "name": "param_1",
         "select": {
          "encodings": [
           "x",
           "y"
          ],
          "type": "interval"
         },
         "views": [
          "view_1"
         ]
        },
        {
         "name": "param_2",
         "select": {
          "fields": [
           "Date"
          ],
          "nearest": true,
          "on": "mouseover",
          "type": "point"
         },
         "views": [
          "view_2"
         ]
        }
       ]
      },
      "image/png": "[encoded data removed]",
      "text/plain": [
       "<VegaLite 5 object>\n",
       "\n",
       "If you see this message, it means the renderer has not been properly enabled\n",
       "for the frontend that you are using. For more information, see\n",
       "https://altair-viz.github.io/user_guide/display_frontends.html#troubleshooting\n"
      ]
     },
     "execution_count": 21,
     "metadata": {},
     "output_type": "execute_result"
    }
   ],
   "source": [
    "chart_olou"
   ]
  },
  {
   "cell_type": "markdown",
   "id": "4ed542e4-2ef7-4c1b-a737-e97f954e93f6",
   "metadata": {},
   "source": [
    "### Interactivity"
   ]
  },
  {
   "cell_type": "code",
   "execution_count": 23,
   "id": "d7f190c1-8f2f-4585-8699-252c7ad0aebe",
   "metadata": {},
   "outputs": [
    {
     "data": {
      "application/vnd.jupyter.widget-view+json": {
       "model_id": "bba400b8ca5a4fd08fc5784e01e124ed",
       "version_major": 2,
       "version_minor": 0
      },
      "text/plain": [
       "interactive(children=(IntSlider(value=800, description='Width:', max=1500, min=100), IntSlider(value=155, desc…"
      ]
     },
     "execution_count": 23,
     "metadata": {},
     "output_type": "execute_result"
    }
   ],
   "source": [
    "# Init outputs.\n",
    "output = widgets.Output()\n",
    "\n",
    "# Update chart sizes.\n",
    "def update_chart_width_height(width, height):\n",
    "    updated_chart_olou = chart_olou.properties(width=width, height=height)\n",
    "    updated_chart_monsoon = chart_monsoon.properties(width=width, height=height)\n",
    "    updated_combined_chart = alt.vconcat(updated_chart_olou, updated_chart_monsoon)\n",
    "    with output:\n",
    "        output.clear_output(wait=True)\n",
    "        display(updated_combined_chart)\n",
    "\n",
    "# Create widgets.\n",
    "width_slider = widgets.IntSlider(value=800, min=100, max=1500, step=1, description='Width:')\n",
    "height_slider = widgets.IntSlider(value=155, min=10, max=300, step=1, description='Height:')\n",
    "\n",
    "# Update charts from widgets.\n",
    "def update_chart(width, height):\n",
    "    update_chart_width_height(width, height)\n",
    "\n",
    "# Activate widgets.\n",
    "widgets.interactive(update_chart, width=width_slider, height=height_slider)"
   ]
  },
  {
   "cell_type": "markdown",
   "id": "1c98b6a3-c2b1-475f-8aae-96d0d9f1ba0e",
   "metadata": {},
   "source": [
    "### Show Chart"
   ]
  },
  {
   "cell_type": "code",
   "execution_count": 24,
   "id": "45b01971-8b19-4468-9531-8a9b097fc5ba",
   "metadata": {},
   "outputs": [
    {
     "data": {
      "application/vnd.jupyter.widget-view+json": {
       "model_id": "3e7e2e0c9b1f40d8b182bb03f82813cb",
       "version_major": 2,
       "version_minor": 0
      },
      "text/plain": [
       "Output(outputs=({'output_type': 'display_data', 'data': {'application/vnd.vegalite.v5+json': {'config': {'view…"
      ]
     },
     "metadata": {},
     "output_type": "display_data"
    },
    {
     "data": {
      "application/vnd.jupyter.widget-view+json": {
       "model_id": "274ca938a59747248b29d640bad3d3d4",
       "version_major": 2,
       "version_minor": 0
      },
      "text/plain": [
       "IntSlider(value=800, description='Width:', max=1500, min=100)"
      ]
     },
     "metadata": {},
     "output_type": "display_data"
    },
    {
     "data": {
      "application/vnd.jupyter.widget-view+json": {
       "model_id": "fe61388800fc449f8c5b03561b63845b",
       "version_major": 2,
       "version_minor": 0
      },
      "text/plain": [
       "IntSlider(value=155, description='Height:', max=300, min=10)"
      ]
     },
     "metadata": {},
     "output_type": "display_data"
    }
   ],
   "source": [
    "# Chart.\n",
    "display(output)\n",
    "\n",
    "# Widgets.\n",
    "display(width_slider, height_slider)"
   ]
  },
  {
   "cell_type": "code",
   "execution_count": null,
   "id": "00319e48-b29e-45c6-aa37-36af32685ad6",
   "metadata": {},
   "outputs": [],
   "source": []
  }
 ],
 "metadata": {
  "kernelspec": {
   "display_name": "Python 3 (ipykernel)",
   "language": "python",
   "name": "python3"
  },
  "language_info": {
   "codemirror_mode": {
    "name": "ipython",
    "version": 3
   },
   "file_extension": ".py",
   "mimetype": "text/x-python",
   "name": "python",
   "nbconvert_exporter": "python",
   "pygments_lexer": "ipython3",
   "version": "3.11.4"
  }
 },
 "nbformat": 4,
 "nbformat_minor": 5
}
