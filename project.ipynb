{
 "cells": [
  {
   "cell_type": "code",
   "execution_count": null,
   "id": "0a11a4fa-b24b-428c-b13a-7333bdbad25a",
   "metadata": {},
   "outputs": [],
   "source": [
    "import altair as alt\n",
    "import ipywidgets as widgets\n",
    "import matplotlib.pyplot as plt\n",
    "import numpy as np\n",
    "import pandas as pd\n",
    "import panel as pn\n",
    "from IPython.display import display, HTML"
   ]
  },
  {
   "cell_type": "code",
   "execution_count": null,
   "id": "75fa2906-d7d3-46b0-be91-e138e58abf97",
   "metadata": {},
   "outputs": [],
   "source": [
    "# %load_ext watermark\n",
    "# %watermark -v -m -p altair,ipywidgets,matplotlib,numpy,pandas,panel,IPython,vega\n",
    "# %watermark -u -n -t -z"
   ]
  },
  {
   "cell_type": "code",
   "execution_count": null,
   "id": "e5cda92a-23c5-41cc-8f55-e18e8c4c410d",
   "metadata": {},
   "outputs": [],
   "source": [
    "# Suppress warnings.\n",
    "import warnings\n",
    "warnings.filterwarnings(\"ignore\")\n",
    "\n",
    "# Suppress js errors.\n",
    "alt.renderers.enable('jupyterlab')\n",
    "\n",
    "# Wrap ipywidgets with panel\n",
    "pn.extension('ipywidgets')"
   ]
  },
  {
   "cell_type": "code",
   "execution_count": null,
   "id": "82b3ad8c-8315-4852-85e1-48136c943061",
   "metadata": {},
   "outputs": [],
   "source": [
    "DATA_DIR = 'csv/'"
   ]
  },
  {
   "cell_type": "markdown",
   "id": "89fdd8e8-6a93-4b0a-8240-c32ef332b449",
   "metadata": {},
   "source": [
    "### Data: Olou"
   ]
  },
  {
   "cell_type": "code",
   "execution_count": null,
   "id": "59802c3e-6fd3-43e0-ab1b-735bb6f017f6",
   "metadata": {},
   "outputs": [],
   "source": [
    "olou = pd.read_csv(DATA_DIR + 'Olou_counts.csv', parse_dates=['Date'])\n",
    "olou.set_index('Date', drop=False, inplace=True)"
   ]
  },
  {
   "cell_type": "code",
   "execution_count": null,
   "id": "8ba30711-6049-4ef7-bd24-16ea27a8b3d0",
   "metadata": {},
   "outputs": [],
   "source": [
    "olou['dataset'] = 'olou'\n",
    "olou['date_str'] = olou['Date'].astype(str)\n",
    "olou['year'] = olou['date_str'].str[:4]\n",
    "olou['month'] = pd.to_numeric(olou['date_str'].str[5:7])\n",
    "\n",
    "# This could be more elegant.\n",
    "olou.loc[olou['month'] <= 12, 'quarter'] = 4\n",
    "olou.loc[olou['month'] <= 9, 'quarter'] = 3\n",
    "olou.loc[olou['month'] <= 6, 'quarter'] = 2\n",
    "olou.loc[olou['month'] <= 3, 'quarter'] = 1"
   ]
  },
  {
   "cell_type": "code",
   "execution_count": null,
   "id": "7b6e3d32-6116-4390-ab8a-1429ce163f6a",
   "metadata": {},
   "outputs": [],
   "source": [
    "# olou.head()"
   ]
  },
  {
   "attachments": {},
   "cell_type": "markdown",
   "id": "fe8359c0-cbca-4e81-9764-a29833387079",
   "metadata": {},
   "source": [
    "### Data: Monsoon"
   ]
  },
  {
   "cell_type": "code",
   "execution_count": null,
   "id": "95949ae1-3b1e-4be3-ba5a-0bef171f87e8",
   "metadata": {},
   "outputs": [],
   "source": [
    "monsoon = pd.read_csv(DATA_DIR + 'Monsoon_data.csv', parse_dates=['Date'])\n",
    "monsoon.set_index('Date', drop=False, inplace=True)"
   ]
  },
  {
   "cell_type": "code",
   "execution_count": null,
   "id": "3770ba16-fd16-4fd9-8c4d-ed43ec2bf86f",
   "metadata": {},
   "outputs": [],
   "source": [
    "monsoon['dataset'] = 'monsoon'\n",
    "monsoon['date_str'] = monsoon['Date'].astype(str)\n",
    "monsoon['year'] = monsoon['date_str'].str[:4]\n",
    "monsoon['month'] = pd.to_numeric(monsoon['date_str'].str[5:7])\n",
    "\n",
    "# This could be more elegant.\n",
    "monsoon.loc[monsoon['month'] <= 12, 'quarter'] = 4\n",
    "monsoon.loc[monsoon['month'] <= 9, 'quarter'] = 3\n",
    "monsoon.loc[monsoon['month'] <= 6, 'quarter'] = 2\n",
    "monsoon.loc[monsoon['month'] <= 3, 'quarter'] = 1"
   ]
  },
  {
   "cell_type": "code",
   "execution_count": null,
   "id": "ea78843a-32f5-404d-a958-8e7977b8ccc6",
   "metadata": {},
   "outputs": [],
   "source": [
    "# monsoon.head(20)"
   ]
  },
  {
   "cell_type": "markdown",
   "id": "5f28f42a-d0cc-45ee-bba7-a11295505ed2",
   "metadata": {},
   "source": [
    "### Data: Monsoon + Olou"
   ]
  },
  {
   "cell_type": "code",
   "execution_count": null,
   "id": "76c64d04-0a20-4602-9a48-91afef8dbd68",
   "metadata": {},
   "outputs": [],
   "source": [
    "dataframes = [monsoon, olou]\n",
    "dataset = pd.concat(dataframes)"
   ]
  },
  {
   "cell_type": "code",
   "execution_count": null,
   "id": "1eabdad7-ab2f-4471-8105-0d67e7e44638",
   "metadata": {},
   "outputs": [],
   "source": [
    "# dataset.head()"
   ]
  },
  {
   "cell_type": "markdown",
   "id": "fbe19058-1289-414c-a128-dd058e77fccf",
   "metadata": {},
   "source": [
    "#### Define a common date range"
   ]
  },
  {
   "cell_type": "code",
   "execution_count": null,
   "id": "62655231-5bba-4177-acd4-e446cd9b7f2e",
   "metadata": {},
   "outputs": [],
   "source": [
    "# min_x is the LARGER min date of the two sets.\n",
    "if olou.index.min() < monsoon.index.min():\n",
    "    min_x = monsoon.index.min()\n",
    "else:\n",
    "    min_x = olou.index.min()\n",
    "\n",
    "# max_x is the SMALLER max date of the two sets.\n",
    "if olou.index.max() < monsoon.index.max():\n",
    "    max_x = olou.index.max()\n",
    "else:\n",
    "    max_x = monsoon.index.max()"
   ]
  },
  {
   "cell_type": "markdown",
   "id": "8e26b5b4-a1db-47f1-ab93-294b435c31f0",
   "metadata": {},
   "source": [
    "#### Exclude dates not in both sets"
   ]
  },
  {
   "cell_type": "code",
   "execution_count": null,
   "id": "0a28d7ee-90e8-49ef-bfd7-f260247bfb63",
   "metadata": {},
   "outputs": [],
   "source": [
    "dataset = dataset[(dataset['Date'] >= min_x) & (dataset['Date'] <= max_x)]"
   ]
  },
  {
   "cell_type": "code",
   "execution_count": null,
   "id": "3e27d352-e84d-43aa-a4b3-7c25ef7a2b21",
   "metadata": {},
   "outputs": [],
   "source": [
    "# dataset.head()"
   ]
  },
  {
   "cell_type": "markdown",
   "id": "17b148ec-da96-47cf-bdb8-f5d248e39909",
   "metadata": {},
   "source": [
    "### Selectors"
   ]
  },
  {
   "cell_type": "code",
   "execution_count": null,
   "id": "f4adf146-73fb-4936-a75e-20d64c7bd41a",
   "metadata": {},
   "outputs": [],
   "source": [
    "# Selections.\n",
    "select = alt.selection_interval(\n",
    "    bind=\"scales\",\n",
    "    encodings=['x', 'y']\n",
    ")\n",
    "\n",
    "# Opacities\n",
    "opacity = alt.binding_range(min=0, max=1, step=0.01, name='Compare total/average')\n",
    "opacity_val = alt.param(value=0.15, bind=opacity)"
   ]
  },
  {
   "cell_type": "markdown",
   "id": "7242e417-c148-4ff4-8c00-8ba437b643cd",
   "metadata": {},
   "source": [
    "### Scales & Ranges"
   ]
  },
  {
   "cell_type": "code",
   "execution_count": null,
   "id": "4cbe3f5e-5479-417e-ad35-ee1758e442cf",
   "metadata": {},
   "outputs": [],
   "source": [
    "# X-axis ranges.\n",
    "x_domain = [min_x, max_x]\n",
    "\n",
    "# Y-axis ranges.\n",
    "olou_domain = [dataset['Counts'].min() - 500, dataset['Counts'].max() + 500]\n",
    "monsoon_domain = [dataset['Precip'].min() - 10, dataset['Precip'].max() + 10]"
   ]
  },
  {
   "cell_type": "markdown",
   "id": "3223d07c-d6ff-42ff-9451-19dbc56241a7",
   "metadata": {},
   "source": [
    "### Main Layers"
   ]
  },
  {
   "cell_type": "code",
   "execution_count": null,
   "id": "d918029a-0cd6-46ea-b139-bdeafb6f1e4c",
   "metadata": {},
   "outputs": [],
   "source": [
    "# Monsoon precipitation.\n",
    "line_chart_monsoon = alt.Chart(dataset[np.isnan(dataset['Precip']) == False], title='Monsoon Data').mark_line(\n",
    "    interpolate='basis',\n",
    "    strokeWidth=2.5,\n",
    "    opacity=1 - opacity_val\n",
    ").encode(\n",
    "    x=alt.X('Date:T', title=\"\", scale=alt.Scale(domain=x_domain)),\n",
    "    y=alt.Y('Precip:Q', title=\"Precipitation (mm per month)\", scale=alt.Scale(domain=monsoon_domain)),\n",
    "    color=alt.Color(\"dataset\", legend=None)\n",
    ").add_params(\n",
    "    opacity_val,\n",
    "    select\n",
    ")\n",
    "\n",
    "# Monsoon precipitation rolling average.\n",
    "line_chart_monsoon_rolling = alt.Chart(dataset[np.isnan(dataset['Precip']) == False]).transform_window(\n",
    "    rolling_mean='mean(Precip)',\n",
    "    frame=[-15, 15],\n",
    ").mark_line(\n",
    "    color='blue',\n",
    "    strokeWidth=2,\n",
    "    interpolate='basis',\n",
    "    opacity=opacity_val\n",
    ").encode(\n",
    "    x=alt.X('Date:T', scale=alt.Scale(domain=x_domain)),\n",
    "    y=alt.Y('rolling_mean:Q', scale=alt.Scale(domain=monsoon_domain))\n",
    ").add_params(\n",
    "    opacity_val,\n",
    "    select\n",
    ")\n",
    "\n",
    "# Olou cosmic ray counts.\n",
    "line_chart_olou = alt.Chart(dataset[np.isnan(dataset['Counts']) == False], title='Olou Data').mark_line(\n",
    "    interpolate='basis',\n",
    "    strokeWidth=2.5,\n",
    "    opacity=1 - opacity_val\n",
    ").encode(\n",
    "    x=alt.X('Date:T', title=\"\", scale=alt.Scale(domain=x_domain)),\n",
    "    y=alt.Y('Counts:Q', title=\"Olou Count (nm per minute)\", scale=alt.Scale(domain=olou_domain)),\n",
    "    color=alt.Color(\"dataset\", legend=None)\n",
    ").add_params(\n",
    "    opacity_val,\n",
    "    select\n",
    ")\n",
    "\n",
    "# Olou cosmic ray counts rolling average.\n",
    "line_chart_olou_rolling = alt.Chart(dataset[np.isnan(dataset['Counts']) == False]).transform_window(\n",
    "    rolling_mean='mean(Counts)',\n",
    "    frame=[-15, 15],\n",
    ").mark_line(\n",
    "    color='red',\n",
    "    strokeWidth=2,\n",
    "    interpolate='basis',\n",
    "    opacity=opacity_val\n",
    ").encode(\n",
    "    x=alt.X('Date:T', scale=alt.Scale(domain=x_domain)),\n",
    "    y=alt.Y('rolling_mean:Q', title=\"Olou Count (nm per minute)\", scale=alt.Scale(domain=olou_domain))\n",
    ").add_params(\n",
    "    opacity_val,\n",
    "    select\n",
    ")"
   ]
  },
  {
   "cell_type": "markdown",
   "id": "027714d7-8f10-4428-afe0-5ea4a350553a",
   "metadata": {},
   "source": [
    "### Interactive Layers"
   ]
  },
  {
   "cell_type": "code",
   "execution_count": null,
   "id": "d2d19c6b-25f0-4d82-a2b3-bc09d8b139fb",
   "metadata": {},
   "outputs": [],
   "source": [
    "# Get nearest point y-value from selection.\n",
    "nearest = alt.selection_point(\n",
    "    nearest=True,\n",
    "    on='mouseover',\n",
    "    fields=['Date'],\n",
    "    empty=False\n",
    ")\n",
    "\n",
    "# Gray draggable bar.\n",
    "rules = alt.Chart(dataset).mark_rule(\n",
    "    color='lightgray',\n",
    "    opacity=0.4\n",
    ").encode(\n",
    "    x=alt.X('Date:T', scale=alt.Scale(domain=x_domain)),\n",
    "    strokeWidth=alt.StrokeWidthValue(4)\n",
    ").transform_filter(\n",
    "    nearest\n",
    ")\n",
    "\n",
    "# Olou selector.\n",
    "selectors_olou = alt.Chart(dataset[dataset['dataset'] == 'olou']).mark_point().encode(\n",
    "    x=alt.X('Date:T', scale=alt.Scale(domain=x_domain)),\n",
    "    y=alt.Y('Counts:Q', scale=alt.Scale(domain=olou_domain)),\n",
    "    opacity=alt.value(0),\n",
    ").add_params(\n",
    "    nearest\n",
    ")\n",
    "\n",
    "# Monsoon selector.\n",
    "selectors_monsoon = alt.Chart(dataset[dataset['dataset'] == 'monsoon']).mark_point().encode(\n",
    "    x=alt.X('Date:T', scale=alt.Scale(domain=x_domain)),\n",
    "    y=alt.Y('Precip:Q', scale=alt.Scale(domain=monsoon_domain)),\n",
    "    opacity=alt.value(0),\n",
    ").add_params(\n",
    "    nearest\n",
    ")\n",
    "\n",
    "# Olou highlighted points.\n",
    "points_olou = alt.Chart(dataset[dataset['dataset'] == 'olou']).transform_filter(\n",
    "    nearest\n",
    ").mark_point(\n",
    "    size=90, strokeWidth=1,\n",
    "    opacity=1 - opacity_val\n",
    ").encode(\n",
    "    x=alt.X('Date:T', scale=alt.Scale(domain=x_domain)),\n",
    "    y=alt.Y('Counts:Q', scale=alt.Scale(domain=olou_domain)),\n",
    "    color=alt.Color(\"dataset\", legend=alt.Legend(symbolType='circle'))\n",
    ").add_params(\n",
    "    opacity_val,\n",
    "    select\n",
    ")\n",
    "\n",
    "# Olou moving av highlighted points.\n",
    "points_olou_rolling = alt.Chart(dataset[np.isnan(dataset['Counts']) == False]).transform_window(\n",
    "    rolling_mean='mean(Counts)',\n",
    "    frame=[-15, 15],\n",
    ").transform_filter(\n",
    "    nearest\n",
    ").mark_point(\n",
    "    size=90, strokeWidth=1,\n",
    "    opacity=opacity_val\n",
    ").encode(\n",
    "    x=alt.X('Date:T', scale=alt.Scale(domain=x_domain)),\n",
    "    y=alt.Y('rolling_mean:Q', scale=alt.Scale(domain=olou_domain)),\n",
    "    color=alt.Color(\"dataset\", legend=alt.Legend(symbolType='circle'))\n",
    ").add_params(\n",
    "    opacity_val,\n",
    "    select\n",
    ")\n",
    "\n",
    "# Monsoon highlighted points.\n",
    "points_monsoon = alt.Chart(dataset[dataset['dataset'] == 'monsoon']).transform_filter(\n",
    "    nearest\n",
    ").mark_point(\n",
    "    size=90, strokeWidth=1,\n",
    "    opacity=1 - opacity_val\n",
    ").encode(\n",
    "    x=alt.X('Date:T', scale=alt.Scale(domain=x_domain)),\n",
    "    y=alt.Y('Precip:Q', scale=alt.Scale(domain=monsoon_domain)),\n",
    "    color=alt.Color(\"dataset\", legend=alt.Legend(symbolType='circle'))\n",
    ").add_params(\n",
    "    opacity_val,\n",
    "    select\n",
    ")\n",
    "\n",
    "# Monsoon moving av highlighted points.\n",
    "points_monsoon_rolling = alt.Chart(dataset[np.isnan(dataset['Precip']) == False]).transform_window(\n",
    "    rolling_mean='mean(Precip)',\n",
    "    frame=[-15, 15],\n",
    ").transform_filter(\n",
    "    nearest\n",
    ").mark_point(\n",
    "    size=90, strokeWidth=1,\n",
    "    opacity=opacity_val\n",
    ").encode(\n",
    "    x=alt.X('Date:T', scale=alt.Scale(domain=x_domain)),\n",
    "    y=alt.Y('rolling_mean:Q', scale=alt.Scale(domain=monsoon_domain)),\n",
    "    color=alt.Color(\"dataset\", legend=alt.Legend(symbolType='circle'))\n",
    ").add_params(\n",
    "    opacity_val,\n",
    "    select\n",
    ")\n",
    "\n",
    "# Olou label text.\n",
    "text_olou = alt.Chart(dataset[dataset['dataset'] == 'olou']).mark_text(\n",
    "    align='left',\n",
    "    dx=7,\n",
    "    fontSize=14,\n",
    "    opacity=1 - opacity_val\n",
    ").encode(\n",
    "    x=alt.X('Date:T', scale=alt.Scale(domain=x_domain)),\n",
    "    y=alt.value(10),\n",
    "    text=alt.Text('Counts', format='.2f'),\n",
    "    color=alt.Color(\"dataset\", legend=alt.Legend(symbolType='circle'))\n",
    ").transform_filter(\n",
    "    nearest\n",
    ").add_params(\n",
    "    opacity_val,\n",
    "    select\n",
    ")\n",
    "\n",
    "# Olou label text (moving av).\n",
    "text_olou_moving_av = line_chart_olou_rolling.mark_text(\n",
    "    align='left',\n",
    "    dx=7,\n",
    "    fontSize=14,\n",
    "    opacity=opacity_val\n",
    ").encode(\n",
    "    x=alt.X('Date:T', scale=alt.Scale(domain=x_domain)),\n",
    "    y=alt.value(10),\n",
    "    text=alt.Text('rolling_mean:Q', format='.2f'),\n",
    "    color=alt.Color(\"dataset\", legend=alt.Legend(symbolType='circle'))\n",
    ").transform_filter(\n",
    "     nearest\n",
    ").add_params(\n",
    "    opacity_val,\n",
    "    select\n",
    ")\n",
    "\n",
    "# Monsoon label text.\n",
    "text_monsoon = alt.Chart(dataset[dataset['dataset'] == 'monsoon']).mark_text(\n",
    "    align='left',\n",
    "    dx=7,\n",
    "    fontSize=14,\n",
    "    opacity=1 - opacity_val\n",
    ").encode(\n",
    "    x=alt.X('Date:T', scale=alt.Scale(domain=x_domain)),\n",
    "    y=alt.value(10),\n",
    "    text=alt.Text('Precip', format='.2f'),\n",
    "    color=alt.Color(\"dataset\", legend=alt.Legend(symbolType='circle'))\n",
    ").transform_filter(\n",
    "    nearest\n",
    ").add_params(\n",
    "    opacity_val,\n",
    "    select\n",
    ")\n",
    "\n",
    "# Monsoon label text (moving av).\n",
    "text_monsoon_moving_av = line_chart_monsoon_rolling.mark_text(\n",
    "    align='left',\n",
    "    dx=-7,\n",
    "    fontSize=14,\n",
    "    opacity=opacity_val\n",
    ").encode(\n",
    "    x=alt.X('Date:T', scale=alt.Scale(domain=x_domain)),\n",
    "    y=alt.value(10),\n",
    "    text=alt.Text('rolling_mean:Q', format='.2f'),\n",
    "    color=alt.Color(\"dataset\", legend=alt.Legend(symbolType='circle'))\n",
    ").transform_filter(\n",
    "     nearest\n",
    ").add_params(\n",
    "    opacity_val,\n",
    "    select\n",
    ")"
   ]
  },
  {
   "cell_type": "markdown",
   "id": "d225fe23-082a-473f-8952-fb9fafed455c",
   "metadata": {},
   "source": [
    "### Legend"
   ]
  },
  {
   "cell_type": "code",
   "execution_count": null,
   "id": "651ff677-f52f-4339-a3c0-d3e1d37233d0",
   "metadata": {},
   "outputs": [],
   "source": [
    "# Separate layer for this so that it's not\n",
    "# affected by the opacity widget.\n",
    "legend_dataset = alt.Chart(dataset).mark_point(\n",
    "    opacity=1.0,\n",
    "    filled=True\n",
    ").encode(\n",
    "    y=alt.Y('dataset:N', axis=alt.Axis(orient='right', title='')),\n",
    "    color=alt.Color('dataset:N', scale=alt.Scale(range=['blue', 'red']))\n",
    ")\n",
    "\n",
    "# Flood/drought line\n",
    "legend_vlines = alt.Chart({'values': [{'y': 'Drought'}, {'z': 'Flood'}]}).mark_rule(\n",
    "    strokeDash=[2, 2],\n",
    "    color='black'\n",
    ").encode(\n",
    "    strokeDash=alt.StrokeDash('y:N', scale=alt.Scale(domain=['Drought', 'Flood'], range=[[2, 2], []]), title='')\n",
    ")"
   ]
  },
  {
   "cell_type": "markdown",
   "id": "b146fee9-dd5d-4c01-8e13-2c0f3aa73ba7",
   "metadata": {},
   "source": [
    "### Set Drought/Flood Lines"
   ]
  },
  {
   "cell_type": "code",
   "execution_count": null,
   "id": "3df15add-ab2b-4505-a4a4-53addbed2622",
   "metadata": {},
   "outputs": [],
   "source": [
    "# Drought years (from paper).\n",
    "vline_chart_droughts = alt.Chart({'values': [\n",
    "    {'x': '1965-01-01'},\n",
    "    {'x': '1966-01-01'},\n",
    "    {'x': '1968-01-01'},\n",
    "    {'x': '1972-01-01'},\n",
    "    {'x': '1974-01-01'},\n",
    "    {'x': '1982-01-01'},\n",
    "    {'x': '1986-01-01'},\n",
    "    {'x': '1987-01-01'},\n",
    "    {'x': '2002-01-01'},\n",
    "    {'x': '2004-01-01'},\n",
    "    {'x': '2009-01-01'}\n",
    "]}).mark_rule(\n",
    "    strokeDash=[2, 2],\n",
    "    color='black'\n",
    ").encode(\n",
    "    x=alt.X('x:T'),\n",
    ")\n",
    "\n",
    "# Flood years (from paper).\n",
    "vline_chart_floods = alt.Chart({'values': [\n",
    "    {'x': '1964-01-01'},\n",
    "    {'x': '1970-01-01'},\n",
    "    {'x': '1971-01-01'},\n",
    "    {'x': '1973-01-01'},\n",
    "    {'x': '1975-01-01'},\n",
    "    {'x': '1978-01-01'},\n",
    "    {'x': '1983-01-01'},\n",
    "    {'x': '1988-01-01'},\n",
    "    {'x': '1990-01-01'},\n",
    "    {'x': '1994-01-01'},\n",
    "    {'x': '1997-01-01'},\n",
    "    {'x': '1998-01-01'}\n",
    "]}).mark_rule(\n",
    "    color='black'\n",
    ").encode(\n",
    "    x=alt.X('x:T'),\n",
    ")"
   ]
  },
  {
   "cell_type": "markdown",
   "id": "cfb86803-7657-4c5c-9f1a-81d268737bce",
   "metadata": {},
   "source": [
    "### Layering Components"
   ]
  },
  {
   "cell_type": "code",
   "execution_count": null,
   "id": "012c850a-a8b7-449a-abe8-ba6041e4dba2",
   "metadata": {},
   "outputs": [],
   "source": [
    "# Olou chart.\n",
    "chart_olou = alt.layer(\n",
    "    selectors_olou,\n",
    "    vline_chart_droughts,\n",
    "    vline_chart_floods,\n",
    "    line_chart_olou,\n",
    "    line_chart_olou_rolling,\n",
    "    points_olou,\n",
    "    points_olou_rolling,\n",
    "    rules,\n",
    "    text_olou,\n",
    "    text_olou_moving_av\n",
    ")\n",
    "\n",
    "# Monsoon chart.\n",
    "chart_monsoon = alt.layer(\n",
    "    selectors_monsoon,\n",
    "    vline_chart_droughts,\n",
    "    vline_chart_floods,\n",
    "    line_chart_monsoon,\n",
    "    line_chart_monsoon_rolling,\n",
    "    points_monsoon,\n",
    "    points_monsoon_rolling,\n",
    "    rules,\n",
    "    text_monsoon,\n",
    "    text_monsoon_moving_av\n",
    ")"
   ]
  },
  {
   "cell_type": "markdown",
   "id": "4ed542e4-2ef7-4c1b-a737-e97f954e93f6",
   "metadata": {},
   "source": [
    "### Interactivity"
   ]
  },
  {
   "cell_type": "code",
   "execution_count": null,
   "id": "d7f190c1-8f2f-4585-8699-252c7ad0aebe",
   "metadata": {},
   "outputs": [],
   "source": [
    "# Init outputs.\n",
    "output = widgets.Output()\n",
    "\n",
    "# Update chart sizes.\n",
    "def update_chart_width_height(width, height):\n",
    "    updated_chart_olou = chart_olou.properties(width=width, height=height)\n",
    "    updated_chart_monsoon = chart_monsoon.properties(width=width, height=height)\n",
    "    updated_combined_chart = alt.vconcat(updated_chart_olou, updated_chart_monsoon)\n",
    "    updated_combined_chart = alt.hconcat(updated_combined_chart, legend_dataset, legend_vlines)\n",
    "    with output:\n",
    "        output.clear_output(wait=True)\n",
    "        display(updated_combined_chart)\n",
    "\n",
    "# Create widgets.\n",
    "width_slider = widgets.IntSlider(value=800, min=100, max=1500, step=1, description='View width:')\n",
    "height_slider = widgets.IntSlider(value=155, min=10, max=300, step=1, description='View height:')\n",
    "\n",
    "# Update charts from widgets.\n",
    "def update_chart(width, height):\n",
    "    update_chart_width_height(width, height)\n",
    "\n",
    "# Activate widgets.\n",
    "widgets.interactive(update_chart, width=width_slider, height=height_slider); # semicolon to supress width/height widget output\n",
    "layout_widgets = pn.panel(widgets.HBox(children=[width_slider, height_slider]))"
   ]
  },
  {
   "cell_type": "markdown",
   "id": "90f9aa86-8568-4a03-9043-36cd226d0027",
   "metadata": {},
   "source": [
    "### Display"
   ]
  },
  {
   "cell_type": "code",
   "execution_count": null,
   "id": "45b01971-8b19-4468-9531-8a9b097fc5ba",
   "metadata": {},
   "outputs": [],
   "source": [
    "# Render mode.\n",
    "alt.renderers.enable('default')\n",
    "\n",
    "# Html.\n",
    "html_code1 = \"\"\"\n",
    "<h1>Cosmic Rays &amp; Monsoons</h1>\n",
    "<p><big>Is there an obvious relationship between the flux of cosmic rays and rainfall intensity of summer monsoons in India? You can compare both total measurements as well as rolling averages.</big</p>\n",
    "<hr>\n",
    "\"\"\"\n",
    "\n",
    "html_code2 = \"\"\"\n",
    "<hr>\n",
    "\"\"\"\n",
    "\n",
    "# Final display.\n",
    "display(HTML(html_code1), layout_widgets, HTML(html_code2), output)"
   ]
  }
 ],
 "metadata": {
  "kernelspec": {
   "display_name": "Python 3 (ipykernel)",
   "language": "python",
   "name": "python3"
  },
  "language_info": {
   "codemirror_mode": {
    "name": "ipython",
    "version": 3
   },
   "file_extension": ".py",
   "mimetype": "text/x-python",
   "name": "python",
   "nbconvert_exporter": "python",
   "pygments_lexer": "ipython3",
   "version": "3.11.4"
  }
 },
 "nbformat": 4,
 "nbformat_minor": 5
}
